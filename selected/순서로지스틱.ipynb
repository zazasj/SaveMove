{
 "cells": [
  {
   "cell_type": "code",
   "execution_count": 467,
   "metadata": {},
   "outputs": [],
   "source": [
    "import pandas as pd\n",
    "import numpy as np\n",
    "\n",
    "import seaborn as sns\n",
    "import matplotlib.pyplot as plt\n",
    "import matplotlib \n",
    "matplotlib.rcParams['axes.unicode_minus'] = False\n",
    "matplotlib.rcParams['font.family'] = \"AppleGothic\"\n",
    "\n",
    "from sklearn.ensemble import RandomForestRegressor\n",
    "from sklearn.linear_model import LogisticRegression\n",
    "from statsmodels.stats.outliers_influence import variance_inflation_factor\n",
    "\n",
    "from pycaret.regression import *\n",
    "\n",
    "from sklearn.model_selection import train_test_split\n",
    "from sklearn.metrics import mean_squared_error\n",
    "from sklearn.metrics import r2_score\n",
    "from sklearn.inspection import permutation_importance\n",
    "from sklearn.metrics import mean_absolute_error\n",
    "from sklearn.preprocessing import StandardScaler\n",
    "from sklearn.metrics import accuracy_score\n",
    "from sklearn.metrics import confusion_matrix\n",
    "\n",
    "\n",
    "import pandas_profiling\n",
    "import statsmodels.api as sm\n",
    "\n",
    "from sklearn.decomposition import PCA"
   ]
  },
  {
   "cell_type": "code",
   "execution_count": 468,
   "metadata": {},
   "outputs": [],
   "source": [
    "row_data = pd.read_csv('/Users/gimdong-wan/Desktop/DataCampus/data/final_data/500grid_data.csv')\n",
    "grid_500 = pd.read_csv('/Users/gimdong-wan/Desktop/DataCampus/data/final_data/500grid_data.csv')"
   ]
  },
  {
   "cell_type": "code",
   "execution_count": 469,
   "metadata": {},
   "outputs": [],
   "source": [
    "grid_500['성폭력취약인구'] = grid_500['고등여성인구']+grid_500['20대여성인구']\n",
    "grid_500['GRADE_폭력'] = grid_500['GRADE_폭력'].apply(lambda x: x-1 if x>0 else x)\n",
    "grid_500['GRADE_절도'] = grid_500['GRADE_절도'].apply(lambda x: x-1 if x>0 else x)\n",
    "grid_500['GRADE_성폭력'] = grid_500['GRADE_성폭력'].apply(lambda x: x-1 if x>0 else x)"
   ]
  },
  {
   "cell_type": "code",
   "execution_count": 470,
   "metadata": {},
   "outputs": [
    {
     "data": {
      "text/plain": [
       "0     588\n",
       "1     115\n",
       "3      53\n",
       "4      45\n",
       "5      41\n",
       "6      27\n",
       "2      22\n",
       "7      17\n",
       "10      5\n",
       "8       3\n",
       "9       2\n",
       "Name: GRADE_폭력, dtype: int64"
      ]
     },
     "execution_count": 470,
     "metadata": {},
     "output_type": "execute_result"
    }
   ],
   "source": [
    "grid_500['GRADE_폭력'].value_counts()"
   ]
  },
  {
   "cell_type": "code",
   "execution_count": 471,
   "metadata": {},
   "outputs": [],
   "source": [
    "grid_500['폭력범주']=0"
   ]
  },
  {
   "cell_type": "markdown",
   "metadata": {},
   "source": [
    "폭력없음 폭력등급_1, 폭력등급_2, 폭력등급_3, 폭력등급_4,폭력등급_5"
   ]
  },
  {
   "cell_type": "code",
   "execution_count": 472,
   "metadata": {},
   "outputs": [],
   "source": [
    "grid_500.loc[grid_500['GRADE_폭력']==0,'폭력범주'] = 0\n",
    "grid_500.loc[(grid_500['GRADE_폭력']>0)&(grid_500['GRADE_폭력']<3),'폭력범주'] = 1\n",
    "grid_500.loc[(grid_500['GRADE_폭력']>2)&(grid_500['GRADE_폭력']<5),'폭력범주'] = 2\n",
    "grid_500.loc[(grid_500['GRADE_폭력']>4)&(grid_500['GRADE_폭력']<7),'폭력범주'] = 3\n",
    "grid_500.loc[(grid_500['GRADE_폭력']>6)&(grid_500['GRADE_폭력']<9),'폭력범주'] = 4\n",
    "grid_500.loc[(grid_500['GRADE_폭력']>8)&(grid_500['GRADE_폭력']<11),'폭력범주'] = 5"
   ]
  },
  {
   "cell_type": "code",
   "execution_count": 473,
   "metadata": {},
   "outputs": [
    {
     "data": {
      "text/plain": [
       "0    588\n",
       "1    137\n",
       "2     98\n",
       "3     68\n",
       "4     20\n",
       "5      7\n",
       "Name: 폭력범주, dtype: int64"
      ]
     },
     "execution_count": 473,
     "metadata": {},
     "output_type": "execute_result"
    }
   ],
   "source": [
    "grid_500['폭력범주'].value_counts()"
   ]
  },
  {
   "cell_type": "code",
   "execution_count": 474,
   "metadata": {},
   "outputs": [
    {
     "name": "stdout",
     "output_type": "stream",
     "text": [
      "Number of Numerical features:  38\n",
      "Number of Categorical features:  2\n"
     ]
    }
   ],
   "source": [
    "numerical_feats = grid_500.dtypes[grid_500.dtypes != \"object\"].index.tolist()\n",
    "numerical_feats.remove('INDEX')\n",
    "numerical_feats.remove('GRADE_폭력')\n",
    "numerical_feats.remove('GRADE_절도')\n",
    "numerical_feats.remove('GRADE_성폭력')\n",
    "numerical_feats.remove('폭력범주')\n",
    "print(\"Number of Numerical features: \", len(numerical_feats))\n",
    "\n",
    "categorical_feats = grid_500.dtypes[grid_500.dtypes == \"object\"].index.tolist()\n",
    "print(\"Number of Categorical features: \", len(categorical_feats))"
   ]
  },
  {
   "cell_type": "code",
   "execution_count": 475,
   "metadata": {},
   "outputs": [],
   "source": [
    "scaler = StandardScaler()\n",
    "grid_500[numerical_feats] = scaler.fit_transform(grid_500[numerical_feats])"
   ]
  },
  {
   "cell_type": "code",
   "execution_count": 476,
   "metadata": {},
   "outputs": [
    {
     "data": {
      "text/plain": [
       "Index(['INDEX', 'ID', '총인구', '남성인구', '여성인구', '고등여성인구', '20대여성인구', '유소년인구',\n",
       "       '고령인구', '30년이상35년미만건축물', '35년이상건축물', '개별주택가격', '공시지가', '행정동코드', '가로등',\n",
       "       '공영주차장', '공중화장실', '교육시설', '교통사고_19', '교통사고_20', '노숙인시설', '대규모점포',\n",
       "       '대부업현황', '룸살롱', '버스정류장', '보안등', '상가', '숙박업소', '술집', '어린이보호', '어린이집',\n",
       "       '오락시설', '원룸_오피스텔', '유흥시설', '음식점', '자율방범대', '파출소', 'cctv', '신호등', '횡단보도',\n",
       "       'GRADE_폭력', 'GRADE_절도', 'GRADE_성폭력', '성폭력취약인구', '폭력범주'],\n",
       "      dtype='object')"
      ]
     },
     "execution_count": 476,
     "metadata": {},
     "output_type": "execute_result"
    }
   ],
   "source": [
    "grid_500.columns"
   ]
  },
  {
   "cell_type": "code",
   "execution_count": 477,
   "metadata": {},
   "outputs": [],
   "source": [
    "feature_list = list(grid_500.drop(columns = ['행정동코드','INDEX','ID','GRADE_절도','GRADE_성폭력','GRADE_폭력','폭력범주','교통사고_19','교통사고_20','20대여성인구','고등여성인구']).columns)\n",
    "feature = grid_500[feature_list]\n",
    "target = grid_500['폭력범주']"
   ]
  },
  {
   "cell_type": "code",
   "execution_count": 478,
   "metadata": {},
   "outputs": [],
   "source": [
    "selected = grid_500[['총인구', '남성인구', '유소년인구', '35년이상건축물','개별주택가격', '가로등', '노숙인시설', '대규모점포', '룸살롱', '보안등',\n",
    "          '술집', '원룸_오피스텔', 'cctv','신호등', '횡단보도', '성폭력취약인구']]"
   ]
  },
  {
   "cell_type": "code",
   "execution_count": 514,
   "metadata": {},
   "outputs": [],
   "source": [
    "feature_list = list(grid_500.drop(columns = ['행정동코드','INDEX','ID','GRADE_절도','GRADE_성폭력','GRADE_폭력','폭력범주','교통사고_19','교통사고_20','오락시설','20대여성인구','고등여성인구','노숙인시설','남성인구','여성인구']).columns)\n",
    "feature = grid_500[feature_list]\n",
    "target = grid_500['폭력범주']"
   ]
  },
  {
   "cell_type": "code",
   "execution_count": 515,
   "metadata": {},
   "outputs": [
    {
     "name": "stdout",
     "output_type": "stream",
     "text": [
      "Warning: Maximum number of iterations has been exceeded.\n",
      "         Current function value: 0.520773\n",
      "         Iterations: 35\n",
      "         Function evaluations: 36\n",
      "         Gradient evaluations: 36\n",
      "                          MNLogit Regression Results                          \n",
      "==============================================================================\n",
      "Dep. Variable:                   폭력범주   No. Observations:                  918\n",
      "Model:                        MNLogit   Df Residuals:                      763\n",
      "Method:                           MLE   Df Model:                          150\n",
      "Date:                Thu, 19 Aug 2021   Pseudo R-squ.:                  0.5356\n",
      "Time:                        02:09:58   Log-Likelihood:                -478.07\n",
      "converged:                      False   LL-Null:                       -1029.4\n",
      "Covariance Type:            nonrobust   LLR p-value:                9.008e-145\n",
      "=================================================================================\n",
      "       폭력범주=1       coef    std err          z      P>|z|      [0.025      0.975]\n",
      "---------------------------------------------------------------------------------\n",
      "총인구              -0.0536      5.266     -0.010      0.992     -10.374      10.267\n",
      "유소년인구            -0.3163      1.821     -0.174      0.862      -3.885       3.252\n",
      "고령인구              0.5201      2.186      0.238      0.812      -3.764       4.804\n",
      "30년이상35년미만건축물     1.1833      1.138      1.040      0.298      -1.046       3.413\n",
      "35년이상건축물          0.3220      1.104      0.292      0.771      -1.842       2.486\n",
      "개별주택가격            0.6634      0.184      3.606      0.000       0.303       1.024\n",
      "공시지가              0.6260      0.366      1.712      0.087      -0.091       1.343\n",
      "가로등               0.9526      0.287      3.316      0.001       0.389       1.516\n",
      "공영주차장             0.4079      0.328      1.243      0.214      -0.235       1.051\n",
      "공중화장실             0.6028      0.218      2.768      0.006       0.176       1.030\n",
      "교육시설              0.1915      1.875      0.102      0.919      -3.484       3.867\n",
      "대규모점포             0.6328      4.591      0.138      0.890      -8.366       9.632\n",
      "대부업현황             0.4705      0.616      0.764      0.445      -0.736       1.677\n",
      "룸살롱              -0.4424     10.647     -0.042      0.967     -21.310      20.426\n",
      "버스정류장            -0.2150      0.313     -0.686      0.493      -0.829       0.399\n",
      "보안등               1.5429      0.353      4.369      0.000       0.851       2.235\n",
      "상가                0.6804      1.686      0.404      0.687      -2.624       3.985\n",
      "숙박업소              0.1601      1.535      0.104      0.917      -2.849       3.169\n",
      "술집               -0.5060      1.770     -0.286      0.775      -3.975       2.963\n",
      "어린이보호             0.3691      0.226      1.636      0.102      -0.073       0.811\n",
      "어린이집              0.8435      0.569      1.482      0.138      -0.272       1.959\n",
      "원룸_오피스텔           0.3689      1.554      0.237      0.812      -2.677       3.415\n",
      "유흥시설             -0.0675     23.840     -0.003      0.998     -46.794      46.659\n",
      "음식점              -0.0839     22.263     -0.004      0.997     -43.718      43.551\n",
      "자율방범대             0.0801      0.464      0.173      0.863      -0.829       0.989\n",
      "파출소              -0.6296      6.392     -0.099      0.922     -13.158      11.899\n",
      "cctv              0.4561      0.438      1.041      0.298      -0.403       1.315\n",
      "신호등              -0.1569      0.368     -0.426      0.670      -0.878       0.564\n",
      "횡단보도              0.1710      0.451      0.380      0.704      -0.712       1.054\n",
      "성폭력취약인구           0.0344      2.736      0.013      0.990      -5.328       5.397\n",
      "const             0.4721      1.738      0.272      0.786      -2.934       3.878\n",
      "---------------------------------------------------------------------------------\n",
      "       폭력범주=2       coef    std err          z      P>|z|      [0.025      0.975]\n",
      "---------------------------------------------------------------------------------\n",
      "총인구               0.2401      5.525      0.043      0.965     -10.589      11.069\n",
      "유소년인구            -0.8398      1.923     -0.437      0.662      -4.609       2.930\n",
      "고령인구              0.5271      2.278      0.231      0.817      -3.937       4.991\n",
      "30년이상35년미만건축물     1.0288      1.147      0.897      0.370      -1.220       3.278\n",
      "35년이상건축물          0.6689      1.125      0.595      0.552      -1.536       2.874\n",
      "개별주택가격            0.4548      0.258      1.766      0.077      -0.050       0.960\n",
      "공시지가              0.4031      0.456      0.884      0.377      -0.490       1.296\n",
      "가로등               1.0903      0.348      3.134      0.002       0.408       1.772\n",
      "공영주차장             0.5193      0.376      1.380      0.167      -0.218       1.256\n",
      "공중화장실             0.4357      0.274      1.592      0.111      -0.101       0.972\n",
      "교육시설              0.4360      1.893      0.230      0.818      -3.275       4.146\n",
      "대규모점포             0.2417      4.594      0.053      0.958      -8.762       9.245\n",
      "대부업현황             0.6246      0.644      0.970      0.332      -0.637       1.887\n",
      "룸살롱               0.1277     10.564      0.012      0.990     -20.578      20.833\n",
      "버스정류장            -0.0256      0.357     -0.072      0.943      -0.725       0.674\n",
      "보안등               0.9812      0.422      2.323      0.020       0.153       1.809\n",
      "상가                1.2446      1.766      0.705      0.481      -2.216       4.706\n",
      "숙박업소              0.2297      1.555      0.148      0.883      -2.818       3.278\n",
      "술집               -0.4287      1.827     -0.235      0.815      -4.010       3.153\n",
      "어린이보호             0.5038      0.277      1.821      0.069      -0.038       1.046\n",
      "어린이집              0.4872      0.605      0.806      0.420      -0.698       1.673\n",
      "원룸_오피스텔           0.8367      1.574      0.532      0.595      -2.248       3.921\n",
      "유흥시설              0.6099     24.474      0.025      0.980     -47.359      48.578\n",
      "음식점               0.4652     22.893      0.020      0.984     -44.405      45.336\n",
      "자율방범대             0.3601      0.473      0.762      0.446      -0.566       1.287\n",
      "파출소               0.6657      5.868      0.113      0.910     -10.835      12.167\n",
      "cctv              0.3548      0.521      0.680      0.496      -0.667       1.377\n",
      "신호등              -0.0216      0.433     -0.050      0.960      -0.870       0.827\n",
      "횡단보도             -0.1548      0.526     -0.294      0.769      -1.186       0.877\n",
      "성폭력취약인구           1.3393      2.869      0.467      0.641      -4.283       6.962\n",
      "const             0.0680      1.698      0.040      0.968      -3.259       3.395\n",
      "---------------------------------------------------------------------------------\n",
      "       폭력범주=3       coef    std err          z      P>|z|      [0.025      0.975]\n",
      "---------------------------------------------------------------------------------\n",
      "총인구               0.5336      5.627      0.095      0.924     -10.495      11.562\n",
      "유소년인구            -0.9001      1.983     -0.454      0.650      -4.787       2.987\n",
      "고령인구              0.6066      2.315      0.262      0.793      -3.930       5.143\n",
      "30년이상35년미만건축물     1.0643      1.156      0.921      0.357      -1.201       3.330\n",
      "35년이상건축물          1.2156      1.134      1.072      0.284      -1.006       3.437\n",
      "개별주택가격            0.8344      0.290      2.872      0.004       0.265       1.404\n",
      "공시지가              0.4296      0.478      0.898      0.369      -0.508       1.367\n",
      "가로등               0.9641      0.367      2.624      0.009       0.244       1.684\n",
      "공영주차장             0.5847      0.388      1.507      0.132      -0.176       1.345\n",
      "공중화장실             0.5961      0.282      2.115      0.034       0.044       1.149\n",
      "교육시설              0.7398      1.899      0.389      0.697      -2.983       4.463\n",
      "대규모점포             0.2193      4.594      0.048      0.962      -8.786       9.224\n",
      "대부업현황             0.5370      0.647      0.830      0.407      -0.732       1.806\n",
      "룸살롱               0.8088     10.564      0.077      0.939     -19.896      21.513\n",
      "버스정류장            -0.0156      0.372     -0.042      0.967      -0.745       0.714\n",
      "보안등               0.1330      0.452      0.294      0.769      -0.754       1.020\n",
      "상가                1.0076      1.774      0.568      0.570      -2.469       4.484\n",
      "숙박업소             -0.0694      1.560     -0.044      0.965      -3.127       2.989\n",
      "술집               -0.0321      1.835     -0.018      0.986      -3.629       3.565\n",
      "어린이보호             0.5509      0.292      1.885      0.059      -0.022       1.124\n",
      "어린이집              0.6999      0.617      1.134      0.257      -0.510       1.910\n",
      "원룸_오피스텔           0.7784      1.577      0.494      0.622      -2.312       3.869\n",
      "유흥시설              0.3245     24.572      0.013      0.989     -47.836      48.485\n",
      "음식점               0.7668     22.991      0.033      0.973     -44.296      45.829\n",
      "자율방범대             0.2285      0.484      0.472      0.637      -0.721       1.178\n",
      "파출소               0.6602      5.868      0.113      0.910     -10.841      12.162\n",
      "cctv              0.4710      0.546      0.862      0.389      -0.600       1.542\n",
      "신호등              -0.1304      0.447     -0.292      0.771      -1.007       0.746\n",
      "횡단보도              0.0918      0.538      0.171      0.864      -0.963       1.147\n",
      "성폭력취약인구           0.6861      2.908      0.236      0.813      -5.014       6.386\n",
      "const            -0.7871      1.713     -0.459      0.646      -4.145       2.571\n",
      "---------------------------------------------------------------------------------\n",
      "       폭력범주=4       coef    std err          z      P>|z|      [0.025      0.975]\n",
      "---------------------------------------------------------------------------------\n",
      "총인구               0.6273      7.754      0.081      0.936     -14.570      15.824\n",
      "유소년인구            -0.8297      3.294     -0.252      0.801      -7.285       5.626\n",
      "고령인구              2.4716      3.067      0.806      0.420      -3.540       8.484\n",
      "30년이상35년미만건축물    -1.1863      1.543     -0.769      0.442      -4.211       1.838\n",
      "35년이상건축물          0.6740      1.214      0.555      0.579      -1.705       3.053\n",
      "개별주택가격            0.5501      0.683      0.805      0.421      -0.789       1.889\n",
      "공시지가             -0.2104      0.950     -0.222      0.825      -2.072       1.651\n",
      "가로등               0.8893      0.610      1.457      0.145      -0.307       2.086\n",
      "공영주차장             0.2734      0.618      0.443      0.658      -0.937       1.484\n",
      "공중화장실             0.4669      0.443      1.054      0.292      -0.401       1.335\n",
      "교육시설             -0.1282      2.073     -0.062      0.951      -4.191       3.935\n",
      "대규모점포             0.5214      4.621      0.113      0.910      -8.536       9.579\n",
      "대부업현황             0.0289      0.795      0.036      0.971      -1.529       1.587\n",
      "룸살롱               0.0793     10.571      0.007      0.994     -20.640      20.799\n",
      "버스정류장             0.0615      0.545      0.113      0.910      -1.006       1.129\n",
      "보안등              -1.1556      0.755     -1.530      0.126      -2.636       0.325\n",
      "상가                0.8792      2.177      0.404      0.686      -3.389       5.147\n",
      "숙박업소              0.4131      1.590      0.260      0.795      -2.704       3.530\n",
      "술집                0.9587      2.051      0.467      0.640      -3.061       4.979\n",
      "어린이보호             0.3917      0.508      0.771      0.441      -0.604       1.387\n",
      "어린이집              0.0619      0.851      0.073      0.942      -1.605       1.729\n",
      "원룸_오피스텔          -0.3162      1.753     -0.180      0.857      -3.752       3.119\n",
      "유흥시설              0.7231     25.675      0.028      0.978     -49.599      51.045\n",
      "음식점               0.7108     24.013      0.030      0.976     -46.354      47.776\n",
      "자율방범대             0.6818      0.563      1.210      0.226      -0.422       1.786\n",
      "파출소               0.5433      5.873      0.093      0.926     -10.968      12.055\n",
      "cctv              1.8961      0.855      2.217      0.027       0.220       3.572\n",
      "신호등              -1.1473      0.640     -1.791      0.073      -2.403       0.108\n",
      "횡단보도              1.2975      0.739      1.755      0.079      -0.152       2.747\n",
      "성폭력취약인구          -0.1246      3.801     -0.033      0.974      -7.575       7.326\n",
      "const            -3.3662      1.904     -1.768      0.077      -7.099       0.366\n",
      "---------------------------------------------------------------------------------\n",
      "       폭력범주=5       coef    std err          z      P>|z|      [0.025      0.975]\n",
      "---------------------------------------------------------------------------------\n",
      "총인구               0.0337     16.619      0.002      0.998     -32.539      32.607\n",
      "유소년인구            -0.1501      7.225     -0.021      0.983     -14.311      14.011\n",
      "고령인구              0.6445      6.333      0.102      0.919     -11.768      13.057\n",
      "30년이상35년미만건축물     1.2109      1.995      0.607      0.544      -2.700       5.122\n",
      "35년이상건축물          0.8509      2.129      0.400      0.689      -3.322       5.024\n",
      "개별주택가격           -0.4452      2.352     -0.189      0.850      -5.055       4.165\n",
      "공시지가             -0.4656      3.240     -0.144      0.886      -6.816       5.885\n",
      "가로등               0.0631      2.946      0.021      0.983      -5.711       5.838\n",
      "공영주차장             0.8404      1.187      0.708      0.479      -1.487       3.168\n",
      "공중화장실             0.4866      0.914      0.532      0.595      -1.305       2.278\n",
      "교육시설              1.2169      2.447      0.497      0.619      -3.580       6.014\n",
      "대규모점포            -0.2091      4.928     -0.042      0.966      -9.868       9.450\n",
      "대부업현황             0.5383      1.516      0.355      0.722      -2.432       3.509\n",
      "룸살롱               0.4997     10.592      0.047      0.962     -20.261      21.260\n",
      "버스정류장             0.2377      1.720      0.138      0.890      -3.133       3.609\n",
      "보안등              -0.9236      2.272     -0.406      0.684      -5.377       3.530\n",
      "상가                0.6043      5.003      0.121      0.904      -9.202      10.410\n",
      "숙박업소              0.4590      1.702      0.270      0.787      -2.877       3.795\n",
      "술집                1.6675      2.891      0.577      0.564      -3.998       7.333\n",
      "어린이보호             0.4100      1.230      0.333      0.739      -2.001       2.821\n",
      "어린이집              0.6250      1.503      0.416      0.677      -2.320       3.570\n",
      "원룸_오피스텔           0.7770      2.136      0.364      0.716      -3.409       4.963\n",
      "유흥시설              1.0191     28.426      0.036      0.971     -54.696      56.734\n",
      "음식점               0.7284     26.431      0.028      0.978     -51.076      52.533\n",
      "자율방범대            -0.1646      1.618     -0.102      0.919      -3.335       3.006\n",
      "파출소               0.1812      6.143      0.030      0.976     -11.859      12.222\n",
      "cctv              0.8781      2.224      0.395      0.693      -3.480       5.237\n",
      "신호등              -0.7258      2.157     -0.336      0.737      -4.954       3.503\n",
      "횡단보도             -0.0969      1.595     -0.061      0.952      -3.223       3.029\n",
      "성폭력취약인구           0.1337      7.251      0.018      0.985     -14.078      14.346\n",
      "const            -4.4986      2.359     -1.907      0.056      -9.121       0.124\n",
      "=================================================================================\n"
     ]
    }
   ],
   "source": [
    "x = sm.add_constant(feature, prepend = False)\n",
    "\n",
    "mnlogit_mod = sm.MNLogit(target, x)\n",
    "mnlogit_fit = mnlogit_mod.fit(method='bfgs')\n",
    "\n",
    "print (mnlogit_fit.summary())"
   ]
  },
  {
   "cell_type": "code",
   "execution_count": 460,
   "metadata": {},
   "outputs": [
    {
     "name": "stdout",
     "output_type": "stream",
     "text": [
      "accuracy = 0.8126361655773421\n"
     ]
    },
    {
     "data": {
      "text/plain": [
       "array([[569,  19,   0,   0,   0,   0],\n",
       "       [ 70,  56,  10,   1,   0,   0],\n",
       "       [ 13,  18,  58,   9,   0,   0],\n",
       "       [  2,   8,  17,  40,   1,   0],\n",
       "       [  0,   0,   2,   2,  16,   0],\n",
       "       [  0,   0,   0,   0,   0,   7]])"
      ]
     },
     "execution_count": 460,
     "metadata": {},
     "output_type": "execute_result"
    }
   ],
   "source": [
    "model = LogisticRegression(random_state=0, solver ='lbfgs', multi_class='multinomial')\n",
    "model.fit(X=feature, y=target) # 학습수행 \n",
    "y_pred = model.predict(X = feature)\n",
    "acc=accuracy_score(target,y_pred)\n",
    "print('accuracy =', acc) \n",
    "con_mat = confusion_matrix(y_true=target, y_pred=y_pred) \n",
    "con_mat "
   ]
  },
  {
   "cell_type": "code",
   "execution_count": 274,
   "metadata": {},
   "outputs": [
    {
     "data": {
      "text/plain": [
       "array([[-3.48745695e-01, -5.07775506e-01, -1.70057842e-01,\n",
       "         5.85653158e-01, -3.97680354e-01,  8.11177609e-01,\n",
       "        -1.56427396e+00, -9.80656338e-01, -8.05403372e-01,\n",
       "        -5.11312393e-01, -4.22321203e-01, -5.32962478e-01,\n",
       "        -5.17868109e-01, -4.21934063e-01, -5.82158562e-02,\n",
       "         8.28529272e-02, -3.54961479e-02, -1.76198871e-01,\n",
       "        -2.84365137e-01, -1.98214512e-02,  5.30211084e-01,\n",
       "        -1.91203135e+00,  1.35365737e-01,  8.25628680e-01,\n",
       "        -3.65839497e-01, -2.49532217e-01, -1.47389860e-01,\n",
       "         3.93087985e-01, -2.49406532e-02, -1.33931644e-02,\n",
       "         6.04609349e-02,  6.50734961e-02, -7.90794100e-01,\n",
       "         2.52977438e-01, -9.99164245e-02, -1.94893060e-01],\n",
       "       [-1.68894308e-01, -3.05012604e-01, -7.14183676e-02,\n",
       "        -2.10451757e-01, -8.52384529e-03,  2.06541035e-01,\n",
       "        -5.91512282e-02,  6.14301157e-01, -4.33001492e-01,\n",
       "         2.68260734e-01,  2.15629109e-01,  1.77727215e-01,\n",
       "        -3.08739000e-03,  2.15640104e-01, -1.02008220e-01,\n",
       "        -1.98809008e-01,  3.22090194e-01,  7.08342191e-02,\n",
       "        -6.62571007e-01, -1.91356902e-01,  1.32756423e+00,\n",
       "         1.61967466e-01, -3.60775468e-02, -7.54217716e-01,\n",
       "        -3.34855906e-03,  3.50281103e-01, -1.15400423e-01,\n",
       "        -2.06073478e-01, -4.53122545e-01, -4.78589273e-01,\n",
       "        -2.23332417e-01, -5.50688281e-01, -9.43893526e-02,\n",
       "         1.80963634e-01, -1.86729008e-01, -5.12467899e-02],\n",
       "       [-1.18321937e-01, -2.20847218e-01, -2.39109607e-02,\n",
       "         3.56458294e-01,  3.44568499e-01, -2.99965024e-01,\n",
       "         1.02491005e-01,  5.07899796e-01,  2.09801715e-02,\n",
       "         6.40837625e-04,  1.08613749e-01,  2.40456812e-01,\n",
       "         6.36710532e-02,  4.28350223e-02, -5.76199085e-02,\n",
       "        -1.83311006e-01,  2.11538551e-02,  1.68321612e-01,\n",
       "        -1.07626505e-01, -1.28863708e-02,  5.48578593e-01,\n",
       "         7.88594014e-01,  1.20301534e-02, -7.78350974e-01,\n",
       "         1.28906282e-01, -3.56123195e-02, -1.13551505e-02,\n",
       "         3.38787400e-01,  2.94869516e-02,  3.28762491e-02,\n",
       "         9.39051876e-02,  2.80837617e-01, -2.88455443e-01,\n",
       "         2.93555576e-01, -3.92743874e-01,  3.51206188e-01],\n",
       "       [ 2.30106742e-01,  4.85226306e-01, -5.22023759e-03,\n",
       "        -2.45395879e-01,  2.45907507e-01, -5.60608540e-01,\n",
       "        -1.41900180e-01,  6.36495470e-01,  5.77342894e-01,\n",
       "         3.04624859e-01,  3.36998925e-01,  3.14344762e-02,\n",
       "         9.01971074e-02,  2.40010071e-01,  3.51899489e-01,\n",
       "         8.66849990e-02,  1.23957079e-02,  7.52826259e-02,\n",
       "         5.01768243e-01,  1.17971555e-02, -2.89653024e-01,\n",
       "         5.56695209e-01, -2.58513293e-01, -3.19211723e-01,\n",
       "         1.99941002e-01,  2.23228762e-01, -5.13520943e-01,\n",
       "         1.69056239e-01,  1.39013772e-01,  1.97225534e-01,\n",
       "        -3.66174134e-02,  2.39218541e-01, -1.58516232e-01,\n",
       "         1.08041778e-01, -2.07160536e-01,  1.45154448e-01],\n",
       "       [ 3.72590388e-01,  5.32473432e-01,  2.20983988e-01,\n",
       "        -6.92512485e-01, -7.55248760e-02, -2.79183376e-01,\n",
       "         1.30654451e+00, -1.01590697e+00,  1.25358531e-01,\n",
       "         4.67587086e-02, -9.35490032e-02,  1.78932560e-01,\n",
       "         2.24950323e-02, -4.99339308e-02, -2.28025869e-01,\n",
       "         2.27162959e-01,  1.40074776e-01, -3.94666486e-01,\n",
       "         4.27849644e-02,  1.07539264e-01, -1.37791535e+00,\n",
       "         4.55412823e-01,  1.09071942e-01,  4.40253385e-01,\n",
       "         2.14305008e-02, -3.51571177e-01, -1.45810662e-01,\n",
       "        -7.48289197e-01,  1.61254695e-01,  1.87475675e-01,\n",
       "         3.92362330e-01,  1.56574539e-01,  1.01301956e+00,\n",
       "        -5.81999349e-01,  9.15540316e-01, -2.06656974e-01],\n",
       "       [ 3.32648106e-02,  1.59355897e-02,  4.96234196e-02,\n",
       "         2.06248668e-01, -1.08746931e-01,  1.22038297e-01,\n",
       "         3.56289854e-01,  2.37866885e-01,  5.14723268e-01,\n",
       "        -1.08972746e-01, -1.45371577e-01, -9.55885858e-02,\n",
       "         3.44592306e-01, -2.66172041e-02,  9.39703643e-02,\n",
       "        -1.45808706e-02, -4.60218385e-01,  2.56426900e-01,\n",
       "         5.10009442e-01,  1.04728305e-01, -7.38785534e-01,\n",
       "        -5.06381593e-02,  3.81230069e-02,  5.85898348e-01,\n",
       "         1.89102706e-02,  6.32058487e-02,  9.33477038e-01,\n",
       "         5.34310510e-02,  1.48307780e-01,  7.44049792e-02,\n",
       "        -2.86778623e-01, -1.91015912e-01,  3.19135567e-01,\n",
       "        -2.53539077e-01, -2.89904736e-02, -4.35638123e-02]])"
      ]
     },
     "execution_count": 274,
     "metadata": {},
     "output_type": "execute_result"
    }
   ],
   "source": [
    "model.coef_"
   ]
  },
  {
   "cell_type": "code",
   "execution_count": 275,
   "metadata": {},
   "outputs": [
    {
     "name": "stdout",
     "output_type": "stream",
     "text": [
      "accuracy = 0.8061002178649237\n"
     ]
    },
    {
     "data": {
      "text/plain": [
       "array([[576,  12,   0,   0,   0,   0],\n",
       "       [ 77,  51,   9,   0,   0,   0],\n",
       "       [ 20,  13,  54,  10,   1,   0],\n",
       "       [  4,   6,  19,  38,   1,   0],\n",
       "       [  0,   0,   2,   4,  14,   0],\n",
       "       [  0,   0,   0,   0,   0,   7]])"
      ]
     },
     "execution_count": 275,
     "metadata": {},
     "output_type": "execute_result"
    }
   ],
   "source": [
    "model = LogisticRegression(random_state=0, solver ='lbfgs', multi_class='ovr')\n",
    "model.fit(X=feature, y=target) # 학습수행 \n",
    "y_pred = model.predict(X = feature)\n",
    "acc=accuracy_score(target,y_pred)\n",
    "print('accuracy =', acc) \n",
    "con_mat = confusion_matrix(y_true=target, y_pred=y_pred) \n",
    "con_mat "
   ]
  },
  {
   "cell_type": "code",
   "execution_count": 276,
   "metadata": {},
   "outputs": [
    {
     "name": "stdout",
     "output_type": "stream",
     "text": [
      "              precision    recall  f1-score   support\n",
      "\n",
      "           0       0.85      0.98      0.91       588\n",
      "           1       0.62      0.37      0.47       137\n",
      "           2       0.64      0.55      0.59        98\n",
      "           3       0.73      0.56      0.63        68\n",
      "           4       0.88      0.70      0.78        20\n",
      "           5       1.00      1.00      1.00         7\n",
      "\n",
      "    accuracy                           0.81       918\n",
      "   macro avg       0.79      0.69      0.73       918\n",
      "weighted avg       0.79      0.81      0.79       918\n",
      "\n"
     ]
    }
   ],
   "source": [
    "from sklearn.metrics import classification_report\n",
    "model.fit(X=feature, y=target) # 학습수행 \n",
    "y_pred = model.predict(X = feature)\n",
    "print(classification_report(target, y_pred))"
   ]
  },
  {
   "cell_type": "code",
   "execution_count": 277,
   "metadata": {},
   "outputs": [
    {
     "name": "stdout",
     "output_type": "stream",
     "text": [
      "학습 Accuracy = 0.82425068, 검증 Accuracy = 0.79891304\n",
      "학습 Accuracy = 0.82425068, 검증 Accuracy = 0.73913043\n",
      "학습 Accuracy = 0.81880109, 검증 Accuracy = 0.75000000\n",
      "학습 Accuracy = 0.82585034, 검증 Accuracy = 0.74316940\n",
      "학습 Accuracy = 0.82448980, 검증 Accuracy = 0.72677596\n",
      "[0.79891304 0.73913043 0.75       0.7431694  0.72677596]\n"
     ]
    },
    {
     "data": {
      "text/plain": [
       "0.7515977666904253"
      ]
     },
     "execution_count": 277,
     "metadata": {},
     "output_type": "execute_result"
    }
   ],
   "source": [
    "from sklearn.model_selection import KFold\n",
    "\n",
    "scores = np.zeros(5)\n",
    "cv = KFold(5, shuffle=True, random_state=0)\n",
    "for i, (idx_train, idx_test) in enumerate(cv.split(grid_500)):\n",
    "    df_train = grid_500.iloc[idx_train]\n",
    "    df_test = grid_500.iloc[idx_test]\n",
    "    feature_list = list(grid_500.drop(columns = ['행정동코드','INDEX','ID','GRADE_절도','GRADE_성폭력','GRADE_폭력','폭력범주']).columns)\n",
    "    feature = df_train[feature_list]\n",
    "    target = df_train['폭력범주']\n",
    "    \n",
    "    \n",
    "    model = LogisticRegression(random_state=0, solver ='lbfgs', multi_class='multinomial')\n",
    "    model.fit(X=feature, y=target) # 학습수행 \n",
    "    y_pred1 = model.predict(X = feature)\n",
    "    y_pred2 = model.predict(X = df_test[feature_list])\n",
    "    acc_1=accuracy_score(target,y_pred1)\n",
    "    acc_2=accuracy_score(df_test['폭력범주'],y_pred2)\n",
    "    \n",
    "    scores[i] = acc_2\n",
    "    print(\"학습 Accuracy = {:.8f}, 검증 Accuracy = {:.8f}\".format(acc_1, acc_2))\n",
    "print(scores)\n",
    "scores.mean()"
   ]
  },
  {
   "cell_type": "code",
   "execution_count": 278,
   "metadata": {},
   "outputs": [
    {
     "name": "stdout",
     "output_type": "stream",
     "text": [
      "학습 Accuracy = 0.80926431, 검증 Accuracy = 0.79347826\n",
      "학습 Accuracy = 0.81335150, 검증 Accuracy = 0.76086957\n",
      "학습 Accuracy = 0.81471390, 검증 Accuracy = 0.76086957\n",
      "학습 Accuracy = 0.82176871, 검증 Accuracy = 0.73770492\n",
      "학습 Accuracy = 0.80816327, 검증 Accuracy = 0.72677596\n",
      "[0.79347826 0.76086957 0.76086957 0.73770492 0.72677596]\n"
     ]
    },
    {
     "data": {
      "text/plain": [
       "0.7559396531242576"
      ]
     },
     "execution_count": 278,
     "metadata": {},
     "output_type": "execute_result"
    }
   ],
   "source": [
    "from sklearn.model_selection import KFold\n",
    "\n",
    "scores = np.zeros(5)\n",
    "cv = KFold(5, shuffle=True, random_state=0)\n",
    "for i, (idx_train, idx_test) in enumerate(cv.split(grid_500)):\n",
    "    df_train = grid_500.iloc[idx_train]\n",
    "    df_test = grid_500.iloc[idx_test]\n",
    "    feature_list = list(grid_500.drop(columns = ['행정동코드','INDEX','ID','GRADE_절도','GRADE_성폭력','GRADE_폭력','폭력범주']).columns)\n",
    "    feature = df_train[feature_list]\n",
    "    target = df_train['폭력범주']\n",
    "    \n",
    "    \n",
    "    model = LogisticRegression(random_state=0, solver ='lbfgs', multi_class='ovr')\n",
    "    model.fit(X=feature, y=target) # 학습수행 \n",
    "    y_pred1 = model.predict(X = feature)\n",
    "    y_pred2 = model.predict(X = df_test[feature_list])\n",
    "    acc_1=accuracy_score(target,y_pred1)\n",
    "    acc_2=accuracy_score(df_test['폭력범주'],y_pred2)\n",
    "    \n",
    "    scores[i] = acc_2\n",
    "    print(\"학습 Accuracy = {:.8f}, 검증 Accuracy = {:.8f}\".format(acc_1, acc_2))\n",
    "print(scores)\n",
    "scores.mean()"
   ]
  },
  {
   "cell_type": "code",
   "execution_count": 279,
   "metadata": {},
   "outputs": [
    {
     "data": {
      "image/png": "[encoded data removed]",
      "text/plain": [
       "<Figure size 1440x1440 with 2 Axes>"
      ]
     },
     "metadata": {
      "needs_background": "light"
     },
     "output_type": "display_data"
    }
   ],
   "source": [
    "plt.figure(figsize=(20,20)) # chart size \n",
    "sns.heatmap(con_mat, annot=True, fmt=\".3f\", linewidths=.5, square = True);# , cmap = 'Blues_r' : map »ö»ó  \n",
    "plt.ylabel('Actual label'); \n",
    "plt.xlabel('Predicted label'); \n",
    "all_sample_title = 'Accuracy Score: {0}'.format(acc) \n",
    "plt.title(all_sample_title, size = 18) \n",
    "plt.show() "
   ]
  },
  {
   "cell_type": "code",
   "execution_count": null,
   "metadata": {},
   "outputs": [],
   "source": [
    "model = LogisticRegression(random_state=0, solver ='lbfgs', multi_class='multinomial')\n",
    "model.fit(X=feature, y=target) # 학습수행 \n",
    "y_pred = model.predict(X = feature)\n",
    "acc=accuracy_score(target,y_pred)\n",
    "print('accuracy =', acc) \n",
    "con_mat = confusion_matrix(y_true=target, y_pred=y_pred) \n",
    "con_mat "
   ]
  },
  {
   "cell_type": "code",
   "execution_count": 530,
   "metadata": {},
   "outputs": [],
   "source": [
    "a = grid_500[grid_500['폭력범주']!=0]"
   ]
  },
  {
   "cell_type": "code",
   "execution_count": 533,
   "metadata": {},
   "outputs": [],
   "source": [
    "a_x = a[feature_list]"
   ]
  },
  {
   "cell_type": "code",
   "execution_count": 534,
   "metadata": {},
   "outputs": [],
   "source": [
    "a_y = a['폭력범주']"
   ]
  },
  {
   "cell_type": "code",
   "execution_count": 536,
   "metadata": {},
   "outputs": [
    {
     "name": "stdout",
     "output_type": "stream",
     "text": [
      "accuracy = 0.7454545454545455\n"
     ]
    },
    {
     "data": {
      "text/plain": [
       "array([[125,  10,   2,   0,   0],\n",
       "       [ 31,  59,   8,   0,   0],\n",
       "       [  9,  18,  40,   1,   0],\n",
       "       [  1,   2,   2,  15,   0],\n",
       "       [  0,   0,   0,   0,   7]])"
      ]
     },
     "execution_count": 536,
     "metadata": {},
     "output_type": "execute_result"
    }
   ],
   "source": [
    "model = LogisticRegression(random_state=0, solver ='lbfgs', multi_class='multinomial')\n",
    "model.fit(X=a_x, y=a_y) # 학습수행 \n",
    "y_pred = model.predict(X = a_x)\n",
    "acc=accuracy_score(a_y,y_pred)\n",
    "print('accuracy =', acc) \n",
    "con_mat = confusion_matrix(y_true=a_y, y_pred=y_pred) \n",
    "con_mat "
   ]
  },
  {
   "cell_type": "code",
   "execution_count": 537,
   "metadata": {},
   "outputs": [
    {
     "data": {
      "image/png": "[encoded data removed]",
      "text/plain": [
       "<Figure size 1440x1440 with 2 Axes>"
      ]
     },
     "metadata": {
      "needs_background": "light"
     },
     "output_type": "display_data"
    }
   ],
   "source": [
    "plt.figure(figsize=(20,20)) # chart size \n",
    "sns.heatmap(con_mat, annot=True, fmt=\".3f\", linewidths=.5, square = True);# , cmap = 'Blues_r' : map »ö»ó  \n",
    "plt.ylabel('Actual label'); \n",
    "plt.xlabel('Predicted label'); \n",
    "all_sample_title = 'Accuracy Score: {0}'.format(acc) \n",
    "plt.title(all_sample_title, size = 18) \n",
    "plt.show() "
   ]
  },
  {
   "cell_type": "code",
   "execution_count": 280,
   "metadata": {},
   "outputs": [
    {
     "name": "stdout",
     "output_type": "stream",
     "text": [
      "accuracy = 0.8244897959183674\n"
     ]
    },
    {
     "data": {
      "text/plain": [
       "array([[458,  15,   1,   1,   0,   0],\n",
       "       [ 58,  45,   8,   1,   0,   0],\n",
       "       [  9,  15,  48,   4,   0,   0],\n",
       "       [  0,   4,  11,  35,   1,   0],\n",
       "       [  0,   0,   1,   0,  14,   0],\n",
       "       [  0,   0,   0,   0,   0,   6]])"
      ]
     },
     "execution_count": 280,
     "metadata": {},
     "output_type": "execute_result"
    }
   ],
   "source": [
    "model = LogisticRegression(random_state=0, solver ='lbfgs', multi_class='multinomial')\n",
    "model.fit(X=feature, y=target) # 학습수행 \n",
    "y_pred = model.predict(X = feature)\n",
    "acc=accuracy_score(target,y_pred)\n",
    "print('accuracy =', acc) \n",
    "con_mat = confusion_matrix(y_true=target, y_pred=y_pred) \n",
    "con_mat "
   ]
  },
  {
   "cell_type": "code",
   "execution_count": 281,
   "metadata": {},
   "outputs": [],
   "source": [
    "selected_list = list(selected.columns)"
   ]
  },
  {
   "cell_type": "code",
   "execution_count": 282,
   "metadata": {},
   "outputs": [
    {
     "name": "stdout",
     "output_type": "stream",
     "text": [
      "학습 Accuracy = 0.78692494, 검증 Accuracy = 0.75000000\n",
      "학습 Accuracy = 0.77723971, 검증 Accuracy = 0.81521739\n",
      "학습 Accuracy = 0.79055690, 검증 Accuracy = 0.71739130\n",
      "학습 Accuracy = 0.78450363, 검증 Accuracy = 0.75000000\n",
      "학습 Accuracy = 0.77845036, 검증 Accuracy = 0.76086957\n",
      "학습 Accuracy = 0.77966102, 검증 Accuracy = 0.76086957\n",
      "학습 Accuracy = 0.78571429, 검증 Accuracy = 0.71739130\n",
      "학습 Accuracy = 0.77845036, 검증 Accuracy = 0.71739130\n",
      "학습 Accuracy = 0.78960097, 검증 Accuracy = 0.68131868\n",
      "학습 Accuracy = 0.78113664, 검증 Accuracy = 0.76923077\n"
     ]
    },
    {
     "data": {
      "text/plain": [
       "0.7439679885332059"
      ]
     },
     "execution_count": 282,
     "metadata": {},
     "output_type": "execute_result"
    }
   ],
   "source": [
    "from sklearn.model_selection import KFold\n",
    "\n",
    "scores = np.zeros(10)\n",
    "cv = KFold(10, shuffle=True, random_state=0)\n",
    "for i, (idx_train, idx_test) in enumerate(cv.split(grid_500)):\n",
    "    df_train = grid_500.iloc[idx_train]\n",
    "    df_test = grid_500.iloc[idx_test]\n",
    "    feature_list = list(selected.columns)\n",
    "    feature = df_train[feature_list]\n",
    "    target = df_train['폭력범주']\n",
    "    \n",
    "    \n",
    "    model = LogisticRegression(random_state=0, solver ='lbfgs', multi_class='multinomial')\n",
    "    model.fit(X=feature, y=target) # 학습수행 \n",
    "    y_pred1 = model.predict(X = feature)\n",
    "    y_pred2 = model.predict(X = df_test[feature_list])\n",
    "    acc_1=accuracy_score(target,y_pred1)\n",
    "    acc_2=accuracy_score(df_test['폭력범주'],y_pred2)\n",
    "    \n",
    "    scores[i] = acc_2\n",
    "    print(\"학습 Accuracy = {:.8f}, 검증 Accuracy = {:.8f}\".format(acc_1, acc_2))\n",
    "scores\n",
    "scores.mean()"
   ]
  },
  {
   "cell_type": "code",
   "execution_count": 283,
   "metadata": {},
   "outputs": [],
   "source": [
    "from statsmodels.miscmodels.ordinal_model import OrderedModel"
   ]
  },
  {
   "cell_type": "code",
   "execution_count": 284,
   "metadata": {},
   "outputs": [
    {
     "name": "stdout",
     "output_type": "stream",
     "text": [
      "accuracy = 0.781136638452237\n"
     ]
    },
    {
     "data": {
      "text/plain": [
       "array([[510,  15,   0,   1,   0,   0],\n",
       "       [ 73,  38,  12,   1,   0,   0],\n",
       "       [ 15,  16,  49,  10,   0,   0],\n",
       "       [  4,   5,  22,  33,   0,   0],\n",
       "       [  0,   0,   2,   5,  10,   0],\n",
       "       [  0,   0,   0,   0,   0,   6]])"
      ]
     },
     "execution_count": 284,
     "metadata": {},
     "output_type": "execute_result"
    }
   ],
   "source": [
    "model = LogisticRegression(random_state=0, solver ='lbfgs', multi_class='multinomial')\n",
    "model.fit(X=feature, y=target) # 학습수행 \n",
    "y_pred = model.predict(X = feature)\n",
    "acc=accuracy_score(target,y_pred)\n",
    "print('accuracy =', acc) \n",
    "con_mat = confusion_matrix(y_true=target, y_pred=y_pred) \n",
    "con_mat "
   ]
  },
  {
   "cell_type": "code",
   "execution_count": 285,
   "metadata": {},
   "outputs": [
    {
     "name": "stdout",
     "output_type": "stream",
     "text": [
      "Optimization terminated successfully.\n",
      "         Current function value: 0.665053\n",
      "         Iterations: 60\n",
      "         Function evaluations: 62\n",
      "         Gradient evaluations: 62\n"
     ]
    },
    {
     "data": {
      "text/html": [
       "<table class=\"simpletable\">\n",
       "<caption>OrderedModel Results</caption>\n",
       "<tr>\n",
       "  <th>Dep. Variable:</th>           <td>폭력범주</td>        <th>  Log-Likelihood:    </th> <td> -550.00</td>\n",
       "</tr>\n",
       "<tr>\n",
       "  <th>Model:</th>               <td>OrderedModel</td>    <th>  AIC:               </th> <td>   1142.</td>\n",
       "</tr>\n",
       "<tr>\n",
       "  <th>Method:</th>           <td>Maximum Likelihood</td> <th>  BIC:               </th> <td>   1241.</td>\n",
       "</tr>\n",
       "<tr>\n",
       "  <th>Date:</th>              <td>Thu, 19 Aug 2021</td>  <th>                     </th>     <td> </td>   \n",
       "</tr>\n",
       "<tr>\n",
       "  <th>Time:</th>                  <td>01:15:33</td>      <th>                     </th>     <td> </td>   \n",
       "</tr>\n",
       "<tr>\n",
       "  <th>No. Observations:</th>       <td>   827</td>       <th>                     </th>     <td> </td>   \n",
       "</tr>\n",
       "<tr>\n",
       "  <th>Df Residuals:</th>           <td>   806</td>       <th>                     </th>     <td> </td>   \n",
       "</tr>\n",
       "<tr>\n",
       "  <th>Df Model:</th>               <td>    21</td>       <th>                     </th>     <td> </td>   \n",
       "</tr>\n",
       "</table>\n",
       "<table class=\"simpletable\">\n",
       "<tr>\n",
       "      <td></td>        <th>coef</th>     <th>std err</th>      <th>z</th>      <th>P>|z|</th>  <th>[0.025</th>    <th>0.975]</th>  \n",
       "</tr>\n",
       "<tr>\n",
       "  <th>총인구</th>      <td>   -2.4597</td> <td>    1.462</td> <td>   -1.683</td> <td> 0.092</td> <td>   -5.324</td> <td>    0.405</td>\n",
       "</tr>\n",
       "<tr>\n",
       "  <th>남성인구</th>     <td>    4.8994</td> <td>    1.440</td> <td>    3.403</td> <td> 0.001</td> <td>    2.077</td> <td>    7.722</td>\n",
       "</tr>\n",
       "<tr>\n",
       "  <th>유소년인구</th>    <td>   -0.8544</td> <td>    0.137</td> <td>   -6.223</td> <td> 0.000</td> <td>   -1.123</td> <td>   -0.585</td>\n",
       "</tr>\n",
       "<tr>\n",
       "  <th>35년이상건축물</th> <td>    0.1099</td> <td>    0.057</td> <td>    1.924</td> <td> 0.054</td> <td>   -0.002</td> <td>    0.222</td>\n",
       "</tr>\n",
       "<tr>\n",
       "  <th>개별주택가격</th>   <td>    0.4874</td> <td>    0.059</td> <td>    8.310</td> <td> 0.000</td> <td>    0.372</td> <td>    0.602</td>\n",
       "</tr>\n",
       "<tr>\n",
       "  <th>가로등</th>      <td>    0.2544</td> <td>    0.068</td> <td>    3.730</td> <td> 0.000</td> <td>    0.121</td> <td>    0.388</td>\n",
       "</tr>\n",
       "<tr>\n",
       "  <th>노숙인시설</th>    <td>    0.0673</td> <td>    0.037</td> <td>    1.797</td> <td> 0.072</td> <td>   -0.006</td> <td>    0.141</td>\n",
       "</tr>\n",
       "<tr>\n",
       "  <th>대규모점포</th>    <td>   -0.0658</td> <td>    0.041</td> <td>   -1.587</td> <td> 0.112</td> <td>   -0.147</td> <td>    0.015</td>\n",
       "</tr>\n",
       "<tr>\n",
       "  <th>룸살롱</th>      <td>    0.1350</td> <td>    0.052</td> <td>    2.603</td> <td> 0.009</td> <td>    0.033</td> <td>    0.237</td>\n",
       "</tr>\n",
       "<tr>\n",
       "  <th>보안등</th>      <td>   -0.3198</td> <td>    0.057</td> <td>   -5.644</td> <td> 0.000</td> <td>   -0.431</td> <td>   -0.209</td>\n",
       "</tr>\n",
       "<tr>\n",
       "  <th>술집</th>       <td>    0.2758</td> <td>    0.068</td> <td>    4.057</td> <td> 0.000</td> <td>    0.143</td> <td>    0.409</td>\n",
       "</tr>\n",
       "<tr>\n",
       "  <th>원룸_오피스텔</th>  <td>   -0.2037</td> <td>    0.065</td> <td>   -3.114</td> <td> 0.002</td> <td>   -0.332</td> <td>   -0.075</td>\n",
       "</tr>\n",
       "<tr>\n",
       "  <th>cctv</th>     <td>    0.3599</td> <td>    0.084</td> <td>    4.307</td> <td> 0.000</td> <td>    0.196</td> <td>    0.524</td>\n",
       "</tr>\n",
       "<tr>\n",
       "  <th>신호등</th>      <td>   -0.0133</td> <td>    0.075</td> <td>   -0.178</td> <td> 0.859</td> <td>   -0.160</td> <td>    0.134</td>\n",
       "</tr>\n",
       "<tr>\n",
       "  <th>횡단보도</th>     <td>    0.1896</td> <td>    0.075</td> <td>    2.521</td> <td> 0.012</td> <td>    0.042</td> <td>    0.337</td>\n",
       "</tr>\n",
       "<tr>\n",
       "  <th>성폭력취약인구</th>  <td>   -1.2004</td> <td>    0.253</td> <td>   -4.745</td> <td> 0.000</td> <td>   -1.696</td> <td>   -0.705</td>\n",
       "</tr>\n",
       "<tr>\n",
       "  <th>0/1</th>      <td>    0.2521</td> <td>    0.059</td> <td>    4.245</td> <td> 0.000</td> <td>    0.136</td> <td>    0.368</td>\n",
       "</tr>\n",
       "<tr>\n",
       "  <th>1/2</th>      <td>    0.0225</td> <td>    0.083</td> <td>    0.273</td> <td> 0.785</td> <td>   -0.139</td> <td>    0.184</td>\n",
       "</tr>\n",
       "<tr>\n",
       "  <th>2/3</th>      <td>    0.2238</td> <td>    0.096</td> <td>    2.343</td> <td> 0.019</td> <td>    0.037</td> <td>    0.411</td>\n",
       "</tr>\n",
       "<tr>\n",
       "  <th>3/4</th>      <td>    0.5714</td> <td>    0.114</td> <td>    4.998</td> <td> 0.000</td> <td>    0.347</td> <td>    0.796</td>\n",
       "</tr>\n",
       "<tr>\n",
       "  <th>4/5</th>      <td>    0.4824</td> <td>    0.226</td> <td>    2.135</td> <td> 0.033</td> <td>    0.039</td> <td>    0.925</td>\n",
       "</tr>\n",
       "</table>"
      ],
      "text/plain": [
       "<class 'statsmodels.iolib.summary.Summary'>\n",
       "\"\"\"\n",
       "                             OrderedModel Results                             \n",
       "==============================================================================\n",
       "Dep. Variable:                   폭력범주   Log-Likelihood:                -550.00\n",
       "Model:                   OrderedModel   AIC:                             1142.\n",
       "Method:            Maximum Likelihood   BIC:                             1241.\n",
       "Date:                Thu, 19 Aug 2021                                         \n",
       "Time:                        01:15:33                                         \n",
       "No. Observations:                 827                                         \n",
       "Df Residuals:                     806                                         \n",
       "Df Model:                          21                                         \n",
       "==============================================================================\n",
       "                 coef    std err          z      P>|z|      [0.025      0.975]\n",
       "------------------------------------------------------------------------------\n",
       "총인구           -2.4597      1.462     -1.683      0.092      -5.324       0.405\n",
       "남성인구           4.8994      1.440      3.403      0.001       2.077       7.722\n",
       "유소년인구         -0.8544      0.137     -6.223      0.000      -1.123      -0.585\n",
       "35년이상건축물       0.1099      0.057      1.924      0.054      -0.002       0.222\n",
       "개별주택가격         0.4874      0.059      8.310      0.000       0.372       0.602\n",
       "가로등            0.2544      0.068      3.730      0.000       0.121       0.388\n",
       "노숙인시설          0.0673      0.037      1.797      0.072      -0.006       0.141\n",
       "대규모점포         -0.0658      0.041     -1.587      0.112      -0.147       0.015\n",
       "룸살롱            0.1350      0.052      2.603      0.009       0.033       0.237\n",
       "보안등           -0.3198      0.057     -5.644      0.000      -0.431      -0.209\n",
       "술집             0.2758      0.068      4.057      0.000       0.143       0.409\n",
       "원룸_오피스텔       -0.2037      0.065     -3.114      0.002      -0.332      -0.075\n",
       "cctv           0.3599      0.084      4.307      0.000       0.196       0.524\n",
       "신호등           -0.0133      0.075     -0.178      0.859      -0.160       0.134\n",
       "횡단보도           0.1896      0.075      2.521      0.012       0.042       0.337\n",
       "성폭력취약인구       -1.2004      0.253     -4.745      0.000      -1.696      -0.705\n",
       "0/1            0.2521      0.059      4.245      0.000       0.136       0.368\n",
       "1/2            0.0225      0.083      0.273      0.785      -0.139       0.184\n",
       "2/3            0.2238      0.096      2.343      0.019       0.037       0.411\n",
       "3/4            0.5714      0.114      4.998      0.000       0.347       0.796\n",
       "4/5            0.4824      0.226      2.135      0.033       0.039       0.925\n",
       "==============================================================================\n",
       "\"\"\""
      ]
     },
     "execution_count": 285,
     "metadata": {},
     "output_type": "execute_result"
    }
   ],
   "source": [
    "mod_prob = OrderedModel(target,\n",
    "                        feature,\n",
    "                        distr='probit')\n",
    "\n",
    "res_prob = mod_prob.fit(method='bfgs')\n",
    "res_prob.summary()"
   ]
  },
  {
   "cell_type": "code",
   "execution_count": 286,
   "metadata": {},
   "outputs": [
    {
     "data": {
      "text/plain": [
       "array([      -inf, 0.25208075, 1.27486301, 2.52563773, 4.29643815,\n",
       "       5.91642411,        inf])"
      ]
     },
     "execution_count": 286,
     "metadata": {},
     "output_type": "execute_result"
    }
   ],
   "source": [
    "num_of_thresholds = 9\n",
    "mod_prob.transform_threshold_params(res_prob.params[-num_of_thresholds:])"
   ]
  },
  {
   "cell_type": "code",
   "execution_count": 287,
   "metadata": {},
   "outputs": [
    {
     "data": {
      "text/html": [
       "<table class=\"simpletable\">\n",
       "<caption>OrderedModel Results</caption>\n",
       "<tr>\n",
       "  <th>Dep. Variable:</th>           <td>폭력범주</td>        <th>  Log-Likelihood:    </th> <td> -548.76</td>\n",
       "</tr>\n",
       "<tr>\n",
       "  <th>Model:</th>               <td>OrderedModel</td>    <th>  AIC:               </th> <td>   1140.</td>\n",
       "</tr>\n",
       "<tr>\n",
       "  <th>Method:</th>           <td>Maximum Likelihood</td> <th>  BIC:               </th> <td>   1239.</td>\n",
       "</tr>\n",
       "<tr>\n",
       "  <th>Date:</th>              <td>Thu, 19 Aug 2021</td>  <th>                     </th>     <td> </td>   \n",
       "</tr>\n",
       "<tr>\n",
       "  <th>Time:</th>                  <td>01:15:35</td>      <th>                     </th>     <td> </td>   \n",
       "</tr>\n",
       "<tr>\n",
       "  <th>No. Observations:</th>       <td>   827</td>       <th>                     </th>     <td> </td>   \n",
       "</tr>\n",
       "<tr>\n",
       "  <th>Df Residuals:</th>           <td>   806</td>       <th>                     </th>     <td> </td>   \n",
       "</tr>\n",
       "<tr>\n",
       "  <th>Df Model:</th>               <td>    21</td>       <th>                     </th>     <td> </td>   \n",
       "</tr>\n",
       "</table>\n",
       "<table class=\"simpletable\">\n",
       "<tr>\n",
       "      <td></td>        <th>coef</th>     <th>std err</th>      <th>z</th>      <th>P>|z|</th>  <th>[0.025</th>    <th>0.975]</th>  \n",
       "</tr>\n",
       "<tr>\n",
       "  <th>총인구</th>      <td>   -4.3748</td> <td>    2.648</td> <td>   -1.652</td> <td> 0.098</td> <td>   -9.564</td> <td>    0.815</td>\n",
       "</tr>\n",
       "<tr>\n",
       "  <th>남성인구</th>     <td>    8.7534</td> <td>    2.596</td> <td>    3.372</td> <td> 0.001</td> <td>    3.666</td> <td>   13.841</td>\n",
       "</tr>\n",
       "<tr>\n",
       "  <th>유소년인구</th>    <td>   -1.4887</td> <td>    0.252</td> <td>   -5.917</td> <td> 0.000</td> <td>   -1.982</td> <td>   -0.996</td>\n",
       "</tr>\n",
       "<tr>\n",
       "  <th>35년이상건축물</th> <td>    0.2140</td> <td>    0.100</td> <td>    2.145</td> <td> 0.032</td> <td>    0.018</td> <td>    0.410</td>\n",
       "</tr>\n",
       "<tr>\n",
       "  <th>개별주택가격</th>   <td>    0.8544</td> <td>    0.106</td> <td>    8.093</td> <td> 0.000</td> <td>    0.648</td> <td>    1.061</td>\n",
       "</tr>\n",
       "<tr>\n",
       "  <th>가로등</th>      <td>    0.4533</td> <td>    0.130</td> <td>    3.491</td> <td> 0.000</td> <td>    0.199</td> <td>    0.708</td>\n",
       "</tr>\n",
       "<tr>\n",
       "  <th>노숙인시설</th>    <td>    0.1021</td> <td>    0.083</td> <td>    1.236</td> <td> 0.216</td> <td>   -0.060</td> <td>    0.264</td>\n",
       "</tr>\n",
       "<tr>\n",
       "  <th>대규모점포</th>    <td>   -0.1063</td> <td>    0.074</td> <td>   -1.445</td> <td> 0.149</td> <td>   -0.250</td> <td>    0.038</td>\n",
       "</tr>\n",
       "<tr>\n",
       "  <th>룸살롱</th>      <td>    0.2137</td> <td>    0.097</td> <td>    2.207</td> <td> 0.027</td> <td>    0.024</td> <td>    0.403</td>\n",
       "</tr>\n",
       "<tr>\n",
       "  <th>보안등</th>      <td>   -0.5908</td> <td>    0.100</td> <td>   -5.903</td> <td> 0.000</td> <td>   -0.787</td> <td>   -0.395</td>\n",
       "</tr>\n",
       "<tr>\n",
       "  <th>술집</th>       <td>    0.5337</td> <td>    0.119</td> <td>    4.477</td> <td> 0.000</td> <td>    0.300</td> <td>    0.767</td>\n",
       "</tr>\n",
       "<tr>\n",
       "  <th>원룸_오피스텔</th>  <td>   -0.3748</td> <td>    0.125</td> <td>   -3.003</td> <td> 0.003</td> <td>   -0.619</td> <td>   -0.130</td>\n",
       "</tr>\n",
       "<tr>\n",
       "  <th>cctv</th>     <td>    0.6867</td> <td>    0.154</td> <td>    4.464</td> <td> 0.000</td> <td>    0.385</td> <td>    0.988</td>\n",
       "</tr>\n",
       "<tr>\n",
       "  <th>신호등</th>      <td>   -0.0749</td> <td>    0.141</td> <td>   -0.533</td> <td> 0.594</td> <td>   -0.351</td> <td>    0.201</td>\n",
       "</tr>\n",
       "<tr>\n",
       "  <th>횡단보도</th>     <td>    0.3176</td> <td>    0.131</td> <td>    2.421</td> <td> 0.015</td> <td>    0.060</td> <td>    0.575</td>\n",
       "</tr>\n",
       "<tr>\n",
       "  <th>성폭력취약인구</th>  <td>   -2.1579</td> <td>    0.478</td> <td>   -4.517</td> <td> 0.000</td> <td>   -3.094</td> <td>   -1.222</td>\n",
       "</tr>\n",
       "<tr>\n",
       "  <th>0/1</th>      <td>    0.3288</td> <td>    0.106</td> <td>    3.098</td> <td> 0.002</td> <td>    0.121</td> <td>    0.537</td>\n",
       "</tr>\n",
       "<tr>\n",
       "  <th>1/2</th>      <td>    0.6635</td> <td>    0.088</td> <td>    7.532</td> <td> 0.000</td> <td>    0.491</td> <td>    0.836</td>\n",
       "</tr>\n",
       "<tr>\n",
       "  <th>2/3</th>      <td>    0.8818</td> <td>    0.100</td> <td>    8.788</td> <td> 0.000</td> <td>    0.685</td> <td>    1.078</td>\n",
       "</tr>\n",
       "<tr>\n",
       "  <th>3/4</th>      <td>    1.1620</td> <td>    0.119</td> <td>    9.797</td> <td> 0.000</td> <td>    0.930</td> <td>    1.394</td>\n",
       "</tr>\n",
       "<tr>\n",
       "  <th>4/5</th>      <td>    1.1075</td> <td>    0.228</td> <td>    4.847</td> <td> 0.000</td> <td>    0.660</td> <td>    1.555</td>\n",
       "</tr>\n",
       "</table>"
      ],
      "text/plain": [
       "<class 'statsmodels.iolib.summary.Summary'>\n",
       "\"\"\"\n",
       "                             OrderedModel Results                             \n",
       "==============================================================================\n",
       "Dep. Variable:                   폭력범주   Log-Likelihood:                -548.76\n",
       "Model:                   OrderedModel   AIC:                             1140.\n",
       "Method:            Maximum Likelihood   BIC:                             1239.\n",
       "Date:                Thu, 19 Aug 2021                                         \n",
       "Time:                        01:15:35                                         \n",
       "No. Observations:                 827                                         \n",
       "Df Residuals:                     806                                         \n",
       "Df Model:                          21                                         \n",
       "==============================================================================\n",
       "                 coef    std err          z      P>|z|      [0.025      0.975]\n",
       "------------------------------------------------------------------------------\n",
       "총인구           -4.3748      2.648     -1.652      0.098      -9.564       0.815\n",
       "남성인구           8.7534      2.596      3.372      0.001       3.666      13.841\n",
       "유소년인구         -1.4887      0.252     -5.917      0.000      -1.982      -0.996\n",
       "35년이상건축물       0.2140      0.100      2.145      0.032       0.018       0.410\n",
       "개별주택가격         0.8544      0.106      8.093      0.000       0.648       1.061\n",
       "가로등            0.4533      0.130      3.491      0.000       0.199       0.708\n",
       "노숙인시설          0.1021      0.083      1.236      0.216      -0.060       0.264\n",
       "대규모점포         -0.1063      0.074     -1.445      0.149      -0.250       0.038\n",
       "룸살롱            0.2137      0.097      2.207      0.027       0.024       0.403\n",
       "보안등           -0.5908      0.100     -5.903      0.000      -0.787      -0.395\n",
       "술집             0.5337      0.119      4.477      0.000       0.300       0.767\n",
       "원룸_오피스텔       -0.3748      0.125     -3.003      0.003      -0.619      -0.130\n",
       "cctv           0.6867      0.154      4.464      0.000       0.385       0.988\n",
       "신호등           -0.0749      0.141     -0.533      0.594      -0.351       0.201\n",
       "횡단보도           0.3176      0.131      2.421      0.015       0.060       0.575\n",
       "성폭력취약인구       -2.1579      0.478     -4.517      0.000      -3.094      -1.222\n",
       "0/1            0.3288      0.106      3.098      0.002       0.121       0.537\n",
       "1/2            0.6635      0.088      7.532      0.000       0.491       0.836\n",
       "2/3            0.8818      0.100      8.788      0.000       0.685       1.078\n",
       "3/4            1.1620      0.119      9.797      0.000       0.930       1.394\n",
       "4/5            1.1075      0.228      4.847      0.000       0.660       1.555\n",
       "==============================================================================\n",
       "\"\"\""
      ]
     },
     "execution_count": 287,
     "metadata": {},
     "output_type": "execute_result"
    }
   ],
   "source": [
    "mod_prob = OrderedModel(target,\n",
    "                        feature,\n",
    "                        distr='logit')\n",
    "\n",
    "res_prob = mod_prob.fit(method='bfgs', disp=False)\n",
    "res_prob.summary()"
   ]
  },
  {
   "cell_type": "code",
   "execution_count": 519,
   "metadata": {},
   "outputs": [],
   "source": [
    "mod_prob = OrderedModel(target,\n",
    "                        feature,\n",
    "                        distr='logit')\n",
    "\n",
    "res_prob = mod_prob.fit(method='bfgs', disp=False)"
   ]
  },
  {
   "cell_type": "code",
   "execution_count": 520,
   "metadata": {},
   "outputs": [
    {
     "data": {
      "text/plain": [
       "<statsmodels.miscmodels.ordinal_model.OrderedResultsWrapper at 0x7fa066db1160>"
      ]
     },
     "execution_count": 520,
     "metadata": {},
     "output_type": "execute_result"
    }
   ],
   "source": [
    "res_prob"
   ]
  },
  {
   "cell_type": "code",
   "execution_count": 522,
   "metadata": {},
   "outputs": [],
   "source": [
    "pred = res_prob.predict(feature)"
   ]
  },
  {
   "cell_type": "code",
   "execution_count": 523,
   "metadata": {},
   "outputs": [],
   "source": [
    "pred['answer']=0"
   ]
  },
  {
   "cell_type": "code",
   "execution_count": 524,
   "metadata": {},
   "outputs": [],
   "source": [
    "for i in range(len(pred)) :\n",
    "    pred['answer'][i] = pred.loc[i].idxmax()"
   ]
  },
  {
   "cell_type": "code",
   "execution_count": 525,
   "metadata": {},
   "outputs": [
    {
     "name": "stdout",
     "output_type": "stream",
     "text": [
      "accuracy = 0.7440087145969498\n"
     ]
    },
    {
     "data": {
      "text/plain": [
       "array([[576,   7,   5,   0,   0,   0],\n",
       "       [ 93,  23,  19,   2,   0,   0],\n",
       "       [ 24,  13,  36,  23,   2,   0],\n",
       "       [  3,  14,  14,  32,   5,   0],\n",
       "       [  0,   0,   6,   3,  11,   0],\n",
       "       [  0,   0,   0,   1,   1,   5]])"
      ]
     },
     "execution_count": 525,
     "metadata": {},
     "output_type": "execute_result"
    }
   ],
   "source": [
    "acc=accuracy_score(target,pred['answer'])\n",
    "print('accuracy =', acc) \n",
    "con_mat = confusion_matrix(y_true=target, y_pred=pred['answer']) \n",
    "con_mat "
   ]
  },
  {
   "cell_type": "code",
   "execution_count": 347,
   "metadata": {},
   "outputs": [
    {
     "name": "stdout",
     "output_type": "stream",
     "text": [
      "Optimization terminated successfully.\n",
      "         Current function value: 0.663612\n",
      "         Iterations: 83\n",
      "         Function evaluations: 85\n",
      "         Gradient evaluations: 85\n"
     ]
    }
   ],
   "source": [
    "mod_prob = OrderedModel(target,\n",
    "                        feature,\n",
    "                        distr='probit')\n",
    "\n",
    "res_prob = mod_prob.fit(method='bfgs')\n",
    "pred = res_prob.predict(feature)"
   ]
  },
  {
   "cell_type": "code",
   "execution_count": 385,
   "metadata": {},
   "outputs": [
    {
     "data": {
      "text/html": [
       "<div>\n",
       "<style scoped>\n",
       "    .dataframe tbody tr th:only-of-type {\n",
       "        vertical-align: middle;\n",
       "    }\n",
       "\n",
       "    .dataframe tbody tr th {\n",
       "        vertical-align: top;\n",
       "    }\n",
       "\n",
       "    .dataframe thead th {\n",
       "        text-align: right;\n",
       "    }\n",
       "</style>\n",
       "<table border=\"1\" class=\"dataframe\">\n",
       "  <thead>\n",
       "    <tr style=\"text-align: right;\">\n",
       "      <th></th>\n",
       "      <th>0</th>\n",
       "      <th>1</th>\n",
       "      <th>2</th>\n",
       "      <th>3</th>\n",
       "      <th>4</th>\n",
       "      <th>5</th>\n",
       "      <th>answer</th>\n",
       "    </tr>\n",
       "  </thead>\n",
       "  <tbody>\n",
       "    <tr>\n",
       "      <th>0</th>\n",
       "      <td>0.260664</td>\n",
       "      <td>0.385464</td>\n",
       "      <td>0.300043</td>\n",
       "      <td>0.053236</td>\n",
       "      <td>5.929873e-04</td>\n",
       "      <td>4.831742e-07</td>\n",
       "      <td>0</td>\n",
       "    </tr>\n",
       "    <tr>\n",
       "      <th>1</th>\n",
       "      <td>0.000329</td>\n",
       "      <td>0.008088</td>\n",
       "      <td>0.115342</td>\n",
       "      <td>0.559487</td>\n",
       "      <td>3.002984e-01</td>\n",
       "      <td>1.645558e-02</td>\n",
       "      <td>0</td>\n",
       "    </tr>\n",
       "    <tr>\n",
       "      <th>2</th>\n",
       "      <td>0.727201</td>\n",
       "      <td>0.220243</td>\n",
       "      <td>0.050401</td>\n",
       "      <td>0.002152</td>\n",
       "      <td>3.599932e-06</td>\n",
       "      <td>4.022443e-10</td>\n",
       "      <td>0</td>\n",
       "    </tr>\n",
       "    <tr>\n",
       "      <th>3</th>\n",
       "      <td>0.000321</td>\n",
       "      <td>0.007943</td>\n",
       "      <td>0.114129</td>\n",
       "      <td>0.558461</td>\n",
       "      <td>3.024133e-01</td>\n",
       "      <td>1.673253e-02</td>\n",
       "      <td>0</td>\n",
       "    </tr>\n",
       "    <tr>\n",
       "      <th>4</th>\n",
       "      <td>0.913985</td>\n",
       "      <td>0.077404</td>\n",
       "      <td>0.008462</td>\n",
       "      <td>0.000150</td>\n",
       "      <td>7.645807e-08</td>\n",
       "      <td>2.503553e-12</td>\n",
       "      <td>0</td>\n",
       "    </tr>\n",
       "    <tr>\n",
       "      <th>...</th>\n",
       "      <td>...</td>\n",
       "      <td>...</td>\n",
       "      <td>...</td>\n",
       "      <td>...</td>\n",
       "      <td>...</td>\n",
       "      <td>...</td>\n",
       "      <td>...</td>\n",
       "    </tr>\n",
       "    <tr>\n",
       "      <th>913</th>\n",
       "      <td>0.910453</td>\n",
       "      <td>0.080403</td>\n",
       "      <td>0.008981</td>\n",
       "      <td>0.000163</td>\n",
       "      <td>8.620924e-08</td>\n",
       "      <td>2.925771e-12</td>\n",
       "      <td>0</td>\n",
       "    </tr>\n",
       "    <tr>\n",
       "      <th>914</th>\n",
       "      <td>0.910235</td>\n",
       "      <td>0.080587</td>\n",
       "      <td>0.009013</td>\n",
       "      <td>0.000164</td>\n",
       "      <td>8.683680e-08</td>\n",
       "      <td>2.953415e-12</td>\n",
       "      <td>0</td>\n",
       "    </tr>\n",
       "    <tr>\n",
       "      <th>915</th>\n",
       "      <td>0.908261</td>\n",
       "      <td>0.082258</td>\n",
       "      <td>0.009309</td>\n",
       "      <td>0.000172</td>\n",
       "      <td>9.268977e-08</td>\n",
       "      <td>3.214762e-12</td>\n",
       "      <td>0</td>\n",
       "    </tr>\n",
       "    <tr>\n",
       "      <th>916</th>\n",
       "      <td>0.910139</td>\n",
       "      <td>0.080669</td>\n",
       "      <td>0.009028</td>\n",
       "      <td>0.000164</td>\n",
       "      <td>8.711627e-08</td>\n",
       "      <td>2.965850e-12</td>\n",
       "      <td>0</td>\n",
       "    </tr>\n",
       "    <tr>\n",
       "      <th>917</th>\n",
       "      <td>0.912820</td>\n",
       "      <td>0.078394</td>\n",
       "      <td>0.008632</td>\n",
       "      <td>0.000154</td>\n",
       "      <td>7.957958e-08</td>\n",
       "      <td>2.637002e-12</td>\n",
       "      <td>0</td>\n",
       "    </tr>\n",
       "  </tbody>\n",
       "</table>\n",
       "<p>918 rows × 7 columns</p>\n",
       "</div>"
      ],
      "text/plain": [
       "            0         1         2         3             4             5  \\\n",
       "0    0.260664  0.385464  0.300043  0.053236  5.929873e-04  4.831742e-07   \n",
       "1    0.000329  0.008088  0.115342  0.559487  3.002984e-01  1.645558e-02   \n",
       "2    0.727201  0.220243  0.050401  0.002152  3.599932e-06  4.022443e-10   \n",
       "3    0.000321  0.007943  0.114129  0.558461  3.024133e-01  1.673253e-02   \n",
       "4    0.913985  0.077404  0.008462  0.000150  7.645807e-08  2.503553e-12   \n",
       "..        ...       ...       ...       ...           ...           ...   \n",
       "913  0.910453  0.080403  0.008981  0.000163  8.620924e-08  2.925771e-12   \n",
       "914  0.910235  0.080587  0.009013  0.000164  8.683680e-08  2.953415e-12   \n",
       "915  0.908261  0.082258  0.009309  0.000172  9.268977e-08  3.214762e-12   \n",
       "916  0.910139  0.080669  0.009028  0.000164  8.711627e-08  2.965850e-12   \n",
       "917  0.912820  0.078394  0.008632  0.000154  7.957958e-08  2.637002e-12   \n",
       "\n",
       "     answer  \n",
       "0         0  \n",
       "1         0  \n",
       "2         0  \n",
       "3         0  \n",
       "4         0  \n",
       "..      ...  \n",
       "913       0  \n",
       "914       0  \n",
       "915       0  \n",
       "916       0  \n",
       "917       0  \n",
       "\n",
       "[918 rows x 7 columns]"
      ]
     },
     "execution_count": 385,
     "metadata": {},
     "output_type": "execute_result"
    }
   ],
   "source": [
    "pred"
   ]
  },
  {
   "cell_type": "code",
   "execution_count": 444,
   "metadata": {},
   "outputs": [],
   "source": [
    "pred['answer']=0"
   ]
  },
  {
   "cell_type": "code",
   "execution_count": 445,
   "metadata": {},
   "outputs": [],
   "source": [
    "for i in range(len(pred)) :\n",
    "    pred['answer'][i] = pred.loc[i].idxmax()"
   ]
  },
  {
   "cell_type": "code",
   "execution_count": 446,
   "metadata": {},
   "outputs": [
    {
     "data": {
      "text/html": [
       "<div>\n",
       "<style scoped>\n",
       "    .dataframe tbody tr th:only-of-type {\n",
       "        vertical-align: middle;\n",
       "    }\n",
       "\n",
       "    .dataframe tbody tr th {\n",
       "        vertical-align: top;\n",
       "    }\n",
       "\n",
       "    .dataframe thead th {\n",
       "        text-align: right;\n",
       "    }\n",
       "</style>\n",
       "<table border=\"1\" class=\"dataframe\">\n",
       "  <thead>\n",
       "    <tr style=\"text-align: right;\">\n",
       "      <th></th>\n",
       "      <th>0</th>\n",
       "      <th>1</th>\n",
       "      <th>2</th>\n",
       "      <th>3</th>\n",
       "      <th>4</th>\n",
       "      <th>5</th>\n",
       "      <th>answer</th>\n",
       "    </tr>\n",
       "  </thead>\n",
       "  <tbody>\n",
       "    <tr>\n",
       "      <th>0</th>\n",
       "      <td>0.260664</td>\n",
       "      <td>0.385464</td>\n",
       "      <td>0.300043</td>\n",
       "      <td>0.053236</td>\n",
       "      <td>5.929873e-04</td>\n",
       "      <td>4.831742e-07</td>\n",
       "      <td>1</td>\n",
       "    </tr>\n",
       "    <tr>\n",
       "      <th>1</th>\n",
       "      <td>0.000329</td>\n",
       "      <td>0.008088</td>\n",
       "      <td>0.115342</td>\n",
       "      <td>0.559487</td>\n",
       "      <td>3.002984e-01</td>\n",
       "      <td>1.645558e-02</td>\n",
       "      <td>3</td>\n",
       "    </tr>\n",
       "    <tr>\n",
       "      <th>2</th>\n",
       "      <td>0.727201</td>\n",
       "      <td>0.220243</td>\n",
       "      <td>0.050401</td>\n",
       "      <td>0.002152</td>\n",
       "      <td>3.599932e-06</td>\n",
       "      <td>4.022443e-10</td>\n",
       "      <td>0</td>\n",
       "    </tr>\n",
       "    <tr>\n",
       "      <th>3</th>\n",
       "      <td>0.000321</td>\n",
       "      <td>0.007943</td>\n",
       "      <td>0.114129</td>\n",
       "      <td>0.558461</td>\n",
       "      <td>3.024133e-01</td>\n",
       "      <td>1.673253e-02</td>\n",
       "      <td>3</td>\n",
       "    </tr>\n",
       "    <tr>\n",
       "      <th>4</th>\n",
       "      <td>0.913985</td>\n",
       "      <td>0.077404</td>\n",
       "      <td>0.008462</td>\n",
       "      <td>0.000150</td>\n",
       "      <td>7.645807e-08</td>\n",
       "      <td>2.503553e-12</td>\n",
       "      <td>0</td>\n",
       "    </tr>\n",
       "    <tr>\n",
       "      <th>...</th>\n",
       "      <td>...</td>\n",
       "      <td>...</td>\n",
       "      <td>...</td>\n",
       "      <td>...</td>\n",
       "      <td>...</td>\n",
       "      <td>...</td>\n",
       "      <td>...</td>\n",
       "    </tr>\n",
       "    <tr>\n",
       "      <th>913</th>\n",
       "      <td>0.910453</td>\n",
       "      <td>0.080403</td>\n",
       "      <td>0.008981</td>\n",
       "      <td>0.000163</td>\n",
       "      <td>8.620924e-08</td>\n",
       "      <td>2.925771e-12</td>\n",
       "      <td>0</td>\n",
       "    </tr>\n",
       "    <tr>\n",
       "      <th>914</th>\n",
       "      <td>0.910235</td>\n",
       "      <td>0.080587</td>\n",
       "      <td>0.009013</td>\n",
       "      <td>0.000164</td>\n",
       "      <td>8.683680e-08</td>\n",
       "      <td>2.953415e-12</td>\n",
       "      <td>0</td>\n",
       "    </tr>\n",
       "    <tr>\n",
       "      <th>915</th>\n",
       "      <td>0.908261</td>\n",
       "      <td>0.082258</td>\n",
       "      <td>0.009309</td>\n",
       "      <td>0.000172</td>\n",
       "      <td>9.268977e-08</td>\n",
       "      <td>3.214762e-12</td>\n",
       "      <td>0</td>\n",
       "    </tr>\n",
       "    <tr>\n",
       "      <th>916</th>\n",
       "      <td>0.910139</td>\n",
       "      <td>0.080669</td>\n",
       "      <td>0.009028</td>\n",
       "      <td>0.000164</td>\n",
       "      <td>8.711627e-08</td>\n",
       "      <td>2.965850e-12</td>\n",
       "      <td>0</td>\n",
       "    </tr>\n",
       "    <tr>\n",
       "      <th>917</th>\n",
       "      <td>0.912820</td>\n",
       "      <td>0.078394</td>\n",
       "      <td>0.008632</td>\n",
       "      <td>0.000154</td>\n",
       "      <td>7.957958e-08</td>\n",
       "      <td>2.637002e-12</td>\n",
       "      <td>0</td>\n",
       "    </tr>\n",
       "  </tbody>\n",
       "</table>\n",
       "<p>918 rows × 7 columns</p>\n",
       "</div>"
      ],
      "text/plain": [
       "            0         1         2         3             4             5  \\\n",
       "0    0.260664  0.385464  0.300043  0.053236  5.929873e-04  4.831742e-07   \n",
       "1    0.000329  0.008088  0.115342  0.559487  3.002984e-01  1.645558e-02   \n",
       "2    0.727201  0.220243  0.050401  0.002152  3.599932e-06  4.022443e-10   \n",
       "3    0.000321  0.007943  0.114129  0.558461  3.024133e-01  1.673253e-02   \n",
       "4    0.913985  0.077404  0.008462  0.000150  7.645807e-08  2.503553e-12   \n",
       "..        ...       ...       ...       ...           ...           ...   \n",
       "913  0.910453  0.080403  0.008981  0.000163  8.620924e-08  2.925771e-12   \n",
       "914  0.910235  0.080587  0.009013  0.000164  8.683680e-08  2.953415e-12   \n",
       "915  0.908261  0.082258  0.009309  0.000172  9.268977e-08  3.214762e-12   \n",
       "916  0.910139  0.080669  0.009028  0.000164  8.711627e-08  2.965850e-12   \n",
       "917  0.912820  0.078394  0.008632  0.000154  7.957958e-08  2.637002e-12   \n",
       "\n",
       "     answer  \n",
       "0         1  \n",
       "1         3  \n",
       "2         0  \n",
       "3         3  \n",
       "4         0  \n",
       "..      ...  \n",
       "913       0  \n",
       "914       0  \n",
       "915       0  \n",
       "916       0  \n",
       "917       0  \n",
       "\n",
       "[918 rows x 7 columns]"
      ]
     },
     "execution_count": 446,
     "metadata": {},
     "output_type": "execute_result"
    }
   ],
   "source": [
    "pred"
   ]
  },
  {
   "cell_type": "code",
   "execution_count": 435,
   "metadata": {},
   "outputs": [
    {
     "name": "stdout",
     "output_type": "stream",
     "text": [
      "accuracy = 0.7298474945533769\n"
     ]
    },
    {
     "data": {
      "text/plain": [
       "array([[578,   4,   6,   0,   0,   0],\n",
       "       [ 94,  20,  21,   2,   0,   0],\n",
       "       [ 27,   8,  28,  34,   1,   0],\n",
       "       [  5,   9,  15,  33,   6,   0],\n",
       "       [  0,   0,   4,   8,   6,   2],\n",
       "       [  0,   0,   0,   0,   2,   5]])"
      ]
     },
     "execution_count": 435,
     "metadata": {},
     "output_type": "execute_result"
    }
   ],
   "source": [
    "acc=accuracy_score(target,pred['answer'])\n",
    "print('accuracy =', acc) \n",
    "con_mat = confusion_matrix(y_true=target, y_pred=pred['answer']) \n",
    "con_mat "
   ]
  },
  {
   "cell_type": "code",
   "execution_count": 433,
   "metadata": {},
   "outputs": [
    {
     "data": {
      "text/plain": [
       "0      2\n",
       "1      3\n",
       "2      1\n",
       "3      2\n",
       "4      0\n",
       "      ..\n",
       "913    0\n",
       "914    0\n",
       "915    0\n",
       "916    0\n",
       "917    0\n",
       "Name: 폭력범주, Length: 918, dtype: int64"
      ]
     },
     "execution_count": 433,
     "metadata": {},
     "output_type": "execute_result"
    }
   ],
   "source": [
    "target"
   ]
  },
  {
   "cell_type": "code",
   "execution_count": 434,
   "metadata": {},
   "outputs": [
    {
     "data": {
      "text/plain": [
       "0      1\n",
       "1      3\n",
       "2      0\n",
       "3      3\n",
       "4      0\n",
       "      ..\n",
       "913    0\n",
       "914    0\n",
       "915    0\n",
       "916    0\n",
       "917    0\n",
       "Name: answer, Length: 918, dtype: int64"
      ]
     },
     "execution_count": 434,
     "metadata": {},
     "output_type": "execute_result"
    }
   ],
   "source": [
    "pred['answer']"
   ]
  },
  {
   "cell_type": "code",
   "execution_count": 517,
   "metadata": {},
   "outputs": [
    {
     "name": "stdout",
     "output_type": "stream",
     "text": [
      "[[1. 0. 0. 0. 0. 0.]\n",
      " [1. 0. 0. 0. 0. 0.]\n",
      " [1. 0. 0. 0. 0. 0.]\n",
      " [0. 1. 0. 0. 0. 0.]\n",
      " [1. 0. 0. 0. 0. 0.]]\n",
      "[[1. 0. 0. 0. 0. 0.]\n",
      " [0. 0. 1. 0. 0. 0.]\n",
      " [1. 0. 0. 0. 0. 0.]\n",
      " [1. 0. 0. 0. 0. 0.]\n",
      " [1. 0. 0. 0. 0. 0.]]\n"
     ]
    }
   ],
   "source": [
    "(X_train, X_test, y_train, y_test) = train_test_split(feature, target, train_size=0.8, random_state=1)\n",
    "# 훈련 데이터와 테스트 데이터를 8:2로 나눕니다. 또한 데이터의 순서를 섞습니다.\n",
    "from tensorflow.keras.utils import to_categorical\n",
    "y_train = to_categorical(y_train)\n",
    "y_test = to_categorical(y_test)\n",
    "# 훈련 데이터와 테스트 데이터에 대해서 원-핫 인코딩\n",
    "print(y_train[:5])\n",
    "print(y_test[:5])"
   ]
  },
  {
   "cell_type": "code",
   "execution_count": null,
   "metadata": {},
   "outputs": [],
   "source": []
  }
 ],
 "metadata": {
  "kernelspec": {
   "display_name": "Python 3",
   "language": "python",
   "name": "python3"
  },
  "language_info": {
   "codemirror_mode": {
    "name": "ipython",
    "version": 3
   },
   "file_extension": ".py",
   "mimetype": "text/x-python",
   "name": "python",
   "nbconvert_exporter": "python",
   "pygments_lexer": "ipython3",
   "version": "3.9.0"
  }
 },
 "nbformat": 4,
 "nbformat_minor": 4
}
