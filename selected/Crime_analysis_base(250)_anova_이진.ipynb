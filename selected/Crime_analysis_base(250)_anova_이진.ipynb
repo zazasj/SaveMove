{
 "cells": [
  {
   "cell_type": "code",
   "execution_count": 3,
   "metadata": {},
   "outputs": [],
   "source": [
    "import pandas as pd\n",
    "import numpy as np\n",
    "import seaborn as sns\n",
    "\n",
    "import matplotlib.pyplot as plt\n",
    "import matplotlib \n",
    "matplotlib.rcParams['axes.unicode_minus'] = False\n",
    "matplotlib.rcParams['font.family'] = \"AppleGothic\"\n",
    "from IPython.display import Image\n",
    "plt.rc('font', family=\"AppleGothic\")\n",
    "\n",
    "from sklearn.ensemble import RandomForestRegressor\n",
    "from sklearn.linear_model import LogisticRegression\n",
    "from statsmodels.stats.outliers_influence import variance_inflation_factor\n",
    "from statsmodels.sandbox.stats.multicomp import MultiComparison\n",
    "\n",
    "from sklearn.metrics import accuracy_score\n",
    "from sklearn.metrics import confusion_matrix\n",
    "\n",
    "from scipy import stats\n",
    "import scipy \n",
    "from pycaret.regression import *\n",
    "import catboost as cb\n",
    "from sklearn.model_selection import train_test_split\n",
    "from sklearn.metrics import mean_squared_error\n",
    "from sklearn.metrics import r2_score\n",
    "from sklearn.inspection import permutation_importance\n",
    "from sklearn.metrics import mean_absolute_error\n",
    "from sklearn.preprocessing import StandardScaler\n",
    "import pandas_profiling\n",
    "import statsmodels.api as sm\n",
    "from sklearn.decomposition import PCA\n",
    "from statsmodels.miscmodels.ordinal_model import OrderedModel"
   ]
  },
  {
   "cell_type": "code",
   "execution_count": 4,
   "metadata": {},
   "outputs": [],
   "source": [
    "grid_250 = pd.read_csv('/Users/Desktop/DataCampus/data/real_data/250grid_all.csv')"
   ]
  },
  {
   "cell_type": "code",
   "execution_count": 5,
   "metadata": {},
   "outputs": [],
   "source": [
    "grid_250 = grid_250.fillna(0)"
   ]
  },
  {
   "cell_type": "code",
   "execution_count": 6,
   "metadata": {},
   "outputs": [],
   "source": [
    "grid_250['성폭력취약인구'] = grid_250['고등여성인구']+grid_250['20대여성인구']\n",
    "grid_250['건축물(30_)'] = grid_250['건축물(30_34)']+grid_250['건축물(35)']\n",
    "grid_250['GRADE_전체'] = grid_250['GRADE_전체'].apply(lambda x: x-1 if x>0 else x)\n",
    "grid_250 = grid_250.drop(columns = ['20대여성인구','고등여성인구','INDEX'])"
   ]
  },
  {
   "cell_type": "markdown",
   "metadata": {},
   "source": [
    "### 행정동별로 평균 범죄주의구간 등급 확인"
   ]
  },
  {
   "cell_type": "code",
   "execution_count": 7,
   "metadata": {},
   "outputs": [
    {
     "data": {
      "text/plain": [
       "['조촌동',\n",
       " '여의동',\n",
       " '삼천3동',\n",
       " '혁신동',\n",
       " '효자4동',\n",
       " '효자5동',\n",
       " '팔복동',\n",
       " '송천2동',\n",
       " '평화2동',\n",
       " '서신동',\n",
       " '덕진동',\n",
       " '효자3동',\n",
       " '효자2동',\n",
       " '중화산2동',\n",
       " '삼천2동',\n",
       " '삼천1동',\n",
       " '송천1동',\n",
       " '효자1동',\n",
       " '중화산1동',\n",
       " '진북동',\n",
       " '금암1동',\n",
       " '호성동',\n",
       " '완산동',\n",
       " '중앙동',\n",
       " '평화1동',\n",
       " '금암2동',\n",
       " '서서학동',\n",
       " '노송동',\n",
       " '인후2동',\n",
       " '풍남동',\n",
       " '동서학동',\n",
       " '인후1동',\n",
       " '우아1동',\n",
       " '인후3동',\n",
       " '우아2동']"
      ]
     },
     "execution_count": 7,
     "metadata": {},
     "output_type": "execute_result"
    }
   ],
   "source": [
    "list(grid_250['행정동코드'].unique())"
   ]
  },
  {
   "cell_type": "code",
   "execution_count": 8,
   "metadata": {},
   "outputs": [],
   "source": [
    "feat_N = grid_250[(grid_250['총인구']==0)&(grid_250['건축물(30_34)']==0)&(grid_250['건축물(35)']==0)&(grid_250['가로등']==0)&(grid_250['공영주차장']==0)&(grid_250['공중화장실']==0)&(grid_250['숙박업소']==0)\n",
    "        &(grid_250['대규모점포']==0)&(grid_250['대부업현황']==0)&(grid_250['상가']==0)&(grid_250['어린이보호']==0)&(grid_250['원룸_오피스텔']==0)&(grid_250['cctv']==0)&(grid_250['신호등']==0)&(grid_250['횡단보도']==0)\n",
    "        &(grid_250['버스정류장']==0)&(grid_250['개별주택가격']==0)] #target 제외 모든 변수가 0인 row\n",
    "feat_Y = grid_250[(grid_250['총인구']>0)|(grid_250['건축물(30_34)']>0)|(grid_250['건축물(35)']>0)|(grid_250['가로등']>0)|(grid_250['공영주차장']>0)|(grid_250['공중화장실']>0)|(grid_250['숙박업소']>0)\n",
    "        |(grid_250['대규모점포']>0)|(grid_250['대부업현황']>0)|(grid_250['상가']>0)|(grid_250['어린이보호']>0)|(grid_250['원룸_오피스텔']>0)|(grid_250['cctv']>0)|(grid_250['신호등']>0)|(grid_250['횡단보도']>0)\n",
    "        |(grid_250['버스정류장']>0)|(grid_250['개별주택가격']>0)] #target 제외 모든 변수가 0보다 큰 row"
   ]
  },
  {
   "cell_type": "code",
   "execution_count": 9,
   "metadata": {},
   "outputs": [
    {
     "name": "stdout",
     "output_type": "stream",
     "text": [
      "1460 2038\n"
     ]
    }
   ],
   "source": [
    "print(len(feat_N),len(feat_Y))"
   ]
  },
  {
   "cell_type": "markdown",
   "metadata": {},
   "source": [
    "- 모든 피쳐가 0인 행이 `1460`개이고, 한 피쳐라도 0보다 큰 행은 `2038`개 (공시지가와 타겟 제외)"
   ]
  },
  {
   "cell_type": "markdown",
   "metadata": {},
   "source": [
    "- 폭력등급이 0보다 큰 로우는 900개, 절도 등급이 0보다 큰 로우는 836개, 성폭력 등급이 0보다 큰 로우는 303개가 있다. \n",
    "- 모든 피쳐가 0임에도 불구하고(1460개의 피쳐), 폭력등급이 있는 로우는 19개, 절도 13개, 성폭력 4개가 있었다."
   ]
  },
  {
   "cell_type": "code",
   "execution_count": 10,
   "metadata": {},
   "outputs": [],
   "source": [
    "new_grid = feat_Y"
   ]
  },
  {
   "cell_type": "code",
   "execution_count": 11,
   "metadata": {},
   "outputs": [
    {
     "data": {
      "text/plain": [
       "48"
      ]
     },
     "execution_count": 11,
     "metadata": {},
     "output_type": "execute_result"
    }
   ],
   "source": [
    "new_grid['자율방범대'].sum()"
   ]
  },
  {
   "cell_type": "code",
   "execution_count": 12,
   "metadata": {},
   "outputs": [
    {
     "data": {
      "text/plain": [
       "2038"
      ]
     },
     "execution_count": 12,
     "metadata": {},
     "output_type": "execute_result"
    }
   ],
   "source": [
    "len(new_grid)"
   ]
  },
  {
   "cell_type": "code",
   "execution_count": 13,
   "metadata": {},
   "outputs": [
    {
     "data": {
      "text/plain": [
       "Index(['ID', '총인구', '유소년인구', '고령인구', '건축물(30_34)', '건축물(35)', '개별주택가격', '공시지가',\n",
       "       '행정동코드', '가로등', '공영주차장', '공중화장실', '교육시설', '대규모점포', '대부업현황', '룸살롱',\n",
       "       '버스정류장', '보안등', '상가', '숙박업소', '술집', '어린이보호', '어린이집', '오락시설', '원룸_오피스텔',\n",
       "       '음식점', '자율방범대', '파출소', 'cctv', '신호등', '횡단보도', 'GRADE_전체', '행정동면적',\n",
       "       '성폭력취약인구', '건축물(30_)'],\n",
       "      dtype='object')"
      ]
     },
     "execution_count": 13,
     "metadata": {},
     "output_type": "execute_result"
    }
   ],
   "source": [
    "new_grid.columns"
   ]
  },
  {
   "cell_type": "code",
   "execution_count": 14,
   "metadata": {},
   "outputs": [
    {
     "name": "stdout",
     "output_type": "stream",
     "text": [
      "Number of Numerical features:  32\n",
      "Number of Categorical features:  2\n"
     ]
    }
   ],
   "source": [
    "numerical_feats = new_grid.dtypes[new_grid.dtypes != \"object\"].index.tolist()\n",
    "numerical_feats.remove('GRADE_전체')\n",
    "print(\"Number of Numerical features: \", len(numerical_feats))\n",
    "\n",
    "categorical_feats = new_grid.dtypes[new_grid.dtypes == \"object\"].index.tolist()\n",
    "print(\"Number of Categorical features: \", len(categorical_feats))"
   ]
  },
  {
   "cell_type": "code",
   "execution_count": 15,
   "metadata": {},
   "outputs": [],
   "source": [
    "feature_list = list(new_grid.drop(columns = ['행정동코드','ID','GRADE_전체']).columns)\n",
    "feature = new_grid[feature_list]\n",
    "target = new_grid[['GRADE_전체']]"
   ]
  },
  {
   "cell_type": "code",
   "execution_count": 16,
   "metadata": {},
   "outputs": [
    {
     "data": {
      "text/plain": [
       "Index(['ID', '총인구', '유소년인구', '고령인구', '건축물(30_34)', '건축물(35)', '개별주택가격', '공시지가',\n",
       "       '행정동코드', '가로등', '공영주차장', '공중화장실', '교육시설', '대규모점포', '대부업현황', '룸살롱',\n",
       "       '버스정류장', '보안등', '상가', '숙박업소', '술집', '어린이보호', '어린이집', '오락시설', '원룸_오피스텔',\n",
       "       '음식점', '자율방범대', '파출소', 'cctv', '신호등', '횡단보도', 'GRADE_전체', '행정동면적',\n",
       "       '성폭력취약인구', '건축물(30_)'],\n",
       "      dtype='object')"
      ]
     },
     "execution_count": 16,
     "metadata": {},
     "output_type": "execute_result"
    }
   ],
   "source": [
    "new_grid.columns"
   ]
  },
  {
   "cell_type": "code",
   "execution_count": 17,
   "metadata": {},
   "outputs": [],
   "source": [
    "new_grid['범죄발생'] = 0"
   ]
  },
  {
   "cell_type": "code",
   "execution_count": 18,
   "metadata": {},
   "outputs": [],
   "source": [
    "new_grid.loc[(new_grid['GRADE_전체']==0),'범죄발생'] = 0\n",
    "new_grid.loc[(new_grid['GRADE_전체']>0),'범죄발생'] = 1"
   ]
  },
  {
   "cell_type": "code",
   "execution_count": 19,
   "metadata": {},
   "outputs": [],
   "source": [
    "feature_list = list(new_grid.drop(columns = ['행정동코드','ID','GRADE_전체','범죄발생']).columns)\n",
    "feature = new_grid[feature_list]\n",
    "target = new_grid[['범죄발생']]"
   ]
  },
  {
   "cell_type": "code",
   "execution_count": 20,
   "metadata": {},
   "outputs": [],
   "source": [
    "group_1 = new_grid.loc[(new_grid['범죄발생']==0)]\n",
    "group_2 = new_grid.loc[(new_grid['범죄발생']==1)]"
   ]
  },
  {
   "cell_type": "markdown",
   "metadata": {},
   "source": [
    "### 변수 제거를 위한 분산분석"
   ]
  },
  {
   "cell_type": "code",
   "execution_count": 21,
   "metadata": {},
   "outputs": [],
   "source": [
    "def anova(x):\n",
    "    F_statistic, pVal = stats.f_oneway(group_1[x], group_2[x])\n",
    "\n",
    "    print(x,' 데이터의 일원분산분석 결과 : F={0:.1f}, p={1:.5f}'.format(F_statistic, pVal))\n",
    "    if pVal < 0.05:\n",
    "        print('P-value 값이 충분히 작음으로 인해 그룹의 평균값이 통계적으로 유의미하게 차이납니다.')"
   ]
  },
  {
   "cell_type": "code",
   "execution_count": 22,
   "metadata": {},
   "outputs": [
    {
     "name": "stdout",
     "output_type": "stream",
     "text": [
      "총인구  데이터의 일원분산분석 결과 : F=538.1, p=0.00000\n",
      "P-value 값이 충분히 작음으로 인해 그룹의 평균값이 통계적으로 유의미하게 차이납니다.\n",
      "유소년인구  데이터의 일원분산분석 결과 : F=232.7, p=0.00000\n",
      "P-value 값이 충분히 작음으로 인해 그룹의 평균값이 통계적으로 유의미하게 차이납니다.\n",
      "고령인구  데이터의 일원분산분석 결과 : F=585.0, p=0.00000\n",
      "P-value 값이 충분히 작음으로 인해 그룹의 평균값이 통계적으로 유의미하게 차이납니다.\n",
      "성폭력취약인구  데이터의 일원분산분석 결과 : F=507.7, p=0.00000\n",
      "P-value 값이 충분히 작음으로 인해 그룹의 평균값이 통계적으로 유의미하게 차이납니다.\n",
      "건축물(30_34)  데이터의 일원분산분석 결과 : F=126.4, p=0.00000\n",
      "P-value 값이 충분히 작음으로 인해 그룹의 평균값이 통계적으로 유의미하게 차이납니다.\n",
      "건축물(35)  데이터의 일원분산분석 결과 : F=235.4, p=0.00000\n",
      "P-value 값이 충분히 작음으로 인해 그룹의 평균값이 통계적으로 유의미하게 차이납니다.\n",
      "건축물(30_)  데이터의 일원분산분석 결과 : F=283.2, p=0.00000\n",
      "P-value 값이 충분히 작음으로 인해 그룹의 평균값이 통계적으로 유의미하게 차이납니다.\n",
      "개별주택가격  데이터의 일원분산분석 결과 : F=114.2, p=0.00000\n",
      "P-value 값이 충분히 작음으로 인해 그룹의 평균값이 통계적으로 유의미하게 차이납니다.\n",
      "공시지가  데이터의 일원분산분석 결과 : F=657.0, p=0.00000\n",
      "P-value 값이 충분히 작음으로 인해 그룹의 평균값이 통계적으로 유의미하게 차이납니다.\n",
      "가로등  데이터의 일원분산분석 결과 : F=470.4, p=0.00000\n",
      "P-value 값이 충분히 작음으로 인해 그룹의 평균값이 통계적으로 유의미하게 차이납니다.\n",
      "보안등  데이터의 일원분산분석 결과 : F=216.4, p=0.00000\n",
      "P-value 값이 충분히 작음으로 인해 그룹의 평균값이 통계적으로 유의미하게 차이납니다.\n",
      "공중화장실  데이터의 일원분산분석 결과 : F=79.8, p=0.00000\n",
      "P-value 값이 충분히 작음으로 인해 그룹의 평균값이 통계적으로 유의미하게 차이납니다.\n",
      "버스정류장  데이터의 일원분산분석 결과 : F=237.9, p=0.00000\n",
      "P-value 값이 충분히 작음으로 인해 그룹의 평균값이 통계적으로 유의미하게 차이납니다.\n",
      "공영주차장  데이터의 일원분산분석 결과 : F=49.3, p=0.00000\n",
      "P-value 값이 충분히 작음으로 인해 그룹의 평균값이 통계적으로 유의미하게 차이납니다.\n",
      "교육시설  데이터의 일원분산분석 결과 : F=234.9, p=0.00000\n",
      "P-value 값이 충분히 작음으로 인해 그룹의 평균값이 통계적으로 유의미하게 차이납니다.\n",
      "대규모점포  데이터의 일원분산분석 결과 : F=31.2, p=0.00000\n",
      "P-value 값이 충분히 작음으로 인해 그룹의 평균값이 통계적으로 유의미하게 차이납니다.\n",
      "대부업현황  데이터의 일원분산분석 결과 : F=56.9, p=0.00000\n",
      "P-value 값이 충분히 작음으로 인해 그룹의 평균값이 통계적으로 유의미하게 차이납니다.\n",
      "룸살롱  데이터의 일원분산분석 결과 : F=18.8, p=0.00002\n",
      "P-value 값이 충분히 작음으로 인해 그룹의 평균값이 통계적으로 유의미하게 차이납니다.\n",
      "버스정류장  데이터의 일원분산분석 결과 : F=237.9, p=0.00000\n",
      "P-value 값이 충분히 작음으로 인해 그룹의 평균값이 통계적으로 유의미하게 차이납니다.\n",
      "보안등  데이터의 일원분산분석 결과 : F=216.4, p=0.00000\n",
      "P-value 값이 충분히 작음으로 인해 그룹의 평균값이 통계적으로 유의미하게 차이납니다.\n",
      "상가  데이터의 일원분산분석 결과 : F=496.3, p=0.00000\n",
      "P-value 값이 충분히 작음으로 인해 그룹의 평균값이 통계적으로 유의미하게 차이납니다.\n",
      "숙박업소  데이터의 일원분산분석 결과 : F=49.2, p=0.00000\n",
      "P-value 값이 충분히 작음으로 인해 그룹의 평균값이 통계적으로 유의미하게 차이납니다.\n",
      "술집  데이터의 일원분산분석 결과 : F=151.2, p=0.00000\n",
      "P-value 값이 충분히 작음으로 인해 그룹의 평균값이 통계적으로 유의미하게 차이납니다.\n",
      "어린이보호  데이터의 일원분산분석 결과 : F=64.8, p=0.00000\n",
      "P-value 값이 충분히 작음으로 인해 그룹의 평균값이 통계적으로 유의미하게 차이납니다.\n",
      "어린이집  데이터의 일원분산분석 결과 : F=164.5, p=0.00000\n",
      "P-value 값이 충분히 작음으로 인해 그룹의 평균값이 통계적으로 유의미하게 차이납니다.\n",
      "오락시설  데이터의 일원분산분석 결과 : F=168.4, p=0.00000\n",
      "P-value 값이 충분히 작음으로 인해 그룹의 평균값이 통계적으로 유의미하게 차이납니다.\n",
      "원룸_오피스텔  데이터의 일원분산분석 결과 : F=200.7, p=0.00000\n",
      "P-value 값이 충분히 작음으로 인해 그룹의 평균값이 통계적으로 유의미하게 차이납니다.\n",
      "음식점  데이터의 일원분산분석 결과 : F=382.0, p=0.00000\n",
      "P-value 값이 충분히 작음으로 인해 그룹의 평균값이 통계적으로 유의미하게 차이납니다.\n",
      "자율방범대  데이터의 일원분산분석 결과 : F=38.7, p=0.00000\n",
      "P-value 값이 충분히 작음으로 인해 그룹의 평균값이 통계적으로 유의미하게 차이납니다.\n",
      "파출소  데이터의 일원분산분석 결과 : F=19.5, p=0.00001\n",
      "P-value 값이 충분히 작음으로 인해 그룹의 평균값이 통계적으로 유의미하게 차이납니다.\n",
      "cctv  데이터의 일원분산분석 결과 : F=521.8, p=0.00000\n",
      "P-value 값이 충분히 작음으로 인해 그룹의 평균값이 통계적으로 유의미하게 차이납니다.\n",
      "신호등  데이터의 일원분산분석 결과 : F=252.2, p=0.00000\n",
      "P-value 값이 충분히 작음으로 인해 그룹의 평균값이 통계적으로 유의미하게 차이납니다.\n",
      "횡단보도  데이터의 일원분산분석 결과 : F=538.9, p=0.00000\n",
      "P-value 값이 충분히 작음으로 인해 그룹의 평균값이 통계적으로 유의미하게 차이납니다.\n"
     ]
    }
   ],
   "source": [
    "anova('총인구')\n",
    "anova('유소년인구')\n",
    "anova('고령인구')\n",
    "anova('성폭력취약인구')\n",
    "anova('건축물(30_34)')\n",
    "anova('건축물(35)')\n",
    "anova('건축물(30_)')\n",
    "anova('개별주택가격')\n",
    "anova('공시지가')\n",
    "anova('가로등')\n",
    "anova('보안등')\n",
    "anova('공중화장실')\n",
    "anova('버스정류장')\n",
    "anova('공영주차장')\n",
    "anova('교육시설')\n",
    "anova('대규모점포')\n",
    "anova('대부업현황')\n",
    "anova('룸살롱')\n",
    "anova('버스정류장')\n",
    "anova('보안등')\n",
    "anova('상가')\n",
    "anova('숙박업소')\n",
    "anova('술집')\n",
    "anova('어린이보호')\n",
    "anova('어린이집')\n",
    "anova('오락시설')\n",
    "anova('원룸_오피스텔')\n",
    "anova('음식점')\n",
    "anova('자율방범대')\n",
    "anova('파출소')\n",
    "anova('cctv')\n",
    "anova('신호등')\n",
    "anova('횡단보도')"
   ]
  },
  {
   "cell_type": "markdown",
   "metadata": {},
   "source": [
    "### 변수 선택을 위한 사후검정 실시"
   ]
  },
  {
   "cell_type": "code",
   "execution_count": 23,
   "metadata": {},
   "outputs": [],
   "source": [
    "def compare(x,y):\n",
    "    comp = MultiComparison(new_grid[x], new_grid[y])\n",
    "    result = comp.allpairtest(scipy.stats.ttest_ind, method='bonf')\n",
    "    return result[0]"
   ]
  },
  {
   "cell_type": "code",
   "execution_count": 24,
   "metadata": {},
   "outputs": [
    {
     "data": {
      "text/html": [
       "<table class=\"simpletable\">\n",
       "<caption>Test Multiple Comparison ttest_ind \n",
       "FWER=0.05 method=bonf\n",
       "alphacSidak=0.05, alphacBonf=0.050</caption>\n",
       "<tr>\n",
       "  <th>group1</th> <th>group2</th>   <th>stat</th>   <th>pval</th> <th>pval_corr</th> <th>reject</th>\n",
       "</tr>\n",
       "<tr>\n",
       "     <td>0</td>      <td>1</td>   <td>-23.1965</td>  <td>0.0</td>    <td>0.0</td>     <td>True</td> \n",
       "</tr>\n",
       "</table>"
      ],
      "text/plain": [
       "<class 'statsmodels.iolib.table.SimpleTable'>"
      ]
     },
     "execution_count": 24,
     "metadata": {},
     "output_type": "execute_result"
    }
   ],
   "source": [
    "compare('총인구','범죄발생')"
   ]
  },
  {
   "cell_type": "code",
   "execution_count": 25,
   "metadata": {},
   "outputs": [
    {
     "data": {
      "text/html": [
       "<table class=\"simpletable\">\n",
       "<caption>Test Multiple Comparison ttest_ind \n",
       "FWER=0.05 method=bonf\n",
       "alphacSidak=0.05, alphacBonf=0.050</caption>\n",
       "<tr>\n",
       "  <th>group1</th> <th>group2</th>   <th>stat</th>   <th>pval</th> <th>pval_corr</th> <th>reject</th>\n",
       "</tr>\n",
       "<tr>\n",
       "     <td>0</td>      <td>1</td>   <td>-15.2539</td>  <td>0.0</td>    <td>0.0</td>     <td>True</td> \n",
       "</tr>\n",
       "</table>"
      ],
      "text/plain": [
       "<class 'statsmodels.iolib.table.SimpleTable'>"
      ]
     },
     "execution_count": 25,
     "metadata": {},
     "output_type": "execute_result"
    }
   ],
   "source": [
    "compare('유소년인구','범죄발생')"
   ]
  },
  {
   "cell_type": "code",
   "execution_count": 26,
   "metadata": {},
   "outputs": [
    {
     "data": {
      "text/html": [
       "<table class=\"simpletable\">\n",
       "<caption>Test Multiple Comparison ttest_ind \n",
       "FWER=0.05 method=bonf\n",
       "alphacSidak=0.05, alphacBonf=0.050</caption>\n",
       "<tr>\n",
       "  <th>group1</th> <th>group2</th>   <th>stat</th>   <th>pval</th> <th>pval_corr</th> <th>reject</th>\n",
       "</tr>\n",
       "<tr>\n",
       "     <td>0</td>      <td>1</td>   <td>-24.1868</td>  <td>0.0</td>    <td>0.0</td>     <td>True</td> \n",
       "</tr>\n",
       "</table>"
      ],
      "text/plain": [
       "<class 'statsmodels.iolib.table.SimpleTable'>"
      ]
     },
     "execution_count": 26,
     "metadata": {},
     "output_type": "execute_result"
    }
   ],
   "source": [
    "compare('고령인구','범죄발생')"
   ]
  },
  {
   "cell_type": "code",
   "execution_count": 27,
   "metadata": {},
   "outputs": [
    {
     "data": {
      "text/html": [
       "<table class=\"simpletable\">\n",
       "<caption>Test Multiple Comparison ttest_ind \n",
       "FWER=0.05 method=bonf\n",
       "alphacSidak=0.05, alphacBonf=0.050</caption>\n",
       "<tr>\n",
       "  <th>group1</th> <th>group2</th>   <th>stat</th>   <th>pval</th> <th>pval_corr</th> <th>reject</th>\n",
       "</tr>\n",
       "<tr>\n",
       "     <td>0</td>      <td>1</td>   <td>-22.5325</td>  <td>0.0</td>    <td>0.0</td>     <td>True</td> \n",
       "</tr>\n",
       "</table>"
      ],
      "text/plain": [
       "<class 'statsmodels.iolib.table.SimpleTable'>"
      ]
     },
     "execution_count": 27,
     "metadata": {},
     "output_type": "execute_result"
    }
   ],
   "source": [
    "compare('성폭력취약인구','범죄발생')"
   ]
  },
  {
   "cell_type": "code",
   "execution_count": 28,
   "metadata": {},
   "outputs": [
    {
     "data": {
      "text/html": [
       "<table class=\"simpletable\">\n",
       "<caption>Test Multiple Comparison ttest_ind \n",
       "FWER=0.05 method=bonf\n",
       "alphacSidak=0.05, alphacBonf=0.050</caption>\n",
       "<tr>\n",
       "  <th>group1</th> <th>group2</th>   <th>stat</th>   <th>pval</th> <th>pval_corr</th> <th>reject</th>\n",
       "</tr>\n",
       "<tr>\n",
       "     <td>0</td>      <td>1</td>   <td>-11.2421</td>  <td>0.0</td>    <td>0.0</td>     <td>True</td> \n",
       "</tr>\n",
       "</table>"
      ],
      "text/plain": [
       "<class 'statsmodels.iolib.table.SimpleTable'>"
      ]
     },
     "execution_count": 28,
     "metadata": {},
     "output_type": "execute_result"
    }
   ],
   "source": [
    "compare('건축물(30_34)','범죄발생')"
   ]
  },
  {
   "cell_type": "code",
   "execution_count": 29,
   "metadata": {},
   "outputs": [
    {
     "data": {
      "text/html": [
       "<table class=\"simpletable\">\n",
       "<caption>Test Multiple Comparison ttest_ind \n",
       "FWER=0.05 method=bonf\n",
       "alphacSidak=0.05, alphacBonf=0.050</caption>\n",
       "<tr>\n",
       "  <th>group1</th> <th>group2</th>   <th>stat</th>   <th>pval</th> <th>pval_corr</th> <th>reject</th>\n",
       "</tr>\n",
       "<tr>\n",
       "     <td>0</td>      <td>1</td>   <td>-15.3429</td>  <td>0.0</td>    <td>0.0</td>     <td>True</td> \n",
       "</tr>\n",
       "</table>"
      ],
      "text/plain": [
       "<class 'statsmodels.iolib.table.SimpleTable'>"
      ]
     },
     "execution_count": 29,
     "metadata": {},
     "output_type": "execute_result"
    }
   ],
   "source": [
    "compare('건축물(35)','범죄발생')"
   ]
  },
  {
   "cell_type": "code",
   "execution_count": 30,
   "metadata": {},
   "outputs": [
    {
     "data": {
      "text/html": [
       "<table class=\"simpletable\">\n",
       "<caption>Test Multiple Comparison ttest_ind \n",
       "FWER=0.05 method=bonf\n",
       "alphacSidak=0.05, alphacBonf=0.050</caption>\n",
       "<tr>\n",
       "  <th>group1</th> <th>group2</th>   <th>stat</th>   <th>pval</th> <th>pval_corr</th> <th>reject</th>\n",
       "</tr>\n",
       "<tr>\n",
       "     <td>0</td>      <td>1</td>   <td>-16.8299</td>  <td>0.0</td>    <td>0.0</td>     <td>True</td> \n",
       "</tr>\n",
       "</table>"
      ],
      "text/plain": [
       "<class 'statsmodels.iolib.table.SimpleTable'>"
      ]
     },
     "execution_count": 30,
     "metadata": {},
     "output_type": "execute_result"
    }
   ],
   "source": [
    "compare('건축물(30_)','범죄발생')"
   ]
  },
  {
   "cell_type": "code",
   "execution_count": 31,
   "metadata": {},
   "outputs": [
    {
     "data": {
      "text/html": [
       "<table class=\"simpletable\">\n",
       "<caption>Test Multiple Comparison ttest_ind \n",
       "FWER=0.05 method=bonf\n",
       "alphacSidak=0.05, alphacBonf=0.050</caption>\n",
       "<tr>\n",
       "  <th>group1</th> <th>group2</th>   <th>stat</th>   <th>pval</th> <th>pval_corr</th> <th>reject</th>\n",
       "</tr>\n",
       "<tr>\n",
       "     <td>0</td>      <td>1</td>   <td>-10.6868</td>  <td>0.0</td>    <td>0.0</td>     <td>True</td> \n",
       "</tr>\n",
       "</table>"
      ],
      "text/plain": [
       "<class 'statsmodels.iolib.table.SimpleTable'>"
      ]
     },
     "execution_count": 31,
     "metadata": {},
     "output_type": "execute_result"
    }
   ],
   "source": [
    "compare('개별주택가격','범죄발생')"
   ]
  },
  {
   "cell_type": "code",
   "execution_count": 32,
   "metadata": {},
   "outputs": [
    {
     "data": {
      "text/html": [
       "<table class=\"simpletable\">\n",
       "<caption>Test Multiple Comparison ttest_ind \n",
       "FWER=0.05 method=bonf\n",
       "alphacSidak=0.05, alphacBonf=0.050</caption>\n",
       "<tr>\n",
       "  <th>group1</th> <th>group2</th>   <th>stat</th>   <th>pval</th> <th>pval_corr</th> <th>reject</th>\n",
       "</tr>\n",
       "<tr>\n",
       "     <td>0</td>      <td>1</td>   <td>-25.6313</td>  <td>0.0</td>    <td>0.0</td>     <td>True</td> \n",
       "</tr>\n",
       "</table>"
      ],
      "text/plain": [
       "<class 'statsmodels.iolib.table.SimpleTable'>"
      ]
     },
     "execution_count": 32,
     "metadata": {},
     "output_type": "execute_result"
    }
   ],
   "source": [
    "compare('공시지가','범죄발생')"
   ]
  },
  {
   "cell_type": "code",
   "execution_count": 33,
   "metadata": {},
   "outputs": [
    {
     "data": {
      "text/html": [
       "<table class=\"simpletable\">\n",
       "<caption>Test Multiple Comparison ttest_ind \n",
       "FWER=0.05 method=bonf\n",
       "alphacSidak=0.05, alphacBonf=0.050</caption>\n",
       "<tr>\n",
       "  <th>group1</th> <th>group2</th>  <th>stat</th>   <th>pval</th> <th>pval_corr</th> <th>reject</th>\n",
       "</tr>\n",
       "<tr>\n",
       "     <td>0</td>      <td>1</td>   <td>-7.0214</td>  <td>0.0</td>    <td>0.0</td>     <td>True</td> \n",
       "</tr>\n",
       "</table>"
      ],
      "text/plain": [
       "<class 'statsmodels.iolib.table.SimpleTable'>"
      ]
     },
     "execution_count": 33,
     "metadata": {},
     "output_type": "execute_result"
    }
   ],
   "source": [
    "compare('공영주차장','범죄발생')"
   ]
  },
  {
   "cell_type": "code",
   "execution_count": 34,
   "metadata": {},
   "outputs": [
    {
     "data": {
      "text/html": [
       "<table class=\"simpletable\">\n",
       "<caption>Test Multiple Comparison ttest_ind \n",
       "FWER=0.05 method=bonf\n",
       "alphacSidak=0.05, alphacBonf=0.050</caption>\n",
       "<tr>\n",
       "  <th>group1</th> <th>group2</th>  <th>stat</th>   <th>pval</th> <th>pval_corr</th> <th>reject</th>\n",
       "</tr>\n",
       "<tr>\n",
       "     <td>0</td>      <td>1</td>   <td>-8.9335</td>  <td>0.0</td>    <td>0.0</td>     <td>True</td> \n",
       "</tr>\n",
       "</table>"
      ],
      "text/plain": [
       "<class 'statsmodels.iolib.table.SimpleTable'>"
      ]
     },
     "execution_count": 34,
     "metadata": {},
     "output_type": "execute_result"
    }
   ],
   "source": [
    "compare('공중화장실','범죄발생')"
   ]
  },
  {
   "cell_type": "code",
   "execution_count": 35,
   "metadata": {},
   "outputs": [
    {
     "data": {
      "text/html": [
       "<table class=\"simpletable\">\n",
       "<caption>Test Multiple Comparison ttest_ind \n",
       "FWER=0.05 method=bonf\n",
       "alphacSidak=0.05, alphacBonf=0.050</caption>\n",
       "<tr>\n",
       "  <th>group1</th> <th>group2</th>   <th>stat</th>   <th>pval</th> <th>pval_corr</th> <th>reject</th>\n",
       "</tr>\n",
       "<tr>\n",
       "     <td>0</td>      <td>1</td>   <td>-15.3263</td>  <td>0.0</td>    <td>0.0</td>     <td>True</td> \n",
       "</tr>\n",
       "</table>"
      ],
      "text/plain": [
       "<class 'statsmodels.iolib.table.SimpleTable'>"
      ]
     },
     "execution_count": 35,
     "metadata": {},
     "output_type": "execute_result"
    }
   ],
   "source": [
    "compare('교육시설','범죄발생')"
   ]
  },
  {
   "cell_type": "code",
   "execution_count": 36,
   "metadata": {},
   "outputs": [
    {
     "data": {
      "text/html": [
       "<table class=\"simpletable\">\n",
       "<caption>Test Multiple Comparison ttest_ind \n",
       "FWER=0.05 method=bonf\n",
       "alphacSidak=0.05, alphacBonf=0.050</caption>\n",
       "<tr>\n",
       "  <th>group1</th> <th>group2</th>  <th>stat</th>   <th>pval</th> <th>pval_corr</th> <th>reject</th>\n",
       "</tr>\n",
       "<tr>\n",
       "     <td>0</td>      <td>1</td>   <td>-5.5871</td>  <td>0.0</td>    <td>0.0</td>     <td>True</td> \n",
       "</tr>\n",
       "</table>"
      ],
      "text/plain": [
       "<class 'statsmodels.iolib.table.SimpleTable'>"
      ]
     },
     "execution_count": 36,
     "metadata": {},
     "output_type": "execute_result"
    }
   ],
   "source": [
    "compare('대규모점포','범죄발생')"
   ]
  },
  {
   "cell_type": "code",
   "execution_count": 37,
   "metadata": {},
   "outputs": [
    {
     "data": {
      "text/html": [
       "<table class=\"simpletable\">\n",
       "<caption>Test Multiple Comparison ttest_ind \n",
       "FWER=0.05 method=bonf\n",
       "alphacSidak=0.05, alphacBonf=0.050</caption>\n",
       "<tr>\n",
       "  <th>group1</th> <th>group2</th>  <th>stat</th>   <th>pval</th> <th>pval_corr</th> <th>reject</th>\n",
       "</tr>\n",
       "<tr>\n",
       "     <td>0</td>      <td>1</td>   <td>-7.5455</td>  <td>0.0</td>    <td>0.0</td>     <td>True</td> \n",
       "</tr>\n",
       "</table>"
      ],
      "text/plain": [
       "<class 'statsmodels.iolib.table.SimpleTable'>"
      ]
     },
     "execution_count": 37,
     "metadata": {},
     "output_type": "execute_result"
    }
   ],
   "source": [
    "compare('대부업현황','범죄발생')"
   ]
  },
  {
   "cell_type": "code",
   "execution_count": 38,
   "metadata": {},
   "outputs": [
    {
     "data": {
      "text/html": [
       "<table class=\"simpletable\">\n",
       "<caption>Test Multiple Comparison ttest_ind \n",
       "FWER=0.05 method=bonf\n",
       "alphacSidak=0.05, alphacBonf=0.050</caption>\n",
       "<tr>\n",
       "  <th>group1</th> <th>group2</th>  <th>stat</th>   <th>pval</th> <th>pval_corr</th> <th>reject</th>\n",
       "</tr>\n",
       "<tr>\n",
       "     <td>0</td>      <td>1</td>   <td>-4.3358</td>  <td>0.0</td>    <td>0.0</td>     <td>True</td> \n",
       "</tr>\n",
       "</table>"
      ],
      "text/plain": [
       "<class 'statsmodels.iolib.table.SimpleTable'>"
      ]
     },
     "execution_count": 38,
     "metadata": {},
     "output_type": "execute_result"
    }
   ],
   "source": [
    "compare('룸살롱','범죄발생')"
   ]
  },
  {
   "cell_type": "code",
   "execution_count": 39,
   "metadata": {},
   "outputs": [
    {
     "data": {
      "text/html": [
       "<table class=\"simpletable\">\n",
       "<caption>Test Multiple Comparison ttest_ind \n",
       "FWER=0.05 method=bonf\n",
       "alphacSidak=0.05, alphacBonf=0.050</caption>\n",
       "<tr>\n",
       "  <th>group1</th> <th>group2</th>   <th>stat</th>   <th>pval</th> <th>pval_corr</th> <th>reject</th>\n",
       "</tr>\n",
       "<tr>\n",
       "     <td>0</td>      <td>1</td>   <td>-15.4233</td>  <td>0.0</td>    <td>0.0</td>     <td>True</td> \n",
       "</tr>\n",
       "</table>"
      ],
      "text/plain": [
       "<class 'statsmodels.iolib.table.SimpleTable'>"
      ]
     },
     "execution_count": 39,
     "metadata": {},
     "output_type": "execute_result"
    }
   ],
   "source": [
    "compare('버스정류장','범죄발생')"
   ]
  },
  {
   "cell_type": "code",
   "execution_count": 40,
   "metadata": {},
   "outputs": [
    {
     "data": {
      "text/html": [
       "<table class=\"simpletable\">\n",
       "<caption>Test Multiple Comparison ttest_ind \n",
       "FWER=0.05 method=bonf\n",
       "alphacSidak=0.05, alphacBonf=0.050</caption>\n",
       "<tr>\n",
       "  <th>group1</th> <th>group2</th>   <th>stat</th>   <th>pval</th> <th>pval_corr</th> <th>reject</th>\n",
       "</tr>\n",
       "<tr>\n",
       "     <td>0</td>      <td>1</td>   <td>-14.7097</td>  <td>0.0</td>    <td>0.0</td>     <td>True</td> \n",
       "</tr>\n",
       "</table>"
      ],
      "text/plain": [
       "<class 'statsmodels.iolib.table.SimpleTable'>"
      ]
     },
     "execution_count": 40,
     "metadata": {},
     "output_type": "execute_result"
    }
   ],
   "source": [
    "compare('보안등','범죄발생')"
   ]
  },
  {
   "cell_type": "code",
   "execution_count": 41,
   "metadata": {},
   "outputs": [
    {
     "data": {
      "text/html": [
       "<table class=\"simpletable\">\n",
       "<caption>Test Multiple Comparison ttest_ind \n",
       "FWER=0.05 method=bonf\n",
       "alphacSidak=0.05, alphacBonf=0.050</caption>\n",
       "<tr>\n",
       "  <th>group1</th> <th>group2</th>   <th>stat</th>   <th>pval</th> <th>pval_corr</th> <th>reject</th>\n",
       "</tr>\n",
       "<tr>\n",
       "     <td>0</td>      <td>1</td>   <td>-22.2769</td>  <td>0.0</td>    <td>0.0</td>     <td>True</td> \n",
       "</tr>\n",
       "</table>"
      ],
      "text/plain": [
       "<class 'statsmodels.iolib.table.SimpleTable'>"
      ]
     },
     "execution_count": 41,
     "metadata": {},
     "output_type": "execute_result"
    }
   ],
   "source": [
    "compare('상가','범죄발생')"
   ]
  },
  {
   "cell_type": "code",
   "execution_count": 42,
   "metadata": {},
   "outputs": [
    {
     "data": {
      "text/html": [
       "<table class=\"simpletable\">\n",
       "<caption>Test Multiple Comparison ttest_ind \n",
       "FWER=0.05 method=bonf\n",
       "alphacSidak=0.05, alphacBonf=0.050</caption>\n",
       "<tr>\n",
       "  <th>group1</th> <th>group2</th>  <th>stat</th>   <th>pval</th> <th>pval_corr</th> <th>reject</th>\n",
       "</tr>\n",
       "<tr>\n",
       "     <td>0</td>      <td>1</td>   <td>-7.0141</td>  <td>0.0</td>    <td>0.0</td>     <td>True</td> \n",
       "</tr>\n",
       "</table>"
      ],
      "text/plain": [
       "<class 'statsmodels.iolib.table.SimpleTable'>"
      ]
     },
     "execution_count": 42,
     "metadata": {},
     "output_type": "execute_result"
    }
   ],
   "source": [
    "compare('숙박업소','범죄발생')"
   ]
  },
  {
   "cell_type": "code",
   "execution_count": 43,
   "metadata": {},
   "outputs": [
    {
     "data": {
      "text/html": [
       "<table class=\"simpletable\">\n",
       "<caption>Test Multiple Comparison ttest_ind \n",
       "FWER=0.05 method=bonf\n",
       "alphacSidak=0.05, alphacBonf=0.050</caption>\n",
       "<tr>\n",
       "  <th>group1</th> <th>group2</th>  <th>stat</th>   <th>pval</th> <th>pval_corr</th> <th>reject</th>\n",
       "</tr>\n",
       "<tr>\n",
       "     <td>0</td>      <td>1</td>   <td>-12.298</td>  <td>0.0</td>    <td>0.0</td>     <td>True</td> \n",
       "</tr>\n",
       "</table>"
      ],
      "text/plain": [
       "<class 'statsmodels.iolib.table.SimpleTable'>"
      ]
     },
     "execution_count": 43,
     "metadata": {},
     "output_type": "execute_result"
    }
   ],
   "source": [
    "compare('술집','범죄발생')"
   ]
  },
  {
   "cell_type": "code",
   "execution_count": 44,
   "metadata": {},
   "outputs": [
    {
     "data": {
      "text/html": [
       "<table class=\"simpletable\">\n",
       "<caption>Test Multiple Comparison ttest_ind \n",
       "FWER=0.05 method=bonf\n",
       "alphacSidak=0.05, alphacBonf=0.050</caption>\n",
       "<tr>\n",
       "  <th>group1</th> <th>group2</th>  <th>stat</th>   <th>pval</th> <th>pval_corr</th> <th>reject</th>\n",
       "</tr>\n",
       "<tr>\n",
       "     <td>0</td>      <td>1</td>   <td>-8.0476</td>  <td>0.0</td>    <td>0.0</td>     <td>True</td> \n",
       "</tr>\n",
       "</table>"
      ],
      "text/plain": [
       "<class 'statsmodels.iolib.table.SimpleTable'>"
      ]
     },
     "execution_count": 44,
     "metadata": {},
     "output_type": "execute_result"
    }
   ],
   "source": [
    "compare('어린이보호','범죄발생')"
   ]
  },
  {
   "cell_type": "code",
   "execution_count": 45,
   "metadata": {},
   "outputs": [
    {
     "data": {
      "text/html": [
       "<table class=\"simpletable\">\n",
       "<caption>Test Multiple Comparison ttest_ind \n",
       "FWER=0.05 method=bonf\n",
       "alphacSidak=0.05, alphacBonf=0.050</caption>\n",
       "<tr>\n",
       "  <th>group1</th> <th>group2</th>   <th>stat</th>   <th>pval</th> <th>pval_corr</th> <th>reject</th>\n",
       "</tr>\n",
       "<tr>\n",
       "     <td>0</td>      <td>1</td>   <td>-12.8244</td>  <td>0.0</td>    <td>0.0</td>     <td>True</td> \n",
       "</tr>\n",
       "</table>"
      ],
      "text/plain": [
       "<class 'statsmodels.iolib.table.SimpleTable'>"
      ]
     },
     "execution_count": 45,
     "metadata": {},
     "output_type": "execute_result"
    }
   ],
   "source": [
    "compare('어린이집','범죄발생')"
   ]
  },
  {
   "cell_type": "code",
   "execution_count": 46,
   "metadata": {},
   "outputs": [
    {
     "data": {
      "text/html": [
       "<table class=\"simpletable\">\n",
       "<caption>Test Multiple Comparison ttest_ind \n",
       "FWER=0.05 method=bonf\n",
       "alphacSidak=0.05, alphacBonf=0.050</caption>\n",
       "<tr>\n",
       "  <th>group1</th> <th>group2</th>   <th>stat</th>   <th>pval</th> <th>pval_corr</th> <th>reject</th>\n",
       "</tr>\n",
       "<tr>\n",
       "     <td>0</td>      <td>1</td>   <td>-12.9788</td>  <td>0.0</td>    <td>0.0</td>     <td>True</td> \n",
       "</tr>\n",
       "</table>"
      ],
      "text/plain": [
       "<class 'statsmodels.iolib.table.SimpleTable'>"
      ]
     },
     "execution_count": 46,
     "metadata": {},
     "output_type": "execute_result"
    }
   ],
   "source": [
    "compare('오락시설','범죄발생')"
   ]
  },
  {
   "cell_type": "code",
   "execution_count": 47,
   "metadata": {},
   "outputs": [
    {
     "data": {
      "text/html": [
       "<table class=\"simpletable\">\n",
       "<caption>Test Multiple Comparison ttest_ind \n",
       "FWER=0.05 method=bonf\n",
       "alphacSidak=0.05, alphacBonf=0.050</caption>\n",
       "<tr>\n",
       "  <th>group1</th> <th>group2</th>   <th>stat</th>   <th>pval</th> <th>pval_corr</th> <th>reject</th>\n",
       "</tr>\n",
       "<tr>\n",
       "     <td>0</td>      <td>1</td>   <td>-14.1653</td>  <td>0.0</td>    <td>0.0</td>     <td>True</td> \n",
       "</tr>\n",
       "</table>"
      ],
      "text/plain": [
       "<class 'statsmodels.iolib.table.SimpleTable'>"
      ]
     },
     "execution_count": 47,
     "metadata": {},
     "output_type": "execute_result"
    }
   ],
   "source": [
    "compare('원룸_오피스텔','범죄발생')"
   ]
  },
  {
   "cell_type": "code",
   "execution_count": 48,
   "metadata": {},
   "outputs": [
    {
     "data": {
      "text/html": [
       "<table class=\"simpletable\">\n",
       "<caption>Test Multiple Comparison ttest_ind \n",
       "FWER=0.05 method=bonf\n",
       "alphacSidak=0.05, alphacBonf=0.050</caption>\n",
       "<tr>\n",
       "  <th>group1</th> <th>group2</th>   <th>stat</th>   <th>pval</th> <th>pval_corr</th> <th>reject</th>\n",
       "</tr>\n",
       "<tr>\n",
       "     <td>0</td>      <td>1</td>   <td>-19.5446</td>  <td>0.0</td>    <td>0.0</td>     <td>True</td> \n",
       "</tr>\n",
       "</table>"
      ],
      "text/plain": [
       "<class 'statsmodels.iolib.table.SimpleTable'>"
      ]
     },
     "execution_count": 48,
     "metadata": {},
     "output_type": "execute_result"
    }
   ],
   "source": [
    "compare('음식점','범죄발생')"
   ]
  },
  {
   "cell_type": "code",
   "execution_count": 49,
   "metadata": {},
   "outputs": [
    {
     "data": {
      "text/html": [
       "<table class=\"simpletable\">\n",
       "<caption>Test Multiple Comparison ttest_ind \n",
       "FWER=0.05 method=bonf\n",
       "alphacSidak=0.05, alphacBonf=0.050</caption>\n",
       "<tr>\n",
       "  <th>group1</th> <th>group2</th>  <th>stat</th>   <th>pval</th> <th>pval_corr</th> <th>reject</th>\n",
       "</tr>\n",
       "<tr>\n",
       "     <td>0</td>      <td>1</td>   <td>-6.2176</td>  <td>0.0</td>    <td>0.0</td>     <td>True</td> \n",
       "</tr>\n",
       "</table>"
      ],
      "text/plain": [
       "<class 'statsmodels.iolib.table.SimpleTable'>"
      ]
     },
     "execution_count": 49,
     "metadata": {},
     "output_type": "execute_result"
    }
   ],
   "source": [
    "compare('자율방범대','범죄발생')"
   ]
  },
  {
   "cell_type": "code",
   "execution_count": 50,
   "metadata": {},
   "outputs": [
    {
     "data": {
      "text/html": [
       "<table class=\"simpletable\">\n",
       "<caption>Test Multiple Comparison ttest_ind \n",
       "FWER=0.05 method=bonf\n",
       "alphacSidak=0.05, alphacBonf=0.050</caption>\n",
       "<tr>\n",
       "  <th>group1</th> <th>group2</th>  <th>stat</th>   <th>pval</th> <th>pval_corr</th> <th>reject</th>\n",
       "</tr>\n",
       "<tr>\n",
       "     <td>0</td>      <td>1</td>   <td>-4.4154</td>  <td>0.0</td>    <td>0.0</td>     <td>True</td> \n",
       "</tr>\n",
       "</table>"
      ],
      "text/plain": [
       "<class 'statsmodels.iolib.table.SimpleTable'>"
      ]
     },
     "execution_count": 50,
     "metadata": {},
     "output_type": "execute_result"
    }
   ],
   "source": [
    "compare('파출소','범죄발생')"
   ]
  },
  {
   "cell_type": "code",
   "execution_count": 51,
   "metadata": {},
   "outputs": [
    {
     "data": {
      "text/html": [
       "<table class=\"simpletable\">\n",
       "<caption>Test Multiple Comparison ttest_ind \n",
       "FWER=0.05 method=bonf\n",
       "alphacSidak=0.05, alphacBonf=0.050</caption>\n",
       "<tr>\n",
       "  <th>group1</th> <th>group2</th>   <th>stat</th>   <th>pval</th> <th>pval_corr</th> <th>reject</th>\n",
       "</tr>\n",
       "<tr>\n",
       "     <td>0</td>      <td>1</td>   <td>-22.8425</td>  <td>0.0</td>    <td>0.0</td>     <td>True</td> \n",
       "</tr>\n",
       "</table>"
      ],
      "text/plain": [
       "<class 'statsmodels.iolib.table.SimpleTable'>"
      ]
     },
     "execution_count": 51,
     "metadata": {},
     "output_type": "execute_result"
    }
   ],
   "source": [
    "compare('cctv','범죄발생')"
   ]
  },
  {
   "cell_type": "code",
   "execution_count": 52,
   "metadata": {},
   "outputs": [
    {
     "data": {
      "text/html": [
       "<table class=\"simpletable\">\n",
       "<caption>Test Multiple Comparison ttest_ind \n",
       "FWER=0.05 method=bonf\n",
       "alphacSidak=0.05, alphacBonf=0.050</caption>\n",
       "<tr>\n",
       "  <th>group1</th> <th>group2</th>   <th>stat</th>   <th>pval</th> <th>pval_corr</th> <th>reject</th>\n",
       "</tr>\n",
       "<tr>\n",
       "     <td>0</td>      <td>1</td>   <td>-15.8808</td>  <td>0.0</td>    <td>0.0</td>     <td>True</td> \n",
       "</tr>\n",
       "</table>"
      ],
      "text/plain": [
       "<class 'statsmodels.iolib.table.SimpleTable'>"
      ]
     },
     "execution_count": 52,
     "metadata": {},
     "output_type": "execute_result"
    }
   ],
   "source": [
    "compare('신호등','범죄발생')"
   ]
  },
  {
   "cell_type": "code",
   "execution_count": 53,
   "metadata": {},
   "outputs": [
    {
     "data": {
      "text/html": [
       "<table class=\"simpletable\">\n",
       "<caption>Test Multiple Comparison ttest_ind \n",
       "FWER=0.05 method=bonf\n",
       "alphacSidak=0.05, alphacBonf=0.050</caption>\n",
       "<tr>\n",
       "  <th>group1</th> <th>group2</th>   <th>stat</th>   <th>pval</th> <th>pval_corr</th> <th>reject</th>\n",
       "</tr>\n",
       "<tr>\n",
       "     <td>0</td>      <td>1</td>   <td>-23.2146</td>  <td>0.0</td>    <td>0.0</td>     <td>True</td> \n",
       "</tr>\n",
       "</table>"
      ],
      "text/plain": [
       "<class 'statsmodels.iolib.table.SimpleTable'>"
      ]
     },
     "execution_count": 53,
     "metadata": {},
     "output_type": "execute_result"
    }
   ],
   "source": [
    "compare('횡단보도','범죄발생')"
   ]
  },
  {
   "cell_type": "code",
   "execution_count": 54,
   "metadata": {},
   "outputs": [
    {
     "data": {
      "text/html": [
       "<table class=\"simpletable\">\n",
       "<caption>Test Multiple Comparison ttest_ind \n",
       "FWER=0.05 method=bonf\n",
       "alphacSidak=0.05, alphacBonf=0.050</caption>\n",
       "<tr>\n",
       "  <th>group1</th> <th>group2</th>   <th>stat</th>   <th>pval</th> <th>pval_corr</th> <th>reject</th>\n",
       "</tr>\n",
       "<tr>\n",
       "     <td>0</td>      <td>1</td>   <td>-21.6884</td>  <td>0.0</td>    <td>0.0</td>     <td>True</td> \n",
       "</tr>\n",
       "</table>"
      ],
      "text/plain": [
       "<class 'statsmodels.iolib.table.SimpleTable'>"
      ]
     },
     "execution_count": 54,
     "metadata": {},
     "output_type": "execute_result"
    }
   ],
   "source": [
    "compare('가로등','범죄발생')"
   ]
  },
  {
   "cell_type": "markdown",
   "metadata": {},
   "source": [
    "### 종속변수 범주를 잘 구분해줄 것이라 판단되는 피쳐 선택 "
   ]
  },
  {
   "cell_type": "markdown",
   "metadata": {},
   "source": [
    "##### '총인구','건축물(35)','개별주택가격','공시지가','가로등','공영주차장','공중화장실','교육시설','룸살롱','버스정류장','상가','숙박업소','술집','오락시설','원룸_오피스텔','음식점' 'cctv','횡단보도'\n",
    "#### target = '폭력빈도_4'"
   ]
  },
  {
   "cell_type": "code",
   "execution_count": 111,
   "metadata": {},
   "outputs": [],
   "source": [
    "scaler = StandardScaler()\n",
    "new_grid[numerical_feats] = scaler.fit_transform(new_grid[numerical_feats])"
   ]
  },
  {
   "cell_type": "code",
   "execution_count": 112,
   "metadata": {},
   "outputs": [],
   "source": [
    "feature_list = list(new_grid.drop(columns = ['음식점','행정동코드','ID','GRADE_전체','행정동면적','범죄발생','총인구','유소년인구','성폭력취약인구','건축물(30_34)','건축물(35)','대규모점포','파출소','자율방범대']).columns)\n",
    "feature = new_grid[feature_list]\n",
    "target = new_grid[['범죄발생']]"
   ]
  },
  {
   "cell_type": "code",
   "execution_count": 113,
   "metadata": {},
   "outputs": [
    {
     "name": "stdout",
     "output_type": "stream",
     "text": [
      "Warning: Maximum number of iterations has been exceeded.\n",
      "         Current function value: 0.368668\n",
      "         Iterations: 35\n",
      "         Function evaluations: 36\n",
      "         Gradient evaluations: 36\n",
      "                          MNLogit Regression Results                          \n",
      "==============================================================================\n",
      "Dep. Variable:                   범죄발생   No. Observations:                 2038\n",
      "Model:                        MNLogit   Df Residuals:                     2015\n",
      "Method:                           MLE   Df Model:                           22\n",
      "Date:                Mon, 23 Aug 2021   Pseudo R-squ.:                  0.4681\n",
      "Time:                        16:20:54   Log-Likelihood:                -751.34\n",
      "converged:                      False   LL-Null:                       -1412.6\n",
      "Covariance Type:            nonrobust   LLR p-value:                2.905e-266\n",
      "==============================================================================\n",
      "    범죄발생=1       coef    std err          z      P>|z|      [0.025      0.975]\n",
      "------------------------------------------------------------------------------\n",
      "고령인구           1.3888      0.274      5.069      0.000       0.852       1.926\n",
      "개별주택가격         0.2138      0.095      2.253      0.024       0.028       0.400\n",
      "공시지가           0.0992      0.139      0.711      0.477      -0.174       0.373\n",
      "가로등            0.3769      0.105      3.593      0.000       0.171       0.582\n",
      "공영주차장          0.1047      0.135      0.775      0.439      -0.160       0.370\n",
      "공중화장실          0.1419      0.087      1.636      0.102      -0.028       0.312\n",
      "교육시설           0.4387      0.479      0.916      0.360      -0.500       1.378\n",
      "대부업현황          0.3430      0.195      1.761      0.078      -0.039       0.725\n",
      "룸살롱            0.0099      0.892      0.011      0.991      -1.738       1.758\n",
      "버스정류장          0.0204      0.116      0.176      0.860      -0.207       0.247\n",
      "보안등            0.3022      0.151      1.996      0.046       0.006       0.599\n",
      "상가             2.5453      0.574      4.436      0.000       1.421       3.670\n",
      "숙박업소           0.3905      0.591      0.661      0.509      -0.768       1.549\n",
      "술집            -0.4249      0.693     -0.613      0.540      -1.783       0.933\n",
      "어린이보호         -0.0972      0.100     -0.970      0.332      -0.294       0.099\n",
      "어린이집          -0.0658      0.170     -0.387      0.699      -0.399       0.268\n",
      "오락시설           0.1435      0.595      0.241      0.809      -1.023       1.309\n",
      "원룸_오피스텔        0.5425      0.346      1.566      0.117      -0.136       1.221\n",
      "cctv           0.3000      0.140      2.136      0.033       0.025       0.575\n",
      "신호등           -0.0147      0.108     -0.136      0.892      -0.226       0.197\n",
      "횡단보도           0.5302      0.152      3.486      0.000       0.232       0.828\n",
      "건축물(30_)       1.0014      0.324      3.095      0.002       0.367       1.636\n",
      "const          1.9316      0.281      6.872      0.000       1.381       2.483\n",
      "==============================================================================\n"
     ]
    }
   ],
   "source": [
    "x = sm.add_constant(feature, prepend = False)\n",
    "\n",
    "mnlogit_mod = sm.MNLogit(target, x)\n",
    "mnlogit_fit = mnlogit_mod.fit(method='bfgs')\n",
    "\n",
    "print (mnlogit_fit.summary())"
   ]
  },
  {
   "cell_type": "code",
   "execution_count": 114,
   "metadata": {},
   "outputs": [
    {
     "data": {
      "text/plain": [
       "36"
      ]
     },
     "execution_count": 114,
     "metadata": {},
     "output_type": "execute_result"
    }
   ],
   "source": [
    "len(new_grid.columns)"
   ]
  },
  {
   "cell_type": "code",
   "execution_count": 115,
   "metadata": {},
   "outputs": [
    {
     "data": {
      "text/plain": [
       "22"
      ]
     },
     "execution_count": 115,
     "metadata": {},
     "output_type": "execute_result"
    }
   ],
   "source": [
    "len(feature.columns)"
   ]
  },
  {
   "cell_type": "code",
   "execution_count": 116,
   "metadata": {},
   "outputs": [
    {
     "data": {
      "text/plain": [
       "['고령인구',\n",
       " '개별주택가격',\n",
       " '공시지가',\n",
       " '가로등',\n",
       " '공영주차장',\n",
       " '공중화장실',\n",
       " '교육시설',\n",
       " '대부업현황',\n",
       " '룸살롱',\n",
       " '버스정류장',\n",
       " '보안등',\n",
       " '상가',\n",
       " '숙박업소',\n",
       " '술집',\n",
       " '어린이보호',\n",
       " '어린이집',\n",
       " '오락시설',\n",
       " '원룸_오피스텔',\n",
       " 'cctv',\n",
       " '신호등',\n",
       " '횡단보도',\n",
       " '건축물(30_)']"
      ]
     },
     "execution_count": 116,
     "metadata": {},
     "output_type": "execute_result"
    }
   ],
   "source": [
    "feature_list"
   ]
  },
  {
   "cell_type": "code",
   "execution_count": 117,
   "metadata": {},
   "outputs": [
    {
     "name": "stdout",
     "output_type": "stream",
     "text": [
      "accuracy = 0.8331697742885181\n"
     ]
    },
    {
     "data": {
      "text/plain": [
       "array([[951,  72],\n",
       "       [268, 747]])"
      ]
     },
     "execution_count": 117,
     "metadata": {},
     "output_type": "execute_result"
    }
   ],
   "source": [
    "model = LogisticRegression(random_state=0, solver ='lbfgs')\n",
    "model.fit(X=feature, y=target) # 학습수행 \n",
    "y_pred = model.predict(X = feature)\n",
    "acc=accuracy_score(target,y_pred)\n",
    "print('accuracy =', acc) \n",
    "con_mat = confusion_matrix(y_true=target, y_pred=y_pred) \n",
    "con_mat "
   ]
  },
  {
   "cell_type": "code",
   "execution_count": 118,
   "metadata": {},
   "outputs": [],
   "source": [
    "from sklearn.model_selection import train_test_split\n",
    "\n",
    "X_train, X_test, y_train, y_test = train_test_split(feature,target, test_size=0.25, stratify=target, random_state=123456)"
   ]
  },
  {
   "cell_type": "code",
   "execution_count": 119,
   "metadata": {},
   "outputs": [],
   "source": [
    "from sklearn.ensemble import RandomForestClassifier\n",
    "\n",
    "rf = RandomForestClassifier(n_estimators=100, oob_score=True, random_state=123456)"
   ]
  },
  {
   "cell_type": "code",
   "execution_count": 120,
   "metadata": {},
   "outputs": [
    {
     "data": {
      "text/plain": [
       "RandomForestClassifier(bootstrap=True, ccp_alpha=0.0, class_weight=None,\n",
       "                       criterion='gini', max_depth=None, max_features='auto',\n",
       "                       max_leaf_nodes=None, max_samples=None,\n",
       "                       min_impurity_decrease=0.0, min_impurity_split=None,\n",
       "                       min_samples_leaf=1, min_samples_split=2,\n",
       "                       min_weight_fraction_leaf=0.0, n_estimators=100,\n",
       "                       n_jobs=None, oob_score=True, random_state=123456,\n",
       "                       verbose=0, warm_start=False)"
      ]
     },
     "execution_count": 120,
     "metadata": {},
     "output_type": "execute_result"
    }
   ],
   "source": [
    "rf.fit(X_train, y_train)"
   ]
  },
  {
   "cell_type": "code",
   "execution_count": 121,
   "metadata": {},
   "outputs": [
    {
     "name": "stdout",
     "output_type": "stream",
     "text": [
      "Out-of-bag score estimate: 0.815\n",
      "Mean accuracy score: 0.824\n"
     ]
    }
   ],
   "source": [
    "from sklearn.metrics import accuracy_score\n",
    "\n",
    "predicted = rf.predict(X_test)\n",
    "accuracy = accuracy_score(y_test, predicted)\n",
    "\n",
    "print(f'Out-of-bag score estimate: {rf.oob_score_:.3}')\n",
    "print(f'Mean accuracy score: {accuracy:.3}')"
   ]
  },
  {
   "cell_type": "code",
   "execution_count": 122,
   "metadata": {},
   "outputs": [
    {
     "data": {
      "text/plain": [
       "array(['고령인구', '개별주택가격', '공시지가', '가로등', '공영주차장', '공중화장실', '교육시설', '대부업현황',\n",
       "       '룸살롱', '버스정류장', '보안등', '상가', '숙박업소', '술집', '어린이보호', '어린이집', '오락시설',\n",
       "       '원룸_오피스텔', 'cctv', '신호등', '횡단보도', '건축물(30_)'], dtype='<U8')"
      ]
     },
     "execution_count": 122,
     "metadata": {},
     "output_type": "execute_result"
    }
   ],
   "source": [
    "np.array(feature_list)"
   ]
  },
  {
   "cell_type": "code",
   "execution_count": 123,
   "metadata": {},
   "outputs": [
    {
     "data": {
      "text/plain": [
       "array([1.43261758e-01, 7.91816020e-02, 1.78557771e-01, 5.10796699e-02,\n",
       "       1.23126306e-03, 9.87730656e-03, 4.38716722e-02, 1.07913367e-03,\n",
       "       3.99728568e-05, 1.06402338e-02, 4.13902188e-02, 1.72382216e-01,\n",
       "       8.63862619e-04, 1.29630740e-02, 4.86578263e-03, 6.78764490e-03,\n",
       "       2.03412578e-03, 4.91019007e-02, 2.37986048e-02, 3.02838865e-02,\n",
       "       8.55505707e-02, 5.11577294e-02])"
      ]
     },
     "execution_count": 123,
     "metadata": {},
     "output_type": "execute_result"
    }
   ],
   "source": [
    "np.array(rf.feature_importances_)"
   ]
  },
  {
   "cell_type": "code",
   "execution_count": 152,
   "metadata": {},
   "outputs": [
    {
     "ename": "ValueError",
     "evalue": "arrays must all be same length",
     "output_type": "error",
     "traceback": [
      "\u001b[0;31m---------------------------------------------------------------------------\u001b[0m",
      "\u001b[0;31mValueError\u001b[0m                                Traceback (most recent call last)",
      "\u001b[0;32m<ipython-input-152-ff82176ac45e>\u001b[0m in \u001b[0;36m<module>\u001b[0;34m\u001b[0m\n\u001b[1;32m     19\u001b[0m \u001b[0;34m\u001b[0m\u001b[0m\n\u001b[1;32m     20\u001b[0m \u001b[0;34m\u001b[0m\u001b[0m\n\u001b[0;32m---> 21\u001b[0;31m \u001b[0mplot_feature_importance\u001b[0m\u001b[0;34m(\u001b[0m\u001b[0mrf\u001b[0m\u001b[0;34m.\u001b[0m\u001b[0mfeature_importances_\u001b[0m\u001b[0;34m,\u001b[0m\u001b[0mfeature_list\u001b[0m\u001b[0;34m,\u001b[0m\u001b[0;34m'Randomforest'\u001b[0m\u001b[0;34m)\u001b[0m\u001b[0;34m\u001b[0m\u001b[0;34m\u001b[0m\u001b[0m\n\u001b[0m",
      "\u001b[0;32m<ipython-input-152-ff82176ac45e>\u001b[0m in \u001b[0;36mplot_feature_importance\u001b[0;34m(importance, names, model_type)\u001b[0m\n\u001b[1;32m      5\u001b[0m \u001b[0;34m\u001b[0m\u001b[0m\n\u001b[1;32m      6\u001b[0m     \u001b[0mdata\u001b[0m\u001b[0;34m=\u001b[0m\u001b[0;34m{\u001b[0m\u001b[0;34m'feature_names'\u001b[0m\u001b[0;34m:\u001b[0m\u001b[0mfeature_names\u001b[0m\u001b[0;34m,\u001b[0m\u001b[0;34m'feature_importance'\u001b[0m\u001b[0;34m:\u001b[0m\u001b[0mfeature_importance\u001b[0m\u001b[0;34m}\u001b[0m\u001b[0;34m\u001b[0m\u001b[0;34m\u001b[0m\u001b[0m\n\u001b[0;32m----> 7\u001b[0;31m     \u001b[0mfi_df\u001b[0m \u001b[0;34m=\u001b[0m \u001b[0mpd\u001b[0m\u001b[0;34m.\u001b[0m\u001b[0mDataFrame\u001b[0m\u001b[0;34m(\u001b[0m\u001b[0mdata\u001b[0m\u001b[0;34m)\u001b[0m\u001b[0;34m\u001b[0m\u001b[0;34m\u001b[0m\u001b[0m\n\u001b[0m\u001b[1;32m      8\u001b[0m \u001b[0;34m\u001b[0m\u001b[0m\n\u001b[1;32m      9\u001b[0m     \u001b[0mfi_df\u001b[0m\u001b[0;34m.\u001b[0m\u001b[0msort_values\u001b[0m\u001b[0;34m(\u001b[0m\u001b[0mby\u001b[0m\u001b[0;34m=\u001b[0m\u001b[0;34m[\u001b[0m\u001b[0;34m'feature_importance'\u001b[0m\u001b[0;34m]\u001b[0m\u001b[0;34m,\u001b[0m \u001b[0mascending\u001b[0m\u001b[0;34m=\u001b[0m\u001b[0;32mFalse\u001b[0m\u001b[0;34m,\u001b[0m\u001b[0minplace\u001b[0m\u001b[0;34m=\u001b[0m\u001b[0;32mTrue\u001b[0m\u001b[0;34m)\u001b[0m\u001b[0;34m\u001b[0m\u001b[0;34m\u001b[0m\u001b[0m\n",
      "\u001b[0;32m/Library/Frameworks/Python.framework/Versions/3.9/lib/python3.9/site-packages/pandas/core/frame.py\u001b[0m in \u001b[0;36m__init__\u001b[0;34m(self, data, index, columns, dtype, copy)\u001b[0m\n\u001b[1;32m    466\u001b[0m \u001b[0;34m\u001b[0m\u001b[0m\n\u001b[1;32m    467\u001b[0m         \u001b[0;32melif\u001b[0m \u001b[0misinstance\u001b[0m\u001b[0;34m(\u001b[0m\u001b[0mdata\u001b[0m\u001b[0;34m,\u001b[0m \u001b[0mdict\u001b[0m\u001b[0;34m)\u001b[0m\u001b[0;34m:\u001b[0m\u001b[0;34m\u001b[0m\u001b[0;34m\u001b[0m\u001b[0m\n\u001b[0;32m--> 468\u001b[0;31m             \u001b[0mmgr\u001b[0m \u001b[0;34m=\u001b[0m \u001b[0minit_dict\u001b[0m\u001b[0;34m(\u001b[0m\u001b[0mdata\u001b[0m\u001b[0;34m,\u001b[0m \u001b[0mindex\u001b[0m\u001b[0;34m,\u001b[0m \u001b[0mcolumns\u001b[0m\u001b[0;34m,\u001b[0m \u001b[0mdtype\u001b[0m\u001b[0;34m=\u001b[0m\u001b[0mdtype\u001b[0m\u001b[0;34m)\u001b[0m\u001b[0;34m\u001b[0m\u001b[0;34m\u001b[0m\u001b[0m\n\u001b[0m\u001b[1;32m    469\u001b[0m         \u001b[0;32melif\u001b[0m \u001b[0misinstance\u001b[0m\u001b[0;34m(\u001b[0m\u001b[0mdata\u001b[0m\u001b[0;34m,\u001b[0m \u001b[0mma\u001b[0m\u001b[0;34m.\u001b[0m\u001b[0mMaskedArray\u001b[0m\u001b[0;34m)\u001b[0m\u001b[0;34m:\u001b[0m\u001b[0;34m\u001b[0m\u001b[0;34m\u001b[0m\u001b[0m\n\u001b[1;32m    470\u001b[0m             \u001b[0;32mimport\u001b[0m \u001b[0mnumpy\u001b[0m\u001b[0;34m.\u001b[0m\u001b[0mma\u001b[0m\u001b[0;34m.\u001b[0m\u001b[0mmrecords\u001b[0m \u001b[0;32mas\u001b[0m \u001b[0mmrecords\u001b[0m\u001b[0;34m\u001b[0m\u001b[0;34m\u001b[0m\u001b[0m\n",
      "\u001b[0;32m/Library/Frameworks/Python.framework/Versions/3.9/lib/python3.9/site-packages/pandas/core/internals/construction.py\u001b[0m in \u001b[0;36minit_dict\u001b[0;34m(data, index, columns, dtype)\u001b[0m\n\u001b[1;32m    281\u001b[0m             \u001b[0marr\u001b[0m \u001b[0;32mif\u001b[0m \u001b[0;32mnot\u001b[0m \u001b[0mis_datetime64tz_dtype\u001b[0m\u001b[0;34m(\u001b[0m\u001b[0marr\u001b[0m\u001b[0;34m)\u001b[0m \u001b[0;32melse\u001b[0m \u001b[0marr\u001b[0m\u001b[0;34m.\u001b[0m\u001b[0mcopy\u001b[0m\u001b[0;34m(\u001b[0m\u001b[0;34m)\u001b[0m \u001b[0;32mfor\u001b[0m \u001b[0marr\u001b[0m \u001b[0;32min\u001b[0m \u001b[0marrays\u001b[0m\u001b[0;34m\u001b[0m\u001b[0;34m\u001b[0m\u001b[0m\n\u001b[1;32m    282\u001b[0m         ]\n\u001b[0;32m--> 283\u001b[0;31m     \u001b[0;32mreturn\u001b[0m \u001b[0marrays_to_mgr\u001b[0m\u001b[0;34m(\u001b[0m\u001b[0marrays\u001b[0m\u001b[0;34m,\u001b[0m \u001b[0mdata_names\u001b[0m\u001b[0;34m,\u001b[0m \u001b[0mindex\u001b[0m\u001b[0;34m,\u001b[0m \u001b[0mcolumns\u001b[0m\u001b[0;34m,\u001b[0m \u001b[0mdtype\u001b[0m\u001b[0;34m=\u001b[0m\u001b[0mdtype\u001b[0m\u001b[0;34m)\u001b[0m\u001b[0;34m\u001b[0m\u001b[0;34m\u001b[0m\u001b[0m\n\u001b[0m\u001b[1;32m    284\u001b[0m \u001b[0;34m\u001b[0m\u001b[0m\n\u001b[1;32m    285\u001b[0m \u001b[0;34m\u001b[0m\u001b[0m\n",
      "\u001b[0;32m/Library/Frameworks/Python.framework/Versions/3.9/lib/python3.9/site-packages/pandas/core/internals/construction.py\u001b[0m in \u001b[0;36marrays_to_mgr\u001b[0;34m(arrays, arr_names, index, columns, dtype, verify_integrity)\u001b[0m\n\u001b[1;32m     76\u001b[0m         \u001b[0;31m# figure out the index, if necessary\u001b[0m\u001b[0;34m\u001b[0m\u001b[0;34m\u001b[0m\u001b[0;34m\u001b[0m\u001b[0m\n\u001b[1;32m     77\u001b[0m         \u001b[0;32mif\u001b[0m \u001b[0mindex\u001b[0m \u001b[0;32mis\u001b[0m \u001b[0;32mNone\u001b[0m\u001b[0;34m:\u001b[0m\u001b[0;34m\u001b[0m\u001b[0;34m\u001b[0m\u001b[0m\n\u001b[0;32m---> 78\u001b[0;31m             \u001b[0mindex\u001b[0m \u001b[0;34m=\u001b[0m \u001b[0mextract_index\u001b[0m\u001b[0;34m(\u001b[0m\u001b[0marrays\u001b[0m\u001b[0;34m)\u001b[0m\u001b[0;34m\u001b[0m\u001b[0;34m\u001b[0m\u001b[0m\n\u001b[0m\u001b[1;32m     79\u001b[0m         \u001b[0;32melse\u001b[0m\u001b[0;34m:\u001b[0m\u001b[0;34m\u001b[0m\u001b[0;34m\u001b[0m\u001b[0m\n\u001b[1;32m     80\u001b[0m             \u001b[0mindex\u001b[0m \u001b[0;34m=\u001b[0m \u001b[0mensure_index\u001b[0m\u001b[0;34m(\u001b[0m\u001b[0mindex\u001b[0m\u001b[0;34m)\u001b[0m\u001b[0;34m\u001b[0m\u001b[0;34m\u001b[0m\u001b[0m\n",
      "\u001b[0;32m/Library/Frameworks/Python.framework/Versions/3.9/lib/python3.9/site-packages/pandas/core/internals/construction.py\u001b[0m in \u001b[0;36mextract_index\u001b[0;34m(data)\u001b[0m\n\u001b[1;32m    395\u001b[0m             \u001b[0mlengths\u001b[0m \u001b[0;34m=\u001b[0m \u001b[0mlist\u001b[0m\u001b[0;34m(\u001b[0m\u001b[0mset\u001b[0m\u001b[0;34m(\u001b[0m\u001b[0mraw_lengths\u001b[0m\u001b[0;34m)\u001b[0m\u001b[0;34m)\u001b[0m\u001b[0;34m\u001b[0m\u001b[0;34m\u001b[0m\u001b[0m\n\u001b[1;32m    396\u001b[0m             \u001b[0;32mif\u001b[0m \u001b[0mlen\u001b[0m\u001b[0;34m(\u001b[0m\u001b[0mlengths\u001b[0m\u001b[0;34m)\u001b[0m \u001b[0;34m>\u001b[0m \u001b[0;36m1\u001b[0m\u001b[0;34m:\u001b[0m\u001b[0;34m\u001b[0m\u001b[0;34m\u001b[0m\u001b[0m\n\u001b[0;32m--> 397\u001b[0;31m                 \u001b[0;32mraise\u001b[0m \u001b[0mValueError\u001b[0m\u001b[0;34m(\u001b[0m\u001b[0;34m\"arrays must all be same length\"\u001b[0m\u001b[0;34m)\u001b[0m\u001b[0;34m\u001b[0m\u001b[0;34m\u001b[0m\u001b[0m\n\u001b[0m\u001b[1;32m    398\u001b[0m \u001b[0;34m\u001b[0m\u001b[0m\n\u001b[1;32m    399\u001b[0m             \u001b[0;32mif\u001b[0m \u001b[0mhave_dicts\u001b[0m\u001b[0;34m:\u001b[0m\u001b[0;34m\u001b[0m\u001b[0;34m\u001b[0m\u001b[0m\n",
      "\u001b[0;31mValueError\u001b[0m: arrays must all be same length"
     ]
    }
   ],
   "source": [
    "def plot_feature_importance(importance,names,model_type):\n",
    "    \n",
    "    feature_importance = np.array(importance)\n",
    "    feature_names = np.array(names)\n",
    "    \n",
    "    data={'feature_names':feature_names,'feature_importance':feature_importance}\n",
    "    fi_df = pd.DataFrame(data)\n",
    "    \n",
    "    fi_df.sort_values(by=['feature_importance'], ascending=False,inplace=True)\n",
    "\n",
    "    plt.figure(figsize=(10,8))\n",
    "\n",
    "    sns.barplot(x=fi_df['feature_importance'], y=fi_df['feature_names'])\n",
    "\n",
    "    plt.title(model_type + ' Feature Importance')\n",
    "    plt.xlabel('Feature Importance')\n",
    "    plt.ylabel('Feature Names')\n",
    "\n",
    "\n",
    "\n",
    "plot_feature_importance(rf.feature_importances_,feature_list,'Randomforest')"
   ]
  },
  {
   "cell_type": "code",
   "execution_count": 125,
   "metadata": {},
   "outputs": [
    {
     "name": "stdout",
     "output_type": "stream",
     "text": [
      "              precision    recall  f1-score   support\n",
      "\n",
      "           0       0.78      0.93      0.85      1023\n",
      "           1       0.91      0.74      0.81      1015\n",
      "\n",
      "    accuracy                           0.83      2038\n",
      "   macro avg       0.85      0.83      0.83      2038\n",
      "weighted avg       0.85      0.83      0.83      2038\n",
      "\n"
     ]
    }
   ],
   "source": [
    "from sklearn.metrics import classification_report\n",
    "model.fit(X=feature, y=target) # 학습수행 \n",
    "y_pred = model.predict(X = feature)\n",
    "print(classification_report(target, y_pred))"
   ]
  },
  {
   "cell_type": "code",
   "execution_count": 126,
   "metadata": {},
   "outputs": [
    {
     "name": "stdout",
     "output_type": "stream",
     "text": [
      "학습 Accuracy = 0.84133043, 검증 Accuracy = 0.82843137\n",
      "학습 Accuracy = 0.83642312, 검증 Accuracy = 0.85294118\n",
      "학습 Accuracy = 0.83751363, 검증 Accuracy = 0.81862745\n",
      "학습 Accuracy = 0.83533261, 검증 Accuracy = 0.81862745\n",
      "학습 Accuracy = 0.83751363, 검증 Accuracy = 0.81862745\n",
      "학습 Accuracy = 0.83424209, 검증 Accuracy = 0.83333333\n",
      "학습 Accuracy = 0.83642312, 검증 Accuracy = 0.82352941\n",
      "학습 Accuracy = 0.83315158, 검증 Accuracy = 0.82352941\n",
      "학습 Accuracy = 0.83378747, 검증 Accuracy = 0.82758621\n",
      "학습 Accuracy = 0.83051771, 검증 Accuracy = 0.85221675\n",
      "[0.82843137 0.85294118 0.81862745 0.81862745 0.81862745 0.83333333\n",
      " 0.82352941 0.82352941 0.82758621 0.85221675]\n"
     ]
    },
    {
     "data": {
      "text/plain": [
       "0.8297450014488554"
      ]
     },
     "execution_count": 126,
     "metadata": {},
     "output_type": "execute_result"
    }
   ],
   "source": [
    "from sklearn.model_selection import KFold\n",
    "\n",
    "scores = np.zeros(10)\n",
    "cv = KFold(10, shuffle=True, random_state=0)\n",
    "for i, (idx_train, idx_test) in enumerate(cv.split(new_grid)):\n",
    "    df_train = new_grid.iloc[idx_train]\n",
    "    df_test = new_grid.iloc[idx_test]\n",
    "    feature = df_train[feature_list]\n",
    "    target = df_train[['범죄발생']]\n",
    "    \n",
    "    \n",
    "    model = LogisticRegression(random_state=0, solver ='lbfgs', multi_class='multinomial')\n",
    "    model.fit(X=feature, y=target) # 학습수행 \n",
    "    y_pred1 = model.predict(X = feature)\n",
    "    y_pred2 = model.predict(X = df_test[feature_list])\n",
    "    acc_1=accuracy_score(target,y_pred1)\n",
    "    acc_2=accuracy_score(df_test['범죄발생'],y_pred2)\n",
    "    \n",
    "    scores[i] = acc_2\n",
    "    print(\"학습 Accuracy = {:.8f}, 검증 Accuracy = {:.8f}\".format(acc_1, acc_2))\n",
    "print(scores)\n",
    "scores.mean()"
   ]
  },
  {
   "cell_type": "code",
   "execution_count": 127,
   "metadata": {},
   "outputs": [
    {
     "data": {
      "image/png": "[encoded data removed]",
      "text/plain": [
       "<Figure size 1440x1440 with 2 Axes>"
      ]
     },
     "metadata": {},
     "output_type": "display_data"
    }
   ],
   "source": [
    "plt.figure(figsize=(20,20)) # chart size \n",
    "sns.heatmap(con_mat, annot=True, fmt=\".3f\", linewidths=.5, square = True);# , cmap = 'Blues_r' : map »ö»ó  \n",
    "plt.ylabel('Actual label'); \n",
    "plt.xlabel('Predicted label'); \n",
    "all_sample_title = 'Accuracy Score: {0}'.format(acc) \n",
    "plt.title(all_sample_title, size = 18) \n",
    "plt.show() "
   ]
  },
  {
   "cell_type": "code",
   "execution_count": 128,
   "metadata": {},
   "outputs": [],
   "source": [
    "from matplotlib import pyplot"
   ]
  },
  {
   "cell_type": "markdown",
   "metadata": {},
   "source": [
    "## 꽤 높은 정확도를 가짐을 알 수 있음"
   ]
  },
  {
   "cell_type": "markdown",
   "metadata": {},
   "source": [
    "### Auto ML"
   ]
  },
  {
   "cell_type": "code",
   "execution_count": 129,
   "metadata": {},
   "outputs": [],
   "source": [
    "from pycaret.classification import *"
   ]
  },
  {
   "cell_type": "code",
   "execution_count": 139,
   "metadata": {},
   "outputs": [],
   "source": [
    "feature_list = list(new_grid.drop(columns = ['음식점','행정동코드','행정동면적','ID','GRADE_전체','총인구','유소년인구','성폭력취약인구','건축물(30_34)','건축물(35)','대규모점포','파출소','자율방범대']).columns)\n",
    "\n",
    "feature = new_grid[feature_list]"
   ]
  },
  {
   "cell_type": "code",
   "execution_count": 140,
   "metadata": {},
   "outputs": [
    {
     "data": {
      "text/html": [
       "<style  type=\"text/css\" >\n",
       "#T_ca7960be_03e2_11ec_95f2_acbc32d61fabrow42_col1,#T_ca7960be_03e2_11ec_95f2_acbc32d61fabrow44_col1{\n",
       "            background-color:  lightgreen;\n",
       "        }</style><table id=\"T_ca7960be_03e2_11ec_95f2_acbc32d61fab\" ><thead>    <tr>        <th class=\"blank level0\" ></th>        <th class=\"col_heading level0 col0\" >Description</th>        <th class=\"col_heading level0 col1\" >Value</th>    </tr></thead><tbody>\n",
       "                <tr>\n",
       "                        <th id=\"T_ca7960be_03e2_11ec_95f2_acbc32d61fablevel0_row0\" class=\"row_heading level0 row0\" >0</th>\n",
       "                        <td id=\"T_ca7960be_03e2_11ec_95f2_acbc32d61fabrow0_col0\" class=\"data row0 col0\" >session_id</td>\n",
       "                        <td id=\"T_ca7960be_03e2_11ec_95f2_acbc32d61fabrow0_col1\" class=\"data row0 col1\" >123</td>\n",
       "            </tr>\n",
       "            <tr>\n",
       "                        <th id=\"T_ca7960be_03e2_11ec_95f2_acbc32d61fablevel0_row1\" class=\"row_heading level0 row1\" >1</th>\n",
       "                        <td id=\"T_ca7960be_03e2_11ec_95f2_acbc32d61fabrow1_col0\" class=\"data row1 col0\" >Target</td>\n",
       "                        <td id=\"T_ca7960be_03e2_11ec_95f2_acbc32d61fabrow1_col1\" class=\"data row1 col1\" >범죄발생</td>\n",
       "            </tr>\n",
       "            <tr>\n",
       "                        <th id=\"T_ca7960be_03e2_11ec_95f2_acbc32d61fablevel0_row2\" class=\"row_heading level0 row2\" >2</th>\n",
       "                        <td id=\"T_ca7960be_03e2_11ec_95f2_acbc32d61fabrow2_col0\" class=\"data row2 col0\" >Target Type</td>\n",
       "                        <td id=\"T_ca7960be_03e2_11ec_95f2_acbc32d61fabrow2_col1\" class=\"data row2 col1\" >Binary</td>\n",
       "            </tr>\n",
       "            <tr>\n",
       "                        <th id=\"T_ca7960be_03e2_11ec_95f2_acbc32d61fablevel0_row3\" class=\"row_heading level0 row3\" >3</th>\n",
       "                        <td id=\"T_ca7960be_03e2_11ec_95f2_acbc32d61fabrow3_col0\" class=\"data row3 col0\" >Label Encoded</td>\n",
       "                        <td id=\"T_ca7960be_03e2_11ec_95f2_acbc32d61fabrow3_col1\" class=\"data row3 col1\" >0: 0, 1: 1</td>\n",
       "            </tr>\n",
       "            <tr>\n",
       "                        <th id=\"T_ca7960be_03e2_11ec_95f2_acbc32d61fablevel0_row4\" class=\"row_heading level0 row4\" >4</th>\n",
       "                        <td id=\"T_ca7960be_03e2_11ec_95f2_acbc32d61fabrow4_col0\" class=\"data row4 col0\" >Original Data</td>\n",
       "                        <td id=\"T_ca7960be_03e2_11ec_95f2_acbc32d61fabrow4_col1\" class=\"data row4 col1\" >(2038, 23)</td>\n",
       "            </tr>\n",
       "            <tr>\n",
       "                        <th id=\"T_ca7960be_03e2_11ec_95f2_acbc32d61fablevel0_row5\" class=\"row_heading level0 row5\" >5</th>\n",
       "                        <td id=\"T_ca7960be_03e2_11ec_95f2_acbc32d61fabrow5_col0\" class=\"data row5 col0\" >Missing Values</td>\n",
       "                        <td id=\"T_ca7960be_03e2_11ec_95f2_acbc32d61fabrow5_col1\" class=\"data row5 col1\" >False</td>\n",
       "            </tr>\n",
       "            <tr>\n",
       "                        <th id=\"T_ca7960be_03e2_11ec_95f2_acbc32d61fablevel0_row6\" class=\"row_heading level0 row6\" >6</th>\n",
       "                        <td id=\"T_ca7960be_03e2_11ec_95f2_acbc32d61fabrow6_col0\" class=\"data row6 col0\" >Numeric Features</td>\n",
       "                        <td id=\"T_ca7960be_03e2_11ec_95f2_acbc32d61fabrow6_col1\" class=\"data row6 col1\" >22</td>\n",
       "            </tr>\n",
       "            <tr>\n",
       "                        <th id=\"T_ca7960be_03e2_11ec_95f2_acbc32d61fablevel0_row7\" class=\"row_heading level0 row7\" >7</th>\n",
       "                        <td id=\"T_ca7960be_03e2_11ec_95f2_acbc32d61fabrow7_col0\" class=\"data row7 col0\" >Categorical Features</td>\n",
       "                        <td id=\"T_ca7960be_03e2_11ec_95f2_acbc32d61fabrow7_col1\" class=\"data row7 col1\" >0</td>\n",
       "            </tr>\n",
       "            <tr>\n",
       "                        <th id=\"T_ca7960be_03e2_11ec_95f2_acbc32d61fablevel0_row8\" class=\"row_heading level0 row8\" >8</th>\n",
       "                        <td id=\"T_ca7960be_03e2_11ec_95f2_acbc32d61fabrow8_col0\" class=\"data row8 col0\" >Ordinal Features</td>\n",
       "                        <td id=\"T_ca7960be_03e2_11ec_95f2_acbc32d61fabrow8_col1\" class=\"data row8 col1\" >False</td>\n",
       "            </tr>\n",
       "            <tr>\n",
       "                        <th id=\"T_ca7960be_03e2_11ec_95f2_acbc32d61fablevel0_row9\" class=\"row_heading level0 row9\" >9</th>\n",
       "                        <td id=\"T_ca7960be_03e2_11ec_95f2_acbc32d61fabrow9_col0\" class=\"data row9 col0\" >High Cardinality Features</td>\n",
       "                        <td id=\"T_ca7960be_03e2_11ec_95f2_acbc32d61fabrow9_col1\" class=\"data row9 col1\" >False</td>\n",
       "            </tr>\n",
       "            <tr>\n",
       "                        <th id=\"T_ca7960be_03e2_11ec_95f2_acbc32d61fablevel0_row10\" class=\"row_heading level0 row10\" >10</th>\n",
       "                        <td id=\"T_ca7960be_03e2_11ec_95f2_acbc32d61fabrow10_col0\" class=\"data row10 col0\" >High Cardinality Method</td>\n",
       "                        <td id=\"T_ca7960be_03e2_11ec_95f2_acbc32d61fabrow10_col1\" class=\"data row10 col1\" >None</td>\n",
       "            </tr>\n",
       "            <tr>\n",
       "                        <th id=\"T_ca7960be_03e2_11ec_95f2_acbc32d61fablevel0_row11\" class=\"row_heading level0 row11\" >11</th>\n",
       "                        <td id=\"T_ca7960be_03e2_11ec_95f2_acbc32d61fabrow11_col0\" class=\"data row11 col0\" >Transformed Train Set</td>\n",
       "                        <td id=\"T_ca7960be_03e2_11ec_95f2_acbc32d61fabrow11_col1\" class=\"data row11 col1\" >(1426, 18)</td>\n",
       "            </tr>\n",
       "            <tr>\n",
       "                        <th id=\"T_ca7960be_03e2_11ec_95f2_acbc32d61fablevel0_row12\" class=\"row_heading level0 row12\" >12</th>\n",
       "                        <td id=\"T_ca7960be_03e2_11ec_95f2_acbc32d61fabrow12_col0\" class=\"data row12 col0\" >Transformed Test Set</td>\n",
       "                        <td id=\"T_ca7960be_03e2_11ec_95f2_acbc32d61fabrow12_col1\" class=\"data row12 col1\" >(612, 18)</td>\n",
       "            </tr>\n",
       "            <tr>\n",
       "                        <th id=\"T_ca7960be_03e2_11ec_95f2_acbc32d61fablevel0_row13\" class=\"row_heading level0 row13\" >13</th>\n",
       "                        <td id=\"T_ca7960be_03e2_11ec_95f2_acbc32d61fabrow13_col0\" class=\"data row13 col0\" >Shuffle Train-Test</td>\n",
       "                        <td id=\"T_ca7960be_03e2_11ec_95f2_acbc32d61fabrow13_col1\" class=\"data row13 col1\" >True</td>\n",
       "            </tr>\n",
       "            <tr>\n",
       "                        <th id=\"T_ca7960be_03e2_11ec_95f2_acbc32d61fablevel0_row14\" class=\"row_heading level0 row14\" >14</th>\n",
       "                        <td id=\"T_ca7960be_03e2_11ec_95f2_acbc32d61fabrow14_col0\" class=\"data row14 col0\" >Stratify Train-Test</td>\n",
       "                        <td id=\"T_ca7960be_03e2_11ec_95f2_acbc32d61fabrow14_col1\" class=\"data row14 col1\" >False</td>\n",
       "            </tr>\n",
       "            <tr>\n",
       "                        <th id=\"T_ca7960be_03e2_11ec_95f2_acbc32d61fablevel0_row15\" class=\"row_heading level0 row15\" >15</th>\n",
       "                        <td id=\"T_ca7960be_03e2_11ec_95f2_acbc32d61fabrow15_col0\" class=\"data row15 col0\" >Fold Generator</td>\n",
       "                        <td id=\"T_ca7960be_03e2_11ec_95f2_acbc32d61fabrow15_col1\" class=\"data row15 col1\" >StratifiedKFold</td>\n",
       "            </tr>\n",
       "            <tr>\n",
       "                        <th id=\"T_ca7960be_03e2_11ec_95f2_acbc32d61fablevel0_row16\" class=\"row_heading level0 row16\" >16</th>\n",
       "                        <td id=\"T_ca7960be_03e2_11ec_95f2_acbc32d61fabrow16_col0\" class=\"data row16 col0\" >Fold Number</td>\n",
       "                        <td id=\"T_ca7960be_03e2_11ec_95f2_acbc32d61fabrow16_col1\" class=\"data row16 col1\" >10</td>\n",
       "            </tr>\n",
       "            <tr>\n",
       "                        <th id=\"T_ca7960be_03e2_11ec_95f2_acbc32d61fablevel0_row17\" class=\"row_heading level0 row17\" >17</th>\n",
       "                        <td id=\"T_ca7960be_03e2_11ec_95f2_acbc32d61fabrow17_col0\" class=\"data row17 col0\" >CPU Jobs</td>\n",
       "                        <td id=\"T_ca7960be_03e2_11ec_95f2_acbc32d61fabrow17_col1\" class=\"data row17 col1\" >-1</td>\n",
       "            </tr>\n",
       "            <tr>\n",
       "                        <th id=\"T_ca7960be_03e2_11ec_95f2_acbc32d61fablevel0_row18\" class=\"row_heading level0 row18\" >18</th>\n",
       "                        <td id=\"T_ca7960be_03e2_11ec_95f2_acbc32d61fabrow18_col0\" class=\"data row18 col0\" >Use GPU</td>\n",
       "                        <td id=\"T_ca7960be_03e2_11ec_95f2_acbc32d61fabrow18_col1\" class=\"data row18 col1\" >False</td>\n",
       "            </tr>\n",
       "            <tr>\n",
       "                        <th id=\"T_ca7960be_03e2_11ec_95f2_acbc32d61fablevel0_row19\" class=\"row_heading level0 row19\" >19</th>\n",
       "                        <td id=\"T_ca7960be_03e2_11ec_95f2_acbc32d61fabrow19_col0\" class=\"data row19 col0\" >Log Experiment</td>\n",
       "                        <td id=\"T_ca7960be_03e2_11ec_95f2_acbc32d61fabrow19_col1\" class=\"data row19 col1\" >False</td>\n",
       "            </tr>\n",
       "            <tr>\n",
       "                        <th id=\"T_ca7960be_03e2_11ec_95f2_acbc32d61fablevel0_row20\" class=\"row_heading level0 row20\" >20</th>\n",
       "                        <td id=\"T_ca7960be_03e2_11ec_95f2_acbc32d61fabrow20_col0\" class=\"data row20 col0\" >Experiment Name</td>\n",
       "                        <td id=\"T_ca7960be_03e2_11ec_95f2_acbc32d61fabrow20_col1\" class=\"data row20 col1\" >clf-default-name</td>\n",
       "            </tr>\n",
       "            <tr>\n",
       "                        <th id=\"T_ca7960be_03e2_11ec_95f2_acbc32d61fablevel0_row21\" class=\"row_heading level0 row21\" >21</th>\n",
       "                        <td id=\"T_ca7960be_03e2_11ec_95f2_acbc32d61fabrow21_col0\" class=\"data row21 col0\" >USI</td>\n",
       "                        <td id=\"T_ca7960be_03e2_11ec_95f2_acbc32d61fabrow21_col1\" class=\"data row21 col1\" >adf3</td>\n",
       "            </tr>\n",
       "            <tr>\n",
       "                        <th id=\"T_ca7960be_03e2_11ec_95f2_acbc32d61fablevel0_row22\" class=\"row_heading level0 row22\" >22</th>\n",
       "                        <td id=\"T_ca7960be_03e2_11ec_95f2_acbc32d61fabrow22_col0\" class=\"data row22 col0\" >Imputation Type</td>\n",
       "                        <td id=\"T_ca7960be_03e2_11ec_95f2_acbc32d61fabrow22_col1\" class=\"data row22 col1\" >simple</td>\n",
       "            </tr>\n",
       "            <tr>\n",
       "                        <th id=\"T_ca7960be_03e2_11ec_95f2_acbc32d61fablevel0_row23\" class=\"row_heading level0 row23\" >23</th>\n",
       "                        <td id=\"T_ca7960be_03e2_11ec_95f2_acbc32d61fabrow23_col0\" class=\"data row23 col0\" >Iterative Imputation Iteration</td>\n",
       "                        <td id=\"T_ca7960be_03e2_11ec_95f2_acbc32d61fabrow23_col1\" class=\"data row23 col1\" >None</td>\n",
       "            </tr>\n",
       "            <tr>\n",
       "                        <th id=\"T_ca7960be_03e2_11ec_95f2_acbc32d61fablevel0_row24\" class=\"row_heading level0 row24\" >24</th>\n",
       "                        <td id=\"T_ca7960be_03e2_11ec_95f2_acbc32d61fabrow24_col0\" class=\"data row24 col0\" >Numeric Imputer</td>\n",
       "                        <td id=\"T_ca7960be_03e2_11ec_95f2_acbc32d61fabrow24_col1\" class=\"data row24 col1\" >mean</td>\n",
       "            </tr>\n",
       "            <tr>\n",
       "                        <th id=\"T_ca7960be_03e2_11ec_95f2_acbc32d61fablevel0_row25\" class=\"row_heading level0 row25\" >25</th>\n",
       "                        <td id=\"T_ca7960be_03e2_11ec_95f2_acbc32d61fabrow25_col0\" class=\"data row25 col0\" >Iterative Imputation Numeric Model</td>\n",
       "                        <td id=\"T_ca7960be_03e2_11ec_95f2_acbc32d61fabrow25_col1\" class=\"data row25 col1\" >None</td>\n",
       "            </tr>\n",
       "            <tr>\n",
       "                        <th id=\"T_ca7960be_03e2_11ec_95f2_acbc32d61fablevel0_row26\" class=\"row_heading level0 row26\" >26</th>\n",
       "                        <td id=\"T_ca7960be_03e2_11ec_95f2_acbc32d61fabrow26_col0\" class=\"data row26 col0\" >Categorical Imputer</td>\n",
       "                        <td id=\"T_ca7960be_03e2_11ec_95f2_acbc32d61fabrow26_col1\" class=\"data row26 col1\" >constant</td>\n",
       "            </tr>\n",
       "            <tr>\n",
       "                        <th id=\"T_ca7960be_03e2_11ec_95f2_acbc32d61fablevel0_row27\" class=\"row_heading level0 row27\" >27</th>\n",
       "                        <td id=\"T_ca7960be_03e2_11ec_95f2_acbc32d61fabrow27_col0\" class=\"data row27 col0\" >Iterative Imputation Categorical Model</td>\n",
       "                        <td id=\"T_ca7960be_03e2_11ec_95f2_acbc32d61fabrow27_col1\" class=\"data row27 col1\" >None</td>\n",
       "            </tr>\n",
       "            <tr>\n",
       "                        <th id=\"T_ca7960be_03e2_11ec_95f2_acbc32d61fablevel0_row28\" class=\"row_heading level0 row28\" >28</th>\n",
       "                        <td id=\"T_ca7960be_03e2_11ec_95f2_acbc32d61fabrow28_col0\" class=\"data row28 col0\" >Unknown Categoricals Handling</td>\n",
       "                        <td id=\"T_ca7960be_03e2_11ec_95f2_acbc32d61fabrow28_col1\" class=\"data row28 col1\" >least_frequent</td>\n",
       "            </tr>\n",
       "            <tr>\n",
       "                        <th id=\"T_ca7960be_03e2_11ec_95f2_acbc32d61fablevel0_row29\" class=\"row_heading level0 row29\" >29</th>\n",
       "                        <td id=\"T_ca7960be_03e2_11ec_95f2_acbc32d61fabrow29_col0\" class=\"data row29 col0\" >Normalize</td>\n",
       "                        <td id=\"T_ca7960be_03e2_11ec_95f2_acbc32d61fabrow29_col1\" class=\"data row29 col1\" >False</td>\n",
       "            </tr>\n",
       "            <tr>\n",
       "                        <th id=\"T_ca7960be_03e2_11ec_95f2_acbc32d61fablevel0_row30\" class=\"row_heading level0 row30\" >30</th>\n",
       "                        <td id=\"T_ca7960be_03e2_11ec_95f2_acbc32d61fabrow30_col0\" class=\"data row30 col0\" >Normalize Method</td>\n",
       "                        <td id=\"T_ca7960be_03e2_11ec_95f2_acbc32d61fabrow30_col1\" class=\"data row30 col1\" >None</td>\n",
       "            </tr>\n",
       "            <tr>\n",
       "                        <th id=\"T_ca7960be_03e2_11ec_95f2_acbc32d61fablevel0_row31\" class=\"row_heading level0 row31\" >31</th>\n",
       "                        <td id=\"T_ca7960be_03e2_11ec_95f2_acbc32d61fabrow31_col0\" class=\"data row31 col0\" >Transformation</td>\n",
       "                        <td id=\"T_ca7960be_03e2_11ec_95f2_acbc32d61fabrow31_col1\" class=\"data row31 col1\" >False</td>\n",
       "            </tr>\n",
       "            <tr>\n",
       "                        <th id=\"T_ca7960be_03e2_11ec_95f2_acbc32d61fablevel0_row32\" class=\"row_heading level0 row32\" >32</th>\n",
       "                        <td id=\"T_ca7960be_03e2_11ec_95f2_acbc32d61fabrow32_col0\" class=\"data row32 col0\" >Transformation Method</td>\n",
       "                        <td id=\"T_ca7960be_03e2_11ec_95f2_acbc32d61fabrow32_col1\" class=\"data row32 col1\" >None</td>\n",
       "            </tr>\n",
       "            <tr>\n",
       "                        <th id=\"T_ca7960be_03e2_11ec_95f2_acbc32d61fablevel0_row33\" class=\"row_heading level0 row33\" >33</th>\n",
       "                        <td id=\"T_ca7960be_03e2_11ec_95f2_acbc32d61fabrow33_col0\" class=\"data row33 col0\" >PCA</td>\n",
       "                        <td id=\"T_ca7960be_03e2_11ec_95f2_acbc32d61fabrow33_col1\" class=\"data row33 col1\" >False</td>\n",
       "            </tr>\n",
       "            <tr>\n",
       "                        <th id=\"T_ca7960be_03e2_11ec_95f2_acbc32d61fablevel0_row34\" class=\"row_heading level0 row34\" >34</th>\n",
       "                        <td id=\"T_ca7960be_03e2_11ec_95f2_acbc32d61fabrow34_col0\" class=\"data row34 col0\" >PCA Method</td>\n",
       "                        <td id=\"T_ca7960be_03e2_11ec_95f2_acbc32d61fabrow34_col1\" class=\"data row34 col1\" >None</td>\n",
       "            </tr>\n",
       "            <tr>\n",
       "                        <th id=\"T_ca7960be_03e2_11ec_95f2_acbc32d61fablevel0_row35\" class=\"row_heading level0 row35\" >35</th>\n",
       "                        <td id=\"T_ca7960be_03e2_11ec_95f2_acbc32d61fabrow35_col0\" class=\"data row35 col0\" >PCA Components</td>\n",
       "                        <td id=\"T_ca7960be_03e2_11ec_95f2_acbc32d61fabrow35_col1\" class=\"data row35 col1\" >None</td>\n",
       "            </tr>\n",
       "            <tr>\n",
       "                        <th id=\"T_ca7960be_03e2_11ec_95f2_acbc32d61fablevel0_row36\" class=\"row_heading level0 row36\" >36</th>\n",
       "                        <td id=\"T_ca7960be_03e2_11ec_95f2_acbc32d61fabrow36_col0\" class=\"data row36 col0\" >Ignore Low Variance</td>\n",
       "                        <td id=\"T_ca7960be_03e2_11ec_95f2_acbc32d61fabrow36_col1\" class=\"data row36 col1\" >False</td>\n",
       "            </tr>\n",
       "            <tr>\n",
       "                        <th id=\"T_ca7960be_03e2_11ec_95f2_acbc32d61fablevel0_row37\" class=\"row_heading level0 row37\" >37</th>\n",
       "                        <td id=\"T_ca7960be_03e2_11ec_95f2_acbc32d61fabrow37_col0\" class=\"data row37 col0\" >Combine Rare Levels</td>\n",
       "                        <td id=\"T_ca7960be_03e2_11ec_95f2_acbc32d61fabrow37_col1\" class=\"data row37 col1\" >False</td>\n",
       "            </tr>\n",
       "            <tr>\n",
       "                        <th id=\"T_ca7960be_03e2_11ec_95f2_acbc32d61fablevel0_row38\" class=\"row_heading level0 row38\" >38</th>\n",
       "                        <td id=\"T_ca7960be_03e2_11ec_95f2_acbc32d61fabrow38_col0\" class=\"data row38 col0\" >Rare Level Threshold</td>\n",
       "                        <td id=\"T_ca7960be_03e2_11ec_95f2_acbc32d61fabrow38_col1\" class=\"data row38 col1\" >None</td>\n",
       "            </tr>\n",
       "            <tr>\n",
       "                        <th id=\"T_ca7960be_03e2_11ec_95f2_acbc32d61fablevel0_row39\" class=\"row_heading level0 row39\" >39</th>\n",
       "                        <td id=\"T_ca7960be_03e2_11ec_95f2_acbc32d61fabrow39_col0\" class=\"data row39 col0\" >Numeric Binning</td>\n",
       "                        <td id=\"T_ca7960be_03e2_11ec_95f2_acbc32d61fabrow39_col1\" class=\"data row39 col1\" >False</td>\n",
       "            </tr>\n",
       "            <tr>\n",
       "                        <th id=\"T_ca7960be_03e2_11ec_95f2_acbc32d61fablevel0_row40\" class=\"row_heading level0 row40\" >40</th>\n",
       "                        <td id=\"T_ca7960be_03e2_11ec_95f2_acbc32d61fabrow40_col0\" class=\"data row40 col0\" >Remove Outliers</td>\n",
       "                        <td id=\"T_ca7960be_03e2_11ec_95f2_acbc32d61fabrow40_col1\" class=\"data row40 col1\" >False</td>\n",
       "            </tr>\n",
       "            <tr>\n",
       "                        <th id=\"T_ca7960be_03e2_11ec_95f2_acbc32d61fablevel0_row41\" class=\"row_heading level0 row41\" >41</th>\n",
       "                        <td id=\"T_ca7960be_03e2_11ec_95f2_acbc32d61fabrow41_col0\" class=\"data row41 col0\" >Outliers Threshold</td>\n",
       "                        <td id=\"T_ca7960be_03e2_11ec_95f2_acbc32d61fabrow41_col1\" class=\"data row41 col1\" >None</td>\n",
       "            </tr>\n",
       "            <tr>\n",
       "                        <th id=\"T_ca7960be_03e2_11ec_95f2_acbc32d61fablevel0_row42\" class=\"row_heading level0 row42\" >42</th>\n",
       "                        <td id=\"T_ca7960be_03e2_11ec_95f2_acbc32d61fabrow42_col0\" class=\"data row42 col0\" >Remove Multicollinearity</td>\n",
       "                        <td id=\"T_ca7960be_03e2_11ec_95f2_acbc32d61fabrow42_col1\" class=\"data row42 col1\" >True</td>\n",
       "            </tr>\n",
       "            <tr>\n",
       "                        <th id=\"T_ca7960be_03e2_11ec_95f2_acbc32d61fablevel0_row43\" class=\"row_heading level0 row43\" >43</th>\n",
       "                        <td id=\"T_ca7960be_03e2_11ec_95f2_acbc32d61fabrow43_col0\" class=\"data row43 col0\" >Multicollinearity Threshold</td>\n",
       "                        <td id=\"T_ca7960be_03e2_11ec_95f2_acbc32d61fabrow43_col1\" class=\"data row43 col1\" >0.600000</td>\n",
       "            </tr>\n",
       "            <tr>\n",
       "                        <th id=\"T_ca7960be_03e2_11ec_95f2_acbc32d61fablevel0_row44\" class=\"row_heading level0 row44\" >44</th>\n",
       "                        <td id=\"T_ca7960be_03e2_11ec_95f2_acbc32d61fabrow44_col0\" class=\"data row44 col0\" >Remove Perfect Collinearity</td>\n",
       "                        <td id=\"T_ca7960be_03e2_11ec_95f2_acbc32d61fabrow44_col1\" class=\"data row44 col1\" >True</td>\n",
       "            </tr>\n",
       "            <tr>\n",
       "                        <th id=\"T_ca7960be_03e2_11ec_95f2_acbc32d61fablevel0_row45\" class=\"row_heading level0 row45\" >45</th>\n",
       "                        <td id=\"T_ca7960be_03e2_11ec_95f2_acbc32d61fabrow45_col0\" class=\"data row45 col0\" >Clustering</td>\n",
       "                        <td id=\"T_ca7960be_03e2_11ec_95f2_acbc32d61fabrow45_col1\" class=\"data row45 col1\" >False</td>\n",
       "            </tr>\n",
       "            <tr>\n",
       "                        <th id=\"T_ca7960be_03e2_11ec_95f2_acbc32d61fablevel0_row46\" class=\"row_heading level0 row46\" >46</th>\n",
       "                        <td id=\"T_ca7960be_03e2_11ec_95f2_acbc32d61fabrow46_col0\" class=\"data row46 col0\" >Clustering Iteration</td>\n",
       "                        <td id=\"T_ca7960be_03e2_11ec_95f2_acbc32d61fabrow46_col1\" class=\"data row46 col1\" >None</td>\n",
       "            </tr>\n",
       "            <tr>\n",
       "                        <th id=\"T_ca7960be_03e2_11ec_95f2_acbc32d61fablevel0_row47\" class=\"row_heading level0 row47\" >47</th>\n",
       "                        <td id=\"T_ca7960be_03e2_11ec_95f2_acbc32d61fabrow47_col0\" class=\"data row47 col0\" >Polynomial Features</td>\n",
       "                        <td id=\"T_ca7960be_03e2_11ec_95f2_acbc32d61fabrow47_col1\" class=\"data row47 col1\" >False</td>\n",
       "            </tr>\n",
       "            <tr>\n",
       "                        <th id=\"T_ca7960be_03e2_11ec_95f2_acbc32d61fablevel0_row48\" class=\"row_heading level0 row48\" >48</th>\n",
       "                        <td id=\"T_ca7960be_03e2_11ec_95f2_acbc32d61fabrow48_col0\" class=\"data row48 col0\" >Polynomial Degree</td>\n",
       "                        <td id=\"T_ca7960be_03e2_11ec_95f2_acbc32d61fabrow48_col1\" class=\"data row48 col1\" >None</td>\n",
       "            </tr>\n",
       "            <tr>\n",
       "                        <th id=\"T_ca7960be_03e2_11ec_95f2_acbc32d61fablevel0_row49\" class=\"row_heading level0 row49\" >49</th>\n",
       "                        <td id=\"T_ca7960be_03e2_11ec_95f2_acbc32d61fabrow49_col0\" class=\"data row49 col0\" >Trignometry Features</td>\n",
       "                        <td id=\"T_ca7960be_03e2_11ec_95f2_acbc32d61fabrow49_col1\" class=\"data row49 col1\" >False</td>\n",
       "            </tr>\n",
       "            <tr>\n",
       "                        <th id=\"T_ca7960be_03e2_11ec_95f2_acbc32d61fablevel0_row50\" class=\"row_heading level0 row50\" >50</th>\n",
       "                        <td id=\"T_ca7960be_03e2_11ec_95f2_acbc32d61fabrow50_col0\" class=\"data row50 col0\" >Polynomial Threshold</td>\n",
       "                        <td id=\"T_ca7960be_03e2_11ec_95f2_acbc32d61fabrow50_col1\" class=\"data row50 col1\" >None</td>\n",
       "            </tr>\n",
       "            <tr>\n",
       "                        <th id=\"T_ca7960be_03e2_11ec_95f2_acbc32d61fablevel0_row51\" class=\"row_heading level0 row51\" >51</th>\n",
       "                        <td id=\"T_ca7960be_03e2_11ec_95f2_acbc32d61fabrow51_col0\" class=\"data row51 col0\" >Group Features</td>\n",
       "                        <td id=\"T_ca7960be_03e2_11ec_95f2_acbc32d61fabrow51_col1\" class=\"data row51 col1\" >False</td>\n",
       "            </tr>\n",
       "            <tr>\n",
       "                        <th id=\"T_ca7960be_03e2_11ec_95f2_acbc32d61fablevel0_row52\" class=\"row_heading level0 row52\" >52</th>\n",
       "                        <td id=\"T_ca7960be_03e2_11ec_95f2_acbc32d61fabrow52_col0\" class=\"data row52 col0\" >Feature Selection</td>\n",
       "                        <td id=\"T_ca7960be_03e2_11ec_95f2_acbc32d61fabrow52_col1\" class=\"data row52 col1\" >False</td>\n",
       "            </tr>\n",
       "            <tr>\n",
       "                        <th id=\"T_ca7960be_03e2_11ec_95f2_acbc32d61fablevel0_row53\" class=\"row_heading level0 row53\" >53</th>\n",
       "                        <td id=\"T_ca7960be_03e2_11ec_95f2_acbc32d61fabrow53_col0\" class=\"data row53 col0\" >Feature Selection Method</td>\n",
       "                        <td id=\"T_ca7960be_03e2_11ec_95f2_acbc32d61fabrow53_col1\" class=\"data row53 col1\" >classic</td>\n",
       "            </tr>\n",
       "            <tr>\n",
       "                        <th id=\"T_ca7960be_03e2_11ec_95f2_acbc32d61fablevel0_row54\" class=\"row_heading level0 row54\" >54</th>\n",
       "                        <td id=\"T_ca7960be_03e2_11ec_95f2_acbc32d61fabrow54_col0\" class=\"data row54 col0\" >Features Selection Threshold</td>\n",
       "                        <td id=\"T_ca7960be_03e2_11ec_95f2_acbc32d61fabrow54_col1\" class=\"data row54 col1\" >None</td>\n",
       "            </tr>\n",
       "            <tr>\n",
       "                        <th id=\"T_ca7960be_03e2_11ec_95f2_acbc32d61fablevel0_row55\" class=\"row_heading level0 row55\" >55</th>\n",
       "                        <td id=\"T_ca7960be_03e2_11ec_95f2_acbc32d61fabrow55_col0\" class=\"data row55 col0\" >Feature Interaction</td>\n",
       "                        <td id=\"T_ca7960be_03e2_11ec_95f2_acbc32d61fabrow55_col1\" class=\"data row55 col1\" >False</td>\n",
       "            </tr>\n",
       "            <tr>\n",
       "                        <th id=\"T_ca7960be_03e2_11ec_95f2_acbc32d61fablevel0_row56\" class=\"row_heading level0 row56\" >56</th>\n",
       "                        <td id=\"T_ca7960be_03e2_11ec_95f2_acbc32d61fabrow56_col0\" class=\"data row56 col0\" >Feature Ratio</td>\n",
       "                        <td id=\"T_ca7960be_03e2_11ec_95f2_acbc32d61fabrow56_col1\" class=\"data row56 col1\" >False</td>\n",
       "            </tr>\n",
       "            <tr>\n",
       "                        <th id=\"T_ca7960be_03e2_11ec_95f2_acbc32d61fablevel0_row57\" class=\"row_heading level0 row57\" >57</th>\n",
       "                        <td id=\"T_ca7960be_03e2_11ec_95f2_acbc32d61fabrow57_col0\" class=\"data row57 col0\" >Interaction Threshold</td>\n",
       "                        <td id=\"T_ca7960be_03e2_11ec_95f2_acbc32d61fabrow57_col1\" class=\"data row57 col1\" >None</td>\n",
       "            </tr>\n",
       "            <tr>\n",
       "                        <th id=\"T_ca7960be_03e2_11ec_95f2_acbc32d61fablevel0_row58\" class=\"row_heading level0 row58\" >58</th>\n",
       "                        <td id=\"T_ca7960be_03e2_11ec_95f2_acbc32d61fabrow58_col0\" class=\"data row58 col0\" >Fix Imbalance</td>\n",
       "                        <td id=\"T_ca7960be_03e2_11ec_95f2_acbc32d61fabrow58_col1\" class=\"data row58 col1\" >False</td>\n",
       "            </tr>\n",
       "            <tr>\n",
       "                        <th id=\"T_ca7960be_03e2_11ec_95f2_acbc32d61fablevel0_row59\" class=\"row_heading level0 row59\" >59</th>\n",
       "                        <td id=\"T_ca7960be_03e2_11ec_95f2_acbc32d61fabrow59_col0\" class=\"data row59 col0\" >Fix Imbalance Method</td>\n",
       "                        <td id=\"T_ca7960be_03e2_11ec_95f2_acbc32d61fabrow59_col1\" class=\"data row59 col1\" >SMOTE</td>\n",
       "            </tr>\n",
       "    </tbody></table>"
      ],
      "text/plain": [
       "<pandas.io.formats.style.Styler at 0x7f9ab0ad6430>"
      ]
     },
     "metadata": {},
     "output_type": "display_data"
    }
   ],
   "source": [
    "# 'voted' 컬럼이 예측 대상이므로 target 인자에 명시\n",
    "# 'voted' column is the target variable\n",
    "clf = setup(data = feature,\n",
    "            train_size = 0.7,\n",
    "            target = '범죄발생',\n",
    "            use_gpu = False, \n",
    "            session_id = 123,\n",
    "           fold_shuffle = True,\n",
    "           remove_multicollinearity = True, multicollinearity_threshold = 0.6)"
   ]
  },
  {
   "cell_type": "code",
   "execution_count": 141,
   "metadata": {},
   "outputs": [
    {
     "data": {
      "text/html": [
       "<style  type=\"text/css\" >\n",
       "    #T_e714c84e_03e2_11ec_95f2_acbc32d61fab th {\n",
       "          text-align: left;\n",
       "    }#T_e714c84e_03e2_11ec_95f2_acbc32d61fabrow0_col0,#T_e714c84e_03e2_11ec_95f2_acbc32d61fabrow0_col2,#T_e714c84e_03e2_11ec_95f2_acbc32d61fabrow0_col3,#T_e714c84e_03e2_11ec_95f2_acbc32d61fabrow0_col4,#T_e714c84e_03e2_11ec_95f2_acbc32d61fabrow1_col0,#T_e714c84e_03e2_11ec_95f2_acbc32d61fabrow1_col1,#T_e714c84e_03e2_11ec_95f2_acbc32d61fabrow1_col3,#T_e714c84e_03e2_11ec_95f2_acbc32d61fabrow1_col4,#T_e714c84e_03e2_11ec_95f2_acbc32d61fabrow1_col5,#T_e714c84e_03e2_11ec_95f2_acbc32d61fabrow1_col6,#T_e714c84e_03e2_11ec_95f2_acbc32d61fabrow1_col7,#T_e714c84e_03e2_11ec_95f2_acbc32d61fabrow2_col0,#T_e714c84e_03e2_11ec_95f2_acbc32d61fabrow2_col1,#T_e714c84e_03e2_11ec_95f2_acbc32d61fabrow2_col2,#T_e714c84e_03e2_11ec_95f2_acbc32d61fabrow2_col3,#T_e714c84e_03e2_11ec_95f2_acbc32d61fabrow2_col4,#T_e714c84e_03e2_11ec_95f2_acbc32d61fabrow2_col5,#T_e714c84e_03e2_11ec_95f2_acbc32d61fabrow2_col6,#T_e714c84e_03e2_11ec_95f2_acbc32d61fabrow2_col7,#T_e714c84e_03e2_11ec_95f2_acbc32d61fabrow3_col0,#T_e714c84e_03e2_11ec_95f2_acbc32d61fabrow3_col1,#T_e714c84e_03e2_11ec_95f2_acbc32d61fabrow3_col2,#T_e714c84e_03e2_11ec_95f2_acbc32d61fabrow3_col3,#T_e714c84e_03e2_11ec_95f2_acbc32d61fabrow3_col4,#T_e714c84e_03e2_11ec_95f2_acbc32d61fabrow3_col5,#T_e714c84e_03e2_11ec_95f2_acbc32d61fabrow3_col6,#T_e714c84e_03e2_11ec_95f2_acbc32d61fabrow3_col7,#T_e714c84e_03e2_11ec_95f2_acbc32d61fabrow4_col0,#T_e714c84e_03e2_11ec_95f2_acbc32d61fabrow4_col1,#T_e714c84e_03e2_11ec_95f2_acbc32d61fabrow4_col2,#T_e714c84e_03e2_11ec_95f2_acbc32d61fabrow4_col4,#T_e714c84e_03e2_11ec_95f2_acbc32d61fabrow4_col5,#T_e714c84e_03e2_11ec_95f2_acbc32d61fabrow4_col6,#T_e714c84e_03e2_11ec_95f2_acbc32d61fabrow4_col7,#T_e714c84e_03e2_11ec_95f2_acbc32d61fabrow5_col0,#T_e714c84e_03e2_11ec_95f2_acbc32d61fabrow5_col1,#T_e714c84e_03e2_11ec_95f2_acbc32d61fabrow5_col2,#T_e714c84e_03e2_11ec_95f2_acbc32d61fabrow5_col3,#T_e714c84e_03e2_11ec_95f2_acbc32d61fabrow5_col4,#T_e714c84e_03e2_11ec_95f2_acbc32d61fabrow5_col5,#T_e714c84e_03e2_11ec_95f2_acbc32d61fabrow5_col6,#T_e714c84e_03e2_11ec_95f2_acbc32d61fabrow5_col7,#T_e714c84e_03e2_11ec_95f2_acbc32d61fabrow6_col0,#T_e714c84e_03e2_11ec_95f2_acbc32d61fabrow6_col1,#T_e714c84e_03e2_11ec_95f2_acbc32d61fabrow6_col2,#T_e714c84e_03e2_11ec_95f2_acbc32d61fabrow6_col3,#T_e714c84e_03e2_11ec_95f2_acbc32d61fabrow6_col4,#T_e714c84e_03e2_11ec_95f2_acbc32d61fabrow6_col5,#T_e714c84e_03e2_11ec_95f2_acbc32d61fabrow6_col6,#T_e714c84e_03e2_11ec_95f2_acbc32d61fabrow6_col7,#T_e714c84e_03e2_11ec_95f2_acbc32d61fabrow7_col0,#T_e714c84e_03e2_11ec_95f2_acbc32d61fabrow7_col1,#T_e714c84e_03e2_11ec_95f2_acbc32d61fabrow7_col2,#T_e714c84e_03e2_11ec_95f2_acbc32d61fabrow7_col3,#T_e714c84e_03e2_11ec_95f2_acbc32d61fabrow7_col5,#T_e714c84e_03e2_11ec_95f2_acbc32d61fabrow7_col6,#T_e714c84e_03e2_11ec_95f2_acbc32d61fabrow7_col7,#T_e714c84e_03e2_11ec_95f2_acbc32d61fabrow8_col0,#T_e714c84e_03e2_11ec_95f2_acbc32d61fabrow8_col1,#T_e714c84e_03e2_11ec_95f2_acbc32d61fabrow8_col2,#T_e714c84e_03e2_11ec_95f2_acbc32d61fabrow8_col3,#T_e714c84e_03e2_11ec_95f2_acbc32d61fabrow8_col5,#T_e714c84e_03e2_11ec_95f2_acbc32d61fabrow8_col6,#T_e714c84e_03e2_11ec_95f2_acbc32d61fabrow8_col7,#T_e714c84e_03e2_11ec_95f2_acbc32d61fabrow9_col0,#T_e714c84e_03e2_11ec_95f2_acbc32d61fabrow9_col1,#T_e714c84e_03e2_11ec_95f2_acbc32d61fabrow9_col2,#T_e714c84e_03e2_11ec_95f2_acbc32d61fabrow9_col3,#T_e714c84e_03e2_11ec_95f2_acbc32d61fabrow9_col4,#T_e714c84e_03e2_11ec_95f2_acbc32d61fabrow9_col5,#T_e714c84e_03e2_11ec_95f2_acbc32d61fabrow9_col6,#T_e714c84e_03e2_11ec_95f2_acbc32d61fabrow9_col7,#T_e714c84e_03e2_11ec_95f2_acbc32d61fabrow10_col0,#T_e714c84e_03e2_11ec_95f2_acbc32d61fabrow10_col1,#T_e714c84e_03e2_11ec_95f2_acbc32d61fabrow10_col2,#T_e714c84e_03e2_11ec_95f2_acbc32d61fabrow10_col3,#T_e714c84e_03e2_11ec_95f2_acbc32d61fabrow10_col4,#T_e714c84e_03e2_11ec_95f2_acbc32d61fabrow10_col5,#T_e714c84e_03e2_11ec_95f2_acbc32d61fabrow10_col6,#T_e714c84e_03e2_11ec_95f2_acbc32d61fabrow10_col7,#T_e714c84e_03e2_11ec_95f2_acbc32d61fabrow11_col0,#T_e714c84e_03e2_11ec_95f2_acbc32d61fabrow11_col1,#T_e714c84e_03e2_11ec_95f2_acbc32d61fabrow11_col2,#T_e714c84e_03e2_11ec_95f2_acbc32d61fabrow11_col3,#T_e714c84e_03e2_11ec_95f2_acbc32d61fabrow11_col4,#T_e714c84e_03e2_11ec_95f2_acbc32d61fabrow11_col5,#T_e714c84e_03e2_11ec_95f2_acbc32d61fabrow11_col6,#T_e714c84e_03e2_11ec_95f2_acbc32d61fabrow11_col7,#T_e714c84e_03e2_11ec_95f2_acbc32d61fabrow12_col0,#T_e714c84e_03e2_11ec_95f2_acbc32d61fabrow12_col1,#T_e714c84e_03e2_11ec_95f2_acbc32d61fabrow12_col2,#T_e714c84e_03e2_11ec_95f2_acbc32d61fabrow12_col3,#T_e714c84e_03e2_11ec_95f2_acbc32d61fabrow12_col4,#T_e714c84e_03e2_11ec_95f2_acbc32d61fabrow12_col5,#T_e714c84e_03e2_11ec_95f2_acbc32d61fabrow12_col6,#T_e714c84e_03e2_11ec_95f2_acbc32d61fabrow12_col7,#T_e714c84e_03e2_11ec_95f2_acbc32d61fabrow13_col0,#T_e714c84e_03e2_11ec_95f2_acbc32d61fabrow13_col1,#T_e714c84e_03e2_11ec_95f2_acbc32d61fabrow13_col2,#T_e714c84e_03e2_11ec_95f2_acbc32d61fabrow13_col3,#T_e714c84e_03e2_11ec_95f2_acbc32d61fabrow13_col4,#T_e714c84e_03e2_11ec_95f2_acbc32d61fabrow13_col5,#T_e714c84e_03e2_11ec_95f2_acbc32d61fabrow13_col6,#T_e714c84e_03e2_11ec_95f2_acbc32d61fabrow13_col7,#T_e714c84e_03e2_11ec_95f2_acbc32d61fabrow14_col0,#T_e714c84e_03e2_11ec_95f2_acbc32d61fabrow14_col1,#T_e714c84e_03e2_11ec_95f2_acbc32d61fabrow14_col2,#T_e714c84e_03e2_11ec_95f2_acbc32d61fabrow14_col3,#T_e714c84e_03e2_11ec_95f2_acbc32d61fabrow14_col4,#T_e714c84e_03e2_11ec_95f2_acbc32d61fabrow14_col5,#T_e714c84e_03e2_11ec_95f2_acbc32d61fabrow14_col6,#T_e714c84e_03e2_11ec_95f2_acbc32d61fabrow14_col7{\n",
       "            text-align:  left;\n",
       "            text-align:  left;\n",
       "        }#T_e714c84e_03e2_11ec_95f2_acbc32d61fabrow0_col1,#T_e714c84e_03e2_11ec_95f2_acbc32d61fabrow0_col5,#T_e714c84e_03e2_11ec_95f2_acbc32d61fabrow0_col6,#T_e714c84e_03e2_11ec_95f2_acbc32d61fabrow0_col7,#T_e714c84e_03e2_11ec_95f2_acbc32d61fabrow1_col2,#T_e714c84e_03e2_11ec_95f2_acbc32d61fabrow4_col3,#T_e714c84e_03e2_11ec_95f2_acbc32d61fabrow7_col4,#T_e714c84e_03e2_11ec_95f2_acbc32d61fabrow8_col4{\n",
       "            text-align:  left;\n",
       "            text-align:  left;\n",
       "            background-color:  yellow;\n",
       "        }#T_e714c84e_03e2_11ec_95f2_acbc32d61fabrow0_col8,#T_e714c84e_03e2_11ec_95f2_acbc32d61fabrow1_col8,#T_e714c84e_03e2_11ec_95f2_acbc32d61fabrow2_col8,#T_e714c84e_03e2_11ec_95f2_acbc32d61fabrow3_col8,#T_e714c84e_03e2_11ec_95f2_acbc32d61fabrow4_col8,#T_e714c84e_03e2_11ec_95f2_acbc32d61fabrow5_col8,#T_e714c84e_03e2_11ec_95f2_acbc32d61fabrow6_col8,#T_e714c84e_03e2_11ec_95f2_acbc32d61fabrow8_col8,#T_e714c84e_03e2_11ec_95f2_acbc32d61fabrow9_col8,#T_e714c84e_03e2_11ec_95f2_acbc32d61fabrow10_col8,#T_e714c84e_03e2_11ec_95f2_acbc32d61fabrow11_col8,#T_e714c84e_03e2_11ec_95f2_acbc32d61fabrow12_col8,#T_e714c84e_03e2_11ec_95f2_acbc32d61fabrow13_col8,#T_e714c84e_03e2_11ec_95f2_acbc32d61fabrow14_col8{\n",
       "            text-align:  left;\n",
       "            text-align:  left;\n",
       "            background-color:  lightgrey;\n",
       "        }#T_e714c84e_03e2_11ec_95f2_acbc32d61fabrow7_col8{\n",
       "            text-align:  left;\n",
       "            text-align:  left;\n",
       "            background-color:  yellow;\n",
       "            background-color:  lightgrey;\n",
       "        }</style><table id=\"T_e714c84e_03e2_11ec_95f2_acbc32d61fab\" ><thead>    <tr>        <th class=\"blank level0\" ></th>        <th class=\"col_heading level0 col0\" >Model</th>        <th class=\"col_heading level0 col1\" >Accuracy</th>        <th class=\"col_heading level0 col2\" >AUC</th>        <th class=\"col_heading level0 col3\" >Recall</th>        <th class=\"col_heading level0 col4\" >Prec.</th>        <th class=\"col_heading level0 col5\" >F1</th>        <th class=\"col_heading level0 col6\" >Kappa</th>        <th class=\"col_heading level0 col7\" >MCC</th>        <th class=\"col_heading level0 col8\" >TT (Sec)</th>    </tr></thead><tbody>\n",
       "                <tr>\n",
       "                        <th id=\"T_e714c84e_03e2_11ec_95f2_acbc32d61fablevel0_row0\" class=\"row_heading level0 row0\" >lr</th>\n",
       "                        <td id=\"T_e714c84e_03e2_11ec_95f2_acbc32d61fabrow0_col0\" class=\"data row0 col0\" >Logistic Regression</td>\n",
       "                        <td id=\"T_e714c84e_03e2_11ec_95f2_acbc32d61fabrow0_col1\" class=\"data row0 col1\" >0.8366</td>\n",
       "                        <td id=\"T_e714c84e_03e2_11ec_95f2_acbc32d61fabrow0_col2\" class=\"data row0 col2\" >0.9003</td>\n",
       "                        <td id=\"T_e714c84e_03e2_11ec_95f2_acbc32d61fabrow0_col3\" class=\"data row0 col3\" >0.7475</td>\n",
       "                        <td id=\"T_e714c84e_03e2_11ec_95f2_acbc32d61fabrow0_col4\" class=\"data row0 col4\" >0.9089</td>\n",
       "                        <td id=\"T_e714c84e_03e2_11ec_95f2_acbc32d61fabrow0_col5\" class=\"data row0 col5\" >0.8195</td>\n",
       "                        <td id=\"T_e714c84e_03e2_11ec_95f2_acbc32d61fabrow0_col6\" class=\"data row0 col6\" >0.6729</td>\n",
       "                        <td id=\"T_e714c84e_03e2_11ec_95f2_acbc32d61fabrow0_col7\" class=\"data row0 col7\" >0.6845</td>\n",
       "                        <td id=\"T_e714c84e_03e2_11ec_95f2_acbc32d61fabrow0_col8\" class=\"data row0 col8\" >0.0340</td>\n",
       "            </tr>\n",
       "            <tr>\n",
       "                        <th id=\"T_e714c84e_03e2_11ec_95f2_acbc32d61fablevel0_row1\" class=\"row_heading level0 row1\" >gbc</th>\n",
       "                        <td id=\"T_e714c84e_03e2_11ec_95f2_acbc32d61fabrow1_col0\" class=\"data row1 col0\" >Gradient Boosting Classifier</td>\n",
       "                        <td id=\"T_e714c84e_03e2_11ec_95f2_acbc32d61fabrow1_col1\" class=\"data row1 col1\" >0.8303</td>\n",
       "                        <td id=\"T_e714c84e_03e2_11ec_95f2_acbc32d61fabrow1_col2\" class=\"data row1 col2\" >0.9033</td>\n",
       "                        <td id=\"T_e714c84e_03e2_11ec_95f2_acbc32d61fabrow1_col3\" class=\"data row1 col3\" >0.7630</td>\n",
       "                        <td id=\"T_e714c84e_03e2_11ec_95f2_acbc32d61fabrow1_col4\" class=\"data row1 col4\" >0.8807</td>\n",
       "                        <td id=\"T_e714c84e_03e2_11ec_95f2_acbc32d61fabrow1_col5\" class=\"data row1 col5\" >0.8171</td>\n",
       "                        <td id=\"T_e714c84e_03e2_11ec_95f2_acbc32d61fabrow1_col6\" class=\"data row1 col6\" >0.6603</td>\n",
       "                        <td id=\"T_e714c84e_03e2_11ec_95f2_acbc32d61fabrow1_col7\" class=\"data row1 col7\" >0.6669</td>\n",
       "                        <td id=\"T_e714c84e_03e2_11ec_95f2_acbc32d61fabrow1_col8\" class=\"data row1 col8\" >0.2180</td>\n",
       "            </tr>\n",
       "            <tr>\n",
       "                        <th id=\"T_e714c84e_03e2_11ec_95f2_acbc32d61fablevel0_row2\" class=\"row_heading level0 row2\" >catboost</th>\n",
       "                        <td id=\"T_e714c84e_03e2_11ec_95f2_acbc32d61fabrow2_col0\" class=\"data row2 col0\" >CatBoost Classifier</td>\n",
       "                        <td id=\"T_e714c84e_03e2_11ec_95f2_acbc32d61fabrow2_col1\" class=\"data row2 col1\" >0.8303</td>\n",
       "                        <td id=\"T_e714c84e_03e2_11ec_95f2_acbc32d61fabrow2_col2\" class=\"data row2 col2\" >0.9023</td>\n",
       "                        <td id=\"T_e714c84e_03e2_11ec_95f2_acbc32d61fabrow2_col3\" class=\"data row2 col3\" >0.7616</td>\n",
       "                        <td id=\"T_e714c84e_03e2_11ec_95f2_acbc32d61fabrow2_col4\" class=\"data row2 col4\" >0.8816</td>\n",
       "                        <td id=\"T_e714c84e_03e2_11ec_95f2_acbc32d61fabrow2_col5\" class=\"data row2 col5\" >0.8166</td>\n",
       "                        <td id=\"T_e714c84e_03e2_11ec_95f2_acbc32d61fabrow2_col6\" class=\"data row2 col6\" >0.6603</td>\n",
       "                        <td id=\"T_e714c84e_03e2_11ec_95f2_acbc32d61fabrow2_col7\" class=\"data row2 col7\" >0.6671</td>\n",
       "                        <td id=\"T_e714c84e_03e2_11ec_95f2_acbc32d61fabrow2_col8\" class=\"data row2 col8\" >1.4990</td>\n",
       "            </tr>\n",
       "            <tr>\n",
       "                        <th id=\"T_e714c84e_03e2_11ec_95f2_acbc32d61fablevel0_row3\" class=\"row_heading level0 row3\" >rf</th>\n",
       "                        <td id=\"T_e714c84e_03e2_11ec_95f2_acbc32d61fabrow3_col0\" class=\"data row3 col0\" >Random Forest Classifier</td>\n",
       "                        <td id=\"T_e714c84e_03e2_11ec_95f2_acbc32d61fabrow3_col1\" class=\"data row3 col1\" >0.8240</td>\n",
       "                        <td id=\"T_e714c84e_03e2_11ec_95f2_acbc32d61fabrow3_col2\" class=\"data row3 col2\" >0.8947</td>\n",
       "                        <td id=\"T_e714c84e_03e2_11ec_95f2_acbc32d61fabrow3_col3\" class=\"data row3 col3\" >0.7715</td>\n",
       "                        <td id=\"T_e714c84e_03e2_11ec_95f2_acbc32d61fabrow3_col4\" class=\"data row3 col4\" >0.8631</td>\n",
       "                        <td id=\"T_e714c84e_03e2_11ec_95f2_acbc32d61fabrow3_col5\" class=\"data row3 col5\" >0.8133</td>\n",
       "                        <td id=\"T_e714c84e_03e2_11ec_95f2_acbc32d61fabrow3_col6\" class=\"data row3 col6\" >0.6478</td>\n",
       "                        <td id=\"T_e714c84e_03e2_11ec_95f2_acbc32d61fabrow3_col7\" class=\"data row3 col7\" >0.6533</td>\n",
       "                        <td id=\"T_e714c84e_03e2_11ec_95f2_acbc32d61fabrow3_col8\" class=\"data row3 col8\" >0.2810</td>\n",
       "            </tr>\n",
       "            <tr>\n",
       "                        <th id=\"T_e714c84e_03e2_11ec_95f2_acbc32d61fablevel0_row4\" class=\"row_heading level0 row4\" >et</th>\n",
       "                        <td id=\"T_e714c84e_03e2_11ec_95f2_acbc32d61fabrow4_col0\" class=\"data row4 col0\" >Extra Trees Classifier</td>\n",
       "                        <td id=\"T_e714c84e_03e2_11ec_95f2_acbc32d61fabrow4_col1\" class=\"data row4 col1\" >0.8219</td>\n",
       "                        <td id=\"T_e714c84e_03e2_11ec_95f2_acbc32d61fabrow4_col2\" class=\"data row4 col2\" >0.8952</td>\n",
       "                        <td id=\"T_e714c84e_03e2_11ec_95f2_acbc32d61fabrow4_col3\" class=\"data row4 col3\" >0.7870</td>\n",
       "                        <td id=\"T_e714c84e_03e2_11ec_95f2_acbc32d61fabrow4_col4\" class=\"data row4 col4\" >0.8474</td>\n",
       "                        <td id=\"T_e714c84e_03e2_11ec_95f2_acbc32d61fabrow4_col5\" class=\"data row4 col5\" >0.8144</td>\n",
       "                        <td id=\"T_e714c84e_03e2_11ec_95f2_acbc32d61fabrow4_col6\" class=\"data row4 col6\" >0.6437</td>\n",
       "                        <td id=\"T_e714c84e_03e2_11ec_95f2_acbc32d61fabrow4_col7\" class=\"data row4 col7\" >0.6475</td>\n",
       "                        <td id=\"T_e714c84e_03e2_11ec_95f2_acbc32d61fabrow4_col8\" class=\"data row4 col8\" >0.2350</td>\n",
       "            </tr>\n",
       "            <tr>\n",
       "                        <th id=\"T_e714c84e_03e2_11ec_95f2_acbc32d61fablevel0_row5\" class=\"row_heading level0 row5\" >nb</th>\n",
       "                        <td id=\"T_e714c84e_03e2_11ec_95f2_acbc32d61fabrow5_col0\" class=\"data row5 col0\" >Naive Bayes</td>\n",
       "                        <td id=\"T_e714c84e_03e2_11ec_95f2_acbc32d61fabrow5_col1\" class=\"data row5 col1\" >0.8191</td>\n",
       "                        <td id=\"T_e714c84e_03e2_11ec_95f2_acbc32d61fabrow5_col2\" class=\"data row5 col2\" >0.8849</td>\n",
       "                        <td id=\"T_e714c84e_03e2_11ec_95f2_acbc32d61fabrow5_col3\" class=\"data row5 col3\" >0.6911</td>\n",
       "                        <td id=\"T_e714c84e_03e2_11ec_95f2_acbc32d61fabrow5_col4\" class=\"data row5 col4\" >0.9274</td>\n",
       "                        <td id=\"T_e714c84e_03e2_11ec_95f2_acbc32d61fabrow5_col5\" class=\"data row5 col5\" >0.7911</td>\n",
       "                        <td id=\"T_e714c84e_03e2_11ec_95f2_acbc32d61fabrow5_col6\" class=\"data row5 col6\" >0.6376</td>\n",
       "                        <td id=\"T_e714c84e_03e2_11ec_95f2_acbc32d61fabrow5_col7\" class=\"data row5 col7\" >0.6598</td>\n",
       "                        <td id=\"T_e714c84e_03e2_11ec_95f2_acbc32d61fabrow5_col8\" class=\"data row5 col8\" >0.0300</td>\n",
       "            </tr>\n",
       "            <tr>\n",
       "                        <th id=\"T_e714c84e_03e2_11ec_95f2_acbc32d61fablevel0_row6\" class=\"row_heading level0 row6\" >ada</th>\n",
       "                        <td id=\"T_e714c84e_03e2_11ec_95f2_acbc32d61fabrow6_col0\" class=\"data row6 col0\" >Ada Boost Classifier</td>\n",
       "                        <td id=\"T_e714c84e_03e2_11ec_95f2_acbc32d61fabrow6_col1\" class=\"data row6 col1\" >0.8184</td>\n",
       "                        <td id=\"T_e714c84e_03e2_11ec_95f2_acbc32d61fabrow6_col2\" class=\"data row6 col2\" >0.8890</td>\n",
       "                        <td id=\"T_e714c84e_03e2_11ec_95f2_acbc32d61fabrow6_col3\" class=\"data row6 col3\" >0.7574</td>\n",
       "                        <td id=\"T_e714c84e_03e2_11ec_95f2_acbc32d61fabrow6_col4\" class=\"data row6 col4\" >0.8631</td>\n",
       "                        <td id=\"T_e714c84e_03e2_11ec_95f2_acbc32d61fabrow6_col5\" class=\"data row6 col5\" >0.8053</td>\n",
       "                        <td id=\"T_e714c84e_03e2_11ec_95f2_acbc32d61fabrow6_col6\" class=\"data row6 col6\" >0.6365</td>\n",
       "                        <td id=\"T_e714c84e_03e2_11ec_95f2_acbc32d61fabrow6_col7\" class=\"data row6 col7\" >0.6429</td>\n",
       "                        <td id=\"T_e714c84e_03e2_11ec_95f2_acbc32d61fabrow6_col8\" class=\"data row6 col8\" >0.1860</td>\n",
       "            </tr>\n",
       "            <tr>\n",
       "                        <th id=\"T_e714c84e_03e2_11ec_95f2_acbc32d61fablevel0_row7\" class=\"row_heading level0 row7\" >ridge</th>\n",
       "                        <td id=\"T_e714c84e_03e2_11ec_95f2_acbc32d61fabrow7_col0\" class=\"data row7 col0\" >Ridge Classifier</td>\n",
       "                        <td id=\"T_e714c84e_03e2_11ec_95f2_acbc32d61fabrow7_col1\" class=\"data row7 col1\" >0.8170</td>\n",
       "                        <td id=\"T_e714c84e_03e2_11ec_95f2_acbc32d61fabrow7_col2\" class=\"data row7 col2\" >0.0000</td>\n",
       "                        <td id=\"T_e714c84e_03e2_11ec_95f2_acbc32d61fabrow7_col3\" class=\"data row7 col3\" >0.6855</td>\n",
       "                        <td id=\"T_e714c84e_03e2_11ec_95f2_acbc32d61fabrow7_col4\" class=\"data row7 col4\" >0.9281</td>\n",
       "                        <td id=\"T_e714c84e_03e2_11ec_95f2_acbc32d61fabrow7_col5\" class=\"data row7 col5\" >0.7882</td>\n",
       "                        <td id=\"T_e714c84e_03e2_11ec_95f2_acbc32d61fabrow7_col6\" class=\"data row7 col6\" >0.6334</td>\n",
       "                        <td id=\"T_e714c84e_03e2_11ec_95f2_acbc32d61fabrow7_col7\" class=\"data row7 col7\" >0.6563</td>\n",
       "                        <td id=\"T_e714c84e_03e2_11ec_95f2_acbc32d61fabrow7_col8\" class=\"data row7 col8\" >0.0120</td>\n",
       "            </tr>\n",
       "            <tr>\n",
       "                        <th id=\"T_e714c84e_03e2_11ec_95f2_acbc32d61fablevel0_row8\" class=\"row_heading level0 row8\" >lda</th>\n",
       "                        <td id=\"T_e714c84e_03e2_11ec_95f2_acbc32d61fabrow8_col0\" class=\"data row8 col0\" >Linear Discriminant Analysis</td>\n",
       "                        <td id=\"T_e714c84e_03e2_11ec_95f2_acbc32d61fabrow8_col1\" class=\"data row8 col1\" >0.8170</td>\n",
       "                        <td id=\"T_e714c84e_03e2_11ec_95f2_acbc32d61fabrow8_col2\" class=\"data row8 col2\" >0.8912</td>\n",
       "                        <td id=\"T_e714c84e_03e2_11ec_95f2_acbc32d61fabrow8_col3\" class=\"data row8 col3\" >0.6855</td>\n",
       "                        <td id=\"T_e714c84e_03e2_11ec_95f2_acbc32d61fabrow8_col4\" class=\"data row8 col4\" >0.9281</td>\n",
       "                        <td id=\"T_e714c84e_03e2_11ec_95f2_acbc32d61fabrow8_col5\" class=\"data row8 col5\" >0.7882</td>\n",
       "                        <td id=\"T_e714c84e_03e2_11ec_95f2_acbc32d61fabrow8_col6\" class=\"data row8 col6\" >0.6334</td>\n",
       "                        <td id=\"T_e714c84e_03e2_11ec_95f2_acbc32d61fabrow8_col7\" class=\"data row8 col7\" >0.6563</td>\n",
       "                        <td id=\"T_e714c84e_03e2_11ec_95f2_acbc32d61fabrow8_col8\" class=\"data row8 col8\" >0.0260</td>\n",
       "            </tr>\n",
       "            <tr>\n",
       "                        <th id=\"T_e714c84e_03e2_11ec_95f2_acbc32d61fablevel0_row9\" class=\"row_heading level0 row9\" >qda</th>\n",
       "                        <td id=\"T_e714c84e_03e2_11ec_95f2_acbc32d61fabrow9_col0\" class=\"data row9 col0\" >Quadratic Discriminant Analysis</td>\n",
       "                        <td id=\"T_e714c84e_03e2_11ec_95f2_acbc32d61fabrow9_col1\" class=\"data row9 col1\" >0.8163</td>\n",
       "                        <td id=\"T_e714c84e_03e2_11ec_95f2_acbc32d61fabrow9_col2\" class=\"data row9 col2\" >0.8858</td>\n",
       "                        <td id=\"T_e714c84e_03e2_11ec_95f2_acbc32d61fabrow9_col3\" class=\"data row9 col3\" >0.6954</td>\n",
       "                        <td id=\"T_e714c84e_03e2_11ec_95f2_acbc32d61fabrow9_col4\" class=\"data row9 col4\" >0.9163</td>\n",
       "                        <td id=\"T_e714c84e_03e2_11ec_95f2_acbc32d61fabrow9_col5\" class=\"data row9 col5\" >0.7894</td>\n",
       "                        <td id=\"T_e714c84e_03e2_11ec_95f2_acbc32d61fabrow9_col6\" class=\"data row9 col6\" >0.6320</td>\n",
       "                        <td id=\"T_e714c84e_03e2_11ec_95f2_acbc32d61fabrow9_col7\" class=\"data row9 col7\" >0.6520</td>\n",
       "                        <td id=\"T_e714c84e_03e2_11ec_95f2_acbc32d61fabrow9_col8\" class=\"data row9 col8\" >0.0140</td>\n",
       "            </tr>\n",
       "            <tr>\n",
       "                        <th id=\"T_e714c84e_03e2_11ec_95f2_acbc32d61fablevel0_row10\" class=\"row_heading level0 row10\" >knn</th>\n",
       "                        <td id=\"T_e714c84e_03e2_11ec_95f2_acbc32d61fabrow10_col0\" class=\"data row10 col0\" >K Neighbors Classifier</td>\n",
       "                        <td id=\"T_e714c84e_03e2_11ec_95f2_acbc32d61fabrow10_col1\" class=\"data row10 col1\" >0.8135</td>\n",
       "                        <td id=\"T_e714c84e_03e2_11ec_95f2_acbc32d61fabrow10_col2\" class=\"data row10 col2\" >0.8607</td>\n",
       "                        <td id=\"T_e714c84e_03e2_11ec_95f2_acbc32d61fabrow10_col3\" class=\"data row10 col3\" >0.7151</td>\n",
       "                        <td id=\"T_e714c84e_03e2_11ec_95f2_acbc32d61fabrow10_col4\" class=\"data row10 col4\" >0.8888</td>\n",
       "                        <td id=\"T_e714c84e_03e2_11ec_95f2_acbc32d61fabrow10_col5\" class=\"data row10 col5\" >0.7917</td>\n",
       "                        <td id=\"T_e714c84e_03e2_11ec_95f2_acbc32d61fabrow10_col6\" class=\"data row10 col6\" >0.6265</td>\n",
       "                        <td id=\"T_e714c84e_03e2_11ec_95f2_acbc32d61fabrow10_col7\" class=\"data row10 col7\" >0.6394</td>\n",
       "                        <td id=\"T_e714c84e_03e2_11ec_95f2_acbc32d61fabrow10_col8\" class=\"data row10 col8\" >0.0230</td>\n",
       "            </tr>\n",
       "            <tr>\n",
       "                        <th id=\"T_e714c84e_03e2_11ec_95f2_acbc32d61fablevel0_row11\" class=\"row_heading level0 row11\" >svm</th>\n",
       "                        <td id=\"T_e714c84e_03e2_11ec_95f2_acbc32d61fabrow11_col0\" class=\"data row11 col0\" >SVM - Linear Kernel</td>\n",
       "                        <td id=\"T_e714c84e_03e2_11ec_95f2_acbc32d61fabrow11_col1\" class=\"data row11 col1\" >0.8106</td>\n",
       "                        <td id=\"T_e714c84e_03e2_11ec_95f2_acbc32d61fabrow11_col2\" class=\"data row11 col2\" >0.0000</td>\n",
       "                        <td id=\"T_e714c84e_03e2_11ec_95f2_acbc32d61fabrow11_col3\" class=\"data row11 col3\" >0.7447</td>\n",
       "                        <td id=\"T_e714c84e_03e2_11ec_95f2_acbc32d61fabrow11_col4\" class=\"data row11 col4\" >0.8595</td>\n",
       "                        <td id=\"T_e714c84e_03e2_11ec_95f2_acbc32d61fabrow11_col5\" class=\"data row11 col5\" >0.7967</td>\n",
       "                        <td id=\"T_e714c84e_03e2_11ec_95f2_acbc32d61fabrow11_col6\" class=\"data row11 col6\" >0.6211</td>\n",
       "                        <td id=\"T_e714c84e_03e2_11ec_95f2_acbc32d61fabrow11_col7\" class=\"data row11 col7\" >0.6283</td>\n",
       "                        <td id=\"T_e714c84e_03e2_11ec_95f2_acbc32d61fabrow11_col8\" class=\"data row11 col8\" >0.0270</td>\n",
       "            </tr>\n",
       "            <tr>\n",
       "                        <th id=\"T_e714c84e_03e2_11ec_95f2_acbc32d61fablevel0_row12\" class=\"row_heading level0 row12\" >lightgbm</th>\n",
       "                        <td id=\"T_e714c84e_03e2_11ec_95f2_acbc32d61fabrow12_col0\" class=\"data row12 col0\" >Light Gradient Boosting Machine</td>\n",
       "                        <td id=\"T_e714c84e_03e2_11ec_95f2_acbc32d61fabrow12_col1\" class=\"data row12 col1\" >0.8086</td>\n",
       "                        <td id=\"T_e714c84e_03e2_11ec_95f2_acbc32d61fabrow12_col2\" class=\"data row12 col2\" >0.8808</td>\n",
       "                        <td id=\"T_e714c84e_03e2_11ec_95f2_acbc32d61fabrow12_col3\" class=\"data row12 col3\" >0.7659</td>\n",
       "                        <td id=\"T_e714c84e_03e2_11ec_95f2_acbc32d61fabrow12_col4\" class=\"data row12 col4\" >0.8365</td>\n",
       "                        <td id=\"T_e714c84e_03e2_11ec_95f2_acbc32d61fabrow12_col5\" class=\"data row12 col5\" >0.7989</td>\n",
       "                        <td id=\"T_e714c84e_03e2_11ec_95f2_acbc32d61fabrow12_col6\" class=\"data row12 col6\" >0.6170</td>\n",
       "                        <td id=\"T_e714c84e_03e2_11ec_95f2_acbc32d61fabrow12_col7\" class=\"data row12 col7\" >0.6201</td>\n",
       "                        <td id=\"T_e714c84e_03e2_11ec_95f2_acbc32d61fabrow12_col8\" class=\"data row12 col8\" >0.3710</td>\n",
       "            </tr>\n",
       "            <tr>\n",
       "                        <th id=\"T_e714c84e_03e2_11ec_95f2_acbc32d61fablevel0_row13\" class=\"row_heading level0 row13\" >xgboost</th>\n",
       "                        <td id=\"T_e714c84e_03e2_11ec_95f2_acbc32d61fabrow13_col0\" class=\"data row13 col0\" >Extreme Gradient Boosting</td>\n",
       "                        <td id=\"T_e714c84e_03e2_11ec_95f2_acbc32d61fabrow13_col1\" class=\"data row13 col1\" >0.8072</td>\n",
       "                        <td id=\"T_e714c84e_03e2_11ec_95f2_acbc32d61fabrow13_col2\" class=\"data row13 col2\" >0.8841</td>\n",
       "                        <td id=\"T_e714c84e_03e2_11ec_95f2_acbc32d61fabrow13_col3\" class=\"data row13 col3\" >0.7715</td>\n",
       "                        <td id=\"T_e714c84e_03e2_11ec_95f2_acbc32d61fabrow13_col4\" class=\"data row13 col4\" >0.8299</td>\n",
       "                        <td id=\"T_e714c84e_03e2_11ec_95f2_acbc32d61fabrow13_col5\" class=\"data row13 col5\" >0.7991</td>\n",
       "                        <td id=\"T_e714c84e_03e2_11ec_95f2_acbc32d61fabrow13_col6\" class=\"data row13 col6\" >0.6142</td>\n",
       "                        <td id=\"T_e714c84e_03e2_11ec_95f2_acbc32d61fabrow13_col7\" class=\"data row13 col7\" >0.6164</td>\n",
       "                        <td id=\"T_e714c84e_03e2_11ec_95f2_acbc32d61fabrow13_col8\" class=\"data row13 col8\" >0.4520</td>\n",
       "            </tr>\n",
       "            <tr>\n",
       "                        <th id=\"T_e714c84e_03e2_11ec_95f2_acbc32d61fablevel0_row14\" class=\"row_heading level0 row14\" >dt</th>\n",
       "                        <td id=\"T_e714c84e_03e2_11ec_95f2_acbc32d61fabrow14_col0\" class=\"data row14 col0\" >Decision Tree Classifier</td>\n",
       "                        <td id=\"T_e714c84e_03e2_11ec_95f2_acbc32d61fabrow14_col1\" class=\"data row14 col1\" >0.7623</td>\n",
       "                        <td id=\"T_e714c84e_03e2_11ec_95f2_acbc32d61fabrow14_col2\" class=\"data row14 col2\" >0.7633</td>\n",
       "                        <td id=\"T_e714c84e_03e2_11ec_95f2_acbc32d61fabrow14_col3\" class=\"data row14 col3\" >0.7814</td>\n",
       "                        <td id=\"T_e714c84e_03e2_11ec_95f2_acbc32d61fabrow14_col4\" class=\"data row14 col4\" >0.7523</td>\n",
       "                        <td id=\"T_e714c84e_03e2_11ec_95f2_acbc32d61fabrow14_col5\" class=\"data row14 col5\" >0.7657</td>\n",
       "                        <td id=\"T_e714c84e_03e2_11ec_95f2_acbc32d61fabrow14_col6\" class=\"data row14 col6\" >0.5248</td>\n",
       "                        <td id=\"T_e714c84e_03e2_11ec_95f2_acbc32d61fabrow14_col7\" class=\"data row14 col7\" >0.5266</td>\n",
       "                        <td id=\"T_e714c84e_03e2_11ec_95f2_acbc32d61fabrow14_col8\" class=\"data row14 col8\" >0.0150</td>\n",
       "            </tr>\n",
       "    </tbody></table>"
      ],
      "text/plain": [
       "<pandas.io.formats.style.Styler at 0x7f9abe6bc1c0>"
      ]
     },
     "metadata": {},
     "output_type": "display_data"
    }
   ],
   "source": [
    "best_5 = compare_models(sort = 'Accuracy', n_select = 5)"
   ]
  },
  {
   "cell_type": "code",
   "execution_count": 142,
   "metadata": {},
   "outputs": [
    {
     "data": {
      "text/html": [
       "<style  type=\"text/css\" >\n",
       "#T_ef81e98a_03e2_11ec_95f2_acbc32d61fabrow5_col0,#T_ef81e98a_03e2_11ec_95f2_acbc32d61fabrow5_col1,#T_ef81e98a_03e2_11ec_95f2_acbc32d61fabrow5_col2,#T_ef81e98a_03e2_11ec_95f2_acbc32d61fabrow5_col3,#T_ef81e98a_03e2_11ec_95f2_acbc32d61fabrow5_col4,#T_ef81e98a_03e2_11ec_95f2_acbc32d61fabrow5_col5,#T_ef81e98a_03e2_11ec_95f2_acbc32d61fabrow5_col6{\n",
       "            background:  yellow;\n",
       "        }</style><table id=\"T_ef81e98a_03e2_11ec_95f2_acbc32d61fab\" ><thead>    <tr>        <th class=\"blank level0\" ></th>        <th class=\"col_heading level0 col0\" >Accuracy</th>        <th class=\"col_heading level0 col1\" >AUC</th>        <th class=\"col_heading level0 col2\" >Recall</th>        <th class=\"col_heading level0 col3\" >Prec.</th>        <th class=\"col_heading level0 col4\" >F1</th>        <th class=\"col_heading level0 col5\" >Kappa</th>        <th class=\"col_heading level0 col6\" >MCC</th>    </tr></thead><tbody>\n",
       "                <tr>\n",
       "                        <th id=\"T_ef81e98a_03e2_11ec_95f2_acbc32d61fablevel0_row0\" class=\"row_heading level0 row0\" >0</th>\n",
       "                        <td id=\"T_ef81e98a_03e2_11ec_95f2_acbc32d61fabrow0_col0\" class=\"data row0 col0\" >0.8357</td>\n",
       "                        <td id=\"T_ef81e98a_03e2_11ec_95f2_acbc32d61fabrow0_col1\" class=\"data row0 col1\" >0.9021</td>\n",
       "                        <td id=\"T_ef81e98a_03e2_11ec_95f2_acbc32d61fabrow0_col2\" class=\"data row0 col2\" >0.7958</td>\n",
       "                        <td id=\"T_ef81e98a_03e2_11ec_95f2_acbc32d61fabrow0_col3\" class=\"data row0 col3\" >0.8626</td>\n",
       "                        <td id=\"T_ef81e98a_03e2_11ec_95f2_acbc32d61fabrow0_col4\" class=\"data row0 col4\" >0.8278</td>\n",
       "                        <td id=\"T_ef81e98a_03e2_11ec_95f2_acbc32d61fabrow0_col5\" class=\"data row0 col5\" >0.6711</td>\n",
       "                        <td id=\"T_ef81e98a_03e2_11ec_95f2_acbc32d61fabrow0_col6\" class=\"data row0 col6\" >0.6731</td>\n",
       "            </tr>\n",
       "            <tr>\n",
       "                        <th id=\"T_ef81e98a_03e2_11ec_95f2_acbc32d61fablevel0_row1\" class=\"row_heading level0 row1\" >1</th>\n",
       "                        <td id=\"T_ef81e98a_03e2_11ec_95f2_acbc32d61fabrow1_col0\" class=\"data row1 col0\" >0.8351</td>\n",
       "                        <td id=\"T_ef81e98a_03e2_11ec_95f2_acbc32d61fabrow1_col1\" class=\"data row1 col1\" >0.8889</td>\n",
       "                        <td id=\"T_ef81e98a_03e2_11ec_95f2_acbc32d61fabrow1_col2\" class=\"data row1 col2\" >0.7394</td>\n",
       "                        <td id=\"T_ef81e98a_03e2_11ec_95f2_acbc32d61fabrow1_col3\" class=\"data row1 col3\" >0.9130</td>\n",
       "                        <td id=\"T_ef81e98a_03e2_11ec_95f2_acbc32d61fabrow1_col4\" class=\"data row1 col4\" >0.8171</td>\n",
       "                        <td id=\"T_ef81e98a_03e2_11ec_95f2_acbc32d61fabrow1_col5\" class=\"data row1 col5\" >0.6700</td>\n",
       "                        <td id=\"T_ef81e98a_03e2_11ec_95f2_acbc32d61fabrow1_col6\" class=\"data row1 col6\" >0.6823</td>\n",
       "            </tr>\n",
       "            <tr>\n",
       "                        <th id=\"T_ef81e98a_03e2_11ec_95f2_acbc32d61fablevel0_row2\" class=\"row_heading level0 row2\" >2</th>\n",
       "                        <td id=\"T_ef81e98a_03e2_11ec_95f2_acbc32d61fabrow2_col0\" class=\"data row2 col0\" >0.8456</td>\n",
       "                        <td id=\"T_ef81e98a_03e2_11ec_95f2_acbc32d61fabrow2_col1\" class=\"data row2 col1\" >0.9041</td>\n",
       "                        <td id=\"T_ef81e98a_03e2_11ec_95f2_acbc32d61fabrow2_col2\" class=\"data row2 col2\" >0.7676</td>\n",
       "                        <td id=\"T_ef81e98a_03e2_11ec_95f2_acbc32d61fabrow2_col3\" class=\"data row2 col3\" >0.9083</td>\n",
       "                        <td id=\"T_ef81e98a_03e2_11ec_95f2_acbc32d61fabrow2_col4\" class=\"data row2 col4\" >0.8321</td>\n",
       "                        <td id=\"T_ef81e98a_03e2_11ec_95f2_acbc32d61fabrow2_col5\" class=\"data row2 col5\" >0.6911</td>\n",
       "                        <td id=\"T_ef81e98a_03e2_11ec_95f2_acbc32d61fabrow2_col6\" class=\"data row2 col6\" >0.6995</td>\n",
       "            </tr>\n",
       "            <tr>\n",
       "                        <th id=\"T_ef81e98a_03e2_11ec_95f2_acbc32d61fablevel0_row3\" class=\"row_heading level0 row3\" >3</th>\n",
       "                        <td id=\"T_ef81e98a_03e2_11ec_95f2_acbc32d61fabrow3_col0\" class=\"data row3 col0\" >0.8491</td>\n",
       "                        <td id=\"T_ef81e98a_03e2_11ec_95f2_acbc32d61fabrow3_col1\" class=\"data row3 col1\" >0.9205</td>\n",
       "                        <td id=\"T_ef81e98a_03e2_11ec_95f2_acbc32d61fabrow3_col2\" class=\"data row3 col2\" >0.7817</td>\n",
       "                        <td id=\"T_ef81e98a_03e2_11ec_95f2_acbc32d61fabrow3_col3\" class=\"data row3 col3\" >0.9024</td>\n",
       "                        <td id=\"T_ef81e98a_03e2_11ec_95f2_acbc32d61fabrow3_col4\" class=\"data row3 col4\" >0.8377</td>\n",
       "                        <td id=\"T_ef81e98a_03e2_11ec_95f2_acbc32d61fabrow3_col5\" class=\"data row3 col5\" >0.6981</td>\n",
       "                        <td id=\"T_ef81e98a_03e2_11ec_95f2_acbc32d61fabrow3_col6\" class=\"data row3 col6\" >0.7044</td>\n",
       "            </tr>\n",
       "            <tr>\n",
       "                        <th id=\"T_ef81e98a_03e2_11ec_95f2_acbc32d61fablevel0_row4\" class=\"row_heading level0 row4\" >4</th>\n",
       "                        <td id=\"T_ef81e98a_03e2_11ec_95f2_acbc32d61fabrow4_col0\" class=\"data row4 col0\" >0.8456</td>\n",
       "                        <td id=\"T_ef81e98a_03e2_11ec_95f2_acbc32d61fabrow4_col1\" class=\"data row4 col1\" >0.9089</td>\n",
       "                        <td id=\"T_ef81e98a_03e2_11ec_95f2_acbc32d61fabrow4_col2\" class=\"data row4 col2\" >0.7872</td>\n",
       "                        <td id=\"T_ef81e98a_03e2_11ec_95f2_acbc32d61fabrow4_col3\" class=\"data row4 col3\" >0.8880</td>\n",
       "                        <td id=\"T_ef81e98a_03e2_11ec_95f2_acbc32d61fabrow4_col4\" class=\"data row4 col4\" >0.8346</td>\n",
       "                        <td id=\"T_ef81e98a_03e2_11ec_95f2_acbc32d61fabrow4_col5\" class=\"data row4 col5\" >0.6908</td>\n",
       "                        <td id=\"T_ef81e98a_03e2_11ec_95f2_acbc32d61fabrow4_col6\" class=\"data row4 col6\" >0.6952</td>\n",
       "            </tr>\n",
       "            <tr>\n",
       "                        <th id=\"T_ef81e98a_03e2_11ec_95f2_acbc32d61fablevel0_row5\" class=\"row_heading level0 row5\" >Mean</th>\n",
       "                        <td id=\"T_ef81e98a_03e2_11ec_95f2_acbc32d61fabrow5_col0\" class=\"data row5 col0\" >0.8422</td>\n",
       "                        <td id=\"T_ef81e98a_03e2_11ec_95f2_acbc32d61fabrow5_col1\" class=\"data row5 col1\" >0.9049</td>\n",
       "                        <td id=\"T_ef81e98a_03e2_11ec_95f2_acbc32d61fabrow5_col2\" class=\"data row5 col2\" >0.7743</td>\n",
       "                        <td id=\"T_ef81e98a_03e2_11ec_95f2_acbc32d61fabrow5_col3\" class=\"data row5 col3\" >0.8949</td>\n",
       "                        <td id=\"T_ef81e98a_03e2_11ec_95f2_acbc32d61fabrow5_col4\" class=\"data row5 col4\" >0.8299</td>\n",
       "                        <td id=\"T_ef81e98a_03e2_11ec_95f2_acbc32d61fabrow5_col5\" class=\"data row5 col5\" >0.6842</td>\n",
       "                        <td id=\"T_ef81e98a_03e2_11ec_95f2_acbc32d61fabrow5_col6\" class=\"data row5 col6\" >0.6909</td>\n",
       "            </tr>\n",
       "            <tr>\n",
       "                        <th id=\"T_ef81e98a_03e2_11ec_95f2_acbc32d61fablevel0_row6\" class=\"row_heading level0 row6\" >SD</th>\n",
       "                        <td id=\"T_ef81e98a_03e2_11ec_95f2_acbc32d61fabrow6_col0\" class=\"data row6 col0\" >0.0057</td>\n",
       "                        <td id=\"T_ef81e98a_03e2_11ec_95f2_acbc32d61fabrow6_col1\" class=\"data row6 col1\" >0.0102</td>\n",
       "                        <td id=\"T_ef81e98a_03e2_11ec_95f2_acbc32d61fabrow6_col2\" class=\"data row6 col2\" >0.0197</td>\n",
       "                        <td id=\"T_ef81e98a_03e2_11ec_95f2_acbc32d61fabrow6_col3\" class=\"data row6 col3\" >0.0182</td>\n",
       "                        <td id=\"T_ef81e98a_03e2_11ec_95f2_acbc32d61fabrow6_col4\" class=\"data row6 col4\" >0.0071</td>\n",
       "                        <td id=\"T_ef81e98a_03e2_11ec_95f2_acbc32d61fabrow6_col5\" class=\"data row6 col5\" >0.0115</td>\n",
       "                        <td id=\"T_ef81e98a_03e2_11ec_95f2_acbc32d61fabrow6_col6\" class=\"data row6 col6\" >0.0115</td>\n",
       "            </tr>\n",
       "    </tbody></table>"
      ],
      "text/plain": [
       "<pandas.io.formats.style.Styler at 0x7f9aab8a6070>"
      ]
     },
     "metadata": {},
     "output_type": "display_data"
    }
   ],
   "source": [
    "blended = blend_models(estimator_list = best_5, fold = 5, method = 'soft')"
   ]
  },
  {
   "cell_type": "code",
   "execution_count": 143,
   "metadata": {},
   "outputs": [
    {
     "data": {
      "text/html": [
       "<style  type=\"text/css\" >\n",
       "#T_f175c5e0_03e2_11ec_95f2_acbc32d61fabrow10_col0,#T_f175c5e0_03e2_11ec_95f2_acbc32d61fabrow10_col1,#T_f175c5e0_03e2_11ec_95f2_acbc32d61fabrow10_col2,#T_f175c5e0_03e2_11ec_95f2_acbc32d61fabrow10_col3,#T_f175c5e0_03e2_11ec_95f2_acbc32d61fabrow10_col4,#T_f175c5e0_03e2_11ec_95f2_acbc32d61fabrow10_col5,#T_f175c5e0_03e2_11ec_95f2_acbc32d61fabrow10_col6{\n",
       "            background:  yellow;\n",
       "        }</style><table id=\"T_f175c5e0_03e2_11ec_95f2_acbc32d61fab\" ><thead>    <tr>        <th class=\"blank level0\" ></th>        <th class=\"col_heading level0 col0\" >Accuracy</th>        <th class=\"col_heading level0 col1\" >AUC</th>        <th class=\"col_heading level0 col2\" >Recall</th>        <th class=\"col_heading level0 col3\" >Prec.</th>        <th class=\"col_heading level0 col4\" >F1</th>        <th class=\"col_heading level0 col5\" >Kappa</th>        <th class=\"col_heading level0 col6\" >MCC</th>    </tr></thead><tbody>\n",
       "                <tr>\n",
       "                        <th id=\"T_f175c5e0_03e2_11ec_95f2_acbc32d61fablevel0_row0\" class=\"row_heading level0 row0\" >0</th>\n",
       "                        <td id=\"T_f175c5e0_03e2_11ec_95f2_acbc32d61fabrow0_col0\" class=\"data row0 col0\" >0.8112</td>\n",
       "                        <td id=\"T_f175c5e0_03e2_11ec_95f2_acbc32d61fabrow0_col1\" class=\"data row0 col1\" >0.8498</td>\n",
       "                        <td id=\"T_f175c5e0_03e2_11ec_95f2_acbc32d61fabrow0_col2\" class=\"data row0 col2\" >0.7465</td>\n",
       "                        <td id=\"T_f175c5e0_03e2_11ec_95f2_acbc32d61fabrow0_col3\" class=\"data row0 col3\" >0.8548</td>\n",
       "                        <td id=\"T_f175c5e0_03e2_11ec_95f2_acbc32d61fabrow0_col4\" class=\"data row0 col4\" >0.7970</td>\n",
       "                        <td id=\"T_f175c5e0_03e2_11ec_95f2_acbc32d61fabrow0_col5\" class=\"data row0 col5\" >0.6220</td>\n",
       "                        <td id=\"T_f175c5e0_03e2_11ec_95f2_acbc32d61fabrow0_col6\" class=\"data row0 col6\" >0.6270</td>\n",
       "            </tr>\n",
       "            <tr>\n",
       "                        <th id=\"T_f175c5e0_03e2_11ec_95f2_acbc32d61fablevel0_row1\" class=\"row_heading level0 row1\" >1</th>\n",
       "                        <td id=\"T_f175c5e0_03e2_11ec_95f2_acbc32d61fabrow1_col0\" class=\"data row1 col0\" >0.8182</td>\n",
       "                        <td id=\"T_f175c5e0_03e2_11ec_95f2_acbc32d61fabrow1_col1\" class=\"data row1 col1\" >0.9309</td>\n",
       "                        <td id=\"T_f175c5e0_03e2_11ec_95f2_acbc32d61fabrow1_col2\" class=\"data row1 col2\" >0.8451</td>\n",
       "                        <td id=\"T_f175c5e0_03e2_11ec_95f2_acbc32d61fabrow1_col3\" class=\"data row1 col3\" >0.8000</td>\n",
       "                        <td id=\"T_f175c5e0_03e2_11ec_95f2_acbc32d61fabrow1_col4\" class=\"data row1 col4\" >0.8219</td>\n",
       "                        <td id=\"T_f175c5e0_03e2_11ec_95f2_acbc32d61fabrow1_col5\" class=\"data row1 col5\" >0.6365</td>\n",
       "                        <td id=\"T_f175c5e0_03e2_11ec_95f2_acbc32d61fabrow1_col6\" class=\"data row1 col6\" >0.6375</td>\n",
       "            </tr>\n",
       "            <tr>\n",
       "                        <th id=\"T_f175c5e0_03e2_11ec_95f2_acbc32d61fablevel0_row2\" class=\"row_heading level0 row2\" >2</th>\n",
       "                        <td id=\"T_f175c5e0_03e2_11ec_95f2_acbc32d61fabrow2_col0\" class=\"data row2 col0\" >0.8252</td>\n",
       "                        <td id=\"T_f175c5e0_03e2_11ec_95f2_acbc32d61fabrow2_col1\" class=\"data row2 col1\" >0.8762</td>\n",
       "                        <td id=\"T_f175c5e0_03e2_11ec_95f2_acbc32d61fabrow2_col2\" class=\"data row2 col2\" >0.7042</td>\n",
       "                        <td id=\"T_f175c5e0_03e2_11ec_95f2_acbc32d61fabrow2_col3\" class=\"data row2 col3\" >0.9259</td>\n",
       "                        <td id=\"T_f175c5e0_03e2_11ec_95f2_acbc32d61fabrow2_col4\" class=\"data row2 col4\" >0.8000</td>\n",
       "                        <td id=\"T_f175c5e0_03e2_11ec_95f2_acbc32d61fabrow2_col5\" class=\"data row2 col5\" >0.6498</td>\n",
       "                        <td id=\"T_f175c5e0_03e2_11ec_95f2_acbc32d61fabrow2_col6\" class=\"data row2 col6\" >0.6690</td>\n",
       "            </tr>\n",
       "            <tr>\n",
       "                        <th id=\"T_f175c5e0_03e2_11ec_95f2_acbc32d61fablevel0_row3\" class=\"row_heading level0 row3\" >3</th>\n",
       "                        <td id=\"T_f175c5e0_03e2_11ec_95f2_acbc32d61fabrow3_col0\" class=\"data row3 col0\" >0.7902</td>\n",
       "                        <td id=\"T_f175c5e0_03e2_11ec_95f2_acbc32d61fabrow3_col1\" class=\"data row3 col1\" >0.8790</td>\n",
       "                        <td id=\"T_f175c5e0_03e2_11ec_95f2_acbc32d61fabrow3_col2\" class=\"data row3 col2\" >0.7606</td>\n",
       "                        <td id=\"T_f175c5e0_03e2_11ec_95f2_acbc32d61fabrow3_col3\" class=\"data row3 col3\" >0.8060</td>\n",
       "                        <td id=\"T_f175c5e0_03e2_11ec_95f2_acbc32d61fabrow3_col4\" class=\"data row3 col4\" >0.7826</td>\n",
       "                        <td id=\"T_f175c5e0_03e2_11ec_95f2_acbc32d61fabrow3_col5\" class=\"data row3 col5\" >0.5802</td>\n",
       "                        <td id=\"T_f175c5e0_03e2_11ec_95f2_acbc32d61fabrow3_col6\" class=\"data row3 col6\" >0.5811</td>\n",
       "            </tr>\n",
       "            <tr>\n",
       "                        <th id=\"T_f175c5e0_03e2_11ec_95f2_acbc32d61fablevel0_row4\" class=\"row_heading level0 row4\" >4</th>\n",
       "                        <td id=\"T_f175c5e0_03e2_11ec_95f2_acbc32d61fabrow4_col0\" class=\"data row4 col0\" >0.8182</td>\n",
       "                        <td id=\"T_f175c5e0_03e2_11ec_95f2_acbc32d61fabrow4_col1\" class=\"data row4 col1\" >0.8784</td>\n",
       "                        <td id=\"T_f175c5e0_03e2_11ec_95f2_acbc32d61fabrow4_col2\" class=\"data row4 col2\" >0.7606</td>\n",
       "                        <td id=\"T_f175c5e0_03e2_11ec_95f2_acbc32d61fabrow4_col3\" class=\"data row4 col3\" >0.8571</td>\n",
       "                        <td id=\"T_f175c5e0_03e2_11ec_95f2_acbc32d61fabrow4_col4\" class=\"data row4 col4\" >0.8060</td>\n",
       "                        <td id=\"T_f175c5e0_03e2_11ec_95f2_acbc32d61fabrow4_col5\" class=\"data row4 col5\" >0.6361</td>\n",
       "                        <td id=\"T_f175c5e0_03e2_11ec_95f2_acbc32d61fabrow4_col6\" class=\"data row4 col6\" >0.6401</td>\n",
       "            </tr>\n",
       "            <tr>\n",
       "                        <th id=\"T_f175c5e0_03e2_11ec_95f2_acbc32d61fablevel0_row5\" class=\"row_heading level0 row5\" >5</th>\n",
       "                        <td id=\"T_f175c5e0_03e2_11ec_95f2_acbc32d61fabrow5_col0\" class=\"data row5 col0\" >0.8252</td>\n",
       "                        <td id=\"T_f175c5e0_03e2_11ec_95f2_acbc32d61fabrow5_col1\" class=\"data row5 col1\" >0.9122</td>\n",
       "                        <td id=\"T_f175c5e0_03e2_11ec_95f2_acbc32d61fabrow5_col2\" class=\"data row5 col2\" >0.7465</td>\n",
       "                        <td id=\"T_f175c5e0_03e2_11ec_95f2_acbc32d61fabrow5_col3\" class=\"data row5 col3\" >0.8833</td>\n",
       "                        <td id=\"T_f175c5e0_03e2_11ec_95f2_acbc32d61fabrow5_col4\" class=\"data row5 col4\" >0.8092</td>\n",
       "                        <td id=\"T_f175c5e0_03e2_11ec_95f2_acbc32d61fabrow5_col5\" class=\"data row5 col5\" >0.6500</td>\n",
       "                        <td id=\"T_f175c5e0_03e2_11ec_95f2_acbc32d61fabrow5_col6\" class=\"data row5 col6\" >0.6578</td>\n",
       "            </tr>\n",
       "            <tr>\n",
       "                        <th id=\"T_f175c5e0_03e2_11ec_95f2_acbc32d61fablevel0_row6\" class=\"row_heading level0 row6\" >6</th>\n",
       "                        <td id=\"T_f175c5e0_03e2_11ec_95f2_acbc32d61fabrow6_col0\" class=\"data row6 col0\" >0.8451</td>\n",
       "                        <td id=\"T_f175c5e0_03e2_11ec_95f2_acbc32d61fabrow6_col1\" class=\"data row6 col1\" >0.9056</td>\n",
       "                        <td id=\"T_f175c5e0_03e2_11ec_95f2_acbc32d61fabrow6_col2\" class=\"data row6 col2\" >0.7746</td>\n",
       "                        <td id=\"T_f175c5e0_03e2_11ec_95f2_acbc32d61fabrow6_col3\" class=\"data row6 col3\" >0.9016</td>\n",
       "                        <td id=\"T_f175c5e0_03e2_11ec_95f2_acbc32d61fabrow6_col4\" class=\"data row6 col4\" >0.8333</td>\n",
       "                        <td id=\"T_f175c5e0_03e2_11ec_95f2_acbc32d61fabrow6_col5\" class=\"data row6 col5\" >0.6901</td>\n",
       "                        <td id=\"T_f175c5e0_03e2_11ec_95f2_acbc32d61fabrow6_col6\" class=\"data row6 col6\" >0.6971</td>\n",
       "            </tr>\n",
       "            <tr>\n",
       "                        <th id=\"T_f175c5e0_03e2_11ec_95f2_acbc32d61fablevel0_row7\" class=\"row_heading level0 row7\" >7</th>\n",
       "                        <td id=\"T_f175c5e0_03e2_11ec_95f2_acbc32d61fabrow7_col0\" class=\"data row7 col0\" >0.8451</td>\n",
       "                        <td id=\"T_f175c5e0_03e2_11ec_95f2_acbc32d61fabrow7_col1\" class=\"data row7 col1\" >0.9261</td>\n",
       "                        <td id=\"T_f175c5e0_03e2_11ec_95f2_acbc32d61fabrow7_col2\" class=\"data row7 col2\" >0.8169</td>\n",
       "                        <td id=\"T_f175c5e0_03e2_11ec_95f2_acbc32d61fabrow7_col3\" class=\"data row7 col3\" >0.8657</td>\n",
       "                        <td id=\"T_f175c5e0_03e2_11ec_95f2_acbc32d61fabrow7_col4\" class=\"data row7 col4\" >0.8406</td>\n",
       "                        <td id=\"T_f175c5e0_03e2_11ec_95f2_acbc32d61fabrow7_col5\" class=\"data row7 col5\" >0.6901</td>\n",
       "                        <td id=\"T_f175c5e0_03e2_11ec_95f2_acbc32d61fabrow7_col6\" class=\"data row7 col6\" >0.6912</td>\n",
       "            </tr>\n",
       "            <tr>\n",
       "                        <th id=\"T_f175c5e0_03e2_11ec_95f2_acbc32d61fablevel0_row8\" class=\"row_heading level0 row8\" >8</th>\n",
       "                        <td id=\"T_f175c5e0_03e2_11ec_95f2_acbc32d61fabrow8_col0\" class=\"data row8 col0\" >0.8592</td>\n",
       "                        <td id=\"T_f175c5e0_03e2_11ec_95f2_acbc32d61fabrow8_col1\" class=\"data row8 col1\" >0.8913</td>\n",
       "                        <td id=\"T_f175c5e0_03e2_11ec_95f2_acbc32d61fabrow8_col2\" class=\"data row8 col2\" >0.7887</td>\n",
       "                        <td id=\"T_f175c5e0_03e2_11ec_95f2_acbc32d61fabrow8_col3\" class=\"data row8 col3\" >0.9180</td>\n",
       "                        <td id=\"T_f175c5e0_03e2_11ec_95f2_acbc32d61fabrow8_col4\" class=\"data row8 col4\" >0.8485</td>\n",
       "                        <td id=\"T_f175c5e0_03e2_11ec_95f2_acbc32d61fabrow8_col5\" class=\"data row8 col5\" >0.7183</td>\n",
       "                        <td id=\"T_f175c5e0_03e2_11ec_95f2_acbc32d61fabrow8_col6\" class=\"data row8 col6\" >0.7255</td>\n",
       "            </tr>\n",
       "            <tr>\n",
       "                        <th id=\"T_f175c5e0_03e2_11ec_95f2_acbc32d61fablevel0_row9\" class=\"row_heading level0 row9\" >9</th>\n",
       "                        <td id=\"T_f175c5e0_03e2_11ec_95f2_acbc32d61fabrow9_col0\" class=\"data row9 col0\" >0.8028</td>\n",
       "                        <td id=\"T_f175c5e0_03e2_11ec_95f2_acbc32d61fabrow9_col1\" class=\"data row9 col1\" >0.8975</td>\n",
       "                        <td id=\"T_f175c5e0_03e2_11ec_95f2_acbc32d61fabrow9_col2\" class=\"data row9 col2\" >0.7714</td>\n",
       "                        <td id=\"T_f175c5e0_03e2_11ec_95f2_acbc32d61fabrow9_col3\" class=\"data row9 col3\" >0.8182</td>\n",
       "                        <td id=\"T_f175c5e0_03e2_11ec_95f2_acbc32d61fabrow9_col4\" class=\"data row9 col4\" >0.7941</td>\n",
       "                        <td id=\"T_f175c5e0_03e2_11ec_95f2_acbc32d61fabrow9_col5\" class=\"data row9 col5\" >0.6052</td>\n",
       "                        <td id=\"T_f175c5e0_03e2_11ec_95f2_acbc32d61fabrow9_col6\" class=\"data row9 col6\" >0.6062</td>\n",
       "            </tr>\n",
       "            <tr>\n",
       "                        <th id=\"T_f175c5e0_03e2_11ec_95f2_acbc32d61fablevel0_row10\" class=\"row_heading level0 row10\" >Mean</th>\n",
       "                        <td id=\"T_f175c5e0_03e2_11ec_95f2_acbc32d61fabrow10_col0\" class=\"data row10 col0\" >0.8240</td>\n",
       "                        <td id=\"T_f175c5e0_03e2_11ec_95f2_acbc32d61fabrow10_col1\" class=\"data row10 col1\" >0.8947</td>\n",
       "                        <td id=\"T_f175c5e0_03e2_11ec_95f2_acbc32d61fabrow10_col2\" class=\"data row10 col2\" >0.7715</td>\n",
       "                        <td id=\"T_f175c5e0_03e2_11ec_95f2_acbc32d61fabrow10_col3\" class=\"data row10 col3\" >0.8631</td>\n",
       "                        <td id=\"T_f175c5e0_03e2_11ec_95f2_acbc32d61fabrow10_col4\" class=\"data row10 col4\" >0.8133</td>\n",
       "                        <td id=\"T_f175c5e0_03e2_11ec_95f2_acbc32d61fabrow10_col5\" class=\"data row10 col5\" >0.6478</td>\n",
       "                        <td id=\"T_f175c5e0_03e2_11ec_95f2_acbc32d61fabrow10_col6\" class=\"data row10 col6\" >0.6533</td>\n",
       "            </tr>\n",
       "            <tr>\n",
       "                        <th id=\"T_f175c5e0_03e2_11ec_95f2_acbc32d61fablevel0_row11\" class=\"row_heading level0 row11\" >SD</th>\n",
       "                        <td id=\"T_f175c5e0_03e2_11ec_95f2_acbc32d61fabrow11_col0\" class=\"data row11 col0\" >0.0199</td>\n",
       "                        <td id=\"T_f175c5e0_03e2_11ec_95f2_acbc32d61fabrow11_col1\" class=\"data row11 col1\" >0.0237</td>\n",
       "                        <td id=\"T_f175c5e0_03e2_11ec_95f2_acbc32d61fabrow11_col2\" class=\"data row11 col2\" >0.0371</td>\n",
       "                        <td id=\"T_f175c5e0_03e2_11ec_95f2_acbc32d61fabrow11_col3\" class=\"data row11 col3\" >0.0427</td>\n",
       "                        <td id=\"T_f175c5e0_03e2_11ec_95f2_acbc32d61fabrow11_col4\" class=\"data row11 col4\" >0.0207</td>\n",
       "                        <td id=\"T_f175c5e0_03e2_11ec_95f2_acbc32d61fabrow11_col5\" class=\"data row11 col5\" >0.0398</td>\n",
       "                        <td id=\"T_f175c5e0_03e2_11ec_95f2_acbc32d61fabrow11_col6\" class=\"data row11 col6\" >0.0417</td>\n",
       "            </tr>\n",
       "    </tbody></table>"
      ],
      "text/plain": [
       "<pandas.io.formats.style.Styler at 0x7f9aae53c7f0>"
      ]
     },
     "metadata": {},
     "output_type": "display_data"
    }
   ],
   "source": [
    "rf = create_model('rf', cross_validation=True)"
   ]
  },
  {
   "cell_type": "code",
   "execution_count": 144,
   "metadata": {},
   "outputs": [
    {
     "data": {
      "image/png": "[encoded data removed]",
      "text/plain": [
       "<Figure size 576x396 with 1 Axes>"
      ]
     },
     "metadata": {},
     "output_type": "display_data"
    }
   ],
   "source": [
    "plot_model(rf)"
   ]
  },
  {
   "cell_type": "code",
   "execution_count": 145,
   "metadata": {},
   "outputs": [
    {
     "data": {
      "image/png": "[encoded data removed]",
      "text/plain": [
       "<Figure size 576x396 with 1 Axes>"
      ]
     },
     "metadata": {},
     "output_type": "display_data"
    }
   ],
   "source": [
    "plot_model(rf, plot='confusion_matrix')"
   ]
  },
  {
   "cell_type": "code",
   "execution_count": 146,
   "metadata": {},
   "outputs": [
    {
     "data": {
      "text/html": [
       "<div>\n",
       "<style scoped>\n",
       "    .dataframe tbody tr th:only-of-type {\n",
       "        vertical-align: middle;\n",
       "    }\n",
       "\n",
       "    .dataframe tbody tr th {\n",
       "        vertical-align: top;\n",
       "    }\n",
       "\n",
       "    .dataframe thead th {\n",
       "        text-align: right;\n",
       "    }\n",
       "</style>\n",
       "<table border=\"1\" class=\"dataframe\">\n",
       "  <thead>\n",
       "    <tr style=\"text-align: right;\">\n",
       "      <th></th>\n",
       "      <th>Parameters</th>\n",
       "    </tr>\n",
       "  </thead>\n",
       "  <tbody>\n",
       "    <tr>\n",
       "      <th>bootstrap</th>\n",
       "      <td>True</td>\n",
       "    </tr>\n",
       "    <tr>\n",
       "      <th>ccp_alpha</th>\n",
       "      <td>0.0</td>\n",
       "    </tr>\n",
       "    <tr>\n",
       "      <th>class_weight</th>\n",
       "      <td>None</td>\n",
       "    </tr>\n",
       "    <tr>\n",
       "      <th>criterion</th>\n",
       "      <td>gini</td>\n",
       "    </tr>\n",
       "    <tr>\n",
       "      <th>max_depth</th>\n",
       "      <td>None</td>\n",
       "    </tr>\n",
       "    <tr>\n",
       "      <th>max_features</th>\n",
       "      <td>auto</td>\n",
       "    </tr>\n",
       "    <tr>\n",
       "      <th>max_leaf_nodes</th>\n",
       "      <td>None</td>\n",
       "    </tr>\n",
       "    <tr>\n",
       "      <th>max_samples</th>\n",
       "      <td>None</td>\n",
       "    </tr>\n",
       "    <tr>\n",
       "      <th>min_impurity_decrease</th>\n",
       "      <td>0.0</td>\n",
       "    </tr>\n",
       "    <tr>\n",
       "      <th>min_impurity_split</th>\n",
       "      <td>None</td>\n",
       "    </tr>\n",
       "    <tr>\n",
       "      <th>min_samples_leaf</th>\n",
       "      <td>1</td>\n",
       "    </tr>\n",
       "    <tr>\n",
       "      <th>min_samples_split</th>\n",
       "      <td>2</td>\n",
       "    </tr>\n",
       "    <tr>\n",
       "      <th>min_weight_fraction_leaf</th>\n",
       "      <td>0.0</td>\n",
       "    </tr>\n",
       "    <tr>\n",
       "      <th>n_estimators</th>\n",
       "      <td>100</td>\n",
       "    </tr>\n",
       "    <tr>\n",
       "      <th>n_jobs</th>\n",
       "      <td>-1</td>\n",
       "    </tr>\n",
       "    <tr>\n",
       "      <th>oob_score</th>\n",
       "      <td>False</td>\n",
       "    </tr>\n",
       "    <tr>\n",
       "      <th>random_state</th>\n",
       "      <td>123</td>\n",
       "    </tr>\n",
       "    <tr>\n",
       "      <th>verbose</th>\n",
       "      <td>0</td>\n",
       "    </tr>\n",
       "    <tr>\n",
       "      <th>warm_start</th>\n",
       "      <td>False</td>\n",
       "    </tr>\n",
       "  </tbody>\n",
       "</table>\n",
       "</div>"
      ],
      "text/plain": [
       "                         Parameters\n",
       "bootstrap                      True\n",
       "ccp_alpha                       0.0\n",
       "class_weight                   None\n",
       "criterion                      gini\n",
       "max_depth                      None\n",
       "max_features                   auto\n",
       "max_leaf_nodes                 None\n",
       "max_samples                    None\n",
       "min_impurity_decrease           0.0\n",
       "min_impurity_split             None\n",
       "min_samples_leaf                  1\n",
       "min_samples_split                 2\n",
       "min_weight_fraction_leaf        0.0\n",
       "n_estimators                    100\n",
       "n_jobs                           -1\n",
       "oob_score                     False\n",
       "random_state                    123\n",
       "verbose                           0\n",
       "warm_start                    False"
      ]
     },
     "metadata": {},
     "output_type": "display_data"
    }
   ],
   "source": [
    "evaluate_model(rf)"
   ]
  },
  {
   "cell_type": "code",
   "execution_count": 147,
   "metadata": {},
   "outputs": [],
   "source": [
    "plt.rc('font', family=\"AppleGothic\")\n"
   ]
  },
  {
   "cell_type": "code",
   "execution_count": 148,
   "metadata": {},
   "outputs": [
    {
     "data": {
      "image/png": "[encoded data removed]",
      "text/plain": [
       "<Figure size 576x626.4 with 2 Axes>"
      ]
     },
     "metadata": {},
     "output_type": "display_data"
    }
   ],
   "source": [
    "interpret_model(rf)"
   ]
  },
  {
   "cell_type": "code",
   "execution_count": 149,
   "metadata": {},
   "outputs": [
    {
     "data": {
      "image/png": "[encoded data removed]",
      "text/plain": [
       "<Figure size 540x360 with 2 Axes>"
      ]
     },
     "metadata": {},
     "output_type": "display_data"
    }
   ],
   "source": [
    "interpret_model(rf, plot='correlation')"
   ]
  },
  {
   "cell_type": "code",
   "execution_count": 151,
   "metadata": {},
   "outputs": [
    {
     "data": {
      "image/png": "[encoded data removed]",
      "text/plain": [
       "<Figure size 700x600 with 1 Axes>"
      ]
     },
     "metadata": {},
     "output_type": "display_data"
    }
   ],
   "source": [
    "plot_model(rf, 'calibration')\n"
   ]
  },
  {
   "cell_type": "code",
   "execution_count": 150,
   "metadata": {},
   "outputs": [
    {
     "data": {
      "text/html": [
       "<div>\n",
       "<style scoped>\n",
       "    .dataframe tbody tr th:only-of-type {\n",
       "        vertical-align: middle;\n",
       "    }\n",
       "\n",
       "    .dataframe tbody tr th {\n",
       "        vertical-align: top;\n",
       "    }\n",
       "\n",
       "    .dataframe thead th {\n",
       "        text-align: right;\n",
       "    }\n",
       "</style>\n",
       "<table border=\"1\" class=\"dataframe\">\n",
       "  <thead>\n",
       "    <tr style=\"text-align: right;\">\n",
       "      <th></th>\n",
       "      <th>VIF Factor</th>\n",
       "      <th>features</th>\n",
       "    </tr>\n",
       "  </thead>\n",
       "  <tbody>\n",
       "    <tr>\n",
       "      <th>0</th>\n",
       "      <td>1.894017</td>\n",
       "      <td>고령인구</td>\n",
       "    </tr>\n",
       "    <tr>\n",
       "      <th>1</th>\n",
       "      <td>1.175552</td>\n",
       "      <td>개별주택가격</td>\n",
       "    </tr>\n",
       "    <tr>\n",
       "      <th>2</th>\n",
       "      <td>2.597557</td>\n",
       "      <td>공시지가</td>\n",
       "    </tr>\n",
       "    <tr>\n",
       "      <th>3</th>\n",
       "      <td>2.004652</td>\n",
       "      <td>가로등</td>\n",
       "    </tr>\n",
       "    <tr>\n",
       "      <th>4</th>\n",
       "      <td>1.183506</td>\n",
       "      <td>공영주차장</td>\n",
       "    </tr>\n",
       "    <tr>\n",
       "      <th>5</th>\n",
       "      <td>1.119227</td>\n",
       "      <td>공중화장실</td>\n",
       "    </tr>\n",
       "    <tr>\n",
       "      <th>6</th>\n",
       "      <td>2.021835</td>\n",
       "      <td>교육시설</td>\n",
       "    </tr>\n",
       "    <tr>\n",
       "      <th>7</th>\n",
       "      <td>1.130061</td>\n",
       "      <td>대부업현황</td>\n",
       "    </tr>\n",
       "    <tr>\n",
       "      <th>8</th>\n",
       "      <td>1.915543</td>\n",
       "      <td>룸살롱</td>\n",
       "    </tr>\n",
       "    <tr>\n",
       "      <th>9</th>\n",
       "      <td>1.475829</td>\n",
       "      <td>버스정류장</td>\n",
       "    </tr>\n",
       "    <tr>\n",
       "      <th>10</th>\n",
       "      <td>1.416810</td>\n",
       "      <td>보안등</td>\n",
       "    </tr>\n",
       "    <tr>\n",
       "      <th>11</th>\n",
       "      <td>3.259211</td>\n",
       "      <td>상가</td>\n",
       "    </tr>\n",
       "    <tr>\n",
       "      <th>12</th>\n",
       "      <td>1.626697</td>\n",
       "      <td>숙박업소</td>\n",
       "    </tr>\n",
       "    <tr>\n",
       "      <th>13</th>\n",
       "      <td>2.921327</td>\n",
       "      <td>술집</td>\n",
       "    </tr>\n",
       "    <tr>\n",
       "      <th>14</th>\n",
       "      <td>1.267201</td>\n",
       "      <td>어린이보호</td>\n",
       "    </tr>\n",
       "    <tr>\n",
       "      <th>15</th>\n",
       "      <td>1.618302</td>\n",
       "      <td>어린이집</td>\n",
       "    </tr>\n",
       "    <tr>\n",
       "      <th>16</th>\n",
       "      <td>2.406371</td>\n",
       "      <td>오락시설</td>\n",
       "    </tr>\n",
       "    <tr>\n",
       "      <th>17</th>\n",
       "      <td>1.488694</td>\n",
       "      <td>원룸_오피스텔</td>\n",
       "    </tr>\n",
       "    <tr>\n",
       "      <th>18</th>\n",
       "      <td>2.128308</td>\n",
       "      <td>cctv</td>\n",
       "    </tr>\n",
       "    <tr>\n",
       "      <th>19</th>\n",
       "      <td>1.959435</td>\n",
       "      <td>신호등</td>\n",
       "    </tr>\n",
       "    <tr>\n",
       "      <th>20</th>\n",
       "      <td>2.275444</td>\n",
       "      <td>횡단보도</td>\n",
       "    </tr>\n",
       "    <tr>\n",
       "      <th>21</th>\n",
       "      <td>1.831751</td>\n",
       "      <td>건축물(30_)</td>\n",
       "    </tr>\n",
       "    <tr>\n",
       "      <th>22</th>\n",
       "      <td>1.284739</td>\n",
       "      <td>범죄발생</td>\n",
       "    </tr>\n",
       "  </tbody>\n",
       "</table>\n",
       "</div>"
      ],
      "text/plain": [
       "    VIF Factor  features\n",
       "0     1.894017      고령인구\n",
       "1     1.175552    개별주택가격\n",
       "2     2.597557      공시지가\n",
       "3     2.004652       가로등\n",
       "4     1.183506     공영주차장\n",
       "5     1.119227     공중화장실\n",
       "6     2.021835      교육시설\n",
       "7     1.130061     대부업현황\n",
       "8     1.915543       룸살롱\n",
       "9     1.475829     버스정류장\n",
       "10    1.416810       보안등\n",
       "11    3.259211        상가\n",
       "12    1.626697      숙박업소\n",
       "13    2.921327        술집\n",
       "14    1.267201     어린이보호\n",
       "15    1.618302      어린이집\n",
       "16    2.406371      오락시설\n",
       "17    1.488694   원룸_오피스텔\n",
       "18    2.128308      cctv\n",
       "19    1.959435       신호등\n",
       "20    2.275444      횡단보도\n",
       "21    1.831751  건축물(30_)\n",
       "22    1.284739      범죄발생"
      ]
     },
     "execution_count": 150,
     "metadata": {},
     "output_type": "execute_result"
    }
   ],
   "source": [
    "#다중공선성확인\n",
    "vif = pd.DataFrame()\n",
    "vif[\"VIF Factor\"] = [variance_inflation_factor(feature.values, i) for i in range(feature.shape[1])]\n",
    "vif[\"features\"] = feature.columns \n",
    "vif"
   ]
  },
  {
   "cell_type": "code",
   "execution_count": null,
   "metadata": {},
   "outputs": [],
   "source": []
  }
 ],
 "metadata": {
  "kernelspec": {
   "display_name": "Python 3",
   "language": "python",
   "name": "python3"
  },
  "language_info": {
   "codemirror_mode": {
    "name": "ipython",
    "version": 3
   },
   "file_extension": ".py",
   "mimetype": "text/x-python",
   "name": "python",
   "nbconvert_exporter": "python",
   "pygments_lexer": "ipython3",
   "version": "3.9.0"
  }
 },
 "nbformat": 4,
 "nbformat_minor": 4
}
