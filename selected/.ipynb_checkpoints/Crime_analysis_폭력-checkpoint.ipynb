{
 "cells": [
  {
   "cell_type": "code",
   "execution_count": 134,
   "metadata": {},
   "outputs": [],
   "source": [
    "import pandas as pd\n",
    "import numpy as np\n",
    "import seaborn as sns\n",
    "\n",
    "import matplotlib.pyplot as plt\n",
    "import matplotlib \n",
    "matplotlib.rcParams['axes.unicode_minus'] = False\n",
    "matplotlib.rcParams['font.family'] = \"AppleGothic\"\n",
    "from IPython.display import Image\n",
    "\n",
    "from sklearn.ensemble import RandomForestRegressor\n",
    "from sklearn.linear_model import LogisticRegression\n",
    "from statsmodels.stats.outliers_influence import variance_inflation_factor\n",
    "from statsmodels.sandbox.stats.multicomp import MultiComparison\n",
    "\n",
    "from sklearn.metrics import accuracy_score\n",
    "from sklearn.metrics import confusion_matrix\n",
    "\n",
    "from scipy import stats\n",
    "import scipy \n",
    "from pycaret.regression import *\n",
    "import catboost as cb\n",
    "from sklearn.model_selection import train_test_split\n",
    "from sklearn.metrics import mean_squared_error\n",
    "from sklearn.metrics import r2_score\n",
    "from sklearn.inspection import permutation_importance\n",
    "from sklearn.metrics import mean_absolute_error\n",
    "from sklearn.preprocessing import StandardScaler\n",
    "import pandas_profiling\n",
    "import statsmodels.api as sm\n",
    "from sklearn.decomposition import PCA\n",
    "from statsmodels.miscmodels.ordinal_model import OrderedModel"
   ]
  },
  {
   "cell_type": "code",
   "execution_count": 135,
   "metadata": {},
   "outputs": [],
   "source": [
    "grid_250 = pd.read_csv('/Users/Desktop/DataCampus/data/real_data/250grid_data.csv')"
   ]
  },
  {
   "cell_type": "code",
   "execution_count": 136,
   "metadata": {},
   "outputs": [],
   "source": [
    "grid_250 = grid_250.fillna(0)"
   ]
  },
  {
   "cell_type": "code",
   "execution_count": 137,
   "metadata": {},
   "outputs": [],
   "source": [
    "grid_250['성폭력취약인구'] = grid_250['고등여성인구']+grid_250['20대여성인구']\n",
    "grid_250['건축물(30_)'] = grid_250['건축물(30_34)']+grid_250['건축물(35)']\n",
    "grid_250['GRADE_폭력'] = grid_250['GRADE_폭력'].apply(lambda x: x-1 if x>0 else x)\n",
    "grid_250['GRADE_절도'] = grid_250['GRADE_절도'].apply(lambda x: x-1 if x>0 else x)\n",
    "grid_250['GRADE_성폭력'] = grid_250['GRADE_성폭력'].apply(lambda x: x-1 if x>0 else x)\n",
    "grid_250 = grid_250.drop(columns = ['20대여성인구','고등여성인구','INDEX'])"
   ]
  },
  {
   "cell_type": "markdown",
   "metadata": {},
   "source": [
    "### 행정동별로 평균 범죄주의구간 등급 확인"
   ]
  },
  {
   "cell_type": "code",
   "execution_count": 138,
   "metadata": {},
   "outputs": [],
   "source": [
    "feat_N = grid_250[(grid_250['총인구']==0)&(grid_250['건축물(30_34)']==0)&(grid_250['건축물(35)']==0)&(grid_250['가로등']==0)&(grid_250['공영주차장']==0)&(grid_250['공중화장실']==0)&(grid_250['숙박업소']==0)\n",
    "        &(grid_250['대규모점포']==0)&(grid_250['대부업현황']==0)&(grid_250['상가']==0)&(grid_250['어린이보호']==0)&(grid_250['원룸_오피스텔']==0)&(grid_250['cctv']==0)&(grid_250['신호등']==0)&(grid_250['횡단보도']==0)\n",
    "        &(grid_250['버스정류장']==0)&(grid_250['개별주택가격']==0)] #target 제외 모든 변수가 0인 row\n",
    "feat_Y = grid_250[(grid_250['총인구']>0)|(grid_250['건축물(30_34)']>0)|(grid_250['건축물(35)']>0)|(grid_250['가로등']>0)|(grid_250['공영주차장']>0)|(grid_250['공중화장실']>0)|(grid_250['숙박업소']>0)\n",
    "        |(grid_250['대규모점포']>0)|(grid_250['대부업현황']>0)|(grid_250['상가']>0)|(grid_250['어린이보호']>0)|(grid_250['원룸_오피스텔']>0)|(grid_250['cctv']>0)|(grid_250['신호등']>0)|(grid_250['횡단보도']>0)\n",
    "        |(grid_250['버스정류장']>0)|(grid_250['개별주택가격']>0)] #target 제외 모든 변수가 0보다 큰 row\n"
   ]
  },
  {
   "cell_type": "markdown",
   "metadata": {},
   "source": [
    "- 모든 피쳐가 0인 행이 `1460`개이고, 한 피쳐라도 0보다 큰 행은 `2038`개 (공시지가와 타겟 제외)"
   ]
  },
  {
   "cell_type": "markdown",
   "metadata": {},
   "source": [
    "- 폭력등급이 0보다 큰 로우는 900개, 절도 등급이 0보다 큰 로우는 836개, 성폭력 등급이 0보다 큰 로우는 303개가 있다. \n",
    "- 모든 피쳐가 0임에도 불구하고(1460개의 피쳐), 폭력등급이 있는 로우는 19개, 절도 13개, 성폭력 4개가 있었다."
   ]
  },
  {
   "cell_type": "code",
   "execution_count": 139,
   "metadata": {},
   "outputs": [],
   "source": [
    "new_grid = feat_Y"
   ]
  },
  {
   "cell_type": "code",
   "execution_count": 157,
   "metadata": {},
   "outputs": [],
   "source": [
    "out = open('/Users/gimdong-wan/Desktop/out_2.txt','w')"
   ]
  },
  {
   "cell_type": "code",
   "execution_count": 158,
   "metadata": {},
   "outputs": [],
   "source": [
    "print(list(new_grid[new_grid['총인구']==0]['ID']),file = out)"
   ]
  },
  {
   "cell_type": "code",
   "execution_count": 170,
   "metadata": {},
   "outputs": [
    {
     "data": {
      "text/plain": [
       "<bound method IndexOpsMixin.value_counts of 24      다마55ab66aa\n",
       "32      다마55ba64ab\n",
       "45      다마55bb63ba\n",
       "65      다마56aa64ab\n",
       "75      다마56ab62ba\n",
       "           ...    \n",
       "3357    다마73aa61ba\n",
       "3358    다마73aa61bb\n",
       "3398    다마73ba57ba\n",
       "3421    다마73bb57ab\n",
       "3424    다마73bb58aa\n",
       "Name: ID, Length: 575, dtype: object>"
      ]
     },
     "execution_count": 170,
     "metadata": {},
     "output_type": "execute_result"
    }
   ],
   "source": [
    "new_grid[new_grid['총인구']==0]['ID'].value_counts"
   ]
  },
  {
   "cell_type": "code",
   "execution_count": 141,
   "metadata": {},
   "outputs": [
    {
     "data": {
      "text/plain": [
       "Index(['ID', '총인구', '유소년인구', '고령인구', '건축물(30_34)', '건축물(35)', '개별주택가격', '공시지가',\n",
       "       '행정동코드', '가로등', '공영주차장', '공중화장실', '교육시설', '대규모점포', '대부업현황', '룸살롱',\n",
       "       '버스정류장', '보안등', '상가', '숙박업소', '술집', '어린이보호', '어린이집', '오락시설', '원룸_오피스텔',\n",
       "       '음식점', '자율방범대', '파출소', 'cctv', '신호등', '횡단보도', 'GRADE_폭력', 'GRADE_절도',\n",
       "       'GRADE_성폭력', '성폭력취약인구', '건축물(30_)'],\n",
       "      dtype='object')"
      ]
     },
     "execution_count": 141,
     "metadata": {},
     "output_type": "execute_result"
    }
   ],
   "source": [
    "new_grid.columns"
   ]
  },
  {
   "cell_type": "code",
   "execution_count": 142,
   "metadata": {},
   "outputs": [
    {
     "name": "stdout",
     "output_type": "stream",
     "text": [
      "Number of Numerical features:  31\n",
      "Number of Categorical features:  2\n"
     ]
    }
   ],
   "source": [
    "numerical_feats = new_grid.dtypes[new_grid.dtypes != \"object\"].index.tolist()\n",
    "numerical_feats.remove('GRADE_폭력')\n",
    "numerical_feats.remove('GRADE_절도')\n",
    "numerical_feats.remove('GRADE_성폭력')\n",
    "print(\"Number of Numerical features: \", len(numerical_feats))\n",
    "\n",
    "categorical_feats = new_grid.dtypes[new_grid.dtypes == \"object\"].index.tolist()\n",
    "print(\"Number of Categorical features: \", len(categorical_feats))"
   ]
  },
  {
   "cell_type": "code",
   "execution_count": 143,
   "metadata": {},
   "outputs": [],
   "source": [
    "feature_list = list(new_grid.drop(columns = ['행정동코드','ID','GRADE_절도','GRADE_성폭력','GRADE_폭력']).columns)\n",
    "feature = new_grid[feature_list]\n",
    "target = new_grid[['GRADE_폭력']]"
   ]
  },
  {
   "cell_type": "code",
   "execution_count": 144,
   "metadata": {},
   "outputs": [
    {
     "data": {
      "text/plain": [
       "Index(['ID', '총인구', '유소년인구', '고령인구', '건축물(30_34)', '건축물(35)', '개별주택가격', '공시지가',\n",
       "       '행정동코드', '가로등', '공영주차장', '공중화장실', '교육시설', '대규모점포', '대부업현황', '룸살롱',\n",
       "       '버스정류장', '보안등', '상가', '숙박업소', '술집', '어린이보호', '어린이집', '오락시설', '원룸_오피스텔',\n",
       "       '음식점', '자율방범대', '파출소', 'cctv', '신호등', '횡단보도', 'GRADE_폭력', 'GRADE_절도',\n",
       "       'GRADE_성폭력', '성폭력취약인구', '건축물(30_)'],\n",
       "      dtype='object')"
      ]
     },
     "execution_count": 144,
     "metadata": {},
     "output_type": "execute_result"
    }
   ],
   "source": [
    "new_grid.columns"
   ]
  },
  {
   "cell_type": "code",
   "execution_count": 145,
   "metadata": {},
   "outputs": [],
   "source": [
    "new_grid['폭력빈도_4'] = 0"
   ]
  },
  {
   "cell_type": "code",
   "execution_count": 146,
   "metadata": {},
   "outputs": [],
   "source": [
    "new_grid.loc[(new_grid['GRADE_폭력']==0),'폭력빈도_4'] = 0\n",
    "new_grid.loc[(new_grid['GRADE_폭력']>0)&(new_grid['GRADE_폭력']<4),'폭력빈도_4'] = 1\n",
    "new_grid.loc[(new_grid['GRADE_폭력']>=4)&(new_grid['GRADE_폭력']<8),'폭력빈도_4'] = 2\n",
    "new_grid.loc[(new_grid['GRADE_폭력']>=8)&(new_grid['GRADE_폭력']<11),'폭력빈도_4'] = 3"
   ]
  },
  {
   "cell_type": "code",
   "execution_count": 147,
   "metadata": {},
   "outputs": [],
   "source": [
    "feature_list = list(new_grid.drop(columns = ['행정동코드','ID','GRADE_절도','GRADE_성폭력','GRADE_폭력','폭력빈도_4']).columns)\n",
    "feature = new_grid[feature_list]\n",
    "target = new_grid[['폭력빈도_4']]"
   ]
  },
  {
   "cell_type": "code",
   "execution_count": 148,
   "metadata": {},
   "outputs": [
    {
     "name": "stdout",
     "output_type": "stream",
     "text": [
      "14 5 3 6\n"
     ]
    }
   ],
   "source": [
    "print(len(new_grid[new_grid['폭력빈도_4']==3]),len(new_grid[new_grid['GRADE_폭력']==8]),len(new_grid[new_grid['GRADE_폭력']==9]),len(new_grid[new_grid['GRADE_폭력']==10]))"
   ]
  },
  {
   "cell_type": "code",
   "execution_count": 149,
   "metadata": {},
   "outputs": [],
   "source": [
    "new_grid['폭력빈도_3'] = 0"
   ]
  },
  {
   "cell_type": "code",
   "execution_count": 150,
   "metadata": {},
   "outputs": [],
   "source": [
    "#new_grid.loc[(new_grid['GRADE_폭력']==0),'폭력빈도'] = 0\n",
    "new_grid.loc[(new_grid['GRADE_폭력']>=0)&(new_grid['GRADE_폭력']<4),'폭력빈도_3'] = 0\n",
    "new_grid.loc[(new_grid['GRADE_폭력']>=4)&(new_grid['GRADE_폭력']<8),'폭력빈도_3'] = 1\n",
    "new_grid.loc[(new_grid['GRADE_폭력']>=8)&(new_grid['GRADE_폭력']<11),'폭력빈도_3'] = 2"
   ]
  },
  {
   "cell_type": "code",
   "execution_count": 151,
   "metadata": {},
   "outputs": [
    {
     "data": {
      "text/plain": [
       "0    1747\n",
       "1     277\n",
       "2      14\n",
       "Name: 폭력빈도_3, dtype: int64"
      ]
     },
     "execution_count": 151,
     "metadata": {},
     "output_type": "execute_result"
    }
   ],
   "source": [
    "new_grid['폭력빈도_3'].value_counts()"
   ]
  },
  {
   "cell_type": "markdown",
   "metadata": {},
   "source": [
    "### 범주별 평균차이 분석 (범주3개)"
   ]
  },
  {
   "cell_type": "code",
   "execution_count": 88,
   "metadata": {},
   "outputs": [],
   "source": [
    "group_1 = new_grid.loc[(new_grid['폭력빈도_4']==0)]\n",
    "group_2 = new_grid.loc[(new_grid['폭력빈도_4']==1)]\n",
    "group_3 = new_grid.loc[(new_grid['폭력빈도_4']==2)]\n",
    "group_4 = new_grid.loc[(new_grid['폭력빈도_4']==3)]"
   ]
  },
  {
   "cell_type": "markdown",
   "metadata": {},
   "source": [
    "### 변수 선택을 위한 사후검정 실시"
   ]
  },
  {
   "cell_type": "code",
   "execution_count": 89,
   "metadata": {},
   "outputs": [],
   "source": [
    "def compare(x,y):\n",
    "    comp = MultiComparison(new_grid[x], new_grid[y])\n",
    "    result = comp.allpairtest(scipy.stats.ttest_ind, method='bonf')\n",
    "    return result[0]"
   ]
  },
  {
   "cell_type": "code",
   "execution_count": 90,
   "metadata": {},
   "outputs": [
    {
     "data": {
      "text/html": [
       "<table class=\"simpletable\">\n",
       "<caption>Test Multiple Comparison ttest_ind \n",
       "FWER=0.05 method=bonf\n",
       "alphacSidak=0.01, alphacBonf=0.008</caption>\n",
       "<tr>\n",
       "  <th>group1</th> <th>group2</th>   <th>stat</th>    <th>pval</th>  <th>pval_corr</th> <th>reject</th>\n",
       "</tr>\n",
       "<tr>\n",
       "     <td>0</td>      <td>1</td>   <td>-21.4954</td>   <td>0.0</td>     <td>0.0</td>     <td>True</td> \n",
       "</tr>\n",
       "<tr>\n",
       "     <td>0</td>      <td>2</td>   <td>-28.5448</td>   <td>0.0</td>     <td>0.0</td>     <td>True</td> \n",
       "</tr>\n",
       "<tr>\n",
       "     <td>0</td>      <td>3</td>    <td>-7.2803</td>   <td>0.0</td>     <td>0.0</td>     <td>True</td> \n",
       "</tr>\n",
       "<tr>\n",
       "     <td>1</td>      <td>2</td>    <td>-5.1549</td>   <td>0.0</td>     <td>0.0</td>     <td>True</td> \n",
       "</tr>\n",
       "<tr>\n",
       "     <td>1</td>      <td>3</td>    <td>-0.3322</td> <td>0.7398</td>    <td>1.0</td>     <td>False</td>\n",
       "</tr>\n",
       "<tr>\n",
       "     <td>2</td>      <td>3</td>    <td>1.0357</td>  <td>0.3012</td>    <td>1.0</td>     <td>False</td>\n",
       "</tr>\n",
       "</table>"
      ],
      "text/plain": [
       "<class 'statsmodels.iolib.table.SimpleTable'>"
      ]
     },
     "execution_count": 90,
     "metadata": {},
     "output_type": "execute_result"
    }
   ],
   "source": [
    "compare('총인구','폭력빈도_4')"
   ]
  },
  {
   "cell_type": "code",
   "execution_count": 91,
   "metadata": {},
   "outputs": [
    {
     "data": {
      "text/html": [
       "<table class=\"simpletable\">\n",
       "<caption>Test Multiple Comparison ttest_ind \n",
       "FWER=0.05 method=bonf\n",
       "alphacSidak=0.01, alphacBonf=0.008</caption>\n",
       "<tr>\n",
       "  <th>group1</th> <th>group2</th>   <th>stat</th>    <th>pval</th>  <th>pval_corr</th> <th>reject</th>\n",
       "</tr>\n",
       "<tr>\n",
       "     <td>0</td>      <td>1</td>   <td>-13.7066</td>   <td>0.0</td>     <td>0.0</td>     <td>True</td> \n",
       "</tr>\n",
       "<tr>\n",
       "     <td>0</td>      <td>2</td>   <td>-16.1417</td>   <td>0.0</td>     <td>0.0</td>     <td>True</td> \n",
       "</tr>\n",
       "<tr>\n",
       "     <td>0</td>      <td>3</td>    <td>-3.1915</td> <td>0.0015</td>  <td>0.0087</td>    <td>True</td> \n",
       "</tr>\n",
       "<tr>\n",
       "     <td>1</td>      <td>2</td>    <td>-3.2041</td> <td>0.0014</td>  <td>0.0084</td>    <td>True</td> \n",
       "</tr>\n",
       "<tr>\n",
       "     <td>1</td>      <td>3</td>    <td>0.0307</td>  <td>0.9755</td>    <td>1.0</td>     <td>False</td>\n",
       "</tr>\n",
       "<tr>\n",
       "     <td>2</td>      <td>3</td>    <td>0.8681</td>  <td>0.3861</td>    <td>1.0</td>     <td>False</td>\n",
       "</tr>\n",
       "</table>"
      ],
      "text/plain": [
       "<class 'statsmodels.iolib.table.SimpleTable'>"
      ]
     },
     "execution_count": 91,
     "metadata": {},
     "output_type": "execute_result"
    }
   ],
   "source": [
    "compare('유소년인구','폭력빈도_4')"
   ]
  },
  {
   "cell_type": "code",
   "execution_count": 92,
   "metadata": {},
   "outputs": [
    {
     "data": {
      "text/html": [
       "<table class=\"simpletable\">\n",
       "<caption>Test Multiple Comparison ttest_ind \n",
       "FWER=0.05 method=bonf\n",
       "alphacSidak=0.01, alphacBonf=0.008</caption>\n",
       "<tr>\n",
       "  <th>group1</th> <th>group2</th>   <th>stat</th>    <th>pval</th>  <th>pval_corr</th> <th>reject</th>\n",
       "</tr>\n",
       "<tr>\n",
       "     <td>0</td>      <td>1</td>   <td>-23.8366</td>   <td>0.0</td>     <td>0.0</td>     <td>True</td> \n",
       "</tr>\n",
       "<tr>\n",
       "     <td>0</td>      <td>2</td>   <td>-30.8454</td>   <td>0.0</td>     <td>0.0</td>     <td>True</td> \n",
       "</tr>\n",
       "<tr>\n",
       "     <td>0</td>      <td>3</td>   <td>-11.0645</td>   <td>0.0</td>     <td>0.0</td>     <td>True</td> \n",
       "</tr>\n",
       "<tr>\n",
       "     <td>1</td>      <td>2</td>    <td>-4.7053</td>   <td>0.0</td>     <td>0.0</td>     <td>True</td> \n",
       "</tr>\n",
       "<tr>\n",
       "     <td>1</td>      <td>3</td>    <td>0.0229</td>  <td>0.9817</td>    <td>1.0</td>     <td>False</td>\n",
       "</tr>\n",
       "<tr>\n",
       "     <td>2</td>      <td>3</td>    <td>1.2051</td>  <td>0.2291</td>    <td>1.0</td>     <td>False</td>\n",
       "</tr>\n",
       "</table>"
      ],
      "text/plain": [
       "<class 'statsmodels.iolib.table.SimpleTable'>"
      ]
     },
     "execution_count": 92,
     "metadata": {},
     "output_type": "execute_result"
    }
   ],
   "source": [
    "compare('고령인구','폭력빈도_4')"
   ]
  },
  {
   "cell_type": "code",
   "execution_count": 93,
   "metadata": {},
   "outputs": [
    {
     "data": {
      "text/html": [
       "<table class=\"simpletable\">\n",
       "<caption>Test Multiple Comparison ttest_ind \n",
       "FWER=0.05 method=bonf\n",
       "alphacSidak=0.01, alphacBonf=0.008</caption>\n",
       "<tr>\n",
       "  <th>group1</th> <th>group2</th>   <th>stat</th>    <th>pval</th>  <th>pval_corr</th> <th>reject</th>\n",
       "</tr>\n",
       "<tr>\n",
       "     <td>0</td>      <td>1</td>   <td>-21.0764</td>   <td>0.0</td>     <td>0.0</td>     <td>True</td> \n",
       "</tr>\n",
       "<tr>\n",
       "     <td>0</td>      <td>2</td>   <td>-29.1734</td>   <td>0.0</td>     <td>0.0</td>     <td>True</td> \n",
       "</tr>\n",
       "<tr>\n",
       "     <td>0</td>      <td>3</td>    <td>-8.145</td>    <td>0.0</td>     <td>0.0</td>     <td>True</td> \n",
       "</tr>\n",
       "<tr>\n",
       "     <td>1</td>      <td>2</td>    <td>-5.1676</td>   <td>0.0</td>     <td>0.0</td>     <td>True</td> \n",
       "</tr>\n",
       "<tr>\n",
       "     <td>1</td>      <td>3</td>    <td>-0.3169</td> <td>0.7514</td>    <td>1.0</td>     <td>False</td>\n",
       "</tr>\n",
       "<tr>\n",
       "     <td>2</td>      <td>3</td>    <td>1.0491</td>   <td>0.295</td>    <td>1.0</td>     <td>False</td>\n",
       "</tr>\n",
       "</table>"
      ],
      "text/plain": [
       "<class 'statsmodels.iolib.table.SimpleTable'>"
      ]
     },
     "execution_count": 93,
     "metadata": {},
     "output_type": "execute_result"
    }
   ],
   "source": [
    "compare('성폭력취약인구','폭력빈도_4')"
   ]
  },
  {
   "cell_type": "code",
   "execution_count": 94,
   "metadata": {},
   "outputs": [
    {
     "data": {
      "text/html": [
       "<table class=\"simpletable\">\n",
       "<caption>Test Multiple Comparison ttest_ind \n",
       "FWER=0.05 method=bonf\n",
       "alphacSidak=0.01, alphacBonf=0.008</caption>\n",
       "<tr>\n",
       "  <th>group1</th> <th>group2</th>   <th>stat</th>    <th>pval</th>  <th>pval_corr</th> <th>reject</th>\n",
       "</tr>\n",
       "<tr>\n",
       "     <td>0</td>      <td>1</td>   <td>-10.9983</td>   <td>0.0</td>     <td>0.0</td>     <td>True</td> \n",
       "</tr>\n",
       "<tr>\n",
       "     <td>0</td>      <td>2</td>   <td>-16.1438</td>   <td>0.0</td>     <td>0.0</td>     <td>True</td> \n",
       "</tr>\n",
       "<tr>\n",
       "     <td>0</td>      <td>3</td>   <td>-18.7301</td>   <td>0.0</td>     <td>0.0</td>     <td>True</td> \n",
       "</tr>\n",
       "<tr>\n",
       "     <td>1</td>      <td>2</td>    <td>-1.7263</td> <td>0.0846</td>  <td>0.5079</td>    <td>False</td>\n",
       "</tr>\n",
       "<tr>\n",
       "     <td>1</td>      <td>3</td>    <td>-1.165</td>  <td>0.2445</td>    <td>1.0</td>     <td>False</td>\n",
       "</tr>\n",
       "<tr>\n",
       "     <td>2</td>      <td>3</td>    <td>-0.7539</td> <td>0.4515</td>    <td>1.0</td>     <td>False</td>\n",
       "</tr>\n",
       "</table>"
      ],
      "text/plain": [
       "<class 'statsmodels.iolib.table.SimpleTable'>"
      ]
     },
     "execution_count": 94,
     "metadata": {},
     "output_type": "execute_result"
    }
   ],
   "source": [
    "compare('건축물(30_34)','폭력빈도_4')"
   ]
  },
  {
   "cell_type": "code",
   "execution_count": 95,
   "metadata": {},
   "outputs": [
    {
     "data": {
      "text/html": [
       "<table class=\"simpletable\">\n",
       "<caption>Test Multiple Comparison ttest_ind \n",
       "FWER=0.05 method=bonf\n",
       "alphacSidak=0.01, alphacBonf=0.008</caption>\n",
       "<tr>\n",
       "  <th>group1</th> <th>group2</th>   <th>stat</th>    <th>pval</th>  <th>pval_corr</th> <th>reject</th>\n",
       "</tr>\n",
       "<tr>\n",
       "     <td>0</td>      <td>1</td>    <td>-15.214</td>   <td>0.0</td>     <td>0.0</td>     <td>True</td> \n",
       "</tr>\n",
       "<tr>\n",
       "     <td>0</td>      <td>2</td>   <td>-18.2396</td>   <td>0.0</td>     <td>0.0</td>     <td>True</td> \n",
       "</tr>\n",
       "<tr>\n",
       "     <td>0</td>      <td>3</td>    <td>-3.2265</td> <td>0.0013</td>  <td>0.0077</td>    <td>True</td> \n",
       "</tr>\n",
       "<tr>\n",
       "     <td>1</td>      <td>2</td>    <td>-3.1332</td> <td>0.0018</td>  <td>0.0107</td>    <td>True</td> \n",
       "</tr>\n",
       "<tr>\n",
       "     <td>1</td>      <td>3</td>    <td>1.0314</td>  <td>0.3028</td>    <td>1.0</td>     <td>False</td>\n",
       "</tr>\n",
       "<tr>\n",
       "     <td>2</td>      <td>3</td>    <td>1.5531</td>  <td>0.1215</td>   <td>0.729</td>    <td>False</td>\n",
       "</tr>\n",
       "</table>"
      ],
      "text/plain": [
       "<class 'statsmodels.iolib.table.SimpleTable'>"
      ]
     },
     "execution_count": 95,
     "metadata": {},
     "output_type": "execute_result"
    }
   ],
   "source": [
    "compare('건축물(35)','폭력빈도_4')"
   ]
  },
  {
   "cell_type": "code",
   "execution_count": 96,
   "metadata": {},
   "outputs": [
    {
     "data": {
      "text/html": [
       "<table class=\"simpletable\">\n",
       "<caption>Test Multiple Comparison ttest_ind \n",
       "FWER=0.05 method=bonf\n",
       "alphacSidak=0.01, alphacBonf=0.008</caption>\n",
       "<tr>\n",
       "  <th>group1</th> <th>group2</th>   <th>stat</th>    <th>pval</th>  <th>pval_corr</th> <th>reject</th>\n",
       "</tr>\n",
       "<tr>\n",
       "     <td>0</td>      <td>1</td>   <td>-16.8386</td>   <td>0.0</td>     <td>0.0</td>     <td>True</td> \n",
       "</tr>\n",
       "<tr>\n",
       "     <td>0</td>      <td>2</td>   <td>-20.3755</td>   <td>0.0</td>     <td>0.0</td>     <td>True</td> \n",
       "</tr>\n",
       "<tr>\n",
       "     <td>0</td>      <td>3</td>    <td>-6.6373</td>   <td>0.0</td>     <td>0.0</td>     <td>True</td> \n",
       "</tr>\n",
       "<tr>\n",
       "     <td>1</td>      <td>2</td>    <td>-3.2882</td>  <td>0.001</td>  <td>0.0063</td>    <td>True</td> \n",
       "</tr>\n",
       "<tr>\n",
       "     <td>1</td>      <td>3</td>    <td>0.5262</td>  <td>0.5989</td>    <td>1.0</td>     <td>False</td>\n",
       "</tr>\n",
       "<tr>\n",
       "     <td>2</td>      <td>3</td>    <td>1.2152</td>  <td>0.2253</td>    <td>1.0</td>     <td>False</td>\n",
       "</tr>\n",
       "</table>"
      ],
      "text/plain": [
       "<class 'statsmodels.iolib.table.SimpleTable'>"
      ]
     },
     "execution_count": 96,
     "metadata": {},
     "output_type": "execute_result"
    }
   ],
   "source": [
    "compare('건축물(30_)','폭력빈도_4')"
   ]
  },
  {
   "cell_type": "code",
   "execution_count": 97,
   "metadata": {},
   "outputs": [
    {
     "data": {
      "text/html": [
       "<table class=\"simpletable\">\n",
       "<caption>Test Multiple Comparison ttest_ind \n",
       "FWER=0.05 method=bonf\n",
       "alphacSidak=0.01, alphacBonf=0.008</caption>\n",
       "<tr>\n",
       "  <th>group1</th> <th>group2</th>  <th>stat</th>    <th>pval</th>  <th>pval_corr</th> <th>reject</th>\n",
       "</tr>\n",
       "<tr>\n",
       "     <td>0</td>      <td>1</td>   <td>-8.2214</td>   <td>0.0</td>     <td>0.0</td>     <td>True</td> \n",
       "</tr>\n",
       "<tr>\n",
       "     <td>0</td>      <td>2</td>   <td>-8.7079</td>   <td>0.0</td>     <td>0.0</td>     <td>True</td> \n",
       "</tr>\n",
       "<tr>\n",
       "     <td>0</td>      <td>3</td>   <td>-3.9935</td> <td>0.0001</td>  <td>0.0004</td>    <td>True</td> \n",
       "</tr>\n",
       "<tr>\n",
       "     <td>1</td>      <td>2</td>   <td>-2.8241</td> <td>0.0049</td>  <td>0.0291</td>    <td>True</td> \n",
       "</tr>\n",
       "<tr>\n",
       "     <td>1</td>      <td>3</td>   <td>-3.0174</td> <td>0.0027</td>  <td>0.0159</td>    <td>True</td> \n",
       "</tr>\n",
       "<tr>\n",
       "     <td>2</td>      <td>3</td>   <td>-2.2489</td> <td>0.0253</td>  <td>0.1516</td>    <td>False</td>\n",
       "</tr>\n",
       "</table>"
      ],
      "text/plain": [
       "<class 'statsmodels.iolib.table.SimpleTable'>"
      ]
     },
     "execution_count": 97,
     "metadata": {},
     "output_type": "execute_result"
    }
   ],
   "source": [
    "compare('개별주택가격','폭력빈도_4')"
   ]
  },
  {
   "cell_type": "code",
   "execution_count": 98,
   "metadata": {},
   "outputs": [
    {
     "data": {
      "text/html": [
       "<table class=\"simpletable\">\n",
       "<caption>Test Multiple Comparison ttest_ind \n",
       "FWER=0.05 method=bonf\n",
       "alphacSidak=0.01, alphacBonf=0.008</caption>\n",
       "<tr>\n",
       "  <th>group1</th> <th>group2</th>   <th>stat</th>    <th>pval</th>  <th>pval_corr</th> <th>reject</th>\n",
       "</tr>\n",
       "<tr>\n",
       "     <td>0</td>      <td>1</td>   <td>-22.8526</td>   <td>0.0</td>     <td>0.0</td>     <td>True</td> \n",
       "</tr>\n",
       "<tr>\n",
       "     <td>0</td>      <td>2</td>   <td>-28.8677</td>   <td>0.0</td>     <td>0.0</td>     <td>True</td> \n",
       "</tr>\n",
       "<tr>\n",
       "     <td>0</td>      <td>3</td>   <td>-14.4483</td>   <td>0.0</td>     <td>0.0</td>     <td>True</td> \n",
       "</tr>\n",
       "<tr>\n",
       "     <td>1</td>      <td>2</td>    <td>-5.9602</td>   <td>0.0</td>     <td>0.0</td>     <td>True</td> \n",
       "</tr>\n",
       "<tr>\n",
       "     <td>1</td>      <td>3</td>    <td>-4.7123</td>   <td>0.0</td>     <td>0.0</td>     <td>True</td> \n",
       "</tr>\n",
       "<tr>\n",
       "     <td>2</td>      <td>3</td>    <td>-2.862</td>  <td>0.0045</td>  <td>0.0271</td>    <td>True</td> \n",
       "</tr>\n",
       "</table>"
      ],
      "text/plain": [
       "<class 'statsmodels.iolib.table.SimpleTable'>"
      ]
     },
     "execution_count": 98,
     "metadata": {},
     "output_type": "execute_result"
    }
   ],
   "source": [
    "compare('공시지가','폭력빈도_4')"
   ]
  },
  {
   "cell_type": "code",
   "execution_count": 99,
   "metadata": {},
   "outputs": [
    {
     "data": {
      "text/html": [
       "<table class=\"simpletable\">\n",
       "<caption>Test Multiple Comparison ttest_ind \n",
       "FWER=0.05 method=bonf\n",
       "alphacSidak=0.01, alphacBonf=0.008</caption>\n",
       "<tr>\n",
       "  <th>group1</th> <th>group2</th>   <th>stat</th>    <th>pval</th>  <th>pval_corr</th> <th>reject</th>\n",
       "</tr>\n",
       "<tr>\n",
       "     <td>0</td>      <td>1</td>    <td>-5.6129</td>   <td>0.0</td>     <td>0.0</td>     <td>True</td> \n",
       "</tr>\n",
       "<tr>\n",
       "     <td>0</td>      <td>2</td>   <td>-10.0858</td>   <td>0.0</td>     <td>0.0</td>     <td>True</td> \n",
       "</tr>\n",
       "<tr>\n",
       "     <td>0</td>      <td>3</td>   <td>-18.9551</td>   <td>0.0</td>     <td>0.0</td>     <td>True</td> \n",
       "</tr>\n",
       "<tr>\n",
       "     <td>1</td>      <td>2</td>    <td>-3.5194</td> <td>0.0005</td>  <td>0.0027</td>    <td>True</td> \n",
       "</tr>\n",
       "<tr>\n",
       "     <td>1</td>      <td>3</td>    <td>-7.1287</td>   <td>0.0</td>     <td>0.0</td>     <td>True</td> \n",
       "</tr>\n",
       "<tr>\n",
       "     <td>2</td>      <td>3</td>    <td>-4.0722</td> <td>0.0001</td>  <td>0.0004</td>    <td>True</td> \n",
       "</tr>\n",
       "</table>"
      ],
      "text/plain": [
       "<class 'statsmodels.iolib.table.SimpleTable'>"
      ]
     },
     "execution_count": 99,
     "metadata": {},
     "output_type": "execute_result"
    }
   ],
   "source": [
    "compare('공영주차장','폭력빈도_4')"
   ]
  },
  {
   "cell_type": "code",
   "execution_count": 100,
   "metadata": {},
   "outputs": [
    {
     "data": {
      "text/html": [
       "<table class=\"simpletable\">\n",
       "<caption>Test Multiple Comparison ttest_ind \n",
       "FWER=0.05 method=bonf\n",
       "alphacSidak=0.01, alphacBonf=0.008</caption>\n",
       "<tr>\n",
       "  <th>group1</th> <th>group2</th>   <th>stat</th>    <th>pval</th>  <th>pval_corr</th> <th>reject</th>\n",
       "</tr>\n",
       "<tr>\n",
       "     <td>0</td>      <td>1</td>    <td>-7.8338</td>   <td>0.0</td>     <td>0.0</td>     <td>True</td> \n",
       "</tr>\n",
       "<tr>\n",
       "     <td>0</td>      <td>2</td>   <td>-10.3924</td>   <td>0.0</td>     <td>0.0</td>     <td>True</td> \n",
       "</tr>\n",
       "<tr>\n",
       "     <td>0</td>      <td>3</td>    <td>-5.3607</td>   <td>0.0</td>     <td>0.0</td>     <td>True</td> \n",
       "</tr>\n",
       "<tr>\n",
       "     <td>1</td>      <td>2</td>    <td>-3.4355</td> <td>0.0006</td>  <td>0.0037</td>    <td>True</td> \n",
       "</tr>\n",
       "<tr>\n",
       "     <td>1</td>      <td>3</td>    <td>-2.0357</td> <td>0.0422</td>  <td>0.2533</td>    <td>False</td>\n",
       "</tr>\n",
       "<tr>\n",
       "     <td>2</td>      <td>3</td>    <td>-0.5961</td> <td>0.5516</td>    <td>1.0</td>     <td>False</td>\n",
       "</tr>\n",
       "</table>"
      ],
      "text/plain": [
       "<class 'statsmodels.iolib.table.SimpleTable'>"
      ]
     },
     "execution_count": 100,
     "metadata": {},
     "output_type": "execute_result"
    }
   ],
   "source": [
    "compare('공중화장실','폭력빈도_4')"
   ]
  },
  {
   "cell_type": "code",
   "execution_count": 101,
   "metadata": {},
   "outputs": [
    {
     "data": {
      "text/html": [
       "<table class=\"simpletable\">\n",
       "<caption>Test Multiple Comparison ttest_ind \n",
       "FWER=0.05 method=bonf\n",
       "alphacSidak=0.01, alphacBonf=0.008</caption>\n",
       "<tr>\n",
       "  <th>group1</th> <th>group2</th>   <th>stat</th>    <th>pval</th>  <th>pval_corr</th> <th>reject</th>\n",
       "</tr>\n",
       "<tr>\n",
       "     <td>0</td>      <td>1</td>   <td>-14.5655</td>   <td>0.0</td>     <td>0.0</td>     <td>True</td> \n",
       "</tr>\n",
       "<tr>\n",
       "     <td>0</td>      <td>2</td>   <td>-23.0077</td>   <td>0.0</td>     <td>0.0</td>     <td>True</td> \n",
       "</tr>\n",
       "<tr>\n",
       "     <td>0</td>      <td>3</td>   <td>-14.7795</td>   <td>0.0</td>     <td>0.0</td>     <td>True</td> \n",
       "</tr>\n",
       "<tr>\n",
       "     <td>1</td>      <td>2</td>    <td>-5.0039</td>   <td>0.0</td>     <td>0.0</td>     <td>True</td> \n",
       "</tr>\n",
       "<tr>\n",
       "     <td>1</td>      <td>3</td>    <td>-0.2497</td> <td>0.8029</td>    <td>1.0</td>     <td>False</td>\n",
       "</tr>\n",
       "<tr>\n",
       "     <td>2</td>      <td>3</td>    <td>0.9925</td>  <td>0.3218</td>    <td>1.0</td>     <td>False</td>\n",
       "</tr>\n",
       "</table>"
      ],
      "text/plain": [
       "<class 'statsmodels.iolib.table.SimpleTable'>"
      ]
     },
     "execution_count": 101,
     "metadata": {},
     "output_type": "execute_result"
    }
   ],
   "source": [
    "compare('교육시설','폭력빈도_4')"
   ]
  },
  {
   "cell_type": "code",
   "execution_count": 102,
   "metadata": {},
   "outputs": [
    {
     "data": {
      "text/html": [
       "<table class=\"simpletable\">\n",
       "<caption>Test Multiple Comparison ttest_ind \n",
       "FWER=0.05 method=bonf\n",
       "alphacSidak=0.01, alphacBonf=0.008</caption>\n",
       "<tr>\n",
       "  <th>group1</th> <th>group2</th>  <th>stat</th>    <th>pval</th>  <th>pval_corr</th> <th>reject</th>\n",
       "</tr>\n",
       "<tr>\n",
       "     <td>0</td>      <td>1</td>   <td>-5.2536</td>   <td>0.0</td>     <td>0.0</td>     <td>True</td> \n",
       "</tr>\n",
       "<tr>\n",
       "     <td>0</td>      <td>2</td>   <td>-8.5086</td>   <td>0.0</td>     <td>0.0</td>     <td>True</td> \n",
       "</tr>\n",
       "<tr>\n",
       "     <td>0</td>      <td>3</td>     <td>nan</td>     <td>nan</td>     <td>nan</td>     <td>False</td>\n",
       "</tr>\n",
       "<tr>\n",
       "     <td>1</td>      <td>2</td>   <td>-2.8006</td> <td>0.0052</td>  <td>0.0313</td>    <td>True</td> \n",
       "</tr>\n",
       "<tr>\n",
       "     <td>1</td>      <td>3</td>   <td>0.5773</td>   <td>0.564</td>    <td>1.0</td>     <td>False</td>\n",
       "</tr>\n",
       "<tr>\n",
       "     <td>2</td>      <td>3</td>   <td>0.9334</td>  <td>0.3514</td>    <td>1.0</td>     <td>False</td>\n",
       "</tr>\n",
       "</table>"
      ],
      "text/plain": [
       "<class 'statsmodels.iolib.table.SimpleTable'>"
      ]
     },
     "execution_count": 102,
     "metadata": {},
     "output_type": "execute_result"
    }
   ],
   "source": [
    "compare('대규모점포','폭력빈도_4')"
   ]
  },
  {
   "cell_type": "code",
   "execution_count": 103,
   "metadata": {},
   "outputs": [
    {
     "data": {
      "text/html": [
       "<table class=\"simpletable\">\n",
       "<caption>Test Multiple Comparison ttest_ind \n",
       "FWER=0.05 method=bonf\n",
       "alphacSidak=0.01, alphacBonf=0.008</caption>\n",
       "<tr>\n",
       "  <th>group1</th> <th>group2</th>   <th>stat</th>    <th>pval</th>  <th>pval_corr</th> <th>reject</th>\n",
       "</tr>\n",
       "<tr>\n",
       "     <td>0</td>      <td>1</td>    <td>-7.3646</td>   <td>0.0</td>     <td>0.0</td>     <td>True</td> \n",
       "</tr>\n",
       "<tr>\n",
       "     <td>0</td>      <td>2</td>   <td>-10.7553</td>   <td>0.0</td>     <td>0.0</td>     <td>True</td> \n",
       "</tr>\n",
       "<tr>\n",
       "     <td>0</td>      <td>3</td>    <td>-9.3162</td>   <td>0.0</td>     <td>0.0</td>     <td>True</td> \n",
       "</tr>\n",
       "<tr>\n",
       "     <td>1</td>      <td>2</td>    <td>-2.4802</td> <td>0.0133</td>  <td>0.0799</td>    <td>False</td>\n",
       "</tr>\n",
       "<tr>\n",
       "     <td>1</td>      <td>3</td>    <td>-0.7601</td> <td>0.4475</td>    <td>1.0</td>     <td>False</td>\n",
       "</tr>\n",
       "<tr>\n",
       "     <td>2</td>      <td>3</td>    <td>-0.0175</td>  <td>0.986</td>    <td>1.0</td>     <td>False</td>\n",
       "</tr>\n",
       "</table>"
      ],
      "text/plain": [
       "<class 'statsmodels.iolib.table.SimpleTable'>"
      ]
     },
     "execution_count": 103,
     "metadata": {},
     "output_type": "execute_result"
    }
   ],
   "source": [
    "compare('대부업현황','폭력빈도_4')"
   ]
  },
  {
   "cell_type": "code",
   "execution_count": 104,
   "metadata": {},
   "outputs": [
    {
     "data": {
      "text/html": [
       "<table class=\"simpletable\">\n",
       "<caption>Test Multiple Comparison ttest_ind \n",
       "FWER=0.05 method=bonf\n",
       "alphacSidak=0.01, alphacBonf=0.008</caption>\n",
       "<tr>\n",
       "  <th>group1</th> <th>group2</th>   <th>stat</th>    <th>pval</th>  <th>pval_corr</th> <th>reject</th>\n",
       "</tr>\n",
       "<tr>\n",
       "     <td>0</td>      <td>1</td>    <td>-4.0627</td> <td>0.0001</td>  <td>0.0003</td>    <td>True</td> \n",
       "</tr>\n",
       "<tr>\n",
       "     <td>0</td>      <td>2</td>    <td>-6.8458</td>   <td>0.0</td>     <td>0.0</td>     <td>True</td> \n",
       "</tr>\n",
       "<tr>\n",
       "     <td>0</td>      <td>3</td>   <td>-26.1108</td>   <td>0.0</td>     <td>0.0</td>     <td>True</td> \n",
       "</tr>\n",
       "<tr>\n",
       "     <td>1</td>      <td>2</td>    <td>-4.0015</td> <td>0.0001</td>  <td>0.0004</td>    <td>True</td> \n",
       "</tr>\n",
       "<tr>\n",
       "     <td>1</td>      <td>3</td>   <td>-17.6631</td>   <td>0.0</td>     <td>0.0</td>     <td>True</td> \n",
       "</tr>\n",
       "<tr>\n",
       "     <td>2</td>      <td>3</td>    <td>-8.846</td>    <td>0.0</td>     <td>0.0</td>     <td>True</td> \n",
       "</tr>\n",
       "</table>"
      ],
      "text/plain": [
       "<class 'statsmodels.iolib.table.SimpleTable'>"
      ]
     },
     "execution_count": 104,
     "metadata": {},
     "output_type": "execute_result"
    }
   ],
   "source": [
    "compare('룸살롱','폭력빈도_4')"
   ]
  },
  {
   "cell_type": "code",
   "execution_count": 105,
   "metadata": {},
   "outputs": [
    {
     "data": {
      "text/html": [
       "<table class=\"simpletable\">\n",
       "<caption>Test Multiple Comparison ttest_ind \n",
       "FWER=0.05 method=bonf\n",
       "alphacSidak=0.01, alphacBonf=0.008</caption>\n",
       "<tr>\n",
       "  <th>group1</th> <th>group2</th>   <th>stat</th>    <th>pval</th>  <th>pval_corr</th> <th>reject</th>\n",
       "</tr>\n",
       "<tr>\n",
       "     <td>0</td>      <td>1</td>   <td>-14.5883</td>   <td>0.0</td>     <td>0.0</td>     <td>True</td> \n",
       "</tr>\n",
       "<tr>\n",
       "     <td>0</td>      <td>2</td>   <td>-17.0894</td>   <td>0.0</td>     <td>0.0</td>     <td>True</td> \n",
       "</tr>\n",
       "<tr>\n",
       "     <td>0</td>      <td>3</td>    <td>-9.7612</td>   <td>0.0</td>     <td>0.0</td>     <td>True</td> \n",
       "</tr>\n",
       "<tr>\n",
       "     <td>1</td>      <td>2</td>    <td>-2.7488</td> <td>0.0061</td>  <td>0.0366</td>    <td>True</td> \n",
       "</tr>\n",
       "<tr>\n",
       "     <td>1</td>      <td>3</td>    <td>-2.3869</td> <td>0.0173</td>  <td>0.1038</td>    <td>False</td>\n",
       "</tr>\n",
       "<tr>\n",
       "     <td>2</td>      <td>3</td>    <td>-1.4436</td> <td>0.1499</td>  <td>0.8997</td>    <td>False</td>\n",
       "</tr>\n",
       "</table>"
      ],
      "text/plain": [
       "<class 'statsmodels.iolib.table.SimpleTable'>"
      ]
     },
     "execution_count": 105,
     "metadata": {},
     "output_type": "execute_result"
    }
   ],
   "source": [
    "compare('버스정류장','폭력빈도_4')"
   ]
  },
  {
   "cell_type": "code",
   "execution_count": 106,
   "metadata": {},
   "outputs": [
    {
     "data": {
      "text/html": [
       "<table class=\"simpletable\">\n",
       "<caption>Test Multiple Comparison ttest_ind \n",
       "FWER=0.05 method=bonf\n",
       "alphacSidak=0.01, alphacBonf=0.008</caption>\n",
       "<tr>\n",
       "  <th>group1</th> <th>group2</th>   <th>stat</th>    <th>pval</th>  <th>pval_corr</th> <th>reject</th>\n",
       "</tr>\n",
       "<tr>\n",
       "     <td>0</td>      <td>1</td>   <td>-16.8383</td>   <td>0.0</td>     <td>0.0</td>     <td>True</td> \n",
       "</tr>\n",
       "<tr>\n",
       "     <td>0</td>      <td>2</td>    <td>-8.4622</td>   <td>0.0</td>     <td>0.0</td>     <td>True</td> \n",
       "</tr>\n",
       "<tr>\n",
       "     <td>0</td>      <td>3</td>    <td>1.0174</td>  <td>0.3092</td>    <td>1.0</td>     <td>False</td>\n",
       "</tr>\n",
       "<tr>\n",
       "     <td>1</td>      <td>2</td>    <td>4.2322</td>    <td>0.0</td>   <td>0.0002</td>    <td>True</td> \n",
       "</tr>\n",
       "<tr>\n",
       "     <td>1</td>      <td>3</td>    <td>2.3982</td>  <td>0.0168</td>  <td>0.1007</td>    <td>False</td>\n",
       "</tr>\n",
       "<tr>\n",
       "     <td>2</td>      <td>3</td>    <td>1.6909</td>  <td>0.0919</td>  <td>0.5516</td>    <td>False</td>\n",
       "</tr>\n",
       "</table>"
      ],
      "text/plain": [
       "<class 'statsmodels.iolib.table.SimpleTable'>"
      ]
     },
     "execution_count": 106,
     "metadata": {},
     "output_type": "execute_result"
    }
   ],
   "source": [
    "compare('보안등','폭력빈도_4')"
   ]
  },
  {
   "cell_type": "code",
   "execution_count": 107,
   "metadata": {},
   "outputs": [
    {
     "data": {
      "text/html": [
       "<table class=\"simpletable\">\n",
       "<caption>Test Multiple Comparison ttest_ind \n",
       "FWER=0.05 method=bonf\n",
       "alphacSidak=0.01, alphacBonf=0.008</caption>\n",
       "<tr>\n",
       "  <th>group1</th> <th>group2</th>   <th>stat</th>    <th>pval</th>  <th>pval_corr</th> <th>reject</th>\n",
       "</tr>\n",
       "<tr>\n",
       "     <td>0</td>      <td>1</td>   <td>-22.9139</td>   <td>0.0</td>     <td>0.0</td>     <td>True</td> \n",
       "</tr>\n",
       "<tr>\n",
       "     <td>0</td>      <td>2</td>   <td>-32.6357</td>   <td>0.0</td>     <td>0.0</td>     <td>True</td> \n",
       "</tr>\n",
       "<tr>\n",
       "     <td>0</td>      <td>3</td>   <td>-46.9908</td>   <td>0.0</td>     <td>0.0</td>     <td>True</td> \n",
       "</tr>\n",
       "<tr>\n",
       "     <td>1</td>      <td>2</td>    <td>-9.6108</td>   <td>0.0</td>     <td>0.0</td>     <td>True</td> \n",
       "</tr>\n",
       "<tr>\n",
       "     <td>1</td>      <td>3</td>    <td>-6.7467</td>   <td>0.0</td>     <td>0.0</td>     <td>True</td> \n",
       "</tr>\n",
       "<tr>\n",
       "     <td>2</td>      <td>3</td>    <td>-2.3081</td> <td>0.0217</td>  <td>0.1302</td>    <td>False</td>\n",
       "</tr>\n",
       "</table>"
      ],
      "text/plain": [
       "<class 'statsmodels.iolib.table.SimpleTable'>"
      ]
     },
     "execution_count": 107,
     "metadata": {},
     "output_type": "execute_result"
    }
   ],
   "source": [
    "compare('상가','폭력빈도_4')"
   ]
  },
  {
   "cell_type": "code",
   "execution_count": 108,
   "metadata": {},
   "outputs": [
    {
     "data": {
      "text/html": [
       "<table class=\"simpletable\">\n",
       "<caption>Test Multiple Comparison ttest_ind \n",
       "FWER=0.05 method=bonf\n",
       "alphacSidak=0.01, alphacBonf=0.008</caption>\n",
       "<tr>\n",
       "  <th>group1</th> <th>group2</th>   <th>stat</th>    <th>pval</th>  <th>pval_corr</th> <th>reject</th>\n",
       "</tr>\n",
       "<tr>\n",
       "     <td>0</td>      <td>1</td>    <td>-5.9392</td>   <td>0.0</td>     <td>0.0</td>     <td>True</td> \n",
       "</tr>\n",
       "<tr>\n",
       "     <td>0</td>      <td>2</td>    <td>-8.5825</td>   <td>0.0</td>     <td>0.0</td>     <td>True</td> \n",
       "</tr>\n",
       "<tr>\n",
       "     <td>0</td>      <td>3</td>   <td>-26.2369</td>   <td>0.0</td>     <td>0.0</td>     <td>True</td> \n",
       "</tr>\n",
       "<tr>\n",
       "     <td>1</td>      <td>2</td>    <td>-3.243</td>  <td>0.0012</td>  <td>0.0074</td>    <td>True</td> \n",
       "</tr>\n",
       "<tr>\n",
       "     <td>1</td>      <td>3</td>   <td>-13.1678</td>   <td>0.0</td>     <td>0.0</td>     <td>True</td> \n",
       "</tr>\n",
       "<tr>\n",
       "     <td>2</td>      <td>3</td>    <td>-6.987</td>    <td>0.0</td>     <td>0.0</td>     <td>True</td> \n",
       "</tr>\n",
       "</table>"
      ],
      "text/plain": [
       "<class 'statsmodels.iolib.table.SimpleTable'>"
      ]
     },
     "execution_count": 108,
     "metadata": {},
     "output_type": "execute_result"
    }
   ],
   "source": [
    "compare('숙박업소','폭력빈도_4')"
   ]
  },
  {
   "cell_type": "code",
   "execution_count": 109,
   "metadata": {},
   "outputs": [
    {
     "data": {
      "text/html": [
       "<table class=\"simpletable\">\n",
       "<caption>Test Multiple Comparison ttest_ind \n",
       "FWER=0.05 method=bonf\n",
       "alphacSidak=0.01, alphacBonf=0.008</caption>\n",
       "<tr>\n",
       "  <th>group1</th> <th>group2</th>   <th>stat</th>   <th>pval</th> <th>pval_corr</th> <th>reject</th>\n",
       "</tr>\n",
       "<tr>\n",
       "     <td>0</td>      <td>1</td>   <td>-12.7032</td>  <td>0.0</td>    <td>0.0</td>     <td>True</td> \n",
       "</tr>\n",
       "<tr>\n",
       "     <td>0</td>      <td>2</td>   <td>-21.3793</td>  <td>0.0</td>    <td>0.0</td>     <td>True</td> \n",
       "</tr>\n",
       "<tr>\n",
       "     <td>0</td>      <td>3</td>   <td>-58.7668</td>  <td>0.0</td>    <td>0.0</td>     <td>True</td> \n",
       "</tr>\n",
       "<tr>\n",
       "     <td>1</td>      <td>2</td>   <td>-10.2258</td>  <td>0.0</td>    <td>0.0</td>     <td>True</td> \n",
       "</tr>\n",
       "<tr>\n",
       "     <td>1</td>      <td>3</td>    <td>-27.609</td>  <td>0.0</td>    <td>0.0</td>     <td>True</td> \n",
       "</tr>\n",
       "<tr>\n",
       "     <td>2</td>      <td>3</td>   <td>-11.1536</td>  <td>0.0</td>    <td>0.0</td>     <td>True</td> \n",
       "</tr>\n",
       "</table>"
      ],
      "text/plain": [
       "<class 'statsmodels.iolib.table.SimpleTable'>"
      ]
     },
     "execution_count": 109,
     "metadata": {},
     "output_type": "execute_result"
    }
   ],
   "source": [
    "compare('술집','폭력빈도_4')"
   ]
  },
  {
   "cell_type": "code",
   "execution_count": 110,
   "metadata": {},
   "outputs": [
    {
     "data": {
      "text/html": [
       "<table class=\"simpletable\">\n",
       "<caption>Test Multiple Comparison ttest_ind \n",
       "FWER=0.05 method=bonf\n",
       "alphacSidak=0.01, alphacBonf=0.008</caption>\n",
       "<tr>\n",
       "  <th>group1</th> <th>group2</th>  <th>stat</th>    <th>pval</th>  <th>pval_corr</th> <th>reject</th>\n",
       "</tr>\n",
       "<tr>\n",
       "     <td>0</td>      <td>1</td>   <td>-7.2463</td>   <td>0.0</td>     <td>0.0</td>     <td>True</td> \n",
       "</tr>\n",
       "<tr>\n",
       "     <td>0</td>      <td>2</td>   <td>-9.2001</td>   <td>0.0</td>     <td>0.0</td>     <td>True</td> \n",
       "</tr>\n",
       "<tr>\n",
       "     <td>0</td>      <td>3</td>   <td>-2.2556</td> <td>0.0243</td>  <td>0.1457</td>    <td>False</td>\n",
       "</tr>\n",
       "<tr>\n",
       "     <td>1</td>      <td>2</td>   <td>-2.351</td>  <td>0.0189</td>  <td>0.1137</td>    <td>False</td>\n",
       "</tr>\n",
       "<tr>\n",
       "     <td>1</td>      <td>3</td>   <td>-0.2279</td> <td>0.8198</td>    <td>1.0</td>     <td>False</td>\n",
       "</tr>\n",
       "<tr>\n",
       "     <td>2</td>      <td>3</td>   <td>0.3609</td>  <td>0.7184</td>    <td>1.0</td>     <td>False</td>\n",
       "</tr>\n",
       "</table>"
      ],
      "text/plain": [
       "<class 'statsmodels.iolib.table.SimpleTable'>"
      ]
     },
     "execution_count": 110,
     "metadata": {},
     "output_type": "execute_result"
    }
   ],
   "source": [
    "compare('어린이보호','폭력빈도_4')"
   ]
  },
  {
   "cell_type": "code",
   "execution_count": 111,
   "metadata": {},
   "outputs": [
    {
     "data": {
      "text/html": [
       "<table class=\"simpletable\">\n",
       "<caption>Test Multiple Comparison ttest_ind \n",
       "FWER=0.05 method=bonf\n",
       "alphacSidak=0.01, alphacBonf=0.008</caption>\n",
       "<tr>\n",
       "  <th>group1</th> <th>group2</th>   <th>stat</th>    <th>pval</th>  <th>pval_corr</th> <th>reject</th>\n",
       "</tr>\n",
       "<tr>\n",
       "     <td>0</td>      <td>1</td>   <td>-12.8803</td>   <td>0.0</td>     <td>0.0</td>     <td>True</td> \n",
       "</tr>\n",
       "<tr>\n",
       "     <td>0</td>      <td>2</td>   <td>-13.6764</td>   <td>0.0</td>     <td>0.0</td>     <td>True</td> \n",
       "</tr>\n",
       "<tr>\n",
       "     <td>0</td>      <td>3</td>    <td>-4.2268</td>   <td>0.0</td>   <td>0.0002</td>    <td>True</td> \n",
       "</tr>\n",
       "<tr>\n",
       "     <td>1</td>      <td>2</td>    <td>-1.7052</td> <td>0.0885</td>   <td>0.531</td>    <td>False</td>\n",
       "</tr>\n",
       "<tr>\n",
       "     <td>1</td>      <td>3</td>    <td>0.1758</td>  <td>0.8605</td>    <td>1.0</td>     <td>False</td>\n",
       "</tr>\n",
       "<tr>\n",
       "     <td>2</td>      <td>3</td>    <td>0.5481</td>   <td>0.584</td>    <td>1.0</td>     <td>False</td>\n",
       "</tr>\n",
       "</table>"
      ],
      "text/plain": [
       "<class 'statsmodels.iolib.table.SimpleTable'>"
      ]
     },
     "execution_count": 111,
     "metadata": {},
     "output_type": "execute_result"
    }
   ],
   "source": [
    "compare('어린이집','폭력빈도_4')"
   ]
  },
  {
   "cell_type": "code",
   "execution_count": 112,
   "metadata": {},
   "outputs": [
    {
     "data": {
      "text/html": [
       "<table class=\"simpletable\">\n",
       "<caption>Test Multiple Comparison ttest_ind \n",
       "FWER=0.05 method=bonf\n",
       "alphacSidak=0.01, alphacBonf=0.008</caption>\n",
       "<tr>\n",
       "  <th>group1</th> <th>group2</th>   <th>stat</th>   <th>pval</th> <th>pval_corr</th> <th>reject</th>\n",
       "</tr>\n",
       "<tr>\n",
       "     <td>0</td>      <td>1</td>   <td>-13.8708</td>  <td>0.0</td>    <td>0.0</td>     <td>True</td> \n",
       "</tr>\n",
       "<tr>\n",
       "     <td>0</td>      <td>2</td>   <td>-20.8109</td>  <td>0.0</td>    <td>0.0</td>     <td>True</td> \n",
       "</tr>\n",
       "<tr>\n",
       "     <td>0</td>      <td>3</td>   <td>-38.4328</td>  <td>0.0</td>    <td>0.0</td>     <td>True</td> \n",
       "</tr>\n",
       "<tr>\n",
       "     <td>1</td>      <td>2</td>    <td>-7.5913</td>  <td>0.0</td>    <td>0.0</td>     <td>True</td> \n",
       "</tr>\n",
       "<tr>\n",
       "     <td>1</td>      <td>3</td>   <td>-16.9816</td>  <td>0.0</td>    <td>0.0</td>     <td>True</td> \n",
       "</tr>\n",
       "<tr>\n",
       "     <td>2</td>      <td>3</td>    <td>-8.6757</td>  <td>0.0</td>    <td>0.0</td>     <td>True</td> \n",
       "</tr>\n",
       "</table>"
      ],
      "text/plain": [
       "<class 'statsmodels.iolib.table.SimpleTable'>"
      ]
     },
     "execution_count": 112,
     "metadata": {},
     "output_type": "execute_result"
    }
   ],
   "source": [
    "compare('오락시설','폭력빈도_4')"
   ]
  },
  {
   "cell_type": "code",
   "execution_count": 113,
   "metadata": {},
   "outputs": [
    {
     "data": {
      "text/html": [
       "<table class=\"simpletable\">\n",
       "<caption>Test Multiple Comparison ttest_ind \n",
       "FWER=0.05 method=bonf\n",
       "alphacSidak=0.01, alphacBonf=0.008</caption>\n",
       "<tr>\n",
       "  <th>group1</th> <th>group2</th>   <th>stat</th>    <th>pval</th>  <th>pval_corr</th> <th>reject</th>\n",
       "</tr>\n",
       "<tr>\n",
       "     <td>0</td>      <td>1</td>   <td>-14.7493</td>   <td>0.0</td>     <td>0.0</td>     <td>True</td> \n",
       "</tr>\n",
       "<tr>\n",
       "     <td>0</td>      <td>2</td>   <td>-18.4356</td>   <td>0.0</td>     <td>0.0</td>     <td>True</td> \n",
       "</tr>\n",
       "<tr>\n",
       "     <td>0</td>      <td>3</td>   <td>-15.2569</td>   <td>0.0</td>     <td>0.0</td>     <td>True</td> \n",
       "</tr>\n",
       "<tr>\n",
       "     <td>1</td>      <td>2</td>    <td>-4.1242</td>   <td>0.0</td>   <td>0.0002</td>    <td>True</td> \n",
       "</tr>\n",
       "<tr>\n",
       "     <td>1</td>      <td>3</td>    <td>-0.7243</td> <td>0.4692</td>    <td>1.0</td>     <td>False</td>\n",
       "</tr>\n",
       "<tr>\n",
       "     <td>2</td>      <td>3</td>     <td>0.395</td>  <td>0.6932</td>    <td>1.0</td>     <td>False</td>\n",
       "</tr>\n",
       "</table>"
      ],
      "text/plain": [
       "<class 'statsmodels.iolib.table.SimpleTable'>"
      ]
     },
     "execution_count": 113,
     "metadata": {},
     "output_type": "execute_result"
    }
   ],
   "source": [
    "compare('원룸_오피스텔','폭력빈도_4')"
   ]
  },
  {
   "cell_type": "code",
   "execution_count": 114,
   "metadata": {},
   "outputs": [
    {
     "data": {
      "text/html": [
       "<table class=\"simpletable\">\n",
       "<caption>Test Multiple Comparison ttest_ind \n",
       "FWER=0.05 method=bonf\n",
       "alphacSidak=0.01, alphacBonf=0.008</caption>\n",
       "<tr>\n",
       "  <th>group1</th> <th>group2</th>   <th>stat</th>   <th>pval</th> <th>pval_corr</th> <th>reject</th>\n",
       "</tr>\n",
       "<tr>\n",
       "     <td>0</td>      <td>1</td>   <td>-19.8887</td>  <td>0.0</td>    <td>0.0</td>     <td>True</td> \n",
       "</tr>\n",
       "<tr>\n",
       "     <td>0</td>      <td>2</td>    <td>-30.96</td>   <td>0.0</td>    <td>0.0</td>     <td>True</td> \n",
       "</tr>\n",
       "<tr>\n",
       "     <td>0</td>      <td>3</td>   <td>-42.7992</td>  <td>0.0</td>    <td>0.0</td>     <td>True</td> \n",
       "</tr>\n",
       "<tr>\n",
       "     <td>1</td>      <td>2</td>   <td>-11.0855</td>  <td>0.0</td>    <td>0.0</td>     <td>True</td> \n",
       "</tr>\n",
       "<tr>\n",
       "     <td>1</td>      <td>3</td>   <td>-13.8447</td>  <td>0.0</td>    <td>0.0</td>     <td>True</td> \n",
       "</tr>\n",
       "<tr>\n",
       "     <td>2</td>      <td>3</td>    <td>-6.0386</td>  <td>0.0</td>    <td>0.0</td>     <td>True</td> \n",
       "</tr>\n",
       "</table>"
      ],
      "text/plain": [
       "<class 'statsmodels.iolib.table.SimpleTable'>"
      ]
     },
     "execution_count": 114,
     "metadata": {},
     "output_type": "execute_result"
    }
   ],
   "source": [
    "compare('음식점','폭력빈도_4')"
   ]
  },
  {
   "cell_type": "code",
   "execution_count": 115,
   "metadata": {},
   "outputs": [
    {
     "data": {
      "text/html": [
       "<table class=\"simpletable\">\n",
       "<caption>Test Multiple Comparison ttest_ind \n",
       "FWER=0.05 method=bonf\n",
       "alphacSidak=0.01, alphacBonf=0.008</caption>\n",
       "<tr>\n",
       "  <th>group1</th> <th>group2</th>  <th>stat</th>    <th>pval</th>  <th>pval_corr</th> <th>reject</th>\n",
       "</tr>\n",
       "<tr>\n",
       "     <td>0</td>      <td>1</td>   <td>-5.2673</td>   <td>0.0</td>     <td>0.0</td>     <td>True</td> \n",
       "</tr>\n",
       "<tr>\n",
       "     <td>0</td>      <td>2</td>   <td>-7.0846</td>   <td>0.0</td>     <td>0.0</td>     <td>True</td> \n",
       "</tr>\n",
       "<tr>\n",
       "     <td>0</td>      <td>3</td>   <td>-3.2074</td> <td>0.0014</td>  <td>0.0083</td>    <td>True</td> \n",
       "</tr>\n",
       "<tr>\n",
       "     <td>1</td>      <td>2</td>   <td>-1.6825</td> <td>0.0928</td>   <td>0.557</td>    <td>False</td>\n",
       "</tr>\n",
       "<tr>\n",
       "     <td>1</td>      <td>3</td>   <td>-0.6134</td> <td>0.5398</td>    <td>1.0</td>     <td>False</td>\n",
       "</tr>\n",
       "<tr>\n",
       "     <td>2</td>      <td>3</td>   <td>-0.0949</td> <td>0.9244</td>    <td>1.0</td>     <td>False</td>\n",
       "</tr>\n",
       "</table>"
      ],
      "text/plain": [
       "<class 'statsmodels.iolib.table.SimpleTable'>"
      ]
     },
     "execution_count": 115,
     "metadata": {},
     "output_type": "execute_result"
    }
   ],
   "source": [
    "compare('자율방범대','폭력빈도_4')"
   ]
  },
  {
   "cell_type": "code",
   "execution_count": 116,
   "metadata": {},
   "outputs": [
    {
     "data": {
      "text/html": [
       "<table class=\"simpletable\">\n",
       "<caption>Test Multiple Comparison ttest_ind \n",
       "FWER=0.05 method=bonf\n",
       "alphacSidak=0.01, alphacBonf=0.008</caption>\n",
       "<tr>\n",
       "  <th>group1</th> <th>group2</th>  <th>stat</th>    <th>pval</th>  <th>pval_corr</th> <th>reject</th>\n",
       "</tr>\n",
       "<tr>\n",
       "     <td>0</td>      <td>1</td>   <td>-4.2311</td>   <td>0.0</td>   <td>0.0001</td>    <td>True</td> \n",
       "</tr>\n",
       "<tr>\n",
       "     <td>0</td>      <td>2</td>   <td>-6.5782</td>   <td>0.0</td>     <td>0.0</td>     <td>True</td> \n",
       "</tr>\n",
       "<tr>\n",
       "     <td>0</td>      <td>3</td>     <td>nan</td>     <td>nan</td>     <td>nan</td>     <td>False</td>\n",
       "</tr>\n",
       "<tr>\n",
       "     <td>1</td>      <td>2</td>   <td>-1.957</td>  <td>0.0507</td>   <td>0.304</td>    <td>False</td>\n",
       "</tr>\n",
       "<tr>\n",
       "     <td>1</td>      <td>3</td>   <td>0.4649</td>  <td>0.6422</td>    <td>1.0</td>     <td>False</td>\n",
       "</tr>\n",
       "<tr>\n",
       "     <td>2</td>      <td>3</td>   <td>0.7216</td>  <td>0.4711</td>    <td>1.0</td>     <td>False</td>\n",
       "</tr>\n",
       "</table>"
      ],
      "text/plain": [
       "<class 'statsmodels.iolib.table.SimpleTable'>"
      ]
     },
     "execution_count": 116,
     "metadata": {},
     "output_type": "execute_result"
    }
   ],
   "source": [
    "compare('파출소','폭력빈도_4')"
   ]
  },
  {
   "cell_type": "code",
   "execution_count": 117,
   "metadata": {},
   "outputs": [
    {
     "data": {
      "text/html": [
       "<table class=\"simpletable\">\n",
       "<caption>Test Multiple Comparison ttest_ind \n",
       "FWER=0.05 method=bonf\n",
       "alphacSidak=0.01, alphacBonf=0.008</caption>\n",
       "<tr>\n",
       "  <th>group1</th> <th>group2</th>   <th>stat</th>    <th>pval</th>  <th>pval_corr</th> <th>reject</th>\n",
       "</tr>\n",
       "<tr>\n",
       "     <td>0</td>      <td>1</td>   <td>-21.3197</td>   <td>0.0</td>     <td>0.0</td>     <td>True</td> \n",
       "</tr>\n",
       "<tr>\n",
       "     <td>0</td>      <td>2</td>   <td>-27.8179</td>   <td>0.0</td>     <td>0.0</td>     <td>True</td> \n",
       "</tr>\n",
       "<tr>\n",
       "     <td>0</td>      <td>3</td>    <td>-7.5439</td>   <td>0.0</td>     <td>0.0</td>     <td>True</td> \n",
       "</tr>\n",
       "<tr>\n",
       "     <td>1</td>      <td>2</td>    <td>-5.4667</td>   <td>0.0</td>     <td>0.0</td>     <td>True</td> \n",
       "</tr>\n",
       "<tr>\n",
       "     <td>1</td>      <td>3</td>    <td>-0.3074</td> <td>0.7586</td>    <td>1.0</td>     <td>False</td>\n",
       "</tr>\n",
       "<tr>\n",
       "     <td>2</td>      <td>3</td>    <td>1.0785</td>  <td>0.2817</td>    <td>1.0</td>     <td>False</td>\n",
       "</tr>\n",
       "</table>"
      ],
      "text/plain": [
       "<class 'statsmodels.iolib.table.SimpleTable'>"
      ]
     },
     "execution_count": 117,
     "metadata": {},
     "output_type": "execute_result"
    }
   ],
   "source": [
    "compare('cctv','폭력빈도_4')"
   ]
  },
  {
   "cell_type": "code",
   "execution_count": 118,
   "metadata": {},
   "outputs": [
    {
     "data": {
      "text/html": [
       "<table class=\"simpletable\">\n",
       "<caption>Test Multiple Comparison ttest_ind \n",
       "FWER=0.05 method=bonf\n",
       "alphacSidak=0.01, alphacBonf=0.008</caption>\n",
       "<tr>\n",
       "  <th>group1</th> <th>group2</th>   <th>stat</th>    <th>pval</th>  <th>pval_corr</th> <th>reject</th>\n",
       "</tr>\n",
       "<tr>\n",
       "     <td>0</td>      <td>1</td>    <td>-14.247</td>   <td>0.0</td>     <td>0.0</td>     <td>True</td> \n",
       "</tr>\n",
       "<tr>\n",
       "     <td>0</td>      <td>2</td>   <td>-16.0279</td>   <td>0.0</td>     <td>0.0</td>     <td>True</td> \n",
       "</tr>\n",
       "<tr>\n",
       "     <td>0</td>      <td>3</td>    <td>-6.2245</td>   <td>0.0</td>     <td>0.0</td>     <td>True</td> \n",
       "</tr>\n",
       "<tr>\n",
       "     <td>1</td>      <td>2</td>    <td>-2.2523</td> <td>0.0246</td>  <td>0.1473</td>    <td>False</td>\n",
       "</tr>\n",
       "<tr>\n",
       "     <td>1</td>      <td>3</td>    <td>-1.4452</td> <td>0.1489</td>  <td>0.8936</td>    <td>False</td>\n",
       "</tr>\n",
       "<tr>\n",
       "     <td>2</td>      <td>3</td>    <td>-0.8795</td> <td>0.3798</td>    <td>1.0</td>     <td>False</td>\n",
       "</tr>\n",
       "</table>"
      ],
      "text/plain": [
       "<class 'statsmodels.iolib.table.SimpleTable'>"
      ]
     },
     "execution_count": 118,
     "metadata": {},
     "output_type": "execute_result"
    }
   ],
   "source": [
    "compare('신호등','폭력빈도_4')"
   ]
  },
  {
   "cell_type": "code",
   "execution_count": 119,
   "metadata": {},
   "outputs": [
    {
     "data": {
      "text/html": [
       "<table class=\"simpletable\">\n",
       "<caption>Test Multiple Comparison ttest_ind \n",
       "FWER=0.05 method=bonf\n",
       "alphacSidak=0.01, alphacBonf=0.008</caption>\n",
       "<tr>\n",
       "  <th>group1</th> <th>group2</th>   <th>stat</th>   <th>pval</th> <th>pval_corr</th> <th>reject</th>\n",
       "</tr>\n",
       "<tr>\n",
       "     <td>0</td>      <td>1</td>   <td>-19.3272</td>  <td>0.0</td>    <td>0.0</td>     <td>True</td> \n",
       "</tr>\n",
       "<tr>\n",
       "     <td>0</td>      <td>2</td>   <td>-28.0984</td>  <td>0.0</td>    <td>0.0</td>     <td>True</td> \n",
       "</tr>\n",
       "<tr>\n",
       "     <td>0</td>      <td>3</td>   <td>-19.2928</td>  <td>0.0</td>    <td>0.0</td>     <td>True</td> \n",
       "</tr>\n",
       "<tr>\n",
       "     <td>1</td>      <td>2</td>    <td>-6.7824</td>  <td>0.0</td>    <td>0.0</td>     <td>True</td> \n",
       "</tr>\n",
       "<tr>\n",
       "     <td>1</td>      <td>3</td>    <td>-6.488</td>   <td>0.0</td>    <td>0.0</td>     <td>True</td> \n",
       "</tr>\n",
       "<tr>\n",
       "     <td>2</td>      <td>3</td>    <td>-4.158</td>   <td>0.0</td>  <td>0.0003</td>    <td>True</td> \n",
       "</tr>\n",
       "</table>"
      ],
      "text/plain": [
       "<class 'statsmodels.iolib.table.SimpleTable'>"
      ]
     },
     "execution_count": 119,
     "metadata": {},
     "output_type": "execute_result"
    }
   ],
   "source": [
    "compare('횡단보도','폭력빈도_4')"
   ]
  },
  {
   "cell_type": "markdown",
   "metadata": {},
   "source": [
    "### 종속변수 범주를 잘 구분해줄 것이라 판단되는 피쳐 선택 "
   ]
  },
  {
   "cell_type": "markdown",
   "metadata": {},
   "source": [
    "##### '총인구','건축물(35)','개별주택가격','공시지가','가로등','공영주차장','공중화장실','교육시설','룸살롱','버스정류장','상가','숙박업소','술집','오락시설','원룸_오피스텔','음식점' 'cctv','횡단보도'\n",
    "#### target = '폭력빈도_4'"
   ]
  },
  {
   "cell_type": "code",
   "execution_count": 120,
   "metadata": {},
   "outputs": [],
   "source": [
    "scaler = StandardScaler()\n",
    "new_grid[numerical_feats] = scaler.fit_transform(new_grid[numerical_feats])"
   ]
  },
  {
   "cell_type": "code",
   "execution_count": 121,
   "metadata": {},
   "outputs": [],
   "source": [
    "feature_list = list(new_grid.drop(columns = ['행정동코드','ID','GRADE_절도','GRADE_성폭력','GRADE_폭력','폭력빈도_4','폭력빈도_3']).columns)\n",
    "feature = new_grid[feature_list]\n",
    "target = new_grid[['폭력빈도_4']]"
   ]
  },
  {
   "cell_type": "code",
   "execution_count": 122,
   "metadata": {},
   "outputs": [
    {
     "data": {
      "text/plain": [
       "['총인구',\n",
       " '유소년인구',\n",
       " '고령인구',\n",
       " '건축물(30_34)',\n",
       " '건축물(35)',\n",
       " '개별주택가격',\n",
       " '공시지가',\n",
       " '가로등',\n",
       " '공영주차장',\n",
       " '공중화장실',\n",
       " '교육시설',\n",
       " '대규모점포',\n",
       " '대부업현황',\n",
       " '룸살롱',\n",
       " '버스정류장',\n",
       " '보안등',\n",
       " '상가',\n",
       " '숙박업소',\n",
       " '술집',\n",
       " '어린이보호',\n",
       " '어린이집',\n",
       " '오락시설',\n",
       " '원룸_오피스텔',\n",
       " '음식점',\n",
       " '자율방범대',\n",
       " '파출소',\n",
       " 'cctv',\n",
       " '신호등',\n",
       " '횡단보도',\n",
       " '성폭력취약인구',\n",
       " '건축물(30_)']"
      ]
     },
     "execution_count": 122,
     "metadata": {},
     "output_type": "execute_result"
    }
   ],
   "source": [
    "feature_list"
   ]
  },
  {
   "cell_type": "code",
   "execution_count": 123,
   "metadata": {},
   "outputs": [
    {
     "name": "stdout",
     "output_type": "stream",
     "text": [
      "accuracy = 0.774288518155054\n"
     ]
    },
    {
     "data": {
      "text/plain": [
       "array([[1104,   51,    2,    0],\n",
       "       [ 215,  322,   53,    0],\n",
       "       [  25,  111,  140,    1],\n",
       "       [   0,    1,    1,   12]])"
      ]
     },
     "execution_count": 123,
     "metadata": {},
     "output_type": "execute_result"
    }
   ],
   "source": [
    "model = LogisticRegression(random_state=0, solver ='lbfgs', multi_class='multinomial')\n",
    "model.fit(X=feature, y=target) # 학습수행 \n",
    "y_pred = model.predict(X = feature)\n",
    "acc=accuracy_score(target,y_pred)\n",
    "print('accuracy =', acc) \n",
    "con_mat = confusion_matrix(y_true=target, y_pred=y_pred) \n",
    "con_mat "
   ]
  },
  {
   "cell_type": "code",
   "execution_count": 124,
   "metadata": {},
   "outputs": [
    {
     "data": {
      "image/png": "[encoded data removed]",
      "text/plain": [
       "<Figure size 1440x1440 with 2 Axes>"
      ]
     },
     "metadata": {
      "needs_background": "light"
     },
     "output_type": "display_data"
    }
   ],
   "source": [
    "plt.figure(figsize=(20,20)) # chart size \n",
    "sns.heatmap(con_mat, annot=True, fmt=\".3f\", linewidths=.5, square = True);# , cmap = 'Blues_r' : map »ö»ó  \n",
    "plt.ylabel('Actual label'); \n",
    "plt.xlabel('Predicted label'); \n",
    "all_sample_title = 'Accuracy Score: {0}'.format(acc) \n",
    "plt.title(all_sample_title, size = 18) \n",
    "plt.show() "
   ]
  },
  {
   "cell_type": "code",
   "execution_count": 323,
   "metadata": {},
   "outputs": [
    {
     "name": "stdout",
     "output_type": "stream",
     "text": [
      "              precision    recall  f1-score   support\n",
      "\n",
      "           0       0.82      0.95      0.88      1157\n",
      "           1       0.60      0.53      0.56       590\n",
      "           2       0.61      0.34      0.44       277\n",
      "           3       0.82      0.64      0.72        14\n",
      "\n",
      "    accuracy                           0.74      2038\n",
      "   macro avg       0.71      0.62      0.65      2038\n",
      "weighted avg       0.72      0.74      0.73      2038\n",
      "\n"
     ]
    }
   ],
   "source": [
    "from sklearn.metrics import classification_report\n",
    "model.fit(X=feature, y=target) # 학습수행 \n",
    "y_pred = model.predict(X = feature)\n",
    "print(classification_report(target, y_pred))"
   ]
  },
  {
   "cell_type": "code",
   "execution_count": 324,
   "metadata": {},
   "outputs": [
    {
     "name": "stdout",
     "output_type": "stream",
     "text": [
      "학습 Accuracy = 0.75299891, 검증 Accuracy = 0.70588235\n",
      "학습 Accuracy = 0.74972737, 검증 Accuracy = 0.74019608\n",
      "학습 Accuracy = 0.75027263, 검증 Accuracy = 0.69117647\n",
      "학습 Accuracy = 0.73882225, 검증 Accuracy = 0.77450980\n",
      "학습 Accuracy = 0.75245365, 검증 Accuracy = 0.69117647\n",
      "학습 Accuracy = 0.73991276, 검증 Accuracy = 0.79901961\n",
      "학습 Accuracy = 0.74645583, 검증 Accuracy = 0.74019608\n",
      "학습 Accuracy = 0.74591058, 검증 Accuracy = 0.74019608\n",
      "학습 Accuracy = 0.74604905, 검증 Accuracy = 0.75369458\n",
      "학습 Accuracy = 0.75095368, 검증 Accuracy = 0.71921182\n",
      "[0.70588235 0.74019608 0.69117647 0.7745098  0.69117647 0.79901961\n",
      " 0.74019608 0.74019608 0.75369458 0.71921182]\n"
     ]
    },
    {
     "data": {
      "text/plain": [
       "0.7355259345117358"
      ]
     },
     "execution_count": 324,
     "metadata": {},
     "output_type": "execute_result"
    }
   ],
   "source": [
    "from sklearn.model_selection import KFold\n",
    "\n",
    "scores = np.zeros(10)\n",
    "cv = KFold(10, shuffle=True, random_state=0)\n",
    "for i, (idx_train, idx_test) in enumerate(cv.split(new_grid)):\n",
    "    df_train = new_grid.iloc[idx_train]\n",
    "    df_test = new_grid.iloc[idx_test]\n",
    "    feature = df_train[feature_list]\n",
    "    target = df_train[['폭력빈도_4']]\n",
    "    \n",
    "    \n",
    "    model = LogisticRegression(random_state=0, solver ='lbfgs', multi_class='multinomial')\n",
    "    model.fit(X=feature, y=target) # 학습수행 \n",
    "    y_pred1 = model.predict(X = feature)\n",
    "    y_pred2 = model.predict(X = df_test[feature_list])\n",
    "    acc_1=accuracy_score(target,y_pred1)\n",
    "    acc_2=accuracy_score(df_test['폭력빈도_4'],y_pred2)\n",
    "    \n",
    "    scores[i] = acc_2\n",
    "    print(\"학습 Accuracy = {:.8f}, 검증 Accuracy = {:.8f}\".format(acc_1, acc_2))\n",
    "print(scores)\n",
    "scores.mean()"
   ]
  },
  {
   "cell_type": "markdown",
   "metadata": {},
   "source": [
    "## 꽤 높은 정확도를 가짐을 알 수 있음"
   ]
  },
  {
   "cell_type": "markdown",
   "metadata": {},
   "source": [
    "### Auto ML"
   ]
  },
  {
   "cell_type": "code",
   "execution_count": 326,
   "metadata": {},
   "outputs": [],
   "source": [
    "from pycaret.classification import *"
   ]
  },
  {
   "cell_type": "code",
   "execution_count": 327,
   "metadata": {},
   "outputs": [],
   "source": [
    "feature_list = list(new_grid.drop(columns = ['행정동코드','ID','GRADE_절도','GRADE_성폭력','GRADE_폭력','유소년인구','고령인구','성폭력취약인구','건축물(30_34)',\n",
    "                                            '건축물(30_)', '대규모점포','대부업현황','보안등','어린이보호','어린이집','자율방범대','파출소','신호등','폭력빈도_3']).columns)\n",
    "feature = new_grid[feature_list]"
   ]
  },
  {
   "cell_type": "code",
   "execution_count": 328,
   "metadata": {},
   "outputs": [
    {
     "data": {
      "text/html": [
       "<style  type=\"text/css\" >\n",
       "#T_24f8e8f2_026c_11ec_ae50_acbc32d61fabrow44_col1{\n",
       "            background-color:  lightgreen;\n",
       "        }</style><table id=\"T_24f8e8f2_026c_11ec_ae50_acbc32d61fab\" ><thead>    <tr>        <th class=\"blank level0\" ></th>        <th class=\"col_heading level0 col0\" >Description</th>        <th class=\"col_heading level0 col1\" >Value</th>    </tr></thead><tbody>\n",
       "                <tr>\n",
       "                        <th id=\"T_24f8e8f2_026c_11ec_ae50_acbc32d61fablevel0_row0\" class=\"row_heading level0 row0\" >0</th>\n",
       "                        <td id=\"T_24f8e8f2_026c_11ec_ae50_acbc32d61fabrow0_col0\" class=\"data row0 col0\" >session_id</td>\n",
       "                        <td id=\"T_24f8e8f2_026c_11ec_ae50_acbc32d61fabrow0_col1\" class=\"data row0 col1\" >123</td>\n",
       "            </tr>\n",
       "            <tr>\n",
       "                        <th id=\"T_24f8e8f2_026c_11ec_ae50_acbc32d61fablevel0_row1\" class=\"row_heading level0 row1\" >1</th>\n",
       "                        <td id=\"T_24f8e8f2_026c_11ec_ae50_acbc32d61fabrow1_col0\" class=\"data row1 col0\" >Target</td>\n",
       "                        <td id=\"T_24f8e8f2_026c_11ec_ae50_acbc32d61fabrow1_col1\" class=\"data row1 col1\" >폭력빈도_4</td>\n",
       "            </tr>\n",
       "            <tr>\n",
       "                        <th id=\"T_24f8e8f2_026c_11ec_ae50_acbc32d61fablevel0_row2\" class=\"row_heading level0 row2\" >2</th>\n",
       "                        <td id=\"T_24f8e8f2_026c_11ec_ae50_acbc32d61fabrow2_col0\" class=\"data row2 col0\" >Target Type</td>\n",
       "                        <td id=\"T_24f8e8f2_026c_11ec_ae50_acbc32d61fabrow2_col1\" class=\"data row2 col1\" >Multiclass</td>\n",
       "            </tr>\n",
       "            <tr>\n",
       "                        <th id=\"T_24f8e8f2_026c_11ec_ae50_acbc32d61fablevel0_row3\" class=\"row_heading level0 row3\" >3</th>\n",
       "                        <td id=\"T_24f8e8f2_026c_11ec_ae50_acbc32d61fabrow3_col0\" class=\"data row3 col0\" >Label Encoded</td>\n",
       "                        <td id=\"T_24f8e8f2_026c_11ec_ae50_acbc32d61fabrow3_col1\" class=\"data row3 col1\" >0: 0, 1: 1, 2: 2, 3: 3</td>\n",
       "            </tr>\n",
       "            <tr>\n",
       "                        <th id=\"T_24f8e8f2_026c_11ec_ae50_acbc32d61fablevel0_row4\" class=\"row_heading level0 row4\" >4</th>\n",
       "                        <td id=\"T_24f8e8f2_026c_11ec_ae50_acbc32d61fabrow4_col0\" class=\"data row4 col0\" >Original Data</td>\n",
       "                        <td id=\"T_24f8e8f2_026c_11ec_ae50_acbc32d61fabrow4_col1\" class=\"data row4 col1\" >(2038, 19)</td>\n",
       "            </tr>\n",
       "            <tr>\n",
       "                        <th id=\"T_24f8e8f2_026c_11ec_ae50_acbc32d61fablevel0_row5\" class=\"row_heading level0 row5\" >5</th>\n",
       "                        <td id=\"T_24f8e8f2_026c_11ec_ae50_acbc32d61fabrow5_col0\" class=\"data row5 col0\" >Missing Values</td>\n",
       "                        <td id=\"T_24f8e8f2_026c_11ec_ae50_acbc32d61fabrow5_col1\" class=\"data row5 col1\" >False</td>\n",
       "            </tr>\n",
       "            <tr>\n",
       "                        <th id=\"T_24f8e8f2_026c_11ec_ae50_acbc32d61fablevel0_row6\" class=\"row_heading level0 row6\" >6</th>\n",
       "                        <td id=\"T_24f8e8f2_026c_11ec_ae50_acbc32d61fabrow6_col0\" class=\"data row6 col0\" >Numeric Features</td>\n",
       "                        <td id=\"T_24f8e8f2_026c_11ec_ae50_acbc32d61fabrow6_col1\" class=\"data row6 col1\" >18</td>\n",
       "            </tr>\n",
       "            <tr>\n",
       "                        <th id=\"T_24f8e8f2_026c_11ec_ae50_acbc32d61fablevel0_row7\" class=\"row_heading level0 row7\" >7</th>\n",
       "                        <td id=\"T_24f8e8f2_026c_11ec_ae50_acbc32d61fabrow7_col0\" class=\"data row7 col0\" >Categorical Features</td>\n",
       "                        <td id=\"T_24f8e8f2_026c_11ec_ae50_acbc32d61fabrow7_col1\" class=\"data row7 col1\" >0</td>\n",
       "            </tr>\n",
       "            <tr>\n",
       "                        <th id=\"T_24f8e8f2_026c_11ec_ae50_acbc32d61fablevel0_row8\" class=\"row_heading level0 row8\" >8</th>\n",
       "                        <td id=\"T_24f8e8f2_026c_11ec_ae50_acbc32d61fabrow8_col0\" class=\"data row8 col0\" >Ordinal Features</td>\n",
       "                        <td id=\"T_24f8e8f2_026c_11ec_ae50_acbc32d61fabrow8_col1\" class=\"data row8 col1\" >False</td>\n",
       "            </tr>\n",
       "            <tr>\n",
       "                        <th id=\"T_24f8e8f2_026c_11ec_ae50_acbc32d61fablevel0_row9\" class=\"row_heading level0 row9\" >9</th>\n",
       "                        <td id=\"T_24f8e8f2_026c_11ec_ae50_acbc32d61fabrow9_col0\" class=\"data row9 col0\" >High Cardinality Features</td>\n",
       "                        <td id=\"T_24f8e8f2_026c_11ec_ae50_acbc32d61fabrow9_col1\" class=\"data row9 col1\" >False</td>\n",
       "            </tr>\n",
       "            <tr>\n",
       "                        <th id=\"T_24f8e8f2_026c_11ec_ae50_acbc32d61fablevel0_row10\" class=\"row_heading level0 row10\" >10</th>\n",
       "                        <td id=\"T_24f8e8f2_026c_11ec_ae50_acbc32d61fabrow10_col0\" class=\"data row10 col0\" >High Cardinality Method</td>\n",
       "                        <td id=\"T_24f8e8f2_026c_11ec_ae50_acbc32d61fabrow10_col1\" class=\"data row10 col1\" >None</td>\n",
       "            </tr>\n",
       "            <tr>\n",
       "                        <th id=\"T_24f8e8f2_026c_11ec_ae50_acbc32d61fablevel0_row11\" class=\"row_heading level0 row11\" >11</th>\n",
       "                        <td id=\"T_24f8e8f2_026c_11ec_ae50_acbc32d61fabrow11_col0\" class=\"data row11 col0\" >Transformed Train Set</td>\n",
       "                        <td id=\"T_24f8e8f2_026c_11ec_ae50_acbc32d61fabrow11_col1\" class=\"data row11 col1\" >(2017, 18)</td>\n",
       "            </tr>\n",
       "            <tr>\n",
       "                        <th id=\"T_24f8e8f2_026c_11ec_ae50_acbc32d61fablevel0_row12\" class=\"row_heading level0 row12\" >12</th>\n",
       "                        <td id=\"T_24f8e8f2_026c_11ec_ae50_acbc32d61fabrow12_col0\" class=\"data row12 col0\" >Transformed Test Set</td>\n",
       "                        <td id=\"T_24f8e8f2_026c_11ec_ae50_acbc32d61fabrow12_col1\" class=\"data row12 col1\" >(21, 18)</td>\n",
       "            </tr>\n",
       "            <tr>\n",
       "                        <th id=\"T_24f8e8f2_026c_11ec_ae50_acbc32d61fablevel0_row13\" class=\"row_heading level0 row13\" >13</th>\n",
       "                        <td id=\"T_24f8e8f2_026c_11ec_ae50_acbc32d61fabrow13_col0\" class=\"data row13 col0\" >Shuffle Train-Test</td>\n",
       "                        <td id=\"T_24f8e8f2_026c_11ec_ae50_acbc32d61fabrow13_col1\" class=\"data row13 col1\" >True</td>\n",
       "            </tr>\n",
       "            <tr>\n",
       "                        <th id=\"T_24f8e8f2_026c_11ec_ae50_acbc32d61fablevel0_row14\" class=\"row_heading level0 row14\" >14</th>\n",
       "                        <td id=\"T_24f8e8f2_026c_11ec_ae50_acbc32d61fabrow14_col0\" class=\"data row14 col0\" >Stratify Train-Test</td>\n",
       "                        <td id=\"T_24f8e8f2_026c_11ec_ae50_acbc32d61fabrow14_col1\" class=\"data row14 col1\" >False</td>\n",
       "            </tr>\n",
       "            <tr>\n",
       "                        <th id=\"T_24f8e8f2_026c_11ec_ae50_acbc32d61fablevel0_row15\" class=\"row_heading level0 row15\" >15</th>\n",
       "                        <td id=\"T_24f8e8f2_026c_11ec_ae50_acbc32d61fabrow15_col0\" class=\"data row15 col0\" >Fold Generator</td>\n",
       "                        <td id=\"T_24f8e8f2_026c_11ec_ae50_acbc32d61fabrow15_col1\" class=\"data row15 col1\" >StratifiedKFold</td>\n",
       "            </tr>\n",
       "            <tr>\n",
       "                        <th id=\"T_24f8e8f2_026c_11ec_ae50_acbc32d61fablevel0_row16\" class=\"row_heading level0 row16\" >16</th>\n",
       "                        <td id=\"T_24f8e8f2_026c_11ec_ae50_acbc32d61fabrow16_col0\" class=\"data row16 col0\" >Fold Number</td>\n",
       "                        <td id=\"T_24f8e8f2_026c_11ec_ae50_acbc32d61fabrow16_col1\" class=\"data row16 col1\" >10</td>\n",
       "            </tr>\n",
       "            <tr>\n",
       "                        <th id=\"T_24f8e8f2_026c_11ec_ae50_acbc32d61fablevel0_row17\" class=\"row_heading level0 row17\" >17</th>\n",
       "                        <td id=\"T_24f8e8f2_026c_11ec_ae50_acbc32d61fabrow17_col0\" class=\"data row17 col0\" >CPU Jobs</td>\n",
       "                        <td id=\"T_24f8e8f2_026c_11ec_ae50_acbc32d61fabrow17_col1\" class=\"data row17 col1\" >-1</td>\n",
       "            </tr>\n",
       "            <tr>\n",
       "                        <th id=\"T_24f8e8f2_026c_11ec_ae50_acbc32d61fablevel0_row18\" class=\"row_heading level0 row18\" >18</th>\n",
       "                        <td id=\"T_24f8e8f2_026c_11ec_ae50_acbc32d61fabrow18_col0\" class=\"data row18 col0\" >Use GPU</td>\n",
       "                        <td id=\"T_24f8e8f2_026c_11ec_ae50_acbc32d61fabrow18_col1\" class=\"data row18 col1\" >False</td>\n",
       "            </tr>\n",
       "            <tr>\n",
       "                        <th id=\"T_24f8e8f2_026c_11ec_ae50_acbc32d61fablevel0_row19\" class=\"row_heading level0 row19\" >19</th>\n",
       "                        <td id=\"T_24f8e8f2_026c_11ec_ae50_acbc32d61fabrow19_col0\" class=\"data row19 col0\" >Log Experiment</td>\n",
       "                        <td id=\"T_24f8e8f2_026c_11ec_ae50_acbc32d61fabrow19_col1\" class=\"data row19 col1\" >False</td>\n",
       "            </tr>\n",
       "            <tr>\n",
       "                        <th id=\"T_24f8e8f2_026c_11ec_ae50_acbc32d61fablevel0_row20\" class=\"row_heading level0 row20\" >20</th>\n",
       "                        <td id=\"T_24f8e8f2_026c_11ec_ae50_acbc32d61fabrow20_col0\" class=\"data row20 col0\" >Experiment Name</td>\n",
       "                        <td id=\"T_24f8e8f2_026c_11ec_ae50_acbc32d61fabrow20_col1\" class=\"data row20 col1\" >clf-default-name</td>\n",
       "            </tr>\n",
       "            <tr>\n",
       "                        <th id=\"T_24f8e8f2_026c_11ec_ae50_acbc32d61fablevel0_row21\" class=\"row_heading level0 row21\" >21</th>\n",
       "                        <td id=\"T_24f8e8f2_026c_11ec_ae50_acbc32d61fabrow21_col0\" class=\"data row21 col0\" >USI</td>\n",
       "                        <td id=\"T_24f8e8f2_026c_11ec_ae50_acbc32d61fabrow21_col1\" class=\"data row21 col1\" >cd27</td>\n",
       "            </tr>\n",
       "            <tr>\n",
       "                        <th id=\"T_24f8e8f2_026c_11ec_ae50_acbc32d61fablevel0_row22\" class=\"row_heading level0 row22\" >22</th>\n",
       "                        <td id=\"T_24f8e8f2_026c_11ec_ae50_acbc32d61fabrow22_col0\" class=\"data row22 col0\" >Imputation Type</td>\n",
       "                        <td id=\"T_24f8e8f2_026c_11ec_ae50_acbc32d61fabrow22_col1\" class=\"data row22 col1\" >simple</td>\n",
       "            </tr>\n",
       "            <tr>\n",
       "                        <th id=\"T_24f8e8f2_026c_11ec_ae50_acbc32d61fablevel0_row23\" class=\"row_heading level0 row23\" >23</th>\n",
       "                        <td id=\"T_24f8e8f2_026c_11ec_ae50_acbc32d61fabrow23_col0\" class=\"data row23 col0\" >Iterative Imputation Iteration</td>\n",
       "                        <td id=\"T_24f8e8f2_026c_11ec_ae50_acbc32d61fabrow23_col1\" class=\"data row23 col1\" >None</td>\n",
       "            </tr>\n",
       "            <tr>\n",
       "                        <th id=\"T_24f8e8f2_026c_11ec_ae50_acbc32d61fablevel0_row24\" class=\"row_heading level0 row24\" >24</th>\n",
       "                        <td id=\"T_24f8e8f2_026c_11ec_ae50_acbc32d61fabrow24_col0\" class=\"data row24 col0\" >Numeric Imputer</td>\n",
       "                        <td id=\"T_24f8e8f2_026c_11ec_ae50_acbc32d61fabrow24_col1\" class=\"data row24 col1\" >mean</td>\n",
       "            </tr>\n",
       "            <tr>\n",
       "                        <th id=\"T_24f8e8f2_026c_11ec_ae50_acbc32d61fablevel0_row25\" class=\"row_heading level0 row25\" >25</th>\n",
       "                        <td id=\"T_24f8e8f2_026c_11ec_ae50_acbc32d61fabrow25_col0\" class=\"data row25 col0\" >Iterative Imputation Numeric Model</td>\n",
       "                        <td id=\"T_24f8e8f2_026c_11ec_ae50_acbc32d61fabrow25_col1\" class=\"data row25 col1\" >None</td>\n",
       "            </tr>\n",
       "            <tr>\n",
       "                        <th id=\"T_24f8e8f2_026c_11ec_ae50_acbc32d61fablevel0_row26\" class=\"row_heading level0 row26\" >26</th>\n",
       "                        <td id=\"T_24f8e8f2_026c_11ec_ae50_acbc32d61fabrow26_col0\" class=\"data row26 col0\" >Categorical Imputer</td>\n",
       "                        <td id=\"T_24f8e8f2_026c_11ec_ae50_acbc32d61fabrow26_col1\" class=\"data row26 col1\" >constant</td>\n",
       "            </tr>\n",
       "            <tr>\n",
       "                        <th id=\"T_24f8e8f2_026c_11ec_ae50_acbc32d61fablevel0_row27\" class=\"row_heading level0 row27\" >27</th>\n",
       "                        <td id=\"T_24f8e8f2_026c_11ec_ae50_acbc32d61fabrow27_col0\" class=\"data row27 col0\" >Iterative Imputation Categorical Model</td>\n",
       "                        <td id=\"T_24f8e8f2_026c_11ec_ae50_acbc32d61fabrow27_col1\" class=\"data row27 col1\" >None</td>\n",
       "            </tr>\n",
       "            <tr>\n",
       "                        <th id=\"T_24f8e8f2_026c_11ec_ae50_acbc32d61fablevel0_row28\" class=\"row_heading level0 row28\" >28</th>\n",
       "                        <td id=\"T_24f8e8f2_026c_11ec_ae50_acbc32d61fabrow28_col0\" class=\"data row28 col0\" >Unknown Categoricals Handling</td>\n",
       "                        <td id=\"T_24f8e8f2_026c_11ec_ae50_acbc32d61fabrow28_col1\" class=\"data row28 col1\" >least_frequent</td>\n",
       "            </tr>\n",
       "            <tr>\n",
       "                        <th id=\"T_24f8e8f2_026c_11ec_ae50_acbc32d61fablevel0_row29\" class=\"row_heading level0 row29\" >29</th>\n",
       "                        <td id=\"T_24f8e8f2_026c_11ec_ae50_acbc32d61fabrow29_col0\" class=\"data row29 col0\" >Normalize</td>\n",
       "                        <td id=\"T_24f8e8f2_026c_11ec_ae50_acbc32d61fabrow29_col1\" class=\"data row29 col1\" >False</td>\n",
       "            </tr>\n",
       "            <tr>\n",
       "                        <th id=\"T_24f8e8f2_026c_11ec_ae50_acbc32d61fablevel0_row30\" class=\"row_heading level0 row30\" >30</th>\n",
       "                        <td id=\"T_24f8e8f2_026c_11ec_ae50_acbc32d61fabrow30_col0\" class=\"data row30 col0\" >Normalize Method</td>\n",
       "                        <td id=\"T_24f8e8f2_026c_11ec_ae50_acbc32d61fabrow30_col1\" class=\"data row30 col1\" >None</td>\n",
       "            </tr>\n",
       "            <tr>\n",
       "                        <th id=\"T_24f8e8f2_026c_11ec_ae50_acbc32d61fablevel0_row31\" class=\"row_heading level0 row31\" >31</th>\n",
       "                        <td id=\"T_24f8e8f2_026c_11ec_ae50_acbc32d61fabrow31_col0\" class=\"data row31 col0\" >Transformation</td>\n",
       "                        <td id=\"T_24f8e8f2_026c_11ec_ae50_acbc32d61fabrow31_col1\" class=\"data row31 col1\" >False</td>\n",
       "            </tr>\n",
       "            <tr>\n",
       "                        <th id=\"T_24f8e8f2_026c_11ec_ae50_acbc32d61fablevel0_row32\" class=\"row_heading level0 row32\" >32</th>\n",
       "                        <td id=\"T_24f8e8f2_026c_11ec_ae50_acbc32d61fabrow32_col0\" class=\"data row32 col0\" >Transformation Method</td>\n",
       "                        <td id=\"T_24f8e8f2_026c_11ec_ae50_acbc32d61fabrow32_col1\" class=\"data row32 col1\" >None</td>\n",
       "            </tr>\n",
       "            <tr>\n",
       "                        <th id=\"T_24f8e8f2_026c_11ec_ae50_acbc32d61fablevel0_row33\" class=\"row_heading level0 row33\" >33</th>\n",
       "                        <td id=\"T_24f8e8f2_026c_11ec_ae50_acbc32d61fabrow33_col0\" class=\"data row33 col0\" >PCA</td>\n",
       "                        <td id=\"T_24f8e8f2_026c_11ec_ae50_acbc32d61fabrow33_col1\" class=\"data row33 col1\" >False</td>\n",
       "            </tr>\n",
       "            <tr>\n",
       "                        <th id=\"T_24f8e8f2_026c_11ec_ae50_acbc32d61fablevel0_row34\" class=\"row_heading level0 row34\" >34</th>\n",
       "                        <td id=\"T_24f8e8f2_026c_11ec_ae50_acbc32d61fabrow34_col0\" class=\"data row34 col0\" >PCA Method</td>\n",
       "                        <td id=\"T_24f8e8f2_026c_11ec_ae50_acbc32d61fabrow34_col1\" class=\"data row34 col1\" >None</td>\n",
       "            </tr>\n",
       "            <tr>\n",
       "                        <th id=\"T_24f8e8f2_026c_11ec_ae50_acbc32d61fablevel0_row35\" class=\"row_heading level0 row35\" >35</th>\n",
       "                        <td id=\"T_24f8e8f2_026c_11ec_ae50_acbc32d61fabrow35_col0\" class=\"data row35 col0\" >PCA Components</td>\n",
       "                        <td id=\"T_24f8e8f2_026c_11ec_ae50_acbc32d61fabrow35_col1\" class=\"data row35 col1\" >None</td>\n",
       "            </tr>\n",
       "            <tr>\n",
       "                        <th id=\"T_24f8e8f2_026c_11ec_ae50_acbc32d61fablevel0_row36\" class=\"row_heading level0 row36\" >36</th>\n",
       "                        <td id=\"T_24f8e8f2_026c_11ec_ae50_acbc32d61fabrow36_col0\" class=\"data row36 col0\" >Ignore Low Variance</td>\n",
       "                        <td id=\"T_24f8e8f2_026c_11ec_ae50_acbc32d61fabrow36_col1\" class=\"data row36 col1\" >False</td>\n",
       "            </tr>\n",
       "            <tr>\n",
       "                        <th id=\"T_24f8e8f2_026c_11ec_ae50_acbc32d61fablevel0_row37\" class=\"row_heading level0 row37\" >37</th>\n",
       "                        <td id=\"T_24f8e8f2_026c_11ec_ae50_acbc32d61fabrow37_col0\" class=\"data row37 col0\" >Combine Rare Levels</td>\n",
       "                        <td id=\"T_24f8e8f2_026c_11ec_ae50_acbc32d61fabrow37_col1\" class=\"data row37 col1\" >False</td>\n",
       "            </tr>\n",
       "            <tr>\n",
       "                        <th id=\"T_24f8e8f2_026c_11ec_ae50_acbc32d61fablevel0_row38\" class=\"row_heading level0 row38\" >38</th>\n",
       "                        <td id=\"T_24f8e8f2_026c_11ec_ae50_acbc32d61fabrow38_col0\" class=\"data row38 col0\" >Rare Level Threshold</td>\n",
       "                        <td id=\"T_24f8e8f2_026c_11ec_ae50_acbc32d61fabrow38_col1\" class=\"data row38 col1\" >None</td>\n",
       "            </tr>\n",
       "            <tr>\n",
       "                        <th id=\"T_24f8e8f2_026c_11ec_ae50_acbc32d61fablevel0_row39\" class=\"row_heading level0 row39\" >39</th>\n",
       "                        <td id=\"T_24f8e8f2_026c_11ec_ae50_acbc32d61fabrow39_col0\" class=\"data row39 col0\" >Numeric Binning</td>\n",
       "                        <td id=\"T_24f8e8f2_026c_11ec_ae50_acbc32d61fabrow39_col1\" class=\"data row39 col1\" >False</td>\n",
       "            </tr>\n",
       "            <tr>\n",
       "                        <th id=\"T_24f8e8f2_026c_11ec_ae50_acbc32d61fablevel0_row40\" class=\"row_heading level0 row40\" >40</th>\n",
       "                        <td id=\"T_24f8e8f2_026c_11ec_ae50_acbc32d61fabrow40_col0\" class=\"data row40 col0\" >Remove Outliers</td>\n",
       "                        <td id=\"T_24f8e8f2_026c_11ec_ae50_acbc32d61fabrow40_col1\" class=\"data row40 col1\" >False</td>\n",
       "            </tr>\n",
       "            <tr>\n",
       "                        <th id=\"T_24f8e8f2_026c_11ec_ae50_acbc32d61fablevel0_row41\" class=\"row_heading level0 row41\" >41</th>\n",
       "                        <td id=\"T_24f8e8f2_026c_11ec_ae50_acbc32d61fabrow41_col0\" class=\"data row41 col0\" >Outliers Threshold</td>\n",
       "                        <td id=\"T_24f8e8f2_026c_11ec_ae50_acbc32d61fabrow41_col1\" class=\"data row41 col1\" >None</td>\n",
       "            </tr>\n",
       "            <tr>\n",
       "                        <th id=\"T_24f8e8f2_026c_11ec_ae50_acbc32d61fablevel0_row42\" class=\"row_heading level0 row42\" >42</th>\n",
       "                        <td id=\"T_24f8e8f2_026c_11ec_ae50_acbc32d61fabrow42_col0\" class=\"data row42 col0\" >Remove Multicollinearity</td>\n",
       "                        <td id=\"T_24f8e8f2_026c_11ec_ae50_acbc32d61fabrow42_col1\" class=\"data row42 col1\" >False</td>\n",
       "            </tr>\n",
       "            <tr>\n",
       "                        <th id=\"T_24f8e8f2_026c_11ec_ae50_acbc32d61fablevel0_row43\" class=\"row_heading level0 row43\" >43</th>\n",
       "                        <td id=\"T_24f8e8f2_026c_11ec_ae50_acbc32d61fabrow43_col0\" class=\"data row43 col0\" >Multicollinearity Threshold</td>\n",
       "                        <td id=\"T_24f8e8f2_026c_11ec_ae50_acbc32d61fabrow43_col1\" class=\"data row43 col1\" >None</td>\n",
       "            </tr>\n",
       "            <tr>\n",
       "                        <th id=\"T_24f8e8f2_026c_11ec_ae50_acbc32d61fablevel0_row44\" class=\"row_heading level0 row44\" >44</th>\n",
       "                        <td id=\"T_24f8e8f2_026c_11ec_ae50_acbc32d61fabrow44_col0\" class=\"data row44 col0\" >Remove Perfect Collinearity</td>\n",
       "                        <td id=\"T_24f8e8f2_026c_11ec_ae50_acbc32d61fabrow44_col1\" class=\"data row44 col1\" >True</td>\n",
       "            </tr>\n",
       "            <tr>\n",
       "                        <th id=\"T_24f8e8f2_026c_11ec_ae50_acbc32d61fablevel0_row45\" class=\"row_heading level0 row45\" >45</th>\n",
       "                        <td id=\"T_24f8e8f2_026c_11ec_ae50_acbc32d61fabrow45_col0\" class=\"data row45 col0\" >Clustering</td>\n",
       "                        <td id=\"T_24f8e8f2_026c_11ec_ae50_acbc32d61fabrow45_col1\" class=\"data row45 col1\" >False</td>\n",
       "            </tr>\n",
       "            <tr>\n",
       "                        <th id=\"T_24f8e8f2_026c_11ec_ae50_acbc32d61fablevel0_row46\" class=\"row_heading level0 row46\" >46</th>\n",
       "                        <td id=\"T_24f8e8f2_026c_11ec_ae50_acbc32d61fabrow46_col0\" class=\"data row46 col0\" >Clustering Iteration</td>\n",
       "                        <td id=\"T_24f8e8f2_026c_11ec_ae50_acbc32d61fabrow46_col1\" class=\"data row46 col1\" >None</td>\n",
       "            </tr>\n",
       "            <tr>\n",
       "                        <th id=\"T_24f8e8f2_026c_11ec_ae50_acbc32d61fablevel0_row47\" class=\"row_heading level0 row47\" >47</th>\n",
       "                        <td id=\"T_24f8e8f2_026c_11ec_ae50_acbc32d61fabrow47_col0\" class=\"data row47 col0\" >Polynomial Features</td>\n",
       "                        <td id=\"T_24f8e8f2_026c_11ec_ae50_acbc32d61fabrow47_col1\" class=\"data row47 col1\" >False</td>\n",
       "            </tr>\n",
       "            <tr>\n",
       "                        <th id=\"T_24f8e8f2_026c_11ec_ae50_acbc32d61fablevel0_row48\" class=\"row_heading level0 row48\" >48</th>\n",
       "                        <td id=\"T_24f8e8f2_026c_11ec_ae50_acbc32d61fabrow48_col0\" class=\"data row48 col0\" >Polynomial Degree</td>\n",
       "                        <td id=\"T_24f8e8f2_026c_11ec_ae50_acbc32d61fabrow48_col1\" class=\"data row48 col1\" >None</td>\n",
       "            </tr>\n",
       "            <tr>\n",
       "                        <th id=\"T_24f8e8f2_026c_11ec_ae50_acbc32d61fablevel0_row49\" class=\"row_heading level0 row49\" >49</th>\n",
       "                        <td id=\"T_24f8e8f2_026c_11ec_ae50_acbc32d61fabrow49_col0\" class=\"data row49 col0\" >Trignometry Features</td>\n",
       "                        <td id=\"T_24f8e8f2_026c_11ec_ae50_acbc32d61fabrow49_col1\" class=\"data row49 col1\" >False</td>\n",
       "            </tr>\n",
       "            <tr>\n",
       "                        <th id=\"T_24f8e8f2_026c_11ec_ae50_acbc32d61fablevel0_row50\" class=\"row_heading level0 row50\" >50</th>\n",
       "                        <td id=\"T_24f8e8f2_026c_11ec_ae50_acbc32d61fabrow50_col0\" class=\"data row50 col0\" >Polynomial Threshold</td>\n",
       "                        <td id=\"T_24f8e8f2_026c_11ec_ae50_acbc32d61fabrow50_col1\" class=\"data row50 col1\" >None</td>\n",
       "            </tr>\n",
       "            <tr>\n",
       "                        <th id=\"T_24f8e8f2_026c_11ec_ae50_acbc32d61fablevel0_row51\" class=\"row_heading level0 row51\" >51</th>\n",
       "                        <td id=\"T_24f8e8f2_026c_11ec_ae50_acbc32d61fabrow51_col0\" class=\"data row51 col0\" >Group Features</td>\n",
       "                        <td id=\"T_24f8e8f2_026c_11ec_ae50_acbc32d61fabrow51_col1\" class=\"data row51 col1\" >False</td>\n",
       "            </tr>\n",
       "            <tr>\n",
       "                        <th id=\"T_24f8e8f2_026c_11ec_ae50_acbc32d61fablevel0_row52\" class=\"row_heading level0 row52\" >52</th>\n",
       "                        <td id=\"T_24f8e8f2_026c_11ec_ae50_acbc32d61fabrow52_col0\" class=\"data row52 col0\" >Feature Selection</td>\n",
       "                        <td id=\"T_24f8e8f2_026c_11ec_ae50_acbc32d61fabrow52_col1\" class=\"data row52 col1\" >False</td>\n",
       "            </tr>\n",
       "            <tr>\n",
       "                        <th id=\"T_24f8e8f2_026c_11ec_ae50_acbc32d61fablevel0_row53\" class=\"row_heading level0 row53\" >53</th>\n",
       "                        <td id=\"T_24f8e8f2_026c_11ec_ae50_acbc32d61fabrow53_col0\" class=\"data row53 col0\" >Feature Selection Method</td>\n",
       "                        <td id=\"T_24f8e8f2_026c_11ec_ae50_acbc32d61fabrow53_col1\" class=\"data row53 col1\" >classic</td>\n",
       "            </tr>\n",
       "            <tr>\n",
       "                        <th id=\"T_24f8e8f2_026c_11ec_ae50_acbc32d61fablevel0_row54\" class=\"row_heading level0 row54\" >54</th>\n",
       "                        <td id=\"T_24f8e8f2_026c_11ec_ae50_acbc32d61fabrow54_col0\" class=\"data row54 col0\" >Features Selection Threshold</td>\n",
       "                        <td id=\"T_24f8e8f2_026c_11ec_ae50_acbc32d61fabrow54_col1\" class=\"data row54 col1\" >None</td>\n",
       "            </tr>\n",
       "            <tr>\n",
       "                        <th id=\"T_24f8e8f2_026c_11ec_ae50_acbc32d61fablevel0_row55\" class=\"row_heading level0 row55\" >55</th>\n",
       "                        <td id=\"T_24f8e8f2_026c_11ec_ae50_acbc32d61fabrow55_col0\" class=\"data row55 col0\" >Feature Interaction</td>\n",
       "                        <td id=\"T_24f8e8f2_026c_11ec_ae50_acbc32d61fabrow55_col1\" class=\"data row55 col1\" >False</td>\n",
       "            </tr>\n",
       "            <tr>\n",
       "                        <th id=\"T_24f8e8f2_026c_11ec_ae50_acbc32d61fablevel0_row56\" class=\"row_heading level0 row56\" >56</th>\n",
       "                        <td id=\"T_24f8e8f2_026c_11ec_ae50_acbc32d61fabrow56_col0\" class=\"data row56 col0\" >Feature Ratio</td>\n",
       "                        <td id=\"T_24f8e8f2_026c_11ec_ae50_acbc32d61fabrow56_col1\" class=\"data row56 col1\" >False</td>\n",
       "            </tr>\n",
       "            <tr>\n",
       "                        <th id=\"T_24f8e8f2_026c_11ec_ae50_acbc32d61fablevel0_row57\" class=\"row_heading level0 row57\" >57</th>\n",
       "                        <td id=\"T_24f8e8f2_026c_11ec_ae50_acbc32d61fabrow57_col0\" class=\"data row57 col0\" >Interaction Threshold</td>\n",
       "                        <td id=\"T_24f8e8f2_026c_11ec_ae50_acbc32d61fabrow57_col1\" class=\"data row57 col1\" >None</td>\n",
       "            </tr>\n",
       "            <tr>\n",
       "                        <th id=\"T_24f8e8f2_026c_11ec_ae50_acbc32d61fablevel0_row58\" class=\"row_heading level0 row58\" >58</th>\n",
       "                        <td id=\"T_24f8e8f2_026c_11ec_ae50_acbc32d61fabrow58_col0\" class=\"data row58 col0\" >Fix Imbalance</td>\n",
       "                        <td id=\"T_24f8e8f2_026c_11ec_ae50_acbc32d61fabrow58_col1\" class=\"data row58 col1\" >False</td>\n",
       "            </tr>\n",
       "            <tr>\n",
       "                        <th id=\"T_24f8e8f2_026c_11ec_ae50_acbc32d61fablevel0_row59\" class=\"row_heading level0 row59\" >59</th>\n",
       "                        <td id=\"T_24f8e8f2_026c_11ec_ae50_acbc32d61fabrow59_col0\" class=\"data row59 col0\" >Fix Imbalance Method</td>\n",
       "                        <td id=\"T_24f8e8f2_026c_11ec_ae50_acbc32d61fabrow59_col1\" class=\"data row59 col1\" >SMOTE</td>\n",
       "            </tr>\n",
       "    </tbody></table>"
      ],
      "text/plain": [
       "<pandas.io.formats.style.Styler at 0x7f8381378b20>"
      ]
     },
     "metadata": {},
     "output_type": "display_data"
    }
   ],
   "source": [
    "# 'voted' 컬럼이 예측 대상이므로 target 인자에 명시\n",
    "# 'voted' column is the target variable\n",
    "clf = setup(data = feature,\n",
    "            train_size = 0.99,\n",
    "            target = '폭력빈도_4',\n",
    "            use_gpu = False, \n",
    "            session_id = 123,\n",
    "           fold_shuffle = True)"
   ]
  },
  {
   "cell_type": "code",
   "execution_count": 329,
   "metadata": {},
   "outputs": [
    {
     "data": {
      "text/html": [
       "<style  type=\"text/css\" >\n",
       "    #T_74b74c26_026c_11ec_ae50_acbc32d61fab th {\n",
       "          text-align: left;\n",
       "    }#T_74b74c26_026c_11ec_ae50_acbc32d61fabrow0_col0,#T_74b74c26_026c_11ec_ae50_acbc32d61fabrow0_col2,#T_74b74c26_026c_11ec_ae50_acbc32d61fabrow0_col3,#T_74b74c26_026c_11ec_ae50_acbc32d61fabrow1_col0,#T_74b74c26_026c_11ec_ae50_acbc32d61fabrow1_col1,#T_74b74c26_026c_11ec_ae50_acbc32d61fabrow1_col2,#T_74b74c26_026c_11ec_ae50_acbc32d61fabrow1_col3,#T_74b74c26_026c_11ec_ae50_acbc32d61fabrow1_col4,#T_74b74c26_026c_11ec_ae50_acbc32d61fabrow1_col5,#T_74b74c26_026c_11ec_ae50_acbc32d61fabrow1_col6,#T_74b74c26_026c_11ec_ae50_acbc32d61fabrow1_col7,#T_74b74c26_026c_11ec_ae50_acbc32d61fabrow2_col0,#T_74b74c26_026c_11ec_ae50_acbc32d61fabrow2_col1,#T_74b74c26_026c_11ec_ae50_acbc32d61fabrow2_col2,#T_74b74c26_026c_11ec_ae50_acbc32d61fabrow2_col3,#T_74b74c26_026c_11ec_ae50_acbc32d61fabrow2_col4,#T_74b74c26_026c_11ec_ae50_acbc32d61fabrow2_col5,#T_74b74c26_026c_11ec_ae50_acbc32d61fabrow2_col6,#T_74b74c26_026c_11ec_ae50_acbc32d61fabrow2_col7,#T_74b74c26_026c_11ec_ae50_acbc32d61fabrow3_col0,#T_74b74c26_026c_11ec_ae50_acbc32d61fabrow3_col1,#T_74b74c26_026c_11ec_ae50_acbc32d61fabrow3_col2,#T_74b74c26_026c_11ec_ae50_acbc32d61fabrow3_col3,#T_74b74c26_026c_11ec_ae50_acbc32d61fabrow3_col4,#T_74b74c26_026c_11ec_ae50_acbc32d61fabrow3_col5,#T_74b74c26_026c_11ec_ae50_acbc32d61fabrow3_col6,#T_74b74c26_026c_11ec_ae50_acbc32d61fabrow3_col7,#T_74b74c26_026c_11ec_ae50_acbc32d61fabrow4_col0,#T_74b74c26_026c_11ec_ae50_acbc32d61fabrow4_col1,#T_74b74c26_026c_11ec_ae50_acbc32d61fabrow4_col2,#T_74b74c26_026c_11ec_ae50_acbc32d61fabrow4_col3,#T_74b74c26_026c_11ec_ae50_acbc32d61fabrow4_col4,#T_74b74c26_026c_11ec_ae50_acbc32d61fabrow4_col5,#T_74b74c26_026c_11ec_ae50_acbc32d61fabrow4_col6,#T_74b74c26_026c_11ec_ae50_acbc32d61fabrow4_col7,#T_74b74c26_026c_11ec_ae50_acbc32d61fabrow5_col0,#T_74b74c26_026c_11ec_ae50_acbc32d61fabrow5_col1,#T_74b74c26_026c_11ec_ae50_acbc32d61fabrow5_col3,#T_74b74c26_026c_11ec_ae50_acbc32d61fabrow5_col4,#T_74b74c26_026c_11ec_ae50_acbc32d61fabrow5_col5,#T_74b74c26_026c_11ec_ae50_acbc32d61fabrow5_col6,#T_74b74c26_026c_11ec_ae50_acbc32d61fabrow5_col7,#T_74b74c26_026c_11ec_ae50_acbc32d61fabrow6_col0,#T_74b74c26_026c_11ec_ae50_acbc32d61fabrow6_col1,#T_74b74c26_026c_11ec_ae50_acbc32d61fabrow6_col2,#T_74b74c26_026c_11ec_ae50_acbc32d61fabrow6_col4,#T_74b74c26_026c_11ec_ae50_acbc32d61fabrow6_col5,#T_74b74c26_026c_11ec_ae50_acbc32d61fabrow6_col6,#T_74b74c26_026c_11ec_ae50_acbc32d61fabrow6_col7,#T_74b74c26_026c_11ec_ae50_acbc32d61fabrow7_col0,#T_74b74c26_026c_11ec_ae50_acbc32d61fabrow7_col1,#T_74b74c26_026c_11ec_ae50_acbc32d61fabrow7_col2,#T_74b74c26_026c_11ec_ae50_acbc32d61fabrow7_col3,#T_74b74c26_026c_11ec_ae50_acbc32d61fabrow7_col4,#T_74b74c26_026c_11ec_ae50_acbc32d61fabrow7_col5,#T_74b74c26_026c_11ec_ae50_acbc32d61fabrow7_col6,#T_74b74c26_026c_11ec_ae50_acbc32d61fabrow7_col7,#T_74b74c26_026c_11ec_ae50_acbc32d61fabrow8_col0,#T_74b74c26_026c_11ec_ae50_acbc32d61fabrow8_col1,#T_74b74c26_026c_11ec_ae50_acbc32d61fabrow8_col2,#T_74b74c26_026c_11ec_ae50_acbc32d61fabrow8_col3,#T_74b74c26_026c_11ec_ae50_acbc32d61fabrow8_col4,#T_74b74c26_026c_11ec_ae50_acbc32d61fabrow8_col5,#T_74b74c26_026c_11ec_ae50_acbc32d61fabrow8_col6,#T_74b74c26_026c_11ec_ae50_acbc32d61fabrow8_col7,#T_74b74c26_026c_11ec_ae50_acbc32d61fabrow9_col0,#T_74b74c26_026c_11ec_ae50_acbc32d61fabrow9_col1,#T_74b74c26_026c_11ec_ae50_acbc32d61fabrow9_col2,#T_74b74c26_026c_11ec_ae50_acbc32d61fabrow9_col3,#T_74b74c26_026c_11ec_ae50_acbc32d61fabrow9_col4,#T_74b74c26_026c_11ec_ae50_acbc32d61fabrow9_col5,#T_74b74c26_026c_11ec_ae50_acbc32d61fabrow9_col6,#T_74b74c26_026c_11ec_ae50_acbc32d61fabrow9_col7,#T_74b74c26_026c_11ec_ae50_acbc32d61fabrow10_col0,#T_74b74c26_026c_11ec_ae50_acbc32d61fabrow10_col1,#T_74b74c26_026c_11ec_ae50_acbc32d61fabrow10_col2,#T_74b74c26_026c_11ec_ae50_acbc32d61fabrow10_col3,#T_74b74c26_026c_11ec_ae50_acbc32d61fabrow10_col4,#T_74b74c26_026c_11ec_ae50_acbc32d61fabrow10_col5,#T_74b74c26_026c_11ec_ae50_acbc32d61fabrow10_col6,#T_74b74c26_026c_11ec_ae50_acbc32d61fabrow10_col7,#T_74b74c26_026c_11ec_ae50_acbc32d61fabrow11_col0,#T_74b74c26_026c_11ec_ae50_acbc32d61fabrow11_col1,#T_74b74c26_026c_11ec_ae50_acbc32d61fabrow11_col2,#T_74b74c26_026c_11ec_ae50_acbc32d61fabrow11_col3,#T_74b74c26_026c_11ec_ae50_acbc32d61fabrow11_col4,#T_74b74c26_026c_11ec_ae50_acbc32d61fabrow11_col5,#T_74b74c26_026c_11ec_ae50_acbc32d61fabrow11_col6,#T_74b74c26_026c_11ec_ae50_acbc32d61fabrow11_col7,#T_74b74c26_026c_11ec_ae50_acbc32d61fabrow12_col0,#T_74b74c26_026c_11ec_ae50_acbc32d61fabrow12_col1,#T_74b74c26_026c_11ec_ae50_acbc32d61fabrow12_col2,#T_74b74c26_026c_11ec_ae50_acbc32d61fabrow12_col3,#T_74b74c26_026c_11ec_ae50_acbc32d61fabrow12_col4,#T_74b74c26_026c_11ec_ae50_acbc32d61fabrow12_col5,#T_74b74c26_026c_11ec_ae50_acbc32d61fabrow12_col6,#T_74b74c26_026c_11ec_ae50_acbc32d61fabrow12_col7,#T_74b74c26_026c_11ec_ae50_acbc32d61fabrow13_col0,#T_74b74c26_026c_11ec_ae50_acbc32d61fabrow13_col1,#T_74b74c26_026c_11ec_ae50_acbc32d61fabrow13_col2,#T_74b74c26_026c_11ec_ae50_acbc32d61fabrow13_col3,#T_74b74c26_026c_11ec_ae50_acbc32d61fabrow13_col4,#T_74b74c26_026c_11ec_ae50_acbc32d61fabrow13_col5,#T_74b74c26_026c_11ec_ae50_acbc32d61fabrow13_col6,#T_74b74c26_026c_11ec_ae50_acbc32d61fabrow13_col7,#T_74b74c26_026c_11ec_ae50_acbc32d61fabrow14_col0,#T_74b74c26_026c_11ec_ae50_acbc32d61fabrow14_col1,#T_74b74c26_026c_11ec_ae50_acbc32d61fabrow14_col2,#T_74b74c26_026c_11ec_ae50_acbc32d61fabrow14_col3,#T_74b74c26_026c_11ec_ae50_acbc32d61fabrow14_col4,#T_74b74c26_026c_11ec_ae50_acbc32d61fabrow14_col5,#T_74b74c26_026c_11ec_ae50_acbc32d61fabrow14_col6,#T_74b74c26_026c_11ec_ae50_acbc32d61fabrow14_col7{\n",
       "            text-align:  left;\n",
       "            text-align:  left;\n",
       "        }#T_74b74c26_026c_11ec_ae50_acbc32d61fabrow0_col1,#T_74b74c26_026c_11ec_ae50_acbc32d61fabrow0_col4,#T_74b74c26_026c_11ec_ae50_acbc32d61fabrow0_col5,#T_74b74c26_026c_11ec_ae50_acbc32d61fabrow0_col6,#T_74b74c26_026c_11ec_ae50_acbc32d61fabrow0_col7,#T_74b74c26_026c_11ec_ae50_acbc32d61fabrow5_col2,#T_74b74c26_026c_11ec_ae50_acbc32d61fabrow6_col3{\n",
       "            text-align:  left;\n",
       "            text-align:  left;\n",
       "            background-color:  yellow;\n",
       "        }#T_74b74c26_026c_11ec_ae50_acbc32d61fabrow0_col8,#T_74b74c26_026c_11ec_ae50_acbc32d61fabrow1_col8,#T_74b74c26_026c_11ec_ae50_acbc32d61fabrow2_col8,#T_74b74c26_026c_11ec_ae50_acbc32d61fabrow3_col8,#T_74b74c26_026c_11ec_ae50_acbc32d61fabrow4_col8,#T_74b74c26_026c_11ec_ae50_acbc32d61fabrow5_col8,#T_74b74c26_026c_11ec_ae50_acbc32d61fabrow6_col8,#T_74b74c26_026c_11ec_ae50_acbc32d61fabrow7_col8,#T_74b74c26_026c_11ec_ae50_acbc32d61fabrow8_col8,#T_74b74c26_026c_11ec_ae50_acbc32d61fabrow10_col8,#T_74b74c26_026c_11ec_ae50_acbc32d61fabrow11_col8,#T_74b74c26_026c_11ec_ae50_acbc32d61fabrow12_col8,#T_74b74c26_026c_11ec_ae50_acbc32d61fabrow13_col8,#T_74b74c26_026c_11ec_ae50_acbc32d61fabrow14_col8{\n",
       "            text-align:  left;\n",
       "            text-align:  left;\n",
       "            background-color:  lightgrey;\n",
       "        }#T_74b74c26_026c_11ec_ae50_acbc32d61fabrow9_col8{\n",
       "            text-align:  left;\n",
       "            text-align:  left;\n",
       "            background-color:  yellow;\n",
       "            background-color:  lightgrey;\n",
       "        }</style><table id=\"T_74b74c26_026c_11ec_ae50_acbc32d61fab\" ><thead>    <tr>        <th class=\"blank level0\" ></th>        <th class=\"col_heading level0 col0\" >Model</th>        <th class=\"col_heading level0 col1\" >Accuracy</th>        <th class=\"col_heading level0 col2\" >AUC</th>        <th class=\"col_heading level0 col3\" >Recall</th>        <th class=\"col_heading level0 col4\" >Prec.</th>        <th class=\"col_heading level0 col5\" >F1</th>        <th class=\"col_heading level0 col6\" >Kappa</th>        <th class=\"col_heading level0 col7\" >MCC</th>        <th class=\"col_heading level0 col8\" >TT (Sec)</th>    </tr></thead><tbody>\n",
       "                <tr>\n",
       "                        <th id=\"T_74b74c26_026c_11ec_ae50_acbc32d61fablevel0_row0\" class=\"row_heading level0 row0\" >rf</th>\n",
       "                        <td id=\"T_74b74c26_026c_11ec_ae50_acbc32d61fabrow0_col0\" class=\"data row0 col0\" >Random Forest Classifier</td>\n",
       "                        <td id=\"T_74b74c26_026c_11ec_ae50_acbc32d61fabrow0_col1\" class=\"data row0 col1\" >0.7482</td>\n",
       "                        <td id=\"T_74b74c26_026c_11ec_ae50_acbc32d61fabrow0_col2\" class=\"data row0 col2\" >0.8767</td>\n",
       "                        <td id=\"T_74b74c26_026c_11ec_ae50_acbc32d61fabrow0_col3\" class=\"data row0 col3\" >0.5353</td>\n",
       "                        <td id=\"T_74b74c26_026c_11ec_ae50_acbc32d61fabrow0_col4\" class=\"data row0 col4\" >0.7300</td>\n",
       "                        <td id=\"T_74b74c26_026c_11ec_ae50_acbc32d61fabrow0_col5\" class=\"data row0 col5\" >0.7343</td>\n",
       "                        <td id=\"T_74b74c26_026c_11ec_ae50_acbc32d61fabrow0_col6\" class=\"data row0 col6\" >0.5406</td>\n",
       "                        <td id=\"T_74b74c26_026c_11ec_ae50_acbc32d61fabrow0_col7\" class=\"data row0 col7\" >0.5451</td>\n",
       "                        <td id=\"T_74b74c26_026c_11ec_ae50_acbc32d61fabrow0_col8\" class=\"data row0 col8\" >0.3950</td>\n",
       "            </tr>\n",
       "            <tr>\n",
       "                        <th id=\"T_74b74c26_026c_11ec_ae50_acbc32d61fablevel0_row1\" class=\"row_heading level0 row1\" >catboost</th>\n",
       "                        <td id=\"T_74b74c26_026c_11ec_ae50_acbc32d61fabrow1_col0\" class=\"data row1 col0\" >CatBoost Classifier</td>\n",
       "                        <td id=\"T_74b74c26_026c_11ec_ae50_acbc32d61fabrow1_col1\" class=\"data row1 col1\" >0.7402</td>\n",
       "                        <td id=\"T_74b74c26_026c_11ec_ae50_acbc32d61fabrow1_col2\" class=\"data row1 col2\" >0.8707</td>\n",
       "                        <td id=\"T_74b74c26_026c_11ec_ae50_acbc32d61fabrow1_col3\" class=\"data row1 col3\" >0.5204</td>\n",
       "                        <td id=\"T_74b74c26_026c_11ec_ae50_acbc32d61fabrow1_col4\" class=\"data row1 col4\" >0.7228</td>\n",
       "                        <td id=\"T_74b74c26_026c_11ec_ae50_acbc32d61fabrow1_col5\" class=\"data row1 col5\" >0.7282</td>\n",
       "                        <td id=\"T_74b74c26_026c_11ec_ae50_acbc32d61fabrow1_col6\" class=\"data row1 col6\" >0.5286</td>\n",
       "                        <td id=\"T_74b74c26_026c_11ec_ae50_acbc32d61fabrow1_col7\" class=\"data row1 col7\" >0.5320</td>\n",
       "                        <td id=\"T_74b74c26_026c_11ec_ae50_acbc32d61fabrow1_col8\" class=\"data row1 col8\" >4.9200</td>\n",
       "            </tr>\n",
       "            <tr>\n",
       "                        <th id=\"T_74b74c26_026c_11ec_ae50_acbc32d61fablevel0_row2\" class=\"row_heading level0 row2\" >gbc</th>\n",
       "                        <td id=\"T_74b74c26_026c_11ec_ae50_acbc32d61fabrow2_col0\" class=\"data row2 col0\" >Gradient Boosting Classifier</td>\n",
       "                        <td id=\"T_74b74c26_026c_11ec_ae50_acbc32d61fabrow2_col1\" class=\"data row2 col1\" >0.7382</td>\n",
       "                        <td id=\"T_74b74c26_026c_11ec_ae50_acbc32d61fabrow2_col2\" class=\"data row2 col2\" >0.8754</td>\n",
       "                        <td id=\"T_74b74c26_026c_11ec_ae50_acbc32d61fabrow2_col3\" class=\"data row2 col3\" >0.5369</td>\n",
       "                        <td id=\"T_74b74c26_026c_11ec_ae50_acbc32d61fabrow2_col4\" class=\"data row2 col4\" >0.7203</td>\n",
       "                        <td id=\"T_74b74c26_026c_11ec_ae50_acbc32d61fabrow2_col5\" class=\"data row2 col5\" >0.7255</td>\n",
       "                        <td id=\"T_74b74c26_026c_11ec_ae50_acbc32d61fabrow2_col6\" class=\"data row2 col6\" >0.5247</td>\n",
       "                        <td id=\"T_74b74c26_026c_11ec_ae50_acbc32d61fabrow2_col7\" class=\"data row2 col7\" >0.5287</td>\n",
       "                        <td id=\"T_74b74c26_026c_11ec_ae50_acbc32d61fabrow2_col8\" class=\"data row2 col8\" >0.8190</td>\n",
       "            </tr>\n",
       "            <tr>\n",
       "                        <th id=\"T_74b74c26_026c_11ec_ae50_acbc32d61fablevel0_row3\" class=\"row_heading level0 row3\" >et</th>\n",
       "                        <td id=\"T_74b74c26_026c_11ec_ae50_acbc32d61fabrow3_col0\" class=\"data row3 col0\" >Extra Trees Classifier</td>\n",
       "                        <td id=\"T_74b74c26_026c_11ec_ae50_acbc32d61fabrow3_col1\" class=\"data row3 col1\" >0.7368</td>\n",
       "                        <td id=\"T_74b74c26_026c_11ec_ae50_acbc32d61fabrow3_col2\" class=\"data row3 col2\" >0.8708</td>\n",
       "                        <td id=\"T_74b74c26_026c_11ec_ae50_acbc32d61fabrow3_col3\" class=\"data row3 col3\" >0.5141</td>\n",
       "                        <td id=\"T_74b74c26_026c_11ec_ae50_acbc32d61fabrow3_col4\" class=\"data row3 col4\" >0.7189</td>\n",
       "                        <td id=\"T_74b74c26_026c_11ec_ae50_acbc32d61fabrow3_col5\" class=\"data row3 col5\" >0.7235</td>\n",
       "                        <td id=\"T_74b74c26_026c_11ec_ae50_acbc32d61fabrow3_col6\" class=\"data row3 col6\" >0.5204</td>\n",
       "                        <td id=\"T_74b74c26_026c_11ec_ae50_acbc32d61fabrow3_col7\" class=\"data row3 col7\" >0.5240</td>\n",
       "                        <td id=\"T_74b74c26_026c_11ec_ae50_acbc32d61fabrow3_col8\" class=\"data row3 col8\" >0.2960</td>\n",
       "            </tr>\n",
       "            <tr>\n",
       "                        <th id=\"T_74b74c26_026c_11ec_ae50_acbc32d61fablevel0_row4\" class=\"row_heading level0 row4\" >xgboost</th>\n",
       "                        <td id=\"T_74b74c26_026c_11ec_ae50_acbc32d61fabrow4_col0\" class=\"data row4 col0\" >Extreme Gradient Boosting</td>\n",
       "                        <td id=\"T_74b74c26_026c_11ec_ae50_acbc32d61fabrow4_col1\" class=\"data row4 col1\" >0.7353</td>\n",
       "                        <td id=\"T_74b74c26_026c_11ec_ae50_acbc32d61fabrow4_col2\" class=\"data row4 col2\" >0.8621</td>\n",
       "                        <td id=\"T_74b74c26_026c_11ec_ae50_acbc32d61fabrow4_col3\" class=\"data row4 col3\" >0.5806</td>\n",
       "                        <td id=\"T_74b74c26_026c_11ec_ae50_acbc32d61fabrow4_col4\" class=\"data row4 col4\" >0.7223</td>\n",
       "                        <td id=\"T_74b74c26_026c_11ec_ae50_acbc32d61fabrow4_col5\" class=\"data row4 col5\" >0.7257</td>\n",
       "                        <td id=\"T_74b74c26_026c_11ec_ae50_acbc32d61fabrow4_col6\" class=\"data row4 col6\" >0.5223</td>\n",
       "                        <td id=\"T_74b74c26_026c_11ec_ae50_acbc32d61fabrow4_col7\" class=\"data row4 col7\" >0.5248</td>\n",
       "                        <td id=\"T_74b74c26_026c_11ec_ae50_acbc32d61fabrow4_col8\" class=\"data row4 col8\" >1.6850</td>\n",
       "            </tr>\n",
       "            <tr>\n",
       "                        <th id=\"T_74b74c26_026c_11ec_ae50_acbc32d61fablevel0_row5\" class=\"row_heading level0 row5\" >lr</th>\n",
       "                        <td id=\"T_74b74c26_026c_11ec_ae50_acbc32d61fabrow5_col0\" class=\"data row5 col0\" >Logistic Regression</td>\n",
       "                        <td id=\"T_74b74c26_026c_11ec_ae50_acbc32d61fabrow5_col1\" class=\"data row5 col1\" >0.7318</td>\n",
       "                        <td id=\"T_74b74c26_026c_11ec_ae50_acbc32d61fabrow5_col2\" class=\"data row5 col2\" >0.8778</td>\n",
       "                        <td id=\"T_74b74c26_026c_11ec_ae50_acbc32d61fabrow5_col3\" class=\"data row5 col3\" >0.5412</td>\n",
       "                        <td id=\"T_74b74c26_026c_11ec_ae50_acbc32d61fabrow5_col4\" class=\"data row5 col4\" >0.7055</td>\n",
       "                        <td id=\"T_74b74c26_026c_11ec_ae50_acbc32d61fabrow5_col5\" class=\"data row5 col5\" >0.7100</td>\n",
       "                        <td id=\"T_74b74c26_026c_11ec_ae50_acbc32d61fabrow5_col6\" class=\"data row5 col6\" >0.5011</td>\n",
       "                        <td id=\"T_74b74c26_026c_11ec_ae50_acbc32d61fabrow5_col7\" class=\"data row5 col7\" >0.5094</td>\n",
       "                        <td id=\"T_74b74c26_026c_11ec_ae50_acbc32d61fabrow5_col8\" class=\"data row5 col8\" >0.6210</td>\n",
       "            </tr>\n",
       "            <tr>\n",
       "                        <th id=\"T_74b74c26_026c_11ec_ae50_acbc32d61fablevel0_row6\" class=\"row_heading level0 row6\" >lda</th>\n",
       "                        <td id=\"T_74b74c26_026c_11ec_ae50_acbc32d61fabrow6_col0\" class=\"data row6 col0\" >Linear Discriminant Analysis</td>\n",
       "                        <td id=\"T_74b74c26_026c_11ec_ae50_acbc32d61fabrow6_col1\" class=\"data row6 col1\" >0.7293</td>\n",
       "                        <td id=\"T_74b74c26_026c_11ec_ae50_acbc32d61fabrow6_col2\" class=\"data row6 col2\" >0.8611</td>\n",
       "                        <td id=\"T_74b74c26_026c_11ec_ae50_acbc32d61fabrow6_col3\" class=\"data row6 col3\" >0.6238</td>\n",
       "                        <td id=\"T_74b74c26_026c_11ec_ae50_acbc32d61fabrow6_col4\" class=\"data row6 col4\" >0.7048</td>\n",
       "                        <td id=\"T_74b74c26_026c_11ec_ae50_acbc32d61fabrow6_col5\" class=\"data row6 col5\" >0.7069</td>\n",
       "                        <td id=\"T_74b74c26_026c_11ec_ae50_acbc32d61fabrow6_col6\" class=\"data row6 col6\" >0.4964</td>\n",
       "                        <td id=\"T_74b74c26_026c_11ec_ae50_acbc32d61fabrow6_col7\" class=\"data row6 col7\" >0.5083</td>\n",
       "                        <td id=\"T_74b74c26_026c_11ec_ae50_acbc32d61fabrow6_col8\" class=\"data row6 col8\" >0.0190</td>\n",
       "            </tr>\n",
       "            <tr>\n",
       "                        <th id=\"T_74b74c26_026c_11ec_ae50_acbc32d61fablevel0_row7\" class=\"row_heading level0 row7\" >qda</th>\n",
       "                        <td id=\"T_74b74c26_026c_11ec_ae50_acbc32d61fabrow7_col0\" class=\"data row7 col0\" >Quadratic Discriminant Analysis</td>\n",
       "                        <td id=\"T_74b74c26_026c_11ec_ae50_acbc32d61fabrow7_col1\" class=\"data row7 col1\" >0.7253</td>\n",
       "                        <td id=\"T_74b74c26_026c_11ec_ae50_acbc32d61fabrow7_col2\" class=\"data row7 col2\" >0.8625</td>\n",
       "                        <td id=\"T_74b74c26_026c_11ec_ae50_acbc32d61fabrow7_col3\" class=\"data row7 col3\" >0.4506</td>\n",
       "                        <td id=\"T_74b74c26_026c_11ec_ae50_acbc32d61fabrow7_col4\" class=\"data row7 col4\" >0.6983</td>\n",
       "                        <td id=\"T_74b74c26_026c_11ec_ae50_acbc32d61fabrow7_col5\" class=\"data row7 col5\" >0.7031</td>\n",
       "                        <td id=\"T_74b74c26_026c_11ec_ae50_acbc32d61fabrow7_col6\" class=\"data row7 col6\" >0.4874</td>\n",
       "                        <td id=\"T_74b74c26_026c_11ec_ae50_acbc32d61fabrow7_col7\" class=\"data row7 col7\" >0.4983</td>\n",
       "                        <td id=\"T_74b74c26_026c_11ec_ae50_acbc32d61fabrow7_col8\" class=\"data row7 col8\" >0.0350</td>\n",
       "            </tr>\n",
       "            <tr>\n",
       "                        <th id=\"T_74b74c26_026c_11ec_ae50_acbc32d61fablevel0_row8\" class=\"row_heading level0 row8\" >lightgbm</th>\n",
       "                        <td id=\"T_74b74c26_026c_11ec_ae50_acbc32d61fabrow8_col0\" class=\"data row8 col0\" >Light Gradient Boosting Machine</td>\n",
       "                        <td id=\"T_74b74c26_026c_11ec_ae50_acbc32d61fabrow8_col1\" class=\"data row8 col1\" >0.7253</td>\n",
       "                        <td id=\"T_74b74c26_026c_11ec_ae50_acbc32d61fabrow8_col2\" class=\"data row8 col2\" >0.8607</td>\n",
       "                        <td id=\"T_74b74c26_026c_11ec_ae50_acbc32d61fabrow8_col3\" class=\"data row8 col3\" >0.5450</td>\n",
       "                        <td id=\"T_74b74c26_026c_11ec_ae50_acbc32d61fabrow8_col4\" class=\"data row8 col4\" >0.7106</td>\n",
       "                        <td id=\"T_74b74c26_026c_11ec_ae50_acbc32d61fabrow8_col5\" class=\"data row8 col5\" >0.7150</td>\n",
       "                        <td id=\"T_74b74c26_026c_11ec_ae50_acbc32d61fabrow8_col6\" class=\"data row8 col6\" >0.5044</td>\n",
       "                        <td id=\"T_74b74c26_026c_11ec_ae50_acbc32d61fabrow8_col7\" class=\"data row8 col7\" >0.5068</td>\n",
       "                        <td id=\"T_74b74c26_026c_11ec_ae50_acbc32d61fabrow8_col8\" class=\"data row8 col8\" >1.6560</td>\n",
       "            </tr>\n",
       "            <tr>\n",
       "                        <th id=\"T_74b74c26_026c_11ec_ae50_acbc32d61fablevel0_row9\" class=\"row_heading level0 row9\" >nb</th>\n",
       "                        <td id=\"T_74b74c26_026c_11ec_ae50_acbc32d61fabrow9_col0\" class=\"data row9 col0\" >Naive Bayes</td>\n",
       "                        <td id=\"T_74b74c26_026c_11ec_ae50_acbc32d61fabrow9_col1\" class=\"data row9 col1\" >0.7224</td>\n",
       "                        <td id=\"T_74b74c26_026c_11ec_ae50_acbc32d61fabrow9_col2\" class=\"data row9 col2\" >0.8632</td>\n",
       "                        <td id=\"T_74b74c26_026c_11ec_ae50_acbc32d61fabrow9_col3\" class=\"data row9 col3\" >0.6181</td>\n",
       "                        <td id=\"T_74b74c26_026c_11ec_ae50_acbc32d61fabrow9_col4\" class=\"data row9 col4\" >0.6975</td>\n",
       "                        <td id=\"T_74b74c26_026c_11ec_ae50_acbc32d61fabrow9_col5\" class=\"data row9 col5\" >0.6983</td>\n",
       "                        <td id=\"T_74b74c26_026c_11ec_ae50_acbc32d61fabrow9_col6\" class=\"data row9 col6\" >0.4820</td>\n",
       "                        <td id=\"T_74b74c26_026c_11ec_ae50_acbc32d61fabrow9_col7\" class=\"data row9 col7\" >0.4944</td>\n",
       "                        <td id=\"T_74b74c26_026c_11ec_ae50_acbc32d61fabrow9_col8\" class=\"data row9 col8\" >0.0180</td>\n",
       "            </tr>\n",
       "            <tr>\n",
       "                        <th id=\"T_74b74c26_026c_11ec_ae50_acbc32d61fablevel0_row10\" class=\"row_heading level0 row10\" >ridge</th>\n",
       "                        <td id=\"T_74b74c26_026c_11ec_ae50_acbc32d61fabrow10_col0\" class=\"data row10 col0\" >Ridge Classifier</td>\n",
       "                        <td id=\"T_74b74c26_026c_11ec_ae50_acbc32d61fabrow10_col1\" class=\"data row10 col1\" >0.7125</td>\n",
       "                        <td id=\"T_74b74c26_026c_11ec_ae50_acbc32d61fabrow10_col2\" class=\"data row10 col2\" >0.0000</td>\n",
       "                        <td id=\"T_74b74c26_026c_11ec_ae50_acbc32d61fabrow10_col3\" class=\"data row10 col3\" >0.4860</td>\n",
       "                        <td id=\"T_74b74c26_026c_11ec_ae50_acbc32d61fabrow10_col4\" class=\"data row10 col4\" >0.6797</td>\n",
       "                        <td id=\"T_74b74c26_026c_11ec_ae50_acbc32d61fabrow10_col5\" class=\"data row10 col5\" >0.6783</td>\n",
       "                        <td id=\"T_74b74c26_026c_11ec_ae50_acbc32d61fabrow10_col6\" class=\"data row10 col6\" >0.4477</td>\n",
       "                        <td id=\"T_74b74c26_026c_11ec_ae50_acbc32d61fabrow10_col7\" class=\"data row10 col7\" >0.4655</td>\n",
       "                        <td id=\"T_74b74c26_026c_11ec_ae50_acbc32d61fabrow10_col8\" class=\"data row10 col8\" >0.0330</td>\n",
       "            </tr>\n",
       "            <tr>\n",
       "                        <th id=\"T_74b74c26_026c_11ec_ae50_acbc32d61fablevel0_row11\" class=\"row_heading level0 row11\" >svm</th>\n",
       "                        <td id=\"T_74b74c26_026c_11ec_ae50_acbc32d61fabrow11_col0\" class=\"data row11 col0\" >SVM - Linear Kernel</td>\n",
       "                        <td id=\"T_74b74c26_026c_11ec_ae50_acbc32d61fabrow11_col1\" class=\"data row11 col1\" >0.7115</td>\n",
       "                        <td id=\"T_74b74c26_026c_11ec_ae50_acbc32d61fabrow11_col2\" class=\"data row11 col2\" >0.0000</td>\n",
       "                        <td id=\"T_74b74c26_026c_11ec_ae50_acbc32d61fabrow11_col3\" class=\"data row11 col3\" >0.5218</td>\n",
       "                        <td id=\"T_74b74c26_026c_11ec_ae50_acbc32d61fabrow11_col4\" class=\"data row11 col4\" >0.6809</td>\n",
       "                        <td id=\"T_74b74c26_026c_11ec_ae50_acbc32d61fabrow11_col5\" class=\"data row11 col5\" >0.6816</td>\n",
       "                        <td id=\"T_74b74c26_026c_11ec_ae50_acbc32d61fabrow11_col6\" class=\"data row11 col6\" >0.4637</td>\n",
       "                        <td id=\"T_74b74c26_026c_11ec_ae50_acbc32d61fabrow11_col7\" class=\"data row11 col7\" >0.4758</td>\n",
       "                        <td id=\"T_74b74c26_026c_11ec_ae50_acbc32d61fabrow11_col8\" class=\"data row11 col8\" >0.0270</td>\n",
       "            </tr>\n",
       "            <tr>\n",
       "                        <th id=\"T_74b74c26_026c_11ec_ae50_acbc32d61fablevel0_row12\" class=\"row_heading level0 row12\" >knn</th>\n",
       "                        <td id=\"T_74b74c26_026c_11ec_ae50_acbc32d61fabrow12_col0\" class=\"data row12 col0\" >K Neighbors Classifier</td>\n",
       "                        <td id=\"T_74b74c26_026c_11ec_ae50_acbc32d61fabrow12_col1\" class=\"data row12 col1\" >0.7075</td>\n",
       "                        <td id=\"T_74b74c26_026c_11ec_ae50_acbc32d61fabrow12_col2\" class=\"data row12 col2\" >0.8248</td>\n",
       "                        <td id=\"T_74b74c26_026c_11ec_ae50_acbc32d61fabrow12_col3\" class=\"data row12 col3\" >0.4693</td>\n",
       "                        <td id=\"T_74b74c26_026c_11ec_ae50_acbc32d61fabrow12_col4\" class=\"data row12 col4\" >0.6802</td>\n",
       "                        <td id=\"T_74b74c26_026c_11ec_ae50_acbc32d61fabrow12_col5\" class=\"data row12 col5\" >0.6860</td>\n",
       "                        <td id=\"T_74b74c26_026c_11ec_ae50_acbc32d61fabrow12_col6\" class=\"data row12 col6\" >0.4557</td>\n",
       "                        <td id=\"T_74b74c26_026c_11ec_ae50_acbc32d61fabrow12_col7\" class=\"data row12 col7\" >0.4639</td>\n",
       "                        <td id=\"T_74b74c26_026c_11ec_ae50_acbc32d61fabrow12_col8\" class=\"data row12 col8\" >0.0440</td>\n",
       "            </tr>\n",
       "            <tr>\n",
       "                        <th id=\"T_74b74c26_026c_11ec_ae50_acbc32d61fablevel0_row13\" class=\"row_heading level0 row13\" >ada</th>\n",
       "                        <td id=\"T_74b74c26_026c_11ec_ae50_acbc32d61fabrow13_col0\" class=\"data row13 col0\" >Ada Boost Classifier</td>\n",
       "                        <td id=\"T_74b74c26_026c_11ec_ae50_acbc32d61fabrow13_col1\" class=\"data row13 col1\" >0.7020</td>\n",
       "                        <td id=\"T_74b74c26_026c_11ec_ae50_acbc32d61fabrow13_col2\" class=\"data row13 col2\" >0.8166</td>\n",
       "                        <td id=\"T_74b74c26_026c_11ec_ae50_acbc32d61fabrow13_col3\" class=\"data row13 col3\" >0.5024</td>\n",
       "                        <td id=\"T_74b74c26_026c_11ec_ae50_acbc32d61fabrow13_col4\" class=\"data row13 col4\" >0.6617</td>\n",
       "                        <td id=\"T_74b74c26_026c_11ec_ae50_acbc32d61fabrow13_col5\" class=\"data row13 col5\" >0.6542</td>\n",
       "                        <td id=\"T_74b74c26_026c_11ec_ae50_acbc32d61fabrow13_col6\" class=\"data row13 col6\" >0.4291</td>\n",
       "                        <td id=\"T_74b74c26_026c_11ec_ae50_acbc32d61fabrow13_col7\" class=\"data row13 col7\" >0.4633</td>\n",
       "                        <td id=\"T_74b74c26_026c_11ec_ae50_acbc32d61fabrow13_col8\" class=\"data row13 col8\" >0.2380</td>\n",
       "            </tr>\n",
       "            <tr>\n",
       "                        <th id=\"T_74b74c26_026c_11ec_ae50_acbc32d61fablevel0_row14\" class=\"row_heading level0 row14\" >dt</th>\n",
       "                        <td id=\"T_74b74c26_026c_11ec_ae50_acbc32d61fabrow14_col0\" class=\"data row14 col0\" >Decision Tree Classifier</td>\n",
       "                        <td id=\"T_74b74c26_026c_11ec_ae50_acbc32d61fabrow14_col1\" class=\"data row14 col1\" >0.6797</td>\n",
       "                        <td id=\"T_74b74c26_026c_11ec_ae50_acbc32d61fabrow14_col2\" class=\"data row14 col2\" >0.7379</td>\n",
       "                        <td id=\"T_74b74c26_026c_11ec_ae50_acbc32d61fabrow14_col3\" class=\"data row14 col3\" >0.4784</td>\n",
       "                        <td id=\"T_74b74c26_026c_11ec_ae50_acbc32d61fabrow14_col4\" class=\"data row14 col4\" >0.6759</td>\n",
       "                        <td id=\"T_74b74c26_026c_11ec_ae50_acbc32d61fabrow14_col5\" class=\"data row14 col5\" >0.6767</td>\n",
       "                        <td id=\"T_74b74c26_026c_11ec_ae50_acbc32d61fabrow14_col6\" class=\"data row14 col6\" >0.4375</td>\n",
       "                        <td id=\"T_74b74c26_026c_11ec_ae50_acbc32d61fabrow14_col7\" class=\"data row14 col7\" >0.4384</td>\n",
       "                        <td id=\"T_74b74c26_026c_11ec_ae50_acbc32d61fabrow14_col8\" class=\"data row14 col8\" >0.0330</td>\n",
       "            </tr>\n",
       "    </tbody></table>"
      ],
      "text/plain": [
       "<pandas.io.formats.style.Styler at 0x7f8398bc9b50>"
      ]
     },
     "metadata": {},
     "output_type": "display_data"
    }
   ],
   "source": [
    "best_5 = compare_models(sort = 'Accuracy', n_select = 5)"
   ]
  },
  {
   "cell_type": "code",
   "execution_count": 159,
   "metadata": {},
   "outputs": [
    {
     "data": {
      "text/html": [
       "<style  type=\"text/css\" >\n",
       "#T_8add054a_01ef_11ec_ae50_acbc32d61fabrow5_col0,#T_8add054a_01ef_11ec_ae50_acbc32d61fabrow5_col1,#T_8add054a_01ef_11ec_ae50_acbc32d61fabrow5_col2,#T_8add054a_01ef_11ec_ae50_acbc32d61fabrow5_col3,#T_8add054a_01ef_11ec_ae50_acbc32d61fabrow5_col4,#T_8add054a_01ef_11ec_ae50_acbc32d61fabrow5_col5,#T_8add054a_01ef_11ec_ae50_acbc32d61fabrow5_col6{\n",
       "            background:  yellow;\n",
       "        }</style><table id=\"T_8add054a_01ef_11ec_ae50_acbc32d61fab\" ><thead>    <tr>        <th class=\"blank level0\" ></th>        <th class=\"col_heading level0 col0\" >Accuracy</th>        <th class=\"col_heading level0 col1\" >AUC</th>        <th class=\"col_heading level0 col2\" >Recall</th>        <th class=\"col_heading level0 col3\" >Prec.</th>        <th class=\"col_heading level0 col4\" >F1</th>        <th class=\"col_heading level0 col5\" >Kappa</th>        <th class=\"col_heading level0 col6\" >MCC</th>    </tr></thead><tbody>\n",
       "                <tr>\n",
       "                        <th id=\"T_8add054a_01ef_11ec_ae50_acbc32d61fablevel0_row0\" class=\"row_heading level0 row0\" >0</th>\n",
       "                        <td id=\"T_8add054a_01ef_11ec_ae50_acbc32d61fabrow0_col0\" class=\"data row0 col0\" >0.7599</td>\n",
       "                        <td id=\"T_8add054a_01ef_11ec_ae50_acbc32d61fabrow0_col1\" class=\"data row0 col1\" >0.8861</td>\n",
       "                        <td id=\"T_8add054a_01ef_11ec_ae50_acbc32d61fabrow0_col2\" class=\"data row0 col2\" >0.5617</td>\n",
       "                        <td id=\"T_8add054a_01ef_11ec_ae50_acbc32d61fabrow0_col3\" class=\"data row0 col3\" >0.7448</td>\n",
       "                        <td id=\"T_8add054a_01ef_11ec_ae50_acbc32d61fabrow0_col4\" class=\"data row0 col4\" >0.7463</td>\n",
       "                        <td id=\"T_8add054a_01ef_11ec_ae50_acbc32d61fabrow0_col5\" class=\"data row0 col5\" >0.5596</td>\n",
       "                        <td id=\"T_8add054a_01ef_11ec_ae50_acbc32d61fabrow0_col6\" class=\"data row0 col6\" >0.5649</td>\n",
       "            </tr>\n",
       "            <tr>\n",
       "                        <th id=\"T_8add054a_01ef_11ec_ae50_acbc32d61fablevel0_row1\" class=\"row_heading level0 row1\" >1</th>\n",
       "                        <td id=\"T_8add054a_01ef_11ec_ae50_acbc32d61fabrow1_col0\" class=\"data row1 col0\" >0.7178</td>\n",
       "                        <td id=\"T_8add054a_01ef_11ec_ae50_acbc32d61fabrow1_col1\" class=\"data row1 col1\" >0.8593</td>\n",
       "                        <td id=\"T_8add054a_01ef_11ec_ae50_acbc32d61fabrow1_col2\" class=\"data row1 col2\" >0.5171</td>\n",
       "                        <td id=\"T_8add054a_01ef_11ec_ae50_acbc32d61fabrow1_col3\" class=\"data row1 col3\" >0.6916</td>\n",
       "                        <td id=\"T_8add054a_01ef_11ec_ae50_acbc32d61fabrow1_col4\" class=\"data row1 col4\" >0.7001</td>\n",
       "                        <td id=\"T_8add054a_01ef_11ec_ae50_acbc32d61fabrow1_col5\" class=\"data row1 col5\" >0.4840</td>\n",
       "                        <td id=\"T_8add054a_01ef_11ec_ae50_acbc32d61fabrow1_col6\" class=\"data row1 col6\" >0.4893</td>\n",
       "            </tr>\n",
       "            <tr>\n",
       "                        <th id=\"T_8add054a_01ef_11ec_ae50_acbc32d61fablevel0_row2\" class=\"row_heading level0 row2\" >2</th>\n",
       "                        <td id=\"T_8add054a_01ef_11ec_ae50_acbc32d61fabrow2_col0\" class=\"data row2 col0\" >0.7270</td>\n",
       "                        <td id=\"T_8add054a_01ef_11ec_ae50_acbc32d61fabrow2_col1\" class=\"data row2 col1\" >0.8698</td>\n",
       "                        <td id=\"T_8add054a_01ef_11ec_ae50_acbc32d61fabrow2_col2\" class=\"data row2 col2\" >0.4608</td>\n",
       "                        <td id=\"T_8add054a_01ef_11ec_ae50_acbc32d61fabrow2_col3\" class=\"data row2 col3\" >0.7092</td>\n",
       "                        <td id=\"T_8add054a_01ef_11ec_ae50_acbc32d61fabrow2_col4\" class=\"data row2 col4\" >0.7150</td>\n",
       "                        <td id=\"T_8add054a_01ef_11ec_ae50_acbc32d61fabrow2_col5\" class=\"data row2 col5\" >0.5030</td>\n",
       "                        <td id=\"T_8add054a_01ef_11ec_ae50_acbc32d61fabrow2_col6\" class=\"data row2 col6\" >0.5059</td>\n",
       "            </tr>\n",
       "            <tr>\n",
       "                        <th id=\"T_8add054a_01ef_11ec_ae50_acbc32d61fablevel0_row3\" class=\"row_heading level0 row3\" >3</th>\n",
       "                        <td id=\"T_8add054a_01ef_11ec_ae50_acbc32d61fabrow3_col0\" class=\"data row3 col0\" >0.7866</td>\n",
       "                        <td id=\"T_8add054a_01ef_11ec_ae50_acbc32d61fabrow3_col1\" class=\"data row3 col1\" >0.9027</td>\n",
       "                        <td id=\"T_8add054a_01ef_11ec_ae50_acbc32d61fabrow3_col2\" class=\"data row3 col2\" >0.7691</td>\n",
       "                        <td id=\"T_8add054a_01ef_11ec_ae50_acbc32d61fabrow3_col3\" class=\"data row3 col3\" >0.7836</td>\n",
       "                        <td id=\"T_8add054a_01ef_11ec_ae50_acbc32d61fabrow3_col4\" class=\"data row3 col4\" >0.7833</td>\n",
       "                        <td id=\"T_8add054a_01ef_11ec_ae50_acbc32d61fabrow3_col5\" class=\"data row3 col5\" >0.6224</td>\n",
       "                        <td id=\"T_8add054a_01ef_11ec_ae50_acbc32d61fabrow3_col6\" class=\"data row3 col6\" >0.6233</td>\n",
       "            </tr>\n",
       "            <tr>\n",
       "                        <th id=\"T_8add054a_01ef_11ec_ae50_acbc32d61fablevel0_row4\" class=\"row_heading level0 row4\" >4</th>\n",
       "                        <td id=\"T_8add054a_01ef_11ec_ae50_acbc32d61fabrow4_col0\" class=\"data row4 col0\" >0.7370</td>\n",
       "                        <td id=\"T_8add054a_01ef_11ec_ae50_acbc32d61fabrow4_col1\" class=\"data row4 col1\" >0.8638</td>\n",
       "                        <td id=\"T_8add054a_01ef_11ec_ae50_acbc32d61fabrow4_col2\" class=\"data row4 col2\" >0.4673</td>\n",
       "                        <td id=\"T_8add054a_01ef_11ec_ae50_acbc32d61fabrow4_col3\" class=\"data row4 col3\" >0.7136</td>\n",
       "                        <td id=\"T_8add054a_01ef_11ec_ae50_acbc32d61fabrow4_col4\" class=\"data row4 col4\" >0.7219</td>\n",
       "                        <td id=\"T_8add054a_01ef_11ec_ae50_acbc32d61fabrow4_col5\" class=\"data row4 col5\" >0.5186</td>\n",
       "                        <td id=\"T_8add054a_01ef_11ec_ae50_acbc32d61fabrow4_col6\" class=\"data row4 col6\" >0.5229</td>\n",
       "            </tr>\n",
       "            <tr>\n",
       "                        <th id=\"T_8add054a_01ef_11ec_ae50_acbc32d61fablevel0_row5\" class=\"row_heading level0 row5\" >Mean</th>\n",
       "                        <td id=\"T_8add054a_01ef_11ec_ae50_acbc32d61fabrow5_col0\" class=\"data row5 col0\" >0.7457</td>\n",
       "                        <td id=\"T_8add054a_01ef_11ec_ae50_acbc32d61fabrow5_col1\" class=\"data row5 col1\" >0.8764</td>\n",
       "                        <td id=\"T_8add054a_01ef_11ec_ae50_acbc32d61fabrow5_col2\" class=\"data row5 col2\" >0.5552</td>\n",
       "                        <td id=\"T_8add054a_01ef_11ec_ae50_acbc32d61fabrow5_col3\" class=\"data row5 col3\" >0.7286</td>\n",
       "                        <td id=\"T_8add054a_01ef_11ec_ae50_acbc32d61fabrow5_col4\" class=\"data row5 col4\" >0.7333</td>\n",
       "                        <td id=\"T_8add054a_01ef_11ec_ae50_acbc32d61fabrow5_col5\" class=\"data row5 col5\" >0.5375</td>\n",
       "                        <td id=\"T_8add054a_01ef_11ec_ae50_acbc32d61fabrow5_col6\" class=\"data row5 col6\" >0.5413</td>\n",
       "            </tr>\n",
       "            <tr>\n",
       "                        <th id=\"T_8add054a_01ef_11ec_ae50_acbc32d61fablevel0_row6\" class=\"row_heading level0 row6\" >SD</th>\n",
       "                        <td id=\"T_8add054a_01ef_11ec_ae50_acbc32d61fabrow6_col0\" class=\"data row6 col0\" >0.0248</td>\n",
       "                        <td id=\"T_8add054a_01ef_11ec_ae50_acbc32d61fabrow6_col1\" class=\"data row6 col1\" >0.0160</td>\n",
       "                        <td id=\"T_8add054a_01ef_11ec_ae50_acbc32d61fabrow6_col2\" class=\"data row6 col2\" >0.1130</td>\n",
       "                        <td id=\"T_8add054a_01ef_11ec_ae50_acbc32d61fabrow6_col3\" class=\"data row6 col3\" >0.0324</td>\n",
       "                        <td id=\"T_8add054a_01ef_11ec_ae50_acbc32d61fabrow6_col4\" class=\"data row6 col4\" >0.0291</td>\n",
       "                        <td id=\"T_8add054a_01ef_11ec_ae50_acbc32d61fabrow6_col5\" class=\"data row6 col5\" >0.0492</td>\n",
       "                        <td id=\"T_8add054a_01ef_11ec_ae50_acbc32d61fabrow6_col6\" class=\"data row6 col6\" >0.0481</td>\n",
       "            </tr>\n",
       "    </tbody></table>"
      ],
      "text/plain": [
       "<pandas.io.formats.style.Styler at 0x7f838eb87a90>"
      ]
     },
     "metadata": {},
     "output_type": "display_data"
    }
   ],
   "source": [
    "blended = blend_models(estimator_list = best_5, fold = 5, method = 'soft')"
   ]
  },
  {
   "cell_type": "code",
   "execution_count": 160,
   "metadata": {},
   "outputs": [
    {
     "data": {
      "text/html": [
       "<style  type=\"text/css\" >\n",
       "#T_8d2a11d0_01ef_11ec_ae50_acbc32d61fabrow10_col0,#T_8d2a11d0_01ef_11ec_ae50_acbc32d61fabrow10_col1,#T_8d2a11d0_01ef_11ec_ae50_acbc32d61fabrow10_col2,#T_8d2a11d0_01ef_11ec_ae50_acbc32d61fabrow10_col3,#T_8d2a11d0_01ef_11ec_ae50_acbc32d61fabrow10_col4,#T_8d2a11d0_01ef_11ec_ae50_acbc32d61fabrow10_col5,#T_8d2a11d0_01ef_11ec_ae50_acbc32d61fabrow10_col6{\n",
       "            background:  yellow;\n",
       "        }</style><table id=\"T_8d2a11d0_01ef_11ec_ae50_acbc32d61fab\" ><thead>    <tr>        <th class=\"blank level0\" ></th>        <th class=\"col_heading level0 col0\" >Accuracy</th>        <th class=\"col_heading level0 col1\" >AUC</th>        <th class=\"col_heading level0 col2\" >Recall</th>        <th class=\"col_heading level0 col3\" >Prec.</th>        <th class=\"col_heading level0 col4\" >F1</th>        <th class=\"col_heading level0 col5\" >Kappa</th>        <th class=\"col_heading level0 col6\" >MCC</th>    </tr></thead><tbody>\n",
       "                <tr>\n",
       "                        <th id=\"T_8d2a11d0_01ef_11ec_ae50_acbc32d61fablevel0_row0\" class=\"row_heading level0 row0\" >0</th>\n",
       "                        <td id=\"T_8d2a11d0_01ef_11ec_ae50_acbc32d61fabrow0_col0\" class=\"data row0 col0\" >0.7624</td>\n",
       "                        <td id=\"T_8d2a11d0_01ef_11ec_ae50_acbc32d61fabrow0_col1\" class=\"data row0 col1\" >0.8783</td>\n",
       "                        <td id=\"T_8d2a11d0_01ef_11ec_ae50_acbc32d61fabrow0_col2\" class=\"data row0 col2\" >0.4687</td>\n",
       "                        <td id=\"T_8d2a11d0_01ef_11ec_ae50_acbc32d61fabrow0_col3\" class=\"data row0 col3\" >0.7377</td>\n",
       "                        <td id=\"T_8d2a11d0_01ef_11ec_ae50_acbc32d61fabrow0_col4\" class=\"data row0 col4\" >0.7429</td>\n",
       "                        <td id=\"T_8d2a11d0_01ef_11ec_ae50_acbc32d61fabrow0_col5\" class=\"data row0 col5\" >0.5583</td>\n",
       "                        <td id=\"T_8d2a11d0_01ef_11ec_ae50_acbc32d61fabrow0_col6\" class=\"data row0 col6\" >0.5661</td>\n",
       "            </tr>\n",
       "            <tr>\n",
       "                        <th id=\"T_8d2a11d0_01ef_11ec_ae50_acbc32d61fablevel0_row1\" class=\"row_heading level0 row1\" >1</th>\n",
       "                        <td id=\"T_8d2a11d0_01ef_11ec_ae50_acbc32d61fabrow1_col0\" class=\"data row1 col0\" >0.7772</td>\n",
       "                        <td id=\"T_8d2a11d0_01ef_11ec_ae50_acbc32d61fabrow1_col1\" class=\"data row1 col1\" >0.8827</td>\n",
       "                        <td id=\"T_8d2a11d0_01ef_11ec_ae50_acbc32d61fabrow1_col2\" class=\"data row1 col2\" >0.7647</td>\n",
       "                        <td id=\"T_8d2a11d0_01ef_11ec_ae50_acbc32d61fabrow1_col3\" class=\"data row1 col3\" >0.7684</td>\n",
       "                        <td id=\"T_8d2a11d0_01ef_11ec_ae50_acbc32d61fabrow1_col4\" class=\"data row1 col4\" >0.7698</td>\n",
       "                        <td id=\"T_8d2a11d0_01ef_11ec_ae50_acbc32d61fabrow1_col5\" class=\"data row1 col5\" >0.5999</td>\n",
       "                        <td id=\"T_8d2a11d0_01ef_11ec_ae50_acbc32d61fabrow1_col6\" class=\"data row1 col6\" >0.6029</td>\n",
       "            </tr>\n",
       "            <tr>\n",
       "                        <th id=\"T_8d2a11d0_01ef_11ec_ae50_acbc32d61fablevel0_row2\" class=\"row_heading level0 row2\" >2</th>\n",
       "                        <td id=\"T_8d2a11d0_01ef_11ec_ae50_acbc32d61fabrow2_col0\" class=\"data row2 col0\" >0.7178</td>\n",
       "                        <td id=\"T_8d2a11d0_01ef_11ec_ae50_acbc32d61fabrow2_col1\" class=\"data row2 col1\" >0.8546</td>\n",
       "                        <td id=\"T_8d2a11d0_01ef_11ec_ae50_acbc32d61fabrow2_col2\" class=\"data row2 col2\" >0.4380</td>\n",
       "                        <td id=\"T_8d2a11d0_01ef_11ec_ae50_acbc32d61fabrow2_col3\" class=\"data row2 col3\" >0.6993</td>\n",
       "                        <td id=\"T_8d2a11d0_01ef_11ec_ae50_acbc32d61fabrow2_col4\" class=\"data row2 col4\" >0.6987</td>\n",
       "                        <td id=\"T_8d2a11d0_01ef_11ec_ae50_acbc32d61fabrow2_col5\" class=\"data row2 col5\" >0.4763</td>\n",
       "                        <td id=\"T_8d2a11d0_01ef_11ec_ae50_acbc32d61fabrow2_col6\" class=\"data row2 col6\" >0.4831</td>\n",
       "            </tr>\n",
       "            <tr>\n",
       "                        <th id=\"T_8d2a11d0_01ef_11ec_ae50_acbc32d61fablevel0_row3\" class=\"row_heading level0 row3\" >3</th>\n",
       "                        <td id=\"T_8d2a11d0_01ef_11ec_ae50_acbc32d61fabrow3_col0\" class=\"data row3 col0\" >0.6931</td>\n",
       "                        <td id=\"T_8d2a11d0_01ef_11ec_ae50_acbc32d61fabrow3_col1\" class=\"data row3 col1\" >0.8741</td>\n",
       "                        <td id=\"T_8d2a11d0_01ef_11ec_ae50_acbc32d61fabrow3_col2\" class=\"data row3 col2\" >0.4118</td>\n",
       "                        <td id=\"T_8d2a11d0_01ef_11ec_ae50_acbc32d61fabrow3_col3\" class=\"data row3 col3\" >0.6637</td>\n",
       "                        <td id=\"T_8d2a11d0_01ef_11ec_ae50_acbc32d61fabrow3_col4\" class=\"data row3 col4\" >0.6739</td>\n",
       "                        <td id=\"T_8d2a11d0_01ef_11ec_ae50_acbc32d61fabrow3_col5\" class=\"data row3 col5\" >0.4380</td>\n",
       "                        <td id=\"T_8d2a11d0_01ef_11ec_ae50_acbc32d61fabrow3_col6\" class=\"data row3 col6\" >0.4433</td>\n",
       "            </tr>\n",
       "            <tr>\n",
       "                        <th id=\"T_8d2a11d0_01ef_11ec_ae50_acbc32d61fablevel0_row4\" class=\"row_heading level0 row4\" >4</th>\n",
       "                        <td id=\"T_8d2a11d0_01ef_11ec_ae50_acbc32d61fabrow4_col0\" class=\"data row4 col0\" >0.7277</td>\n",
       "                        <td id=\"T_8d2a11d0_01ef_11ec_ae50_acbc32d61fabrow4_col1\" class=\"data row4 col1\" >0.8705</td>\n",
       "                        <td id=\"T_8d2a11d0_01ef_11ec_ae50_acbc32d61fabrow4_col2\" class=\"data row4 col2\" >0.5731</td>\n",
       "                        <td id=\"T_8d2a11d0_01ef_11ec_ae50_acbc32d61fabrow4_col3\" class=\"data row4 col3\" >0.7073</td>\n",
       "                        <td id=\"T_8d2a11d0_01ef_11ec_ae50_acbc32d61fabrow4_col4\" class=\"data row4 col4\" >0.7131</td>\n",
       "                        <td id=\"T_8d2a11d0_01ef_11ec_ae50_acbc32d61fabrow4_col5\" class=\"data row4 col5\" >0.5037</td>\n",
       "                        <td id=\"T_8d2a11d0_01ef_11ec_ae50_acbc32d61fabrow4_col6\" class=\"data row4 col6\" >0.5082</td>\n",
       "            </tr>\n",
       "            <tr>\n",
       "                        <th id=\"T_8d2a11d0_01ef_11ec_ae50_acbc32d61fablevel0_row5\" class=\"row_heading level0 row5\" >5</th>\n",
       "                        <td id=\"T_8d2a11d0_01ef_11ec_ae50_acbc32d61fabrow5_col0\" class=\"data row5 col0\" >0.7327</td>\n",
       "                        <td id=\"T_8d2a11d0_01ef_11ec_ae50_acbc32d61fabrow5_col1\" class=\"data row5 col1\" >0.8649</td>\n",
       "                        <td id=\"T_8d2a11d0_01ef_11ec_ae50_acbc32d61fabrow5_col2\" class=\"data row5 col2\" >0.4412</td>\n",
       "                        <td id=\"T_8d2a11d0_01ef_11ec_ae50_acbc32d61fabrow5_col3\" class=\"data row5 col3\" >0.7050</td>\n",
       "                        <td id=\"T_8d2a11d0_01ef_11ec_ae50_acbc32d61fabrow5_col4\" class=\"data row5 col4\" >0.7101</td>\n",
       "                        <td id=\"T_8d2a11d0_01ef_11ec_ae50_acbc32d61fabrow5_col5\" class=\"data row5 col5\" >0.5079</td>\n",
       "                        <td id=\"T_8d2a11d0_01ef_11ec_ae50_acbc32d61fabrow5_col6\" class=\"data row5 col6\" >0.5139</td>\n",
       "            </tr>\n",
       "            <tr>\n",
       "                        <th id=\"T_8d2a11d0_01ef_11ec_ae50_acbc32d61fablevel0_row6\" class=\"row_heading level0 row6\" >6</th>\n",
       "                        <td id=\"T_8d2a11d0_01ef_11ec_ae50_acbc32d61fabrow6_col0\" class=\"data row6 col0\" >0.7673</td>\n",
       "                        <td id=\"T_8d2a11d0_01ef_11ec_ae50_acbc32d61fabrow6_col1\" class=\"data row6 col1\" >0.9070</td>\n",
       "                        <td id=\"T_8d2a11d0_01ef_11ec_ae50_acbc32d61fabrow6_col2\" class=\"data row6 col2\" >0.7544</td>\n",
       "                        <td id=\"T_8d2a11d0_01ef_11ec_ae50_acbc32d61fabrow6_col3\" class=\"data row6 col3\" >0.7596</td>\n",
       "                        <td id=\"T_8d2a11d0_01ef_11ec_ae50_acbc32d61fabrow6_col4\" class=\"data row6 col4\" >0.7626</td>\n",
       "                        <td id=\"T_8d2a11d0_01ef_11ec_ae50_acbc32d61fabrow6_col5\" class=\"data row6 col5\" >0.5875</td>\n",
       "                        <td id=\"T_8d2a11d0_01ef_11ec_ae50_acbc32d61fabrow6_col6\" class=\"data row6 col6\" >0.5884</td>\n",
       "            </tr>\n",
       "            <tr>\n",
       "                        <th id=\"T_8d2a11d0_01ef_11ec_ae50_acbc32d61fablevel0_row7\" class=\"row_heading level0 row7\" >7</th>\n",
       "                        <td id=\"T_8d2a11d0_01ef_11ec_ae50_acbc32d61fabrow7_col0\" class=\"data row7 col0\" >0.8159</td>\n",
       "                        <td id=\"T_8d2a11d0_01ef_11ec_ae50_acbc32d61fabrow7_col1\" class=\"data row7 col1\" >0.9097</td>\n",
       "                        <td id=\"T_8d2a11d0_01ef_11ec_ae50_acbc32d61fabrow7_col2\" class=\"data row7 col2\" >0.5525</td>\n",
       "                        <td id=\"T_8d2a11d0_01ef_11ec_ae50_acbc32d61fabrow7_col3\" class=\"data row7 col3\" >0.8117</td>\n",
       "                        <td id=\"T_8d2a11d0_01ef_11ec_ae50_acbc32d61fabrow7_col4\" class=\"data row7 col4\" >0.8126</td>\n",
       "                        <td id=\"T_8d2a11d0_01ef_11ec_ae50_acbc32d61fabrow7_col5\" class=\"data row7 col5\" >0.6740</td>\n",
       "                        <td id=\"T_8d2a11d0_01ef_11ec_ae50_acbc32d61fabrow7_col6\" class=\"data row7 col6\" >0.6748</td>\n",
       "            </tr>\n",
       "            <tr>\n",
       "                        <th id=\"T_8d2a11d0_01ef_11ec_ae50_acbc32d61fablevel0_row8\" class=\"row_heading level0 row8\" >8</th>\n",
       "                        <td id=\"T_8d2a11d0_01ef_11ec_ae50_acbc32d61fabrow8_col0\" class=\"data row8 col0\" >0.7463</td>\n",
       "                        <td id=\"T_8d2a11d0_01ef_11ec_ae50_acbc32d61fabrow8_col1\" class=\"data row8 col1\" >0.8368</td>\n",
       "                        <td id=\"T_8d2a11d0_01ef_11ec_ae50_acbc32d61fabrow8_col2\" class=\"data row8 col2\" >0.4872</td>\n",
       "                        <td id=\"T_8d2a11d0_01ef_11ec_ae50_acbc32d61fabrow8_col3\" class=\"data row8 col3\" >0.7286</td>\n",
       "                        <td id=\"T_8d2a11d0_01ef_11ec_ae50_acbc32d61fabrow8_col4\" class=\"data row8 col4\" >0.7342</td>\n",
       "                        <td id=\"T_8d2a11d0_01ef_11ec_ae50_acbc32d61fabrow8_col5\" class=\"data row8 col5\" >0.5393</td>\n",
       "                        <td id=\"T_8d2a11d0_01ef_11ec_ae50_acbc32d61fabrow8_col6\" class=\"data row8 col6\" >0.5434</td>\n",
       "            </tr>\n",
       "            <tr>\n",
       "                        <th id=\"T_8d2a11d0_01ef_11ec_ae50_acbc32d61fablevel0_row9\" class=\"row_heading level0 row9\" >9</th>\n",
       "                        <td id=\"T_8d2a11d0_01ef_11ec_ae50_acbc32d61fabrow9_col0\" class=\"data row9 col0\" >0.7413</td>\n",
       "                        <td id=\"T_8d2a11d0_01ef_11ec_ae50_acbc32d61fabrow9_col1\" class=\"data row9 col1\" >0.8887</td>\n",
       "                        <td id=\"T_8d2a11d0_01ef_11ec_ae50_acbc32d61fabrow9_col2\" class=\"data row9 col2\" >0.4610</td>\n",
       "                        <td id=\"T_8d2a11d0_01ef_11ec_ae50_acbc32d61fabrow9_col3\" class=\"data row9 col3\" >0.7183</td>\n",
       "                        <td id=\"T_8d2a11d0_01ef_11ec_ae50_acbc32d61fabrow9_col4\" class=\"data row9 col4\" >0.7247</td>\n",
       "                        <td id=\"T_8d2a11d0_01ef_11ec_ae50_acbc32d61fabrow9_col5\" class=\"data row9 col5\" >0.5213</td>\n",
       "                        <td id=\"T_8d2a11d0_01ef_11ec_ae50_acbc32d61fabrow9_col6\" class=\"data row9 col6\" >0.5270</td>\n",
       "            </tr>\n",
       "            <tr>\n",
       "                        <th id=\"T_8d2a11d0_01ef_11ec_ae50_acbc32d61fablevel0_row10\" class=\"row_heading level0 row10\" >Mean</th>\n",
       "                        <td id=\"T_8d2a11d0_01ef_11ec_ae50_acbc32d61fabrow10_col0\" class=\"data row10 col0\" >0.7482</td>\n",
       "                        <td id=\"T_8d2a11d0_01ef_11ec_ae50_acbc32d61fabrow10_col1\" class=\"data row10 col1\" >0.8767</td>\n",
       "                        <td id=\"T_8d2a11d0_01ef_11ec_ae50_acbc32d61fabrow10_col2\" class=\"data row10 col2\" >0.5353</td>\n",
       "                        <td id=\"T_8d2a11d0_01ef_11ec_ae50_acbc32d61fabrow10_col3\" class=\"data row10 col3\" >0.7300</td>\n",
       "                        <td id=\"T_8d2a11d0_01ef_11ec_ae50_acbc32d61fabrow10_col4\" class=\"data row10 col4\" >0.7343</td>\n",
       "                        <td id=\"T_8d2a11d0_01ef_11ec_ae50_acbc32d61fabrow10_col5\" class=\"data row10 col5\" >0.5406</td>\n",
       "                        <td id=\"T_8d2a11d0_01ef_11ec_ae50_acbc32d61fabrow10_col6\" class=\"data row10 col6\" >0.5451</td>\n",
       "            </tr>\n",
       "            <tr>\n",
       "                        <th id=\"T_8d2a11d0_01ef_11ec_ae50_acbc32d61fablevel0_row11\" class=\"row_heading level0 row11\" >SD</th>\n",
       "                        <td id=\"T_8d2a11d0_01ef_11ec_ae50_acbc32d61fabrow11_col0\" class=\"data row11 col0\" >0.0327</td>\n",
       "                        <td id=\"T_8d2a11d0_01ef_11ec_ae50_acbc32d61fabrow11_col1\" class=\"data row11 col1\" >0.0211</td>\n",
       "                        <td id=\"T_8d2a11d0_01ef_11ec_ae50_acbc32d61fabrow11_col2\" class=\"data row11 col2\" >0.1217</td>\n",
       "                        <td id=\"T_8d2a11d0_01ef_11ec_ae50_acbc32d61fabrow11_col3\" class=\"data row11 col3\" >0.0396</td>\n",
       "                        <td id=\"T_8d2a11d0_01ef_11ec_ae50_acbc32d61fabrow11_col4\" class=\"data row11 col4\" >0.0378</td>\n",
       "                        <td id=\"T_8d2a11d0_01ef_11ec_ae50_acbc32d61fabrow11_col5\" class=\"data row11 col5\" >0.0643</td>\n",
       "                        <td id=\"T_8d2a11d0_01ef_11ec_ae50_acbc32d61fabrow11_col6\" class=\"data row11 col6\" >0.0627</td>\n",
       "            </tr>\n",
       "    </tbody></table>"
      ],
      "text/plain": [
       "<pandas.io.formats.style.Styler at 0x7f838e2a5550>"
      ]
     },
     "metadata": {},
     "output_type": "display_data"
    }
   ],
   "source": [
    "rf = create_model('rf', cross_validation=True)"
   ]
  },
  {
   "cell_type": "code",
   "execution_count": 161,
   "metadata": {},
   "outputs": [
    {
     "data": {
      "image/png": "[encoded data removed]",
      "text/plain": [
       "<Figure size 576x396 with 1 Axes>"
      ]
     },
     "metadata": {},
     "output_type": "display_data"
    }
   ],
   "source": [
    "plot_model(rf)"
   ]
  },
  {
   "cell_type": "code",
   "execution_count": 162,
   "metadata": {},
   "outputs": [
    {
     "data": {
      "image/png": "[encoded data removed]",
      "text/plain": [
       "<Figure size 576x396 with 1 Axes>"
      ]
     },
     "metadata": {},
     "output_type": "display_data"
    }
   ],
   "source": [
    "plot_model(rf, plot='confusion_matrix')"
   ]
  },
  {
   "cell_type": "code",
   "execution_count": 163,
   "metadata": {},
   "outputs": [
    {
     "data": {
      "text/html": [
       "<div>\n",
       "<style scoped>\n",
       "    .dataframe tbody tr th:only-of-type {\n",
       "        vertical-align: middle;\n",
       "    }\n",
       "\n",
       "    .dataframe tbody tr th {\n",
       "        vertical-align: top;\n",
       "    }\n",
       "\n",
       "    .dataframe thead th {\n",
       "        text-align: right;\n",
       "    }\n",
       "</style>\n",
       "<table border=\"1\" class=\"dataframe\">\n",
       "  <thead>\n",
       "    <tr style=\"text-align: right;\">\n",
       "      <th></th>\n",
       "      <th>Parameters</th>\n",
       "    </tr>\n",
       "  </thead>\n",
       "  <tbody>\n",
       "    <tr>\n",
       "      <th>bootstrap</th>\n",
       "      <td>True</td>\n",
       "    </tr>\n",
       "    <tr>\n",
       "      <th>ccp_alpha</th>\n",
       "      <td>0.0</td>\n",
       "    </tr>\n",
       "    <tr>\n",
       "      <th>class_weight</th>\n",
       "      <td>None</td>\n",
       "    </tr>\n",
       "    <tr>\n",
       "      <th>criterion</th>\n",
       "      <td>gini</td>\n",
       "    </tr>\n",
       "    <tr>\n",
       "      <th>max_depth</th>\n",
       "      <td>None</td>\n",
       "    </tr>\n",
       "    <tr>\n",
       "      <th>max_features</th>\n",
       "      <td>auto</td>\n",
       "    </tr>\n",
       "    <tr>\n",
       "      <th>max_leaf_nodes</th>\n",
       "      <td>None</td>\n",
       "    </tr>\n",
       "    <tr>\n",
       "      <th>max_samples</th>\n",
       "      <td>None</td>\n",
       "    </tr>\n",
       "    <tr>\n",
       "      <th>min_impurity_decrease</th>\n",
       "      <td>0.0</td>\n",
       "    </tr>\n",
       "    <tr>\n",
       "      <th>min_impurity_split</th>\n",
       "      <td>None</td>\n",
       "    </tr>\n",
       "    <tr>\n",
       "      <th>min_samples_leaf</th>\n",
       "      <td>1</td>\n",
       "    </tr>\n",
       "    <tr>\n",
       "      <th>min_samples_split</th>\n",
       "      <td>2</td>\n",
       "    </tr>\n",
       "    <tr>\n",
       "      <th>min_weight_fraction_leaf</th>\n",
       "      <td>0.0</td>\n",
       "    </tr>\n",
       "    <tr>\n",
       "      <th>n_estimators</th>\n",
       "      <td>100</td>\n",
       "    </tr>\n",
       "    <tr>\n",
       "      <th>n_jobs</th>\n",
       "      <td>-1</td>\n",
       "    </tr>\n",
       "    <tr>\n",
       "      <th>oob_score</th>\n",
       "      <td>False</td>\n",
       "    </tr>\n",
       "    <tr>\n",
       "      <th>random_state</th>\n",
       "      <td>123</td>\n",
       "    </tr>\n",
       "    <tr>\n",
       "      <th>verbose</th>\n",
       "      <td>0</td>\n",
       "    </tr>\n",
       "    <tr>\n",
       "      <th>warm_start</th>\n",
       "      <td>False</td>\n",
       "    </tr>\n",
       "  </tbody>\n",
       "</table>\n",
       "</div>"
      ],
      "text/plain": [
       "                         Parameters\n",
       "bootstrap                      True\n",
       "ccp_alpha                       0.0\n",
       "class_weight                   None\n",
       "criterion                      gini\n",
       "max_depth                      None\n",
       "max_features                   auto\n",
       "max_leaf_nodes                 None\n",
       "max_samples                    None\n",
       "min_impurity_decrease           0.0\n",
       "min_impurity_split             None\n",
       "min_samples_leaf                  1\n",
       "min_samples_split                 2\n",
       "min_weight_fraction_leaf        0.0\n",
       "n_estimators                    100\n",
       "n_jobs                           -1\n",
       "oob_score                     False\n",
       "random_state                    123\n",
       "verbose                           0\n",
       "warm_start                    False"
      ]
     },
     "metadata": {},
     "output_type": "display_data"
    }
   ],
   "source": [
    "evaluate_model(rf)"
   ]
  },
  {
   "cell_type": "code",
   "execution_count": 164,
   "metadata": {},
   "outputs": [],
   "source": [
    "plt.rc('font', family=\"AppleGothic\")\n"
   ]
  },
  {
   "cell_type": "code",
   "execution_count": 165,
   "metadata": {},
   "outputs": [
    {
     "data": {
      "image/png": "[encoded data removed]",
      "text/plain": [
       "<Figure size 576x626.4 with 1 Axes>"
      ]
     },
     "metadata": {},
     "output_type": "display_data"
    }
   ],
   "source": [
    "interpret_model(rf)"
   ]
  },
  {
   "cell_type": "code",
   "execution_count": 166,
   "metadata": {},
   "outputs": [
    {
     "data": {
      "image/png": "[encoded data removed]",
      "text/plain": [
       "<Figure size 540x360 with 2 Axes>"
      ]
     },
     "metadata": {},
     "output_type": "display_data"
    }
   ],
   "source": [
    "interpret_model(rf, plot='correlation')\n"
   ]
  },
  {
   "cell_type": "code",
   "execution_count": 86,
   "metadata": {},
   "outputs": [
    {
     "data": {
      "text/html": [
       "<div>\n",
       "<style scoped>\n",
       "    .dataframe tbody tr th:only-of-type {\n",
       "        vertical-align: middle;\n",
       "    }\n",
       "\n",
       "    .dataframe tbody tr th {\n",
       "        vertical-align: top;\n",
       "    }\n",
       "\n",
       "    .dataframe thead th {\n",
       "        text-align: right;\n",
       "    }\n",
       "</style>\n",
       "<table border=\"1\" class=\"dataframe\">\n",
       "  <thead>\n",
       "    <tr style=\"text-align: right;\">\n",
       "      <th></th>\n",
       "      <th>VIF Factor</th>\n",
       "      <th>features</th>\n",
       "    </tr>\n",
       "  </thead>\n",
       "  <tbody>\n",
       "    <tr>\n",
       "      <th>0</th>\n",
       "      <td>1.698339</td>\n",
       "      <td>총인구</td>\n",
       "    </tr>\n",
       "    <tr>\n",
       "      <th>1</th>\n",
       "      <td>1.429567</td>\n",
       "      <td>건축물(35)</td>\n",
       "    </tr>\n",
       "    <tr>\n",
       "      <th>2</th>\n",
       "      <td>1.165323</td>\n",
       "      <td>개별주택가격</td>\n",
       "    </tr>\n",
       "    <tr>\n",
       "      <th>3</th>\n",
       "      <td>2.693413</td>\n",
       "      <td>공시지가</td>\n",
       "    </tr>\n",
       "    <tr>\n",
       "      <th>4</th>\n",
       "      <td>1.955871</td>\n",
       "      <td>가로등</td>\n",
       "    </tr>\n",
       "    <tr>\n",
       "      <th>5</th>\n",
       "      <td>1.172847</td>\n",
       "      <td>공영주차장</td>\n",
       "    </tr>\n",
       "    <tr>\n",
       "      <th>6</th>\n",
       "      <td>1.120778</td>\n",
       "      <td>공중화장실</td>\n",
       "    </tr>\n",
       "    <tr>\n",
       "      <th>7</th>\n",
       "      <td>2.003248</td>\n",
       "      <td>교육시설</td>\n",
       "    </tr>\n",
       "    <tr>\n",
       "      <th>8</th>\n",
       "      <td>2.046474</td>\n",
       "      <td>룸살롱</td>\n",
       "    </tr>\n",
       "    <tr>\n",
       "      <th>9</th>\n",
       "      <td>1.384842</td>\n",
       "      <td>버스정류장</td>\n",
       "    </tr>\n",
       "    <tr>\n",
       "      <th>10</th>\n",
       "      <td>4.533286</td>\n",
       "      <td>상가</td>\n",
       "    </tr>\n",
       "    <tr>\n",
       "      <th>11</th>\n",
       "      <td>1.640875</td>\n",
       "      <td>숙박업소</td>\n",
       "    </tr>\n",
       "    <tr>\n",
       "      <th>12</th>\n",
       "      <td>5.377936</td>\n",
       "      <td>술집</td>\n",
       "    </tr>\n",
       "    <tr>\n",
       "      <th>13</th>\n",
       "      <td>2.462307</td>\n",
       "      <td>오락시설</td>\n",
       "    </tr>\n",
       "    <tr>\n",
       "      <th>14</th>\n",
       "      <td>1.488489</td>\n",
       "      <td>원룸_오피스텔</td>\n",
       "    </tr>\n",
       "    <tr>\n",
       "      <th>15</th>\n",
       "      <td>9.805412</td>\n",
       "      <td>음식점</td>\n",
       "    </tr>\n",
       "    <tr>\n",
       "      <th>16</th>\n",
       "      <td>1.828786</td>\n",
       "      <td>cctv</td>\n",
       "    </tr>\n",
       "    <tr>\n",
       "      <th>17</th>\n",
       "      <td>1.904436</td>\n",
       "      <td>횡단보도</td>\n",
       "    </tr>\n",
       "    <tr>\n",
       "      <th>18</th>\n",
       "      <td>1.533692</td>\n",
       "      <td>폭력빈도_4</td>\n",
       "    </tr>\n",
       "  </tbody>\n",
       "</table>\n",
       "</div>"
      ],
      "text/plain": [
       "    VIF Factor features\n",
       "0     1.698339      총인구\n",
       "1     1.429567  건축물(35)\n",
       "2     1.165323   개별주택가격\n",
       "3     2.693413     공시지가\n",
       "4     1.955871      가로등\n",
       "5     1.172847    공영주차장\n",
       "6     1.120778    공중화장실\n",
       "7     2.003248     교육시설\n",
       "8     2.046474      룸살롱\n",
       "9     1.384842    버스정류장\n",
       "10    4.533286       상가\n",
       "11    1.640875     숙박업소\n",
       "12    5.377936       술집\n",
       "13    2.462307     오락시설\n",
       "14    1.488489  원룸_오피스텔\n",
       "15    9.805412      음식점\n",
       "16    1.828786     cctv\n",
       "17    1.904436     횡단보도\n",
       "18    1.533692   폭력빈도_4"
      ]
     },
     "execution_count": 86,
     "metadata": {},
     "output_type": "execute_result"
    }
   ],
   "source": [
    "#다중공선성확인\n",
    "vif = pd.DataFrame()\n",
    "vif[\"VIF Factor\"] = [variance_inflation_factor(feature.values, i) for i in range(feature.shape[1])]\n",
    "vif[\"features\"] = feature.columns \n",
    "vif"
   ]
  },
  {
   "cell_type": "code",
   "execution_count": null,
   "metadata": {},
   "outputs": [],
   "source": []
  }
 ],
 "metadata": {
  "kernelspec": {
   "display_name": "Python 3",
   "language": "python",
   "name": "python3"
  },
  "language_info": {
   "codemirror_mode": {
    "name": "ipython",
    "version": 3
   },
   "file_extension": ".py",
   "mimetype": "text/x-python",
   "name": "python",
   "nbconvert_exporter": "python",
   "pygments_lexer": "ipython3",
   "version": "3.9.0"
  }
 },
 "nbformat": 4,
 "nbformat_minor": 4
}
