{
 "cells": [
  {
   "cell_type": "code",
   "execution_count": 56,
   "metadata": {},
   "outputs": [],
   "source": [
    "import pandas as pd\n",
    "import numpy as np\n",
    "import seaborn as sns\n",
    "\n",
    "import matplotlib.pyplot as plt\n",
    "import matplotlib \n",
    "matplotlib.rcParams['axes.unicode_minus'] = False\n",
    "matplotlib.rcParams['font.family'] = \"AppleGothic\"\n",
    "from IPython.display import Image\n",
    "plt.rc('font', family=\"AppleGothic\")\n",
    "\n",
    "from sklearn.ensemble import RandomForestRegressor\n",
    "from sklearn.linear_model import LogisticRegression\n",
    "from statsmodels.stats.outliers_influence import variance_inflation_factor\n",
    "from statsmodels.sandbox.stats.multicomp import MultiComparison\n",
    "\n",
    "from sklearn.metrics import accuracy_score\n",
    "from sklearn.metrics import confusion_matrix\n",
    "\n",
    "from scipy import stats\n",
    "import scipy \n",
    "from pycaret.regression import *\n",
    "import catboost as cb\n",
    "from sklearn.model_selection import train_test_split\n",
    "from sklearn.metrics import mean_squared_error\n",
    "from sklearn.metrics import r2_score\n",
    "from sklearn.inspection import permutation_importance\n",
    "from sklearn.metrics import mean_absolute_error\n",
    "from sklearn.preprocessing import StandardScaler\n",
    "import pandas_profiling\n",
    "import statsmodels.api as sm\n",
    "from sklearn.decomposition import PCA\n",
    "from statsmodels.miscmodels.ordinal_model import OrderedModel"
   ]
  },
  {
   "cell_type": "code",
   "execution_count": 57,
   "metadata": {},
   "outputs": [],
   "source": [
    "grid_250 = pd.read_csv('/Users/gimdong-wan/Desktop/DataCampus/data/real_data/250grid_all.csv')"
   ]
  },
  {
   "cell_type": "code",
   "execution_count": 58,
   "metadata": {},
   "outputs": [],
   "source": [
    "grid_250 = grid_250.fillna(0)"
   ]
  },
  {
   "cell_type": "code",
   "execution_count": 60,
   "metadata": {},
   "outputs": [],
   "source": [
    "grid_250['성폭력취약인구'] = grid_250['고등여성인구']+grid_250['20대여성인구']\n",
    "grid_250['건축물(30_)'] = grid_250['건축물(30_34)']+grid_250['건축물(35)']\n",
    "grid_250['GRADE_전체'] = grid_250['GRADE_전체'].apply(lambda x: x-1 if x>0 else x)\n",
    "grid_250 = grid_250.drop(columns = ['20대여성인구','고등여성인구','INDEX'])"
   ]
  },
  {
   "cell_type": "markdown",
   "metadata": {},
   "source": [
    "### 행정동별로 평균 범죄주의구간 등급 확인"
   ]
  },
  {
   "cell_type": "code",
   "execution_count": 101,
   "metadata": {},
   "outputs": [
    {
     "data": {
      "text/plain": [
       "['조촌동',\n",
       " '여의동',\n",
       " '삼천3동',\n",
       " '혁신동',\n",
       " '효자4동',\n",
       " '효자5동',\n",
       " '팔복동',\n",
       " '송천2동',\n",
       " '평화2동',\n",
       " '서신동',\n",
       " '덕진동',\n",
       " '효자3동',\n",
       " '효자2동',\n",
       " '중화산2동',\n",
       " '삼천2동',\n",
       " '삼천1동',\n",
       " '송천1동',\n",
       " '효자1동',\n",
       " '중화산1동',\n",
       " '진북동',\n",
       " '금암1동',\n",
       " '호성동',\n",
       " '완산동',\n",
       " '중앙동',\n",
       " '평화1동',\n",
       " '금암2동',\n",
       " '서서학동',\n",
       " '노송동',\n",
       " '인후2동',\n",
       " '풍남동',\n",
       " '동서학동',\n",
       " '인후1동',\n",
       " '우아1동',\n",
       " '인후3동',\n",
       " '우아2동']"
      ]
     },
     "execution_count": 101,
     "metadata": {},
     "output_type": "execute_result"
    }
   ],
   "source": [
    "list(grid_250['행정동코드'].unique())"
   ]
  },
  {
   "cell_type": "code",
   "execution_count": 128,
   "metadata": {},
   "outputs": [
    {
     "data": {
      "text/plain": [
       "6.765604539502431"
      ]
     },
     "execution_count": 128,
     "metadata": {},
     "output_type": "execute_result"
    }
   ],
   "source": [
    "data"
   ]
  },
  {
   "cell_type": "code",
   "execution_count": 142,
   "metadata": {},
   "outputs": [
    {
     "name": "stdout",
     "output_type": "stream",
     "text": [
      "조촌동 2.883031301482692\n",
      "여의동 9.299363057324886\n",
      "삼천3동 3.421052631578918\n",
      "혁신동 17.117117117117097\n",
      "효자4동 14.396887159533048\n",
      "효자5동 27.432216905901157\n",
      "팔복동 10.975609756097567\n",
      "송천2동 11.779242174629312\n",
      "평화2동 9.389363099146411\n",
      "서신동 47.28033472803347\n",
      "덕진동 35.56485355648542\n",
      "효자3동 64.55696202531647\n",
      "효자2동 42.85714285714286\n",
      "중화산2동 44.76744186046513\n",
      "삼천2동 31.57894736842105\n",
      "삼천1동 23.622047244094492\n",
      "송천1동 26.93110647181626\n",
      "효자1동 31.57894736842106\n",
      "중화산1동 37.70491803278689\n",
      "진북동 54.385964912280684\n",
      "금암1동 77.6\n",
      "호성동 9.816753926701582\n",
      "완산동 34.0\n",
      "중앙동 46.32352941176472\n",
      "평화1동 31.081081081081077\n",
      "금암2동 36.0\n",
      "서서학동 7.407407407407409\n",
      "노송동 29.807692307692324\n",
      "인후2동 72.72727272727272\n",
      "풍남동 31.70731707317075\n",
      "동서학동 1.854219948849109\n",
      "인후1동 49.61240310077521\n",
      "우아1동 56.944444444444464\n",
      "인후3동 69.64285714285714\n",
      "우아2동 6.765604539502431\n"
     ]
    }
   ],
   "source": [
    "for i in list(grid_250['행정동코드'].unique()) :\n",
    "    result = grid_250[grid_250['행정동코드']==i]['GRADE_전체'].sum()/grid_250[grid_250['행정동코드']==i]['행정동면적'].mean()\n",
    "    print(i,result.tolist())"
   ]
  },
  {
   "cell_type": "code",
   "execution_count": 153,
   "metadata": {},
   "outputs": [],
   "source": [
    "grid_250 = grid_250[grid_250['행정동코드'].isin(['여의동','호성동','서서학동','동서학동','우아2동'])]"
   ]
  },
  {
   "cell_type": "code",
   "execution_count": 146,
   "metadata": {},
   "outputs": [
    {
     "data": {
      "text/plain": [
       "0"
      ]
     },
     "execution_count": 146,
     "metadata": {},
     "output_type": "execute_result"
    }
   ],
   "source": [
    "len(grid_250[grid_250['행정동코드'].isin(['금암1동', '인후3동', '인후1동','인후2동','효자3동','중앙동','삼천2동','진북동','중화산2동','금암2동'])])"
   ]
  },
  {
   "cell_type": "code",
   "execution_count": 147,
   "metadata": {},
   "outputs": [],
   "source": [
    "feat_N = grid_250[(grid_250['총인구']==0)&(grid_250['건축물(30_34)']==0)&(grid_250['건축물(35)']==0)&(grid_250['가로등']==0)&(grid_250['공영주차장']==0)&(grid_250['공중화장실']==0)&(grid_250['숙박업소']==0)\n",
    "        &(grid_250['대규모점포']==0)&(grid_250['대부업현황']==0)&(grid_250['상가']==0)&(grid_250['어린이보호']==0)&(grid_250['원룸_오피스텔']==0)&(grid_250['cctv']==0)&(grid_250['신호등']==0)&(grid_250['횡단보도']==0)\n",
    "        &(grid_250['버스정류장']==0)&(grid_250['개별주택가격']==0)] #target 제외 모든 변수가 0인 row\n",
    "feat_Y = grid_250[(grid_250['총인구']>0)|(grid_250['건축물(30_34)']>0)|(grid_250['건축물(35)']>0)|(grid_250['가로등']>0)|(grid_250['공영주차장']>0)|(grid_250['공중화장실']>0)|(grid_250['숙박업소']>0)\n",
    "        |(grid_250['대규모점포']>0)|(grid_250['대부업현황']>0)|(grid_250['상가']>0)|(grid_250['어린이보호']>0)|(grid_250['원룸_오피스텔']>0)|(grid_250['cctv']>0)|(grid_250['신호등']>0)|(grid_250['횡단보도']>0)\n",
    "        |(grid_250['버스정류장']>0)|(grid_250['개별주택가격']>0)] #target 제외 모든 변수가 0보다 큰 row"
   ]
  },
  {
   "cell_type": "code",
   "execution_count": 151,
   "metadata": {},
   "outputs": [
    {
     "name": "stdout",
     "output_type": "stream",
     "text": [
      "588 531\n"
     ]
    }
   ],
   "source": [
    "print(len(feat_N),len(feat_Y))"
   ]
  },
  {
   "cell_type": "markdown",
   "metadata": {},
   "source": [
    "- 모든 피쳐가 0인 행이 `1460`개이고, 한 피쳐라도 0보다 큰 행은 `2038`개 (공시지가와 타겟 제외)"
   ]
  },
  {
   "cell_type": "markdown",
   "metadata": {},
   "source": [
    "- 폭력등급이 0보다 큰 로우는 900개, 절도 등급이 0보다 큰 로우는 836개, 성폭력 등급이 0보다 큰 로우는 303개가 있다. \n",
    "- 모든 피쳐가 0임에도 불구하고(1460개의 피쳐), 폭력등급이 있는 로우는 19개, 절도 13개, 성폭력 4개가 있었다."
   ]
  },
  {
   "cell_type": "code",
   "execution_count": 7,
   "metadata": {},
   "outputs": [],
   "source": [
    "new_grid = feat_Y"
   ]
  },
  {
   "cell_type": "code",
   "execution_count": 8,
   "metadata": {},
   "outputs": [
    {
     "data": {
      "text/plain": [
       "48"
      ]
     },
     "execution_count": 8,
     "metadata": {},
     "output_type": "execute_result"
    }
   ],
   "source": [
    "new_grid['자율방범대'].sum()"
   ]
  },
  {
   "cell_type": "code",
   "execution_count": 9,
   "metadata": {},
   "outputs": [
    {
     "data": {
      "text/plain": [
       "2038"
      ]
     },
     "execution_count": 9,
     "metadata": {},
     "output_type": "execute_result"
    }
   ],
   "source": [
    "len(new_grid)"
   ]
  },
  {
   "cell_type": "code",
   "execution_count": 10,
   "metadata": {},
   "outputs": [
    {
     "data": {
      "text/plain": [
       "Index(['ID', '총인구', '유소년인구', '고령인구', '건축물(30_34)', '건축물(35)', '개별주택가격', '공시지가',\n",
       "       '행정동코드', '가로등', '공영주차장', '공중화장실', '교육시설', '대규모점포', '대부업현황', '룸살롱',\n",
       "       '버스정류장', '보안등', '상가', '숙박업소', '술집', '어린이보호', '어린이집', '오락시설', '원룸_오피스텔',\n",
       "       '음식점', '자율방범대', '파출소', 'cctv', '신호등', '횡단보도', 'GRADE_전체', '성폭력취약인구',\n",
       "       '건축물(30_)'],\n",
       "      dtype='object')"
      ]
     },
     "execution_count": 10,
     "metadata": {},
     "output_type": "execute_result"
    }
   ],
   "source": [
    "new_grid.columns"
   ]
  },
  {
   "cell_type": "code",
   "execution_count": 11,
   "metadata": {},
   "outputs": [
    {
     "name": "stdout",
     "output_type": "stream",
     "text": [
      "Number of Numerical features:  31\n",
      "Number of Categorical features:  2\n"
     ]
    }
   ],
   "source": [
    "numerical_feats = new_grid.dtypes[new_grid.dtypes != \"object\"].index.tolist()\n",
    "numerical_feats.remove('GRADE_전체')\n",
    "print(\"Number of Numerical features: \", len(numerical_feats))\n",
    "\n",
    "categorical_feats = new_grid.dtypes[new_grid.dtypes == \"object\"].index.tolist()\n",
    "print(\"Number of Categorical features: \", len(categorical_feats))"
   ]
  },
  {
   "cell_type": "code",
   "execution_count": 12,
   "metadata": {},
   "outputs": [],
   "source": [
    "feature_list = list(new_grid.drop(columns = ['행정동코드','ID','GRADE_전체']).columns)\n",
    "feature = new_grid[feature_list]\n",
    "target = new_grid[['GRADE_전체']]"
   ]
  },
  {
   "cell_type": "code",
   "execution_count": 13,
   "metadata": {},
   "outputs": [
    {
     "data": {
      "text/plain": [
       "Index(['ID', '총인구', '유소년인구', '고령인구', '건축물(30_34)', '건축물(35)', '개별주택가격', '공시지가',\n",
       "       '행정동코드', '가로등', '공영주차장', '공중화장실', '교육시설', '대규모점포', '대부업현황', '룸살롱',\n",
       "       '버스정류장', '보안등', '상가', '숙박업소', '술집', '어린이보호', '어린이집', '오락시설', '원룸_오피스텔',\n",
       "       '음식점', '자율방범대', '파출소', 'cctv', '신호등', '횡단보도', 'GRADE_전체', '성폭력취약인구',\n",
       "       '건축물(30_)'],\n",
       "      dtype='object')"
      ]
     },
     "execution_count": 13,
     "metadata": {},
     "output_type": "execute_result"
    }
   ],
   "source": [
    "new_grid.columns"
   ]
  },
  {
   "cell_type": "code",
   "execution_count": 14,
   "metadata": {},
   "outputs": [],
   "source": [
    "new_grid['범죄빈도_4'] = 0"
   ]
  },
  {
   "cell_type": "code",
   "execution_count": 15,
   "metadata": {},
   "outputs": [],
   "source": [
    "new_grid.loc[(new_grid['GRADE_전체']==0),'범죄빈도_4'] = 0\n",
    "new_grid.loc[(new_grid['GRADE_전체']>0)&(new_grid['GRADE_전체']<4),'범죄빈도_4'] = 1\n",
    "new_grid.loc[(new_grid['GRADE_전체']>=4)&(new_grid['GRADE_전체']<8),'범죄빈도_4'] = 2\n",
    "new_grid.loc[(new_grid['GRADE_전체']>=8)&(new_grid['GRADE_전체']<11),'범죄빈도_4'] = 3"
   ]
  },
  {
   "cell_type": "code",
   "execution_count": 16,
   "metadata": {},
   "outputs": [],
   "source": [
    "feature_list = list(new_grid.drop(columns = ['행정동코드','ID','GRADE_전체','범죄빈도_4']).columns)\n",
    "feature = new_grid[feature_list]\n",
    "target = new_grid[['범죄빈도_4']]"
   ]
  },
  {
   "cell_type": "code",
   "execution_count": 17,
   "metadata": {},
   "outputs": [],
   "source": [
    "new_grid['범죄빈도_3'] = 0"
   ]
  },
  {
   "cell_type": "code",
   "execution_count": 18,
   "metadata": {},
   "outputs": [],
   "source": [
    "#new_grid.loc[(new_grid['GRADE_폭력']==0),'폭력빈도'] = 0\n",
    "new_grid.loc[(new_grid['GRADE_전체']>=0)&(new_grid['GRADE_전체']<4),'범죄빈도_3'] = 0\n",
    "new_grid.loc[(new_grid['GRADE_전체']>=4)&(new_grid['GRADE_전체']<8),'범죄빈도_3'] = 1\n",
    "new_grid.loc[(new_grid['GRADE_전체']>=8)&(new_grid['GRADE_전체']<11),'범죄빈도_3'] = 2"
   ]
  },
  {
   "cell_type": "code",
   "execution_count": 308,
   "metadata": {},
   "outputs": [
    {
     "data": {
      "text/plain": [
       "0    1737\n",
       "1     282\n",
       "2      19\n",
       "Name: 범죄빈도_3, dtype: int64"
      ]
     },
     "execution_count": 308,
     "metadata": {},
     "output_type": "execute_result"
    }
   ],
   "source": [
    "new_grid['범죄빈도_3'].value_counts()"
   ]
  },
  {
   "cell_type": "markdown",
   "metadata": {},
   "source": [
    "### 범주별 평균차이 분석 (범주3개)"
   ]
  },
  {
   "cell_type": "code",
   "execution_count": 309,
   "metadata": {},
   "outputs": [],
   "source": [
    "group_1 = new_grid.loc[(new_grid['범죄빈도_4']==0)]\n",
    "group_2 = new_grid.loc[(new_grid['범죄빈도_4']==1)]\n",
    "group_3 = new_grid.loc[(new_grid['범죄빈도_4']==2)]\n",
    "group_4 = new_grid.loc[(new_grid['범죄빈도_4']==3)]"
   ]
  },
  {
   "cell_type": "code",
   "execution_count": 310,
   "metadata": {},
   "outputs": [
    {
     "name": "stdout",
     "output_type": "stream",
     "text": [
      "총인구의 데이터의 일원분산분석 결과 : F=254.7, p=0.00000\n",
      "P-value 값이 충분히 작음으로 인해 그룹의 평균값이 통계적으로 유의미하게 차이납니다.\n"
     ]
    }
   ],
   "source": [
    "F_statistic, pVal = stats.f_oneway(group_1['총인구'], group_2['총인구'], group_3['총인구'], group_4['총인구'])\n",
    "\n",
    "print('총인구의 데이터의 일원분산분석 결과 : F={0:.1f}, p={1:.5f}'.format(F_statistic, pVal))\n",
    "if pVal < 0.05:\n",
    "    print('P-value 값이 충분히 작음으로 인해 그룹의 평균값이 통계적으로 유의미하게 차이납니다.')"
   ]
  },
  {
   "cell_type": "markdown",
   "metadata": {},
   "source": [
    "### 변수 제거를 위한 분산분석"
   ]
  },
  {
   "cell_type": "code",
   "execution_count": 311,
   "metadata": {},
   "outputs": [],
   "source": [
    "def anova(x):\n",
    "    F_statistic, pVal = stats.f_oneway(group_1[x], group_2[x], group_3[x], group_4[x])\n",
    "\n",
    "    print(x,' 데이터의 일원분산분석 결과 : F={0:.1f}, p={1:.5f}'.format(F_statistic, pVal))\n",
    "    if pVal < 0.05:\n",
    "        print('P-value 값이 충분히 작음으로 인해 그룹의 평균값이 통계적으로 유의미하게 차이납니다.')"
   ]
  },
  {
   "cell_type": "code",
   "execution_count": 312,
   "metadata": {},
   "outputs": [
    {
     "name": "stdout",
     "output_type": "stream",
     "text": [
      "총인구  데이터의 일원분산분석 결과 : F=254.7, p=0.00000\n",
      "P-value 값이 충분히 작음으로 인해 그룹의 평균값이 통계적으로 유의미하게 차이납니다.\n",
      "유소년인구  데이터의 일원분산분석 결과 : F=107.0, p=0.00000\n",
      "P-value 값이 충분히 작음으로 인해 그룹의 평균값이 통계적으로 유의미하게 차이납니다.\n",
      "고령인구  데이터의 일원분산분석 결과 : F=254.8, p=0.00000\n",
      "P-value 값이 충분히 작음으로 인해 그룹의 평균값이 통계적으로 유의미하게 차이납니다.\n",
      "성폭력취약인구  데이터의 일원분산분석 결과 : F=252.3, p=0.00000\n",
      "P-value 값이 충분히 작음으로 인해 그룹의 평균값이 통계적으로 유의미하게 차이납니다.\n",
      "건축물(30_34)  데이터의 일원분산분석 결과 : F=44.8, p=0.00000\n",
      "P-value 값이 충분히 작음으로 인해 그룹의 평균값이 통계적으로 유의미하게 차이납니다.\n",
      "건축물(35)  데이터의 일원분산분석 결과 : F=82.8, p=0.00000\n",
      "P-value 값이 충분히 작음으로 인해 그룹의 평균값이 통계적으로 유의미하게 차이납니다.\n",
      "건축물(30_)  데이터의 일원분산분석 결과 : F=99.0, p=0.00000\n",
      "P-value 값이 충분히 작음으로 인해 그룹의 평균값이 통계적으로 유의미하게 차이납니다.\n",
      "개별주택가격  데이터의 일원분산분석 결과 : F=47.0, p=0.00000\n",
      "P-value 값이 충분히 작음으로 인해 그룹의 평균값이 통계적으로 유의미하게 차이납니다.\n",
      "공시지가  데이터의 일원분산분석 결과 : F=330.7, p=0.00000\n",
      "P-value 값이 충분히 작음으로 인해 그룹의 평균값이 통계적으로 유의미하게 차이납니다.\n",
      "가로등  데이터의 일원분산분석 결과 : F=214.5, p=0.00000\n",
      "P-value 값이 충분히 작음으로 인해 그룹의 평균값이 통계적으로 유의미하게 차이납니다.\n",
      "보안등  데이터의 일원분산분석 결과 : F=77.4, p=0.00000\n",
      "P-value 값이 충분히 작음으로 인해 그룹의 평균값이 통계적으로 유의미하게 차이납니다.\n",
      "공중화장실  데이터의 일원분산분석 결과 : F=37.2, p=0.00000\n",
      "P-value 값이 충분히 작음으로 인해 그룹의 평균값이 통계적으로 유의미하게 차이납니다.\n",
      "버스정류장  데이터의 일원분산분석 결과 : F=113.5, p=0.00000\n",
      "P-value 값이 충분히 작음으로 인해 그룹의 평균값이 통계적으로 유의미하게 차이납니다.\n",
      "공영주차장  데이터의 일원분산분석 결과 : F=55.5, p=0.00000\n",
      "P-value 값이 충분히 작음으로 인해 그룹의 평균값이 통계적으로 유의미하게 차이납니다.\n",
      "교육시설  데이터의 일원분산분석 결과 : F=143.4, p=0.00000\n",
      "P-value 값이 충분히 작음으로 인해 그룹의 평균값이 통계적으로 유의미하게 차이납니다.\n",
      "대규모점포  데이터의 일원분산분석 결과 : F=26.0, p=0.00000\n",
      "P-value 값이 충분히 작음으로 인해 그룹의 평균값이 통계적으로 유의미하게 차이납니다.\n",
      "대부업현황  데이터의 일원분산분석 결과 : F=32.3, p=0.00000\n",
      "P-value 값이 충분히 작음으로 인해 그룹의 평균값이 통계적으로 유의미하게 차이납니다.\n",
      "룸살롱  데이터의 일원분산분석 결과 : F=94.5, p=0.00000\n",
      "P-value 값이 충분히 작음으로 인해 그룹의 평균값이 통계적으로 유의미하게 차이납니다.\n",
      "버스정류장  데이터의 일원분산분석 결과 : F=113.5, p=0.00000\n",
      "P-value 값이 충분히 작음으로 인해 그룹의 평균값이 통계적으로 유의미하게 차이납니다.\n",
      "보안등  데이터의 일원분산분석 결과 : F=77.4, p=0.00000\n",
      "P-value 값이 충분히 작음으로 인해 그룹의 평균값이 통계적으로 유의미하게 차이납니다.\n",
      "상가  데이터의 일원분산분석 결과 : F=381.1, p=0.00000\n",
      "P-value 값이 충분히 작음으로 인해 그룹의 평균값이 통계적으로 유의미하게 차이납니다.\n",
      "숙박업소  데이터의 일원분산분석 결과 : F=90.6, p=0.00000\n",
      "P-value 값이 충분히 작음으로 인해 그룹의 평균값이 통계적으로 유의미하게 차이납니다.\n",
      "술집  데이터의 일원분산분석 결과 : F=316.3, p=0.00000\n",
      "P-value 값이 충분히 작음으로 인해 그룹의 평균값이 통계적으로 유의미하게 차이납니다.\n",
      "어린이보호  데이터의 일원분산분석 결과 : F=30.8, p=0.00000\n",
      "P-value 값이 충분히 작음으로 인해 그룹의 평균값이 통계적으로 유의미하게 차이납니다.\n",
      "어린이집  데이터의 일원분산분석 결과 : F=73.9, p=0.00000\n",
      "P-value 값이 충분히 작음으로 인해 그룹의 평균값이 통계적으로 유의미하게 차이납니다.\n",
      "오락시설  데이터의 일원분산분석 결과 : F=230.3, p=0.00000\n",
      "P-value 값이 충분히 작음으로 인해 그룹의 평균값이 통계적으로 유의미하게 차이납니다.\n",
      "원룸_오피스텔  데이터의 일원분산분석 결과 : F=103.4, p=0.00000\n",
      "P-value 값이 충분히 작음으로 인해 그룹의 평균값이 통계적으로 유의미하게 차이납니다.\n",
      "음식점  데이터의 일원분산분석 결과 : F=387.1, p=0.00000\n",
      "P-value 값이 충분히 작음으로 인해 그룹의 평균값이 통계적으로 유의미하게 차이납니다.\n",
      "자율방범대  데이터의 일원분산분석 결과 : F=16.1, p=0.00000\n",
      "P-value 값이 충분히 작음으로 인해 그룹의 평균값이 통계적으로 유의미하게 차이납니다.\n",
      "파출소  데이터의 일원분산분석 결과 : F=10.6, p=0.00000\n",
      "P-value 값이 충분히 작음으로 인해 그룹의 평균값이 통계적으로 유의미하게 차이납니다.\n",
      "cctv  데이터의 일원분산분석 결과 : F=224.6, p=0.00000\n",
      "P-value 값이 충분히 작음으로 인해 그룹의 평균값이 통계적으로 유의미하게 차이납니다.\n",
      "신호등  데이터의 일원분산분석 결과 : F=98.1, p=0.00000\n",
      "P-value 값이 충분히 작음으로 인해 그룹의 평균값이 통계적으로 유의미하게 차이납니다.\n",
      "횡단보도  데이터의 일원분산분석 결과 : F=257.7, p=0.00000\n",
      "P-value 값이 충분히 작음으로 인해 그룹의 평균값이 통계적으로 유의미하게 차이납니다.\n"
     ]
    }
   ],
   "source": [
    "anova('총인구')\n",
    "anova('유소년인구')\n",
    "anova('고령인구')\n",
    "anova('성폭력취약인구')\n",
    "anova('건축물(30_34)')\n",
    "anova('건축물(35)')\n",
    "anova('건축물(30_)')\n",
    "anova('개별주택가격')\n",
    "anova('공시지가')\n",
    "anova('가로등')\n",
    "anova('보안등')\n",
    "anova('공중화장실')\n",
    "anova('버스정류장')\n",
    "anova('공영주차장')\n",
    "anova('교육시설')\n",
    "anova('대규모점포')\n",
    "anova('대부업현황')\n",
    "anova('룸살롱')\n",
    "anova('버스정류장')\n",
    "anova('보안등')\n",
    "anova('상가')\n",
    "anova('숙박업소')\n",
    "anova('술집')\n",
    "anova('어린이보호')\n",
    "anova('어린이집')\n",
    "anova('오락시설')\n",
    "anova('원룸_오피스텔')\n",
    "anova('음식점')\n",
    "anova('자율방범대')\n",
    "anova('파출소')\n",
    "anova('cctv')\n",
    "anova('신호등')\n",
    "anova('횡단보도')"
   ]
  },
  {
   "cell_type": "markdown",
   "metadata": {},
   "source": [
    "### 변수 선택을 위한 사후검정 실시"
   ]
  },
  {
   "cell_type": "code",
   "execution_count": 313,
   "metadata": {},
   "outputs": [],
   "source": [
    "def compare(x,y):\n",
    "    comp = MultiComparison(new_grid[x], new_grid[y])\n",
    "    result = comp.allpairtest(scipy.stats.ttest_ind, method='bonf')\n",
    "    return result[0]"
   ]
  },
  {
   "cell_type": "code",
   "execution_count": 314,
   "metadata": {},
   "outputs": [
    {
     "data": {
      "text/html": [
       "<table class=\"simpletable\">\n",
       "<caption>Test Multiple Comparison ttest_ind \n",
       "FWER=0.05 method=bonf\n",
       "alphacSidak=0.01, alphacBonf=0.008</caption>\n",
       "<tr>\n",
       "  <th>group1</th> <th>group2</th>   <th>stat</th>    <th>pval</th>  <th>pval_corr</th> <th>reject</th>\n",
       "</tr>\n",
       "<tr>\n",
       "     <td>0</td>      <td>1</td>   <td>-18.4259</td>   <td>0.0</td>     <td>0.0</td>     <td>True</td> \n",
       "</tr>\n",
       "<tr>\n",
       "     <td>0</td>      <td>2</td>   <td>-31.2341</td>   <td>0.0</td>     <td>0.0</td>     <td>True</td> \n",
       "</tr>\n",
       "<tr>\n",
       "     <td>0</td>      <td>3</td>   <td>-11.5625</td>   <td>0.0</td>     <td>0.0</td>     <td>True</td> \n",
       "</tr>\n",
       "<tr>\n",
       "     <td>1</td>      <td>2</td>   <td>-10.0507</td>   <td>0.0</td>     <td>0.0</td>     <td>True</td> \n",
       "</tr>\n",
       "<tr>\n",
       "     <td>1</td>      <td>3</td>    <td>-2.1555</td> <td>0.0314</td>  <td>0.1887</td>    <td>False</td>\n",
       "</tr>\n",
       "<tr>\n",
       "     <td>2</td>      <td>3</td>    <td>0.8744</td>  <td>0.3826</td>    <td>1.0</td>     <td>False</td>\n",
       "</tr>\n",
       "</table>"
      ],
      "text/plain": [
       "<class 'statsmodels.iolib.table.SimpleTable'>"
      ]
     },
     "execution_count": 314,
     "metadata": {},
     "output_type": "execute_result"
    }
   ],
   "source": [
    "compare('총인구','범죄빈도_4')"
   ]
  },
  {
   "cell_type": "code",
   "execution_count": 315,
   "metadata": {},
   "outputs": [
    {
     "data": {
      "text/html": [
       "<table class=\"simpletable\">\n",
       "<caption>Test Multiple Comparison ttest_ind \n",
       "FWER=0.05 method=bonf\n",
       "alphacSidak=0.01, alphacBonf=0.008</caption>\n",
       "<tr>\n",
       "  <th>group1</th> <th>group2</th>   <th>stat</th>    <th>pval</th>  <th>pval_corr</th> <th>reject</th>\n",
       "</tr>\n",
       "<tr>\n",
       "     <td>0</td>      <td>1</td>   <td>-11.3604</td>   <td>0.0</td>     <td>0.0</td>     <td>True</td> \n",
       "</tr>\n",
       "<tr>\n",
       "     <td>0</td>      <td>2</td>   <td>-18.1399</td>   <td>0.0</td>     <td>0.0</td>     <td>True</td> \n",
       "</tr>\n",
       "<tr>\n",
       "     <td>0</td>      <td>3</td>    <td>-5.8191</td>   <td>0.0</td>     <td>0.0</td>     <td>True</td> \n",
       "</tr>\n",
       "<tr>\n",
       "     <td>1</td>      <td>2</td>    <td>-7.3291</td>   <td>0.0</td>     <td>0.0</td>     <td>True</td> \n",
       "</tr>\n",
       "<tr>\n",
       "     <td>1</td>      <td>3</td>    <td>-1.9892</td>  <td>0.047</td>  <td>0.2823</td>    <td>False</td>\n",
       "</tr>\n",
       "<tr>\n",
       "     <td>2</td>      <td>3</td>     <td>0.296</td>  <td>0.7675</td>    <td>1.0</td>     <td>False</td>\n",
       "</tr>\n",
       "</table>"
      ],
      "text/plain": [
       "<class 'statsmodels.iolib.table.SimpleTable'>"
      ]
     },
     "execution_count": 315,
     "metadata": {},
     "output_type": "execute_result"
    }
   ],
   "source": [
    "compare('유소년인구','범죄빈도_4')"
   ]
  },
  {
   "cell_type": "code",
   "execution_count": 316,
   "metadata": {},
   "outputs": [
    {
     "data": {
      "text/html": [
       "<table class=\"simpletable\">\n",
       "<caption>Test Multiple Comparison ttest_ind \n",
       "FWER=0.05 method=bonf\n",
       "alphacSidak=0.01, alphacBonf=0.008</caption>\n",
       "<tr>\n",
       "  <th>group1</th> <th>group2</th>   <th>stat</th>    <th>pval</th>  <th>pval_corr</th> <th>reject</th>\n",
       "</tr>\n",
       "<tr>\n",
       "     <td>0</td>      <td>1</td>   <td>-20.9904</td>   <td>0.0</td>     <td>0.0</td>     <td>True</td> \n",
       "</tr>\n",
       "<tr>\n",
       "     <td>0</td>      <td>2</td>   <td>-32.4233</td>   <td>0.0</td>     <td>0.0</td>     <td>True</td> \n",
       "</tr>\n",
       "<tr>\n",
       "     <td>0</td>      <td>3</td>   <td>-19.9987</td>   <td>0.0</td>     <td>0.0</td>     <td>True</td> \n",
       "</tr>\n",
       "<tr>\n",
       "     <td>1</td>      <td>2</td>    <td>-8.4082</td>   <td>0.0</td>     <td>0.0</td>     <td>True</td> \n",
       "</tr>\n",
       "<tr>\n",
       "     <td>1</td>      <td>3</td>    <td>-1.2166</td> <td>0.2242</td>    <td>1.0</td>     <td>False</td>\n",
       "</tr>\n",
       "<tr>\n",
       "     <td>2</td>      <td>3</td>    <td>1.2046</td>  <td>0.2293</td>    <td>1.0</td>     <td>False</td>\n",
       "</tr>\n",
       "</table>"
      ],
      "text/plain": [
       "<class 'statsmodels.iolib.table.SimpleTable'>"
      ]
     },
     "execution_count": 316,
     "metadata": {},
     "output_type": "execute_result"
    }
   ],
   "source": [
    "compare('고령인구','범죄빈도_4')"
   ]
  },
  {
   "cell_type": "code",
   "execution_count": 317,
   "metadata": {},
   "outputs": [
    {
     "data": {
      "text/html": [
       "<table class=\"simpletable\">\n",
       "<caption>Test Multiple Comparison ttest_ind \n",
       "FWER=0.05 method=bonf\n",
       "alphacSidak=0.01, alphacBonf=0.008</caption>\n",
       "<tr>\n",
       "  <th>group1</th> <th>group2</th>   <th>stat</th>    <th>pval</th>  <th>pval_corr</th> <th>reject</th>\n",
       "</tr>\n",
       "<tr>\n",
       "     <td>0</td>      <td>1</td>   <td>-17.8934</td>   <td>0.0</td>     <td>0.0</td>     <td>True</td> \n",
       "</tr>\n",
       "<tr>\n",
       "     <td>0</td>      <td>2</td>   <td>-32.1762</td>   <td>0.0</td>     <td>0.0</td>     <td>True</td> \n",
       "</tr>\n",
       "<tr>\n",
       "     <td>0</td>      <td>3</td>   <td>-14.0524</td>   <td>0.0</td>     <td>0.0</td>     <td>True</td> \n",
       "</tr>\n",
       "<tr>\n",
       "     <td>1</td>      <td>2</td>   <td>-10.3203</td>   <td>0.0</td>     <td>0.0</td>     <td>True</td> \n",
       "</tr>\n",
       "<tr>\n",
       "     <td>1</td>      <td>3</td>    <td>-2.1623</td> <td>0.0309</td>  <td>0.1855</td>    <td>False</td>\n",
       "</tr>\n",
       "<tr>\n",
       "     <td>2</td>      <td>3</td>     <td>0.946</td>  <td>0.3449</td>    <td>1.0</td>     <td>False</td>\n",
       "</tr>\n",
       "</table>"
      ],
      "text/plain": [
       "<class 'statsmodels.iolib.table.SimpleTable'>"
      ]
     },
     "execution_count": 317,
     "metadata": {},
     "output_type": "execute_result"
    }
   ],
   "source": [
    "compare('성폭력취약인구','범죄빈도_4')"
   ]
  },
  {
   "cell_type": "code",
   "execution_count": 318,
   "metadata": {},
   "outputs": [
    {
     "data": {
      "text/html": [
       "<table class=\"simpletable\">\n",
       "<caption>Test Multiple Comparison ttest_ind \n",
       "FWER=0.05 method=bonf\n",
       "alphacSidak=0.01, alphacBonf=0.008</caption>\n",
       "<tr>\n",
       "  <th>group1</th> <th>group2</th>   <th>stat</th>    <th>pval</th>  <th>pval_corr</th> <th>reject</th>\n",
       "</tr>\n",
       "<tr>\n",
       "     <td>0</td>      <td>1</td>   <td>-10.0003</td>   <td>0.0</td>     <td>0.0</td>     <td>True</td> \n",
       "</tr>\n",
       "<tr>\n",
       "     <td>0</td>      <td>2</td>   <td>-13.6534</td>   <td>0.0</td>     <td>0.0</td>     <td>True</td> \n",
       "</tr>\n",
       "<tr>\n",
       "     <td>0</td>      <td>3</td>   <td>-17.4204</td>   <td>0.0</td>     <td>0.0</td>     <td>True</td> \n",
       "</tr>\n",
       "<tr>\n",
       "     <td>1</td>      <td>2</td>    <td>-1.6813</td>  <td>0.093</td>  <td>0.5581</td>    <td>False</td>\n",
       "</tr>\n",
       "<tr>\n",
       "     <td>1</td>      <td>3</td>     <td>-1.14</td>  <td>0.2547</td>    <td>1.0</td>     <td>False</td>\n",
       "</tr>\n",
       "<tr>\n",
       "     <td>2</td>      <td>3</td>    <td>-0.621</td>   <td>0.535</td>    <td>1.0</td>     <td>False</td>\n",
       "</tr>\n",
       "</table>"
      ],
      "text/plain": [
       "<class 'statsmodels.iolib.table.SimpleTable'>"
      ]
     },
     "execution_count": 318,
     "metadata": {},
     "output_type": "execute_result"
    }
   ],
   "source": [
    "compare('건축물(30_34)','범죄빈도_4')"
   ]
  },
  {
   "cell_type": "code",
   "execution_count": 319,
   "metadata": {},
   "outputs": [
    {
     "data": {
      "text/html": [
       "<table class=\"simpletable\">\n",
       "<caption>Test Multiple Comparison ttest_ind \n",
       "FWER=0.05 method=bonf\n",
       "alphacSidak=0.01, alphacBonf=0.008</caption>\n",
       "<tr>\n",
       "  <th>group1</th> <th>group2</th>   <th>stat</th>    <th>pval</th>  <th>pval_corr</th> <th>reject</th>\n",
       "</tr>\n",
       "<tr>\n",
       "     <td>0</td>      <td>1</td>   <td>-14.5551</td>   <td>0.0</td>     <td>0.0</td>     <td>True</td> \n",
       "</tr>\n",
       "<tr>\n",
       "     <td>0</td>      <td>2</td>    <td>-17.079</td>   <td>0.0</td>     <td>0.0</td>     <td>True</td> \n",
       "</tr>\n",
       "<tr>\n",
       "     <td>0</td>      <td>3</td>    <td>-7.3218</td>   <td>0.0</td>     <td>0.0</td>     <td>True</td> \n",
       "</tr>\n",
       "<tr>\n",
       "     <td>1</td>      <td>2</td>    <td>-2.1229</td>  <td>0.034</td>  <td>0.2041</td>    <td>False</td>\n",
       "</tr>\n",
       "<tr>\n",
       "     <td>1</td>      <td>3</td>    <td>1.0388</td>  <td>0.2992</td>    <td>1.0</td>     <td>False</td>\n",
       "</tr>\n",
       "<tr>\n",
       "     <td>2</td>      <td>3</td>    <td>1.5139</td>  <td>0.1311</td>  <td>0.7867</td>    <td>False</td>\n",
       "</tr>\n",
       "</table>"
      ],
      "text/plain": [
       "<class 'statsmodels.iolib.table.SimpleTable'>"
      ]
     },
     "execution_count": 319,
     "metadata": {},
     "output_type": "execute_result"
    }
   ],
   "source": [
    "compare('건축물(35)','범죄빈도_4')"
   ]
  },
  {
   "cell_type": "code",
   "execution_count": 320,
   "metadata": {},
   "outputs": [
    {
     "data": {
      "text/html": [
       "<table class=\"simpletable\">\n",
       "<caption>Test Multiple Comparison ttest_ind \n",
       "FWER=0.05 method=bonf\n",
       "alphacSidak=0.01, alphacBonf=0.008</caption>\n",
       "<tr>\n",
       "  <th>group1</th> <th>group2</th>   <th>stat</th>    <th>pval</th>  <th>pval_corr</th> <th>reject</th>\n",
       "</tr>\n",
       "<tr>\n",
       "     <td>0</td>      <td>1</td>   <td>-15.8782</td>   <td>0.0</td>     <td>0.0</td>     <td>True</td> \n",
       "</tr>\n",
       "<tr>\n",
       "     <td>0</td>      <td>2</td>   <td>-18.7504</td>   <td>0.0</td>     <td>0.0</td>     <td>True</td> \n",
       "</tr>\n",
       "<tr>\n",
       "     <td>0</td>      <td>3</td>   <td>-11.7978</td>   <td>0.0</td>     <td>0.0</td>     <td>True</td> \n",
       "</tr>\n",
       "<tr>\n",
       "     <td>1</td>      <td>2</td>    <td>-2.3656</td> <td>0.0182</td>  <td>0.1092</td>    <td>False</td>\n",
       "</tr>\n",
       "<tr>\n",
       "     <td>1</td>      <td>3</td>    <td>0.5799</td>  <td>0.5621</td>    <td>1.0</td>     <td>False</td>\n",
       "</tr>\n",
       "<tr>\n",
       "     <td>2</td>      <td>3</td>     <td>1.175</td>  <td>0.2409</td>    <td>1.0</td>     <td>False</td>\n",
       "</tr>\n",
       "</table>"
      ],
      "text/plain": [
       "<class 'statsmodels.iolib.table.SimpleTable'>"
      ]
     },
     "execution_count": 320,
     "metadata": {},
     "output_type": "execute_result"
    }
   ],
   "source": [
    "compare('건축물(30_)','범죄빈도_4')"
   ]
  },
  {
   "cell_type": "code",
   "execution_count": 321,
   "metadata": {},
   "outputs": [
    {
     "data": {
      "text/html": [
       "<table class=\"simpletable\">\n",
       "<caption>Test Multiple Comparison ttest_ind \n",
       "FWER=0.05 method=bonf\n",
       "alphacSidak=0.01, alphacBonf=0.008</caption>\n",
       "<tr>\n",
       "  <th>group1</th> <th>group2</th>  <th>stat</th>    <th>pval</th>  <th>pval_corr</th> <th>reject</th>\n",
       "</tr>\n",
       "<tr>\n",
       "     <td>0</td>      <td>1</td>   <td>-7.5764</td>   <td>0.0</td>     <td>0.0</td>     <td>True</td> \n",
       "</tr>\n",
       "<tr>\n",
       "     <td>0</td>      <td>2</td>   <td>-9.9023</td>   <td>0.0</td>     <td>0.0</td>     <td>True</td> \n",
       "</tr>\n",
       "<tr>\n",
       "     <td>0</td>      <td>3</td>   <td>-2.9682</td> <td>0.0031</td>  <td>0.0184</td>    <td>True</td> \n",
       "</tr>\n",
       "<tr>\n",
       "     <td>1</td>      <td>2</td>   <td>-5.6245</td>   <td>0.0</td>     <td>0.0</td>     <td>True</td> \n",
       "</tr>\n",
       "<tr>\n",
       "     <td>1</td>      <td>3</td>   <td>-1.9833</td> <td>0.0477</td>  <td>0.2863</td>    <td>False</td>\n",
       "</tr>\n",
       "<tr>\n",
       "     <td>2</td>      <td>3</td>   <td>-0.2097</td>  <td>0.834</td>    <td>1.0</td>     <td>False</td>\n",
       "</tr>\n",
       "</table>"
      ],
      "text/plain": [
       "<class 'statsmodels.iolib.table.SimpleTable'>"
      ]
     },
     "execution_count": 321,
     "metadata": {},
     "output_type": "execute_result"
    }
   ],
   "source": [
    "compare('개별주택가격','범죄빈도_4')"
   ]
  },
  {
   "cell_type": "code",
   "execution_count": 322,
   "metadata": {},
   "outputs": [
    {
     "data": {
      "text/html": [
       "<table class=\"simpletable\">\n",
       "<caption>Test Multiple Comparison ttest_ind \n",
       "FWER=0.05 method=bonf\n",
       "alphacSidak=0.01, alphacBonf=0.008</caption>\n",
       "<tr>\n",
       "  <th>group1</th> <th>group2</th>   <th>stat</th>    <th>pval</th>  <th>pval_corr</th> <th>reject</th>\n",
       "</tr>\n",
       "<tr>\n",
       "     <td>0</td>      <td>1</td>   <td>-20.3065</td>   <td>0.0</td>     <td>0.0</td>     <td>True</td> \n",
       "</tr>\n",
       "<tr>\n",
       "     <td>0</td>      <td>2</td>   <td>-32.8386</td>   <td>0.0</td>     <td>0.0</td>     <td>True</td> \n",
       "</tr>\n",
       "<tr>\n",
       "     <td>0</td>      <td>3</td>   <td>-18.4311</td>   <td>0.0</td>     <td>0.0</td>     <td>True</td> \n",
       "</tr>\n",
       "<tr>\n",
       "     <td>1</td>      <td>2</td>   <td>-11.2127</td>   <td>0.0</td>     <td>0.0</td>     <td>True</td> \n",
       "</tr>\n",
       "<tr>\n",
       "     <td>1</td>      <td>3</td>    <td>-7.2646</td>   <td>0.0</td>     <td>0.0</td>     <td>True</td> \n",
       "</tr>\n",
       "<tr>\n",
       "     <td>2</td>      <td>3</td>    <td>-3.1847</td> <td>0.0016</td>  <td>0.0096</td>    <td>True</td> \n",
       "</tr>\n",
       "</table>"
      ],
      "text/plain": [
       "<class 'statsmodels.iolib.table.SimpleTable'>"
      ]
     },
     "execution_count": 322,
     "metadata": {},
     "output_type": "execute_result"
    }
   ],
   "source": [
    "compare('공시지가','범죄빈도_4')"
   ]
  },
  {
   "cell_type": "code",
   "execution_count": 323,
   "metadata": {},
   "outputs": [
    {
     "data": {
      "text/html": [
       "<table class=\"simpletable\">\n",
       "<caption>Test Multiple Comparison ttest_ind \n",
       "FWER=0.05 method=bonf\n",
       "alphacSidak=0.01, alphacBonf=0.008</caption>\n",
       "<tr>\n",
       "  <th>group1</th> <th>group2</th>   <th>stat</th>    <th>pval</th>  <th>pval_corr</th> <th>reject</th>\n",
       "</tr>\n",
       "<tr>\n",
       "     <td>0</td>      <td>1</td>    <td>-4.2461</td>   <td>0.0</td>   <td>0.0001</td>    <td>True</td> \n",
       "</tr>\n",
       "<tr>\n",
       "     <td>0</td>      <td>2</td>   <td>-10.2877</td>   <td>0.0</td>     <td>0.0</td>     <td>True</td> \n",
       "</tr>\n",
       "<tr>\n",
       "     <td>0</td>      <td>3</td>   <td>-15.1363</td>   <td>0.0</td>     <td>0.0</td>     <td>True</td> \n",
       "</tr>\n",
       "<tr>\n",
       "     <td>1</td>      <td>2</td>    <td>-5.9717</td>   <td>0.0</td>     <td>0.0</td>     <td>True</td> \n",
       "</tr>\n",
       "<tr>\n",
       "     <td>1</td>      <td>3</td>    <td>-7.7485</td>   <td>0.0</td>     <td>0.0</td>     <td>True</td> \n",
       "</tr>\n",
       "<tr>\n",
       "     <td>2</td>      <td>3</td>    <td>-2.5983</td> <td>0.0098</td>   <td>0.059</td>    <td>False</td>\n",
       "</tr>\n",
       "</table>"
      ],
      "text/plain": [
       "<class 'statsmodels.iolib.table.SimpleTable'>"
      ]
     },
     "execution_count": 323,
     "metadata": {},
     "output_type": "execute_result"
    }
   ],
   "source": [
    "compare('공영주차장','범죄빈도_4')"
   ]
  },
  {
   "cell_type": "code",
   "execution_count": 324,
   "metadata": {},
   "outputs": [
    {
     "data": {
      "text/html": [
       "<table class=\"simpletable\">\n",
       "<caption>Test Multiple Comparison ttest_ind \n",
       "FWER=0.05 method=bonf\n",
       "alphacSidak=0.01, alphacBonf=0.008</caption>\n",
       "<tr>\n",
       "  <th>group1</th> <th>group2</th>   <th>stat</th>    <th>pval</th>  <th>pval_corr</th> <th>reject</th>\n",
       "</tr>\n",
       "<tr>\n",
       "     <td>0</td>      <td>1</td>    <td>-6.974</td>    <td>0.0</td>     <td>0.0</td>     <td>True</td> \n",
       "</tr>\n",
       "<tr>\n",
       "     <td>0</td>      <td>2</td>   <td>-10.5104</td>   <td>0.0</td>     <td>0.0</td>     <td>True</td> \n",
       "</tr>\n",
       "<tr>\n",
       "     <td>0</td>      <td>3</td>    <td>-5.1539</td>   <td>0.0</td>     <td>0.0</td>     <td>True</td> \n",
       "</tr>\n",
       "<tr>\n",
       "     <td>1</td>      <td>2</td>    <td>-4.1597</td>   <td>0.0</td>   <td>0.0002</td>    <td>True</td> \n",
       "</tr>\n",
       "<tr>\n",
       "     <td>1</td>      <td>3</td>    <td>-1.8717</td> <td>0.0616</td>  <td>0.3698</td>    <td>False</td>\n",
       "</tr>\n",
       "<tr>\n",
       "     <td>2</td>      <td>3</td>    <td>-0.2917</td> <td>0.7707</td>    <td>1.0</td>     <td>False</td>\n",
       "</tr>\n",
       "</table>"
      ],
      "text/plain": [
       "<class 'statsmodels.iolib.table.SimpleTable'>"
      ]
     },
     "execution_count": 324,
     "metadata": {},
     "output_type": "execute_result"
    }
   ],
   "source": [
    "compare('공중화장실','범죄빈도_4')"
   ]
  },
  {
   "cell_type": "code",
   "execution_count": 325,
   "metadata": {},
   "outputs": [
    {
     "data": {
      "text/html": [
       "<table class=\"simpletable\">\n",
       "<caption>Test Multiple Comparison ttest_ind \n",
       "FWER=0.05 method=bonf\n",
       "alphacSidak=0.01, alphacBonf=0.008</caption>\n",
       "<tr>\n",
       "  <th>group1</th> <th>group2</th>   <th>stat</th>    <th>pval</th>  <th>pval_corr</th> <th>reject</th>\n",
       "</tr>\n",
       "<tr>\n",
       "     <td>0</td>      <td>1</td>   <td>-11.9096</td>   <td>0.0</td>     <td>0.0</td>     <td>True</td> \n",
       "</tr>\n",
       "<tr>\n",
       "     <td>0</td>      <td>2</td>   <td>-23.0476</td>   <td>0.0</td>     <td>0.0</td>     <td>True</td> \n",
       "</tr>\n",
       "<tr>\n",
       "     <td>0</td>      <td>3</td>   <td>-18.7941</td>   <td>0.0</td>     <td>0.0</td>     <td>True</td> \n",
       "</tr>\n",
       "<tr>\n",
       "     <td>1</td>      <td>2</td>    <td>-9.3375</td>   <td>0.0</td>     <td>0.0</td>     <td>True</td> \n",
       "</tr>\n",
       "<tr>\n",
       "     <td>1</td>      <td>3</td>    <td>-1.4611</td> <td>0.1444</td>  <td>0.8665</td>    <td>False</td>\n",
       "</tr>\n",
       "<tr>\n",
       "     <td>2</td>      <td>3</td>    <td>1.2047</td>  <td>0.2293</td>    <td>1.0</td>     <td>False</td>\n",
       "</tr>\n",
       "</table>"
      ],
      "text/plain": [
       "<class 'statsmodels.iolib.table.SimpleTable'>"
      ]
     },
     "execution_count": 325,
     "metadata": {},
     "output_type": "execute_result"
    }
   ],
   "source": [
    "compare('교육시설','범죄빈도_4')"
   ]
  },
  {
   "cell_type": "code",
   "execution_count": 326,
   "metadata": {},
   "outputs": [
    {
     "data": {
      "text/html": [
       "<table class=\"simpletable\">\n",
       "<caption>Test Multiple Comparison ttest_ind \n",
       "FWER=0.05 method=bonf\n",
       "alphacSidak=0.01, alphacBonf=0.008</caption>\n",
       "<tr>\n",
       "  <th>group1</th> <th>group2</th>  <th>stat</th>    <th>pval</th>  <th>pval_corr</th> <th>reject</th>\n",
       "</tr>\n",
       "<tr>\n",
       "     <td>0</td>      <td>1</td>   <td>-3.6117</td> <td>0.0003</td>  <td>0.0019</td>    <td>True</td> \n",
       "</tr>\n",
       "<tr>\n",
       "     <td>0</td>      <td>2</td>   <td>-8.9652</td>   <td>0.0</td>     <td>0.0</td>     <td>True</td> \n",
       "</tr>\n",
       "<tr>\n",
       "     <td>0</td>      <td>3</td>   <td>-7.5316</td>   <td>0.0</td>     <td>0.0</td>     <td>True</td> \n",
       "</tr>\n",
       "<tr>\n",
       "     <td>1</td>      <td>2</td>   <td>-4.738</td>    <td>0.0</td>     <td>0.0</td>     <td>True</td> \n",
       "</tr>\n",
       "<tr>\n",
       "     <td>1</td>      <td>3</td>   <td>-2.3247</td> <td>0.0204</td>  <td>0.1222</td>    <td>False</td>\n",
       "</tr>\n",
       "<tr>\n",
       "     <td>2</td>      <td>3</td>   <td>-0.2696</td> <td>0.7876</td>    <td>1.0</td>     <td>False</td>\n",
       "</tr>\n",
       "</table>"
      ],
      "text/plain": [
       "<class 'statsmodels.iolib.table.SimpleTable'>"
      ]
     },
     "execution_count": 326,
     "metadata": {},
     "output_type": "execute_result"
    }
   ],
   "source": [
    "compare('대규모점포','범죄빈도_4')"
   ]
  },
  {
   "cell_type": "code",
   "execution_count": 327,
   "metadata": {},
   "outputs": [
    {
     "data": {
      "text/html": [
       "<table class=\"simpletable\">\n",
       "<caption>Test Multiple Comparison ttest_ind \n",
       "FWER=0.05 method=bonf\n",
       "alphacSidak=0.01, alphacBonf=0.008</caption>\n",
       "<tr>\n",
       "  <th>group1</th> <th>group2</th>   <th>stat</th>    <th>pval</th>  <th>pval_corr</th> <th>reject</th>\n",
       "</tr>\n",
       "<tr>\n",
       "     <td>0</td>      <td>1</td>    <td>-5.6544</td>   <td>0.0</td>     <td>0.0</td>     <td>True</td> \n",
       "</tr>\n",
       "<tr>\n",
       "     <td>0</td>      <td>2</td>   <td>-10.9379</td>   <td>0.0</td>     <td>0.0</td>     <td>True</td> \n",
       "</tr>\n",
       "<tr>\n",
       "     <td>0</td>      <td>3</td>    <td>-7.3955</td>   <td>0.0</td>     <td>0.0</td>     <td>True</td> \n",
       "</tr>\n",
       "<tr>\n",
       "     <td>1</td>      <td>2</td>    <td>-4.4304</td>   <td>0.0</td>   <td>0.0001</td>    <td>True</td> \n",
       "</tr>\n",
       "<tr>\n",
       "     <td>1</td>      <td>3</td>    <td>-0.783</td>  <td>0.4339</td>    <td>1.0</td>     <td>False</td>\n",
       "</tr>\n",
       "<tr>\n",
       "     <td>2</td>      <td>3</td>    <td>0.5132</td>  <td>0.6082</td>    <td>1.0</td>     <td>False</td>\n",
       "</tr>\n",
       "</table>"
      ],
      "text/plain": [
       "<class 'statsmodels.iolib.table.SimpleTable'>"
      ]
     },
     "execution_count": 327,
     "metadata": {},
     "output_type": "execute_result"
    }
   ],
   "source": [
    "compare('대부업현황','범죄빈도_4')"
   ]
  },
  {
   "cell_type": "code",
   "execution_count": 328,
   "metadata": {},
   "outputs": [
    {
     "data": {
      "text/html": [
       "<table class=\"simpletable\">\n",
       "<caption>Test Multiple Comparison ttest_ind \n",
       "FWER=0.05 method=bonf\n",
       "alphacSidak=0.01, alphacBonf=0.008</caption>\n",
       "<tr>\n",
       "  <th>group1</th> <th>group2</th>   <th>stat</th>    <th>pval</th>  <th>pval_corr</th> <th>reject</th>\n",
       "</tr>\n",
       "<tr>\n",
       "     <td>0</td>      <td>1</td>    <td>-2.5302</td> <td>0.0115</td>  <td>0.0689</td>    <td>False</td>\n",
       "</tr>\n",
       "<tr>\n",
       "     <td>0</td>      <td>2</td>    <td>-6.7465</td>   <td>0.0</td>     <td>0.0</td>     <td>True</td> \n",
       "</tr>\n",
       "<tr>\n",
       "     <td>0</td>      <td>3</td>   <td>-17.8189</td>   <td>0.0</td>     <td>0.0</td>     <td>True</td> \n",
       "</tr>\n",
       "<tr>\n",
       "     <td>1</td>      <td>2</td>    <td>-5.1672</td>   <td>0.0</td>     <td>0.0</td>     <td>True</td> \n",
       "</tr>\n",
       "<tr>\n",
       "     <td>1</td>      <td>3</td>   <td>-14.2067</td>   <td>0.0</td>     <td>0.0</td>     <td>True</td> \n",
       "</tr>\n",
       "<tr>\n",
       "     <td>2</td>      <td>3</td>    <td>-5.2944</td>   <td>0.0</td>     <td>0.0</td>     <td>True</td> \n",
       "</tr>\n",
       "</table>"
      ],
      "text/plain": [
       "<class 'statsmodels.iolib.table.SimpleTable'>"
      ]
     },
     "execution_count": 328,
     "metadata": {},
     "output_type": "execute_result"
    }
   ],
   "source": [
    "compare('룸살롱','범죄빈도_4')"
   ]
  },
  {
   "cell_type": "code",
   "execution_count": 329,
   "metadata": {},
   "outputs": [
    {
     "data": {
      "text/html": [
       "<table class=\"simpletable\">\n",
       "<caption>Test Multiple Comparison ttest_ind \n",
       "FWER=0.05 method=bonf\n",
       "alphacSidak=0.01, alphacBonf=0.008</caption>\n",
       "<tr>\n",
       "  <th>group1</th> <th>group2</th>   <th>stat</th>    <th>pval</th>  <th>pval_corr</th> <th>reject</th>\n",
       "</tr>\n",
       "<tr>\n",
       "     <td>0</td>      <td>1</td>   <td>-12.3024</td>   <td>0.0</td>     <td>0.0</td>     <td>True</td> \n",
       "</tr>\n",
       "<tr>\n",
       "     <td>0</td>      <td>2</td>   <td>-18.7395</td>   <td>0.0</td>     <td>0.0</td>     <td>True</td> \n",
       "</tr>\n",
       "<tr>\n",
       "     <td>0</td>      <td>3</td>   <td>-12.6008</td>   <td>0.0</td>     <td>0.0</td>     <td>True</td> \n",
       "</tr>\n",
       "<tr>\n",
       "     <td>1</td>      <td>2</td>    <td>-6.6091</td>   <td>0.0</td>     <td>0.0</td>     <td>True</td> \n",
       "</tr>\n",
       "<tr>\n",
       "     <td>1</td>      <td>3</td>    <td>-4.1271</td>   <td>0.0</td>   <td>0.0002</td>    <td>True</td> \n",
       "</tr>\n",
       "<tr>\n",
       "     <td>2</td>      <td>3</td>    <td>-1.346</td>  <td>0.1793</td>    <td>1.0</td>     <td>False</td>\n",
       "</tr>\n",
       "</table>"
      ],
      "text/plain": [
       "<class 'statsmodels.iolib.table.SimpleTable'>"
      ]
     },
     "execution_count": 329,
     "metadata": {},
     "output_type": "execute_result"
    }
   ],
   "source": [
    "compare('버스정류장','범죄빈도_4')"
   ]
  },
  {
   "cell_type": "code",
   "execution_count": 330,
   "metadata": {},
   "outputs": [
    {
     "data": {
      "text/html": [
       "<table class=\"simpletable\">\n",
       "<caption>Test Multiple Comparison ttest_ind \n",
       "FWER=0.05 method=bonf\n",
       "alphacSidak=0.01, alphacBonf=0.008</caption>\n",
       "<tr>\n",
       "  <th>group1</th> <th>group2</th>   <th>stat</th>    <th>pval</th>  <th>pval_corr</th> <th>reject</th>\n",
       "</tr>\n",
       "<tr>\n",
       "     <td>0</td>      <td>1</td>   <td>-15.1189</td>   <td>0.0</td>     <td>0.0</td>     <td>True</td> \n",
       "</tr>\n",
       "<tr>\n",
       "     <td>0</td>      <td>2</td>    <td>-12.742</td>   <td>0.0</td>     <td>0.0</td>     <td>True</td> \n",
       "</tr>\n",
       "<tr>\n",
       "     <td>0</td>      <td>3</td>    <td>1.3545</td>  <td>0.1759</td>    <td>1.0</td>     <td>False</td>\n",
       "</tr>\n",
       "<tr>\n",
       "     <td>1</td>      <td>2</td>    <td>1.2562</td>  <td>0.2093</td>    <td>1.0</td>     <td>False</td>\n",
       "</tr>\n",
       "<tr>\n",
       "     <td>1</td>      <td>3</td>    <td>2.5137</td>  <td>0.0122</td>   <td>0.073</td>    <td>False</td>\n",
       "</tr>\n",
       "<tr>\n",
       "     <td>2</td>      <td>3</td>    <td>2.3776</td>  <td>0.0181</td>  <td>0.1083</td>    <td>False</td>\n",
       "</tr>\n",
       "</table>"
      ],
      "text/plain": [
       "<class 'statsmodels.iolib.table.SimpleTable'>"
      ]
     },
     "execution_count": 330,
     "metadata": {},
     "output_type": "execute_result"
    }
   ],
   "source": [
    "compare('보안등','범죄빈도_4')"
   ]
  },
  {
   "cell_type": "code",
   "execution_count": 331,
   "metadata": {},
   "outputs": [
    {
     "data": {
      "text/html": [
       "<table class=\"simpletable\">\n",
       "<caption>Test Multiple Comparison ttest_ind \n",
       "FWER=0.05 method=bonf\n",
       "alphacSidak=0.01, alphacBonf=0.008</caption>\n",
       "<tr>\n",
       "  <th>group1</th> <th>group2</th>   <th>stat</th>    <th>pval</th>  <th>pval_corr</th> <th>reject</th>\n",
       "</tr>\n",
       "<tr>\n",
       "     <td>0</td>      <td>1</td>   <td>-20.3942</td>   <td>0.0</td>     <td>0.0</td>     <td>True</td> \n",
       "</tr>\n",
       "<tr>\n",
       "     <td>0</td>      <td>2</td>   <td>-32.6439</td>   <td>0.0</td>     <td>0.0</td>     <td>True</td> \n",
       "</tr>\n",
       "<tr>\n",
       "     <td>0</td>      <td>3</td>   <td>-42.8504</td>   <td>0.0</td>     <td>0.0</td>     <td>True</td> \n",
       "</tr>\n",
       "<tr>\n",
       "     <td>1</td>      <td>2</td>   <td>-15.4008</td>   <td>0.0</td>     <td>0.0</td>     <td>True</td> \n",
       "</tr>\n",
       "<tr>\n",
       "     <td>1</td>      <td>3</td>    <td>-8.9818</td>   <td>0.0</td>     <td>0.0</td>     <td>True</td> \n",
       "</tr>\n",
       "<tr>\n",
       "     <td>2</td>      <td>3</td>    <td>-1.264</td>  <td>0.2072</td>    <td>1.0</td>     <td>False</td>\n",
       "</tr>\n",
       "</table>"
      ],
      "text/plain": [
       "<class 'statsmodels.iolib.table.SimpleTable'>"
      ]
     },
     "execution_count": 331,
     "metadata": {},
     "output_type": "execute_result"
    }
   ],
   "source": [
    "compare('상가','범죄빈도_4')"
   ]
  },
  {
   "cell_type": "code",
   "execution_count": 332,
   "metadata": {},
   "outputs": [
    {
     "data": {
      "text/html": [
       "<table class=\"simpletable\">\n",
       "<caption>Test Multiple Comparison ttest_ind \n",
       "FWER=0.05 method=bonf\n",
       "alphacSidak=0.01, alphacBonf=0.008</caption>\n",
       "<tr>\n",
       "  <th>group1</th> <th>group2</th>   <th>stat</th>   <th>pval</th> <th>pval_corr</th> <th>reject</th>\n",
       "</tr>\n",
       "<tr>\n",
       "     <td>0</td>      <td>1</td>    <td>-5.0876</td>  <td>0.0</td>    <td>0.0</td>     <td>True</td> \n",
       "</tr>\n",
       "<tr>\n",
       "     <td>0</td>      <td>2</td>    <td>-9.9895</td>  <td>0.0</td>    <td>0.0</td>     <td>True</td> \n",
       "</tr>\n",
       "<tr>\n",
       "     <td>0</td>      <td>3</td>   <td>-21.6551</td>  <td>0.0</td>    <td>0.0</td>     <td>True</td> \n",
       "</tr>\n",
       "<tr>\n",
       "     <td>1</td>      <td>2</td>    <td>-5.3601</td>  <td>0.0</td>    <td>0.0</td>     <td>True</td> \n",
       "</tr>\n",
       "<tr>\n",
       "     <td>1</td>      <td>3</td>   <td>-11.9141</td>  <td>0.0</td>    <td>0.0</td>     <td>True</td> \n",
       "</tr>\n",
       "<tr>\n",
       "     <td>2</td>      <td>3</td>    <td>-5.0409</td>  <td>0.0</td>    <td>0.0</td>     <td>True</td> \n",
       "</tr>\n",
       "</table>"
      ],
      "text/plain": [
       "<class 'statsmodels.iolib.table.SimpleTable'>"
      ]
     },
     "execution_count": 332,
     "metadata": {},
     "output_type": "execute_result"
    }
   ],
   "source": [
    "compare('숙박업소','범죄빈도_4')"
   ]
  },
  {
   "cell_type": "code",
   "execution_count": 333,
   "metadata": {},
   "outputs": [
    {
     "data": {
      "text/html": [
       "<table class=\"simpletable\">\n",
       "<caption>Test Multiple Comparison ttest_ind \n",
       "FWER=0.05 method=bonf\n",
       "alphacSidak=0.01, alphacBonf=0.008</caption>\n",
       "<tr>\n",
       "  <th>group1</th> <th>group2</th>   <th>stat</th>   <th>pval</th> <th>pval_corr</th> <th>reject</th>\n",
       "</tr>\n",
       "<tr>\n",
       "     <td>0</td>      <td>1</td>   <td>-10.3625</td>  <td>0.0</td>    <td>0.0</td>     <td>True</td> \n",
       "</tr>\n",
       "<tr>\n",
       "     <td>0</td>      <td>2</td>   <td>-20.7019</td>  <td>0.0</td>    <td>0.0</td>     <td>True</td> \n",
       "</tr>\n",
       "<tr>\n",
       "     <td>0</td>      <td>3</td>   <td>-34.3419</td>  <td>0.0</td>    <td>0.0</td>     <td>True</td> \n",
       "</tr>\n",
       "<tr>\n",
       "     <td>1</td>      <td>2</td>    <td>-13.021</td>  <td>0.0</td>    <td>0.0</td>     <td>True</td> \n",
       "</tr>\n",
       "<tr>\n",
       "     <td>1</td>      <td>3</td>   <td>-22.1645</td>  <td>0.0</td>    <td>0.0</td>     <td>True</td> \n",
       "</tr>\n",
       "<tr>\n",
       "     <td>2</td>      <td>3</td>    <td>-7.588</td>   <td>0.0</td>    <td>0.0</td>     <td>True</td> \n",
       "</tr>\n",
       "</table>"
      ],
      "text/plain": [
       "<class 'statsmodels.iolib.table.SimpleTable'>"
      ]
     },
     "execution_count": 333,
     "metadata": {},
     "output_type": "execute_result"
    }
   ],
   "source": [
    "compare('술집','범죄빈도_4')"
   ]
  },
  {
   "cell_type": "code",
   "execution_count": 334,
   "metadata": {},
   "outputs": [
    {
     "data": {
      "text/html": [
       "<table class=\"simpletable\">\n",
       "<caption>Test Multiple Comparison ttest_ind \n",
       "FWER=0.05 method=bonf\n",
       "alphacSidak=0.01, alphacBonf=0.008</caption>\n",
       "<tr>\n",
       "  <th>group1</th> <th>group2</th>  <th>stat</th>    <th>pval</th>  <th>pval_corr</th> <th>reject</th>\n",
       "</tr>\n",
       "<tr>\n",
       "     <td>0</td>      <td>1</td>   <td>-6.058</td>    <td>0.0</td>     <td>0.0</td>     <td>True</td> \n",
       "</tr>\n",
       "<tr>\n",
       "     <td>0</td>      <td>2</td>   <td>-9.9415</td>   <td>0.0</td>     <td>0.0</td>     <td>True</td> \n",
       "</tr>\n",
       "<tr>\n",
       "     <td>0</td>      <td>3</td>   <td>-3.4142</td> <td>0.0007</td>   <td>0.004</td>    <td>True</td> \n",
       "</tr>\n",
       "<tr>\n",
       "     <td>1</td>      <td>2</td>   <td>-4.0735</td>   <td>0.0</td>   <td>0.0003</td>    <td>True</td> \n",
       "</tr>\n",
       "<tr>\n",
       "     <td>1</td>      <td>3</td>   <td>-1.0246</td> <td>0.3059</td>    <td>1.0</td>     <td>False</td>\n",
       "</tr>\n",
       "<tr>\n",
       "     <td>2</td>      <td>3</td>   <td>0.2438</td>  <td>0.8075</td>    <td>1.0</td>     <td>False</td>\n",
       "</tr>\n",
       "</table>"
      ],
      "text/plain": [
       "<class 'statsmodels.iolib.table.SimpleTable'>"
      ]
     },
     "execution_count": 334,
     "metadata": {},
     "output_type": "execute_result"
    }
   ],
   "source": [
    "compare('어린이보호','범죄빈도_4')"
   ]
  },
  {
   "cell_type": "code",
   "execution_count": 335,
   "metadata": {},
   "outputs": [
    {
     "data": {
      "text/html": [
       "<table class=\"simpletable\">\n",
       "<caption>Test Multiple Comparison ttest_ind \n",
       "FWER=0.05 method=bonf\n",
       "alphacSidak=0.01, alphacBonf=0.008</caption>\n",
       "<tr>\n",
       "  <th>group1</th> <th>group2</th>   <th>stat</th>    <th>pval</th>  <th>pval_corr</th> <th>reject</th>\n",
       "</tr>\n",
       "<tr>\n",
       "     <td>0</td>      <td>1</td>   <td>-11.1562</td>   <td>0.0</td>     <td>0.0</td>     <td>True</td> \n",
       "</tr>\n",
       "<tr>\n",
       "     <td>0</td>      <td>2</td>   <td>-15.9511</td>   <td>0.0</td>     <td>0.0</td>     <td>True</td> \n",
       "</tr>\n",
       "<tr>\n",
       "     <td>0</td>      <td>3</td>    <td>-6.9688</td>   <td>0.0</td>     <td>0.0</td>     <td>True</td> \n",
       "</tr>\n",
       "<tr>\n",
       "     <td>1</td>      <td>2</td>    <td>-5.2876</td>   <td>0.0</td>     <td>0.0</td>     <td>True</td> \n",
       "</tr>\n",
       "<tr>\n",
       "     <td>1</td>      <td>3</td>    <td>-0.6313</td>  <td>0.528</td>    <td>1.0</td>     <td>False</td>\n",
       "</tr>\n",
       "<tr>\n",
       "     <td>2</td>      <td>3</td>    <td>0.8002</td>  <td>0.4242</td>    <td>1.0</td>     <td>False</td>\n",
       "</tr>\n",
       "</table>"
      ],
      "text/plain": [
       "<class 'statsmodels.iolib.table.SimpleTable'>"
      ]
     },
     "execution_count": 335,
     "metadata": {},
     "output_type": "execute_result"
    }
   ],
   "source": [
    "compare('어린이집','범죄빈도_4')"
   ]
  },
  {
   "cell_type": "code",
   "execution_count": 336,
   "metadata": {},
   "outputs": [
    {
     "data": {
      "text/html": [
       "<table class=\"simpletable\">\n",
       "<caption>Test Multiple Comparison ttest_ind \n",
       "FWER=0.05 method=bonf\n",
       "alphacSidak=0.01, alphacBonf=0.008</caption>\n",
       "<tr>\n",
       "  <th>group1</th> <th>group2</th>   <th>stat</th>   <th>pval</th> <th>pval_corr</th> <th>reject</th>\n",
       "</tr>\n",
       "<tr>\n",
       "     <td>0</td>      <td>1</td>   <td>-11.1646</td>  <td>0.0</td>    <td>0.0</td>     <td>True</td> \n",
       "</tr>\n",
       "<tr>\n",
       "     <td>0</td>      <td>2</td>    <td>-20.901</td>  <td>0.0</td>    <td>0.0</td>     <td>True</td> \n",
       "</tr>\n",
       "<tr>\n",
       "     <td>0</td>      <td>3</td>    <td>-28.253</td>  <td>0.0</td>    <td>0.0</td>     <td>True</td> \n",
       "</tr>\n",
       "<tr>\n",
       "     <td>1</td>      <td>2</td>   <td>-10.2555</td>  <td>0.0</td>    <td>0.0</td>     <td>True</td> \n",
       "</tr>\n",
       "<tr>\n",
       "     <td>1</td>      <td>3</td>   <td>-15.5633</td>  <td>0.0</td>    <td>0.0</td>     <td>True</td> \n",
       "</tr>\n",
       "<tr>\n",
       "     <td>2</td>      <td>3</td>    <td>-6.7487</td>  <td>0.0</td>    <td>0.0</td>     <td>True</td> \n",
       "</tr>\n",
       "</table>"
      ],
      "text/plain": [
       "<class 'statsmodels.iolib.table.SimpleTable'>"
      ]
     },
     "execution_count": 336,
     "metadata": {},
     "output_type": "execute_result"
    }
   ],
   "source": [
    "compare('오락시설','범죄빈도_4')"
   ]
  },
  {
   "cell_type": "code",
   "execution_count": 337,
   "metadata": {},
   "outputs": [
    {
     "data": {
      "text/html": [
       "<table class=\"simpletable\">\n",
       "<caption>Test Multiple Comparison ttest_ind \n",
       "FWER=0.05 method=bonf\n",
       "alphacSidak=0.01, alphacBonf=0.008</caption>\n",
       "<tr>\n",
       "  <th>group1</th> <th>group2</th>   <th>stat</th>    <th>pval</th>  <th>pval_corr</th> <th>reject</th>\n",
       "</tr>\n",
       "<tr>\n",
       "     <td>0</td>      <td>1</td>   <td>-11.5086</td>   <td>0.0</td>     <td>0.0</td>     <td>True</td> \n",
       "</tr>\n",
       "<tr>\n",
       "     <td>0</td>      <td>2</td>   <td>-19.7002</td>   <td>0.0</td>     <td>0.0</td>     <td>True</td> \n",
       "</tr>\n",
       "<tr>\n",
       "     <td>0</td>      <td>3</td>   <td>-14.7208</td>   <td>0.0</td>     <td>0.0</td>     <td>True</td> \n",
       "</tr>\n",
       "<tr>\n",
       "     <td>1</td>      <td>2</td>    <td>-7.0674</td>   <td>0.0</td>     <td>0.0</td>     <td>True</td> \n",
       "</tr>\n",
       "<tr>\n",
       "     <td>1</td>      <td>3</td>    <td>-0.9606</td> <td>0.3371</td>    <td>1.0</td>     <td>False</td>\n",
       "</tr>\n",
       "<tr>\n",
       "     <td>2</td>      <td>3</td>    <td>1.0236</td>  <td>0.3068</td>    <td>1.0</td>     <td>False</td>\n",
       "</tr>\n",
       "</table>"
      ],
      "text/plain": [
       "<class 'statsmodels.iolib.table.SimpleTable'>"
      ]
     },
     "execution_count": 337,
     "metadata": {},
     "output_type": "execute_result"
    }
   ],
   "source": [
    "compare('원룸_오피스텔','범죄빈도_4')"
   ]
  },
  {
   "cell_type": "code",
   "execution_count": 338,
   "metadata": {},
   "outputs": [
    {
     "data": {
      "text/html": [
       "<table class=\"simpletable\">\n",
       "<caption>Test Multiple Comparison ttest_ind \n",
       "FWER=0.05 method=bonf\n",
       "alphacSidak=0.01, alphacBonf=0.008</caption>\n",
       "<tr>\n",
       "  <th>group1</th> <th>group2</th>   <th>stat</th>   <th>pval</th> <th>pval_corr</th> <th>reject</th>\n",
       "</tr>\n",
       "<tr>\n",
       "     <td>0</td>      <td>1</td>   <td>-16.9116</td>  <td>0.0</td>    <td>0.0</td>     <td>True</td> \n",
       "</tr>\n",
       "<tr>\n",
       "     <td>0</td>      <td>2</td>   <td>-31.6336</td>  <td>0.0</td>    <td>0.0</td>     <td>True</td> \n",
       "</tr>\n",
       "<tr>\n",
       "     <td>0</td>      <td>3</td>   <td>-34.6836</td>  <td>0.0</td>    <td>0.0</td>     <td>True</td> \n",
       "</tr>\n",
       "<tr>\n",
       "     <td>1</td>      <td>2</td>   <td>-16.0005</td>  <td>0.0</td>    <td>0.0</td>     <td>True</td> \n",
       "</tr>\n",
       "<tr>\n",
       "     <td>1</td>      <td>3</td>   <td>-14.7453</td>  <td>0.0</td>    <td>0.0</td>     <td>True</td> \n",
       "</tr>\n",
       "<tr>\n",
       "     <td>2</td>      <td>3</td>    <td>-4.4957</td>  <td>0.0</td>  <td>0.0001</td>    <td>True</td> \n",
       "</tr>\n",
       "</table>"
      ],
      "text/plain": [
       "<class 'statsmodels.iolib.table.SimpleTable'>"
      ]
     },
     "execution_count": 338,
     "metadata": {},
     "output_type": "execute_result"
    }
   ],
   "source": [
    "compare('음식점','범죄빈도_4')"
   ]
  },
  {
   "cell_type": "code",
   "execution_count": 339,
   "metadata": {},
   "outputs": [
    {
     "data": {
      "text/html": [
       "<table class=\"simpletable\">\n",
       "<caption>Test Multiple Comparison ttest_ind \n",
       "FWER=0.05 method=bonf\n",
       "alphacSidak=0.01, alphacBonf=0.008</caption>\n",
       "<tr>\n",
       "  <th>group1</th> <th>group2</th>  <th>stat</th>    <th>pval</th>  <th>pval_corr</th> <th>reject</th>\n",
       "</tr>\n",
       "<tr>\n",
       "     <td>0</td>      <td>1</td>   <td>-5.2623</td>   <td>0.0</td>     <td>0.0</td>     <td>True</td> \n",
       "</tr>\n",
       "<tr>\n",
       "     <td>0</td>      <td>2</td>   <td>-7.5999</td>   <td>0.0</td>     <td>0.0</td>     <td>True</td> \n",
       "</tr>\n",
       "<tr>\n",
       "     <td>0</td>      <td>3</td>   <td>-3.488</td>  <td>0.0005</td>   <td>0.003</td>    <td>True</td> \n",
       "</tr>\n",
       "<tr>\n",
       "     <td>1</td>      <td>2</td>   <td>-2.2426</td> <td>0.0251</td>  <td>0.1509</td>    <td>False</td>\n",
       "</tr>\n",
       "<tr>\n",
       "     <td>1</td>      <td>3</td>   <td>-0.4092</td> <td>0.6825</td>    <td>1.0</td>     <td>False</td>\n",
       "</tr>\n",
       "<tr>\n",
       "     <td>2</td>      <td>3</td>    <td>0.249</td>  <td>0.8036</td>    <td>1.0</td>     <td>False</td>\n",
       "</tr>\n",
       "</table>"
      ],
      "text/plain": [
       "<class 'statsmodels.iolib.table.SimpleTable'>"
      ]
     },
     "execution_count": 339,
     "metadata": {},
     "output_type": "execute_result"
    }
   ],
   "source": [
    "compare('자율방범대','범죄빈도_4')"
   ]
  },
  {
   "cell_type": "code",
   "execution_count": 340,
   "metadata": {},
   "outputs": [
    {
     "data": {
      "text/html": [
       "<table class=\"simpletable\">\n",
       "<caption>Test Multiple Comparison ttest_ind \n",
       "FWER=0.05 method=bonf\n",
       "alphacSidak=0.01, alphacBonf=0.008</caption>\n",
       "<tr>\n",
       "  <th>group1</th> <th>group2</th>  <th>stat</th>    <th>pval</th>  <th>pval_corr</th> <th>reject</th>\n",
       "</tr>\n",
       "<tr>\n",
       "     <td>0</td>      <td>1</td>   <td>-3.6117</td> <td>0.0003</td>  <td>0.0019</td>    <td>True</td> \n",
       "</tr>\n",
       "<tr>\n",
       "     <td>0</td>      <td>2</td>   <td>-6.128</td>    <td>0.0</td>     <td>0.0</td>     <td>True</td> \n",
       "</tr>\n",
       "<tr>\n",
       "     <td>0</td>      <td>3</td>     <td>nan</td>     <td>nan</td>     <td>nan</td>     <td>False</td>\n",
       "</tr>\n",
       "<tr>\n",
       "     <td>1</td>      <td>2</td>    <td>-2.38</td>  <td>0.0175</td>   <td>0.105</td>    <td>False</td>\n",
       "</tr>\n",
       "<tr>\n",
       "     <td>1</td>      <td>3</td>   <td>0.4918</td>   <td>0.623</td>    <td>1.0</td>     <td>False</td>\n",
       "</tr>\n",
       "<tr>\n",
       "     <td>2</td>      <td>3</td>    <td>0.833</td>  <td>0.4055</td>    <td>1.0</td>     <td>False</td>\n",
       "</tr>\n",
       "</table>"
      ],
      "text/plain": [
       "<class 'statsmodels.iolib.table.SimpleTable'>"
      ]
     },
     "execution_count": 340,
     "metadata": {},
     "output_type": "execute_result"
    }
   ],
   "source": [
    "compare('파출소','범죄빈도_4')"
   ]
  },
  {
   "cell_type": "code",
   "execution_count": 341,
   "metadata": {},
   "outputs": [
    {
     "data": {
      "text/html": [
       "<table class=\"simpletable\">\n",
       "<caption>Test Multiple Comparison ttest_ind \n",
       "FWER=0.05 method=bonf\n",
       "alphacSidak=0.01, alphacBonf=0.008</caption>\n",
       "<tr>\n",
       "  <th>group1</th> <th>group2</th>   <th>stat</th>    <th>pval</th>  <th>pval_corr</th> <th>reject</th>\n",
       "</tr>\n",
       "<tr>\n",
       "     <td>0</td>      <td>1</td>   <td>-18.7388</td>   <td>0.0</td>     <td>0.0</td>     <td>True</td> \n",
       "</tr>\n",
       "<tr>\n",
       "     <td>0</td>      <td>2</td>   <td>-29.7821</td>   <td>0.0</td>     <td>0.0</td>     <td>True</td> \n",
       "</tr>\n",
       "<tr>\n",
       "     <td>0</td>      <td>3</td>   <td>-11.0625</td>   <td>0.0</td>     <td>0.0</td>     <td>True</td> \n",
       "</tr>\n",
       "<tr>\n",
       "     <td>1</td>      <td>2</td>    <td>-8.1587</td>   <td>0.0</td>     <td>0.0</td>     <td>True</td> \n",
       "</tr>\n",
       "<tr>\n",
       "     <td>1</td>      <td>3</td>    <td>-1.2647</td> <td>0.2064</td>    <td>1.0</td>     <td>False</td>\n",
       "</tr>\n",
       "<tr>\n",
       "     <td>2</td>      <td>3</td>    <td>1.1406</td>   <td>0.255</td>    <td>1.0</td>     <td>False</td>\n",
       "</tr>\n",
       "</table>"
      ],
      "text/plain": [
       "<class 'statsmodels.iolib.table.SimpleTable'>"
      ]
     },
     "execution_count": 341,
     "metadata": {},
     "output_type": "execute_result"
    }
   ],
   "source": [
    "compare('cctv','범죄빈도_4')"
   ]
  },
  {
   "cell_type": "code",
   "execution_count": 342,
   "metadata": {},
   "outputs": [
    {
     "data": {
      "text/html": [
       "<table class=\"simpletable\">\n",
       "<caption>Test Multiple Comparison ttest_ind \n",
       "FWER=0.05 method=bonf\n",
       "alphacSidak=0.01, alphacBonf=0.008</caption>\n",
       "<tr>\n",
       "  <th>group1</th> <th>group2</th>   <th>stat</th>    <th>pval</th>  <th>pval_corr</th> <th>reject</th>\n",
       "</tr>\n",
       "<tr>\n",
       "     <td>0</td>      <td>1</td>    <td>-12.911</td>   <td>0.0</td>     <td>0.0</td>     <td>True</td> \n",
       "</tr>\n",
       "<tr>\n",
       "     <td>0</td>      <td>2</td>   <td>-16.9138</td>   <td>0.0</td>     <td>0.0</td>     <td>True</td> \n",
       "</tr>\n",
       "<tr>\n",
       "     <td>0</td>      <td>3</td>   <td>-10.1287</td>   <td>0.0</td>     <td>0.0</td>     <td>True</td> \n",
       "</tr>\n",
       "<tr>\n",
       "     <td>1</td>      <td>2</td>    <td>-3.6717</td> <td>0.0003</td>  <td>0.0015</td>    <td>True</td> \n",
       "</tr>\n",
       "<tr>\n",
       "     <td>1</td>      <td>3</td>    <td>-3.5301</td> <td>0.0004</td>  <td>0.0026</td>    <td>True</td> \n",
       "</tr>\n",
       "<tr>\n",
       "     <td>2</td>      <td>3</td>    <td>-2.4825</td> <td>0.0136</td>  <td>0.0816</td>    <td>False</td>\n",
       "</tr>\n",
       "</table>"
      ],
      "text/plain": [
       "<class 'statsmodels.iolib.table.SimpleTable'>"
      ]
     },
     "execution_count": 342,
     "metadata": {},
     "output_type": "execute_result"
    }
   ],
   "source": [
    "compare('신호등','범죄빈도_4')"
   ]
  },
  {
   "cell_type": "code",
   "execution_count": 343,
   "metadata": {},
   "outputs": [
    {
     "data": {
      "text/html": [
       "<table class=\"simpletable\">\n",
       "<caption>Test Multiple Comparison ttest_ind \n",
       "FWER=0.05 method=bonf\n",
       "alphacSidak=0.01, alphacBonf=0.008</caption>\n",
       "<tr>\n",
       "  <th>group1</th> <th>group2</th>   <th>stat</th>    <th>pval</th>  <th>pval_corr</th> <th>reject</th>\n",
       "</tr>\n",
       "<tr>\n",
       "     <td>0</td>      <td>1</td>   <td>-18.9129</td>   <td>0.0</td>     <td>0.0</td>     <td>True</td> \n",
       "</tr>\n",
       "<tr>\n",
       "     <td>0</td>      <td>2</td>   <td>-29.2606</td>   <td>0.0</td>     <td>0.0</td>     <td>True</td> \n",
       "</tr>\n",
       "<tr>\n",
       "     <td>0</td>      <td>3</td>   <td>-21.0984</td>   <td>0.0</td>     <td>0.0</td>     <td>True</td> \n",
       "</tr>\n",
       "<tr>\n",
       "     <td>1</td>      <td>2</td>    <td>-8.997</td>    <td>0.0</td>     <td>0.0</td>     <td>True</td> \n",
       "</tr>\n",
       "<tr>\n",
       "     <td>1</td>      <td>3</td>    <td>-6.1162</td>   <td>0.0</td>     <td>0.0</td>     <td>True</td> \n",
       "</tr>\n",
       "<tr>\n",
       "     <td>2</td>      <td>3</td>    <td>-2.5384</td> <td>0.0116</td>  <td>0.0699</td>    <td>False</td>\n",
       "</tr>\n",
       "</table>"
      ],
      "text/plain": [
       "<class 'statsmodels.iolib.table.SimpleTable'>"
      ]
     },
     "execution_count": 343,
     "metadata": {},
     "output_type": "execute_result"
    }
   ],
   "source": [
    "compare('횡단보도','범죄빈도_4')"
   ]
  },
  {
   "cell_type": "code",
   "execution_count": 344,
   "metadata": {},
   "outputs": [
    {
     "data": {
      "text/html": [
       "<table class=\"simpletable\">\n",
       "<caption>Test Multiple Comparison ttest_ind \n",
       "FWER=0.05 method=bonf\n",
       "alphacSidak=0.01, alphacBonf=0.008</caption>\n",
       "<tr>\n",
       "  <th>group1</th> <th>group2</th>   <th>stat</th>    <th>pval</th>  <th>pval_corr</th> <th>reject</th>\n",
       "</tr>\n",
       "<tr>\n",
       "     <td>0</td>      <td>1</td>   <td>-16.8835</td>   <td>0.0</td>     <td>0.0</td>     <td>True</td> \n",
       "</tr>\n",
       "<tr>\n",
       "     <td>0</td>      <td>2</td>   <td>-27.5213</td>   <td>0.0</td>     <td>0.0</td>     <td>True</td> \n",
       "</tr>\n",
       "<tr>\n",
       "     <td>0</td>      <td>3</td>   <td>-12.3433</td>   <td>0.0</td>     <td>0.0</td>     <td>True</td> \n",
       "</tr>\n",
       "<tr>\n",
       "     <td>1</td>      <td>2</td>    <td>-8.8725</td>   <td>0.0</td>     <td>0.0</td>     <td>True</td> \n",
       "</tr>\n",
       "<tr>\n",
       "     <td>1</td>      <td>3</td>    <td>-3.6185</td> <td>0.0003</td>  <td>0.0019</td>    <td>True</td> \n",
       "</tr>\n",
       "<tr>\n",
       "     <td>2</td>      <td>3</td>    <td>-0.734</td>  <td>0.4635</td>    <td>1.0</td>     <td>False</td>\n",
       "</tr>\n",
       "</table>"
      ],
      "text/plain": [
       "<class 'statsmodels.iolib.table.SimpleTable'>"
      ]
     },
     "execution_count": 344,
     "metadata": {},
     "output_type": "execute_result"
    }
   ],
   "source": [
    "compare('가로등','범죄빈도_4')"
   ]
  },
  {
   "cell_type": "markdown",
   "metadata": {},
   "source": [
    "### 종속변수 범주를 잘 구분해줄 것이라 판단되는 피쳐 선택 "
   ]
  },
  {
   "cell_type": "markdown",
   "metadata": {},
   "source": [
    "##### '총인구','건축물(35)','개별주택가격','공시지가','가로등','공영주차장','공중화장실','교육시설','룸살롱','버스정류장','상가','숙박업소','술집','오락시설','원룸_오피스텔','음식점' 'cctv','횡단보도'\n",
    "#### target = '폭력빈도_4'"
   ]
  },
  {
   "cell_type": "code",
   "execution_count": 38,
   "metadata": {},
   "outputs": [],
   "source": [
    "scaler = StandardScaler()\n",
    "new_grid[numerical_feats] = scaler.fit_transform(new_grid[numerical_feats])"
   ]
  },
  {
   "cell_type": "code",
   "execution_count": 39,
   "metadata": {},
   "outputs": [],
   "source": [
    "feature_list = list(new_grid.drop(columns = ['행정동코드','ID','GRADE_전체','개별주택가격','범죄빈도_4','범죄빈도_3','유소년인구','고령인구','총인구','건축물(30_34)',\n",
    "                                            '건축물(30_)', '대규모점포','대부업현황','어린이집','자율방범대','파출소','음식점']).columns)\n",
    "feature = new_grid[feature_list]\n",
    "target = new_grid[['범죄빈도_4']]"
   ]
  },
  {
   "cell_type": "code",
   "execution_count": 286,
   "metadata": {},
   "outputs": [
    {
     "data": {
      "text/plain": [
       "array([ 1.06477521,  2.59484377,  0.740061  , -4.39967999])"
      ]
     },
     "execution_count": 286,
     "metadata": {},
     "output_type": "execute_result"
    }
   ],
   "source": [
    "model.intercept_"
   ]
  },
  {
   "cell_type": "code",
   "execution_count": 276,
   "metadata": {},
   "outputs": [
    {
     "name": "stdout",
     "output_type": "stream",
     "text": [
      "Warning: Maximum number of iterations has been exceeded.\n",
      "         Current function value: 0.607294\n",
      "         Iterations: 35\n",
      "         Function evaluations: 36\n",
      "         Gradient evaluations: 36\n",
      "                          MNLogit Regression Results                          \n",
      "==============================================================================\n",
      "Dep. Variable:                 범죄빈도_4   No. Observations:                 2038\n",
      "Model:                        MNLogit   Df Residuals:                     1978\n",
      "Method:                           MLE   Df Model:                           57\n",
      "Date:                Sun, 22 Aug 2021   Pseudo R-squ.:                  0.4108\n",
      "Time:                        18:02:04   Log-Likelihood:                -1237.7\n",
      "converged:                      False   LL-Null:                       -2100.5\n",
      "Covariance Type:            nonrobust   LLR p-value:                     0.000\n",
      "==============================================================================\n",
      "  범죄빈도_4=1       coef    std err          z      P>|z|      [0.025      0.975]\n",
      "------------------------------------------------------------------------------\n",
      "건축물(35)        1.2737      0.301      4.225      0.000       0.683       1.865\n",
      "공시지가           0.2759      0.148      1.867      0.062      -0.014       0.566\n",
      "가로등            0.3684      0.105      3.512      0.000       0.163       0.574\n",
      "공영주차장          0.1251      0.137      0.916      0.360      -0.143       0.393\n",
      "공중화장실          0.1291      0.086      1.493      0.136      -0.040       0.299\n",
      "교육시설           0.8415      0.525      1.604      0.109      -0.187       1.870\n",
      "룸살롱            0.2803      4.399      0.064      0.949      -8.341       8.902\n",
      "버스정류장         -0.0050      0.114     -0.043      0.965      -0.229       0.219\n",
      "보안등            0.7546      0.149      5.072      0.000       0.463       1.046\n",
      "상가             1.6454      0.520      3.163      0.002       0.626       2.665\n",
      "숙박업소           0.1559      0.569      0.274      0.784      -0.960       1.272\n",
      "술집            -0.2179      0.659     -0.330      0.741      -1.510       1.075\n",
      "어린이보호         -0.1558      0.102     -1.534      0.125      -0.355       0.043\n",
      "오락시설           0.4067      0.605      0.673      0.501      -0.779       1.592\n",
      "원룸_오피스텔        0.7970      0.380      2.096      0.036       0.052       1.542\n",
      "cctv           0.2606      0.138      1.885      0.059      -0.010       0.532\n",
      "신호등           -0.1933      0.111     -1.735      0.083      -0.412       0.025\n",
      "횡단보도           0.7962      0.164      4.856      0.000       0.475       1.118\n",
      "성폭력취약인구        0.5367      0.165      3.250      0.001       0.213       0.860\n",
      "const          1.6544      0.460      3.593      0.000       0.752       2.557\n",
      "------------------------------------------------------------------------------\n",
      "  범죄빈도_4=2       coef    std err          z      P>|z|      [0.025      0.975]\n",
      "------------------------------------------------------------------------------\n",
      "건축물(35)        1.3626      0.309      4.416      0.000       0.758       1.967\n",
      "공시지가           0.4081      0.175      2.331      0.020       0.065       0.751\n",
      "가로등            0.4271      0.134      3.188      0.001       0.165       0.690\n",
      "공영주차장          0.2629      0.148      1.776      0.076      -0.027       0.553\n",
      "공중화장실          0.1595      0.104      1.533      0.125      -0.044       0.363\n",
      "교육시설           0.7467      0.529      1.412      0.158      -0.290       1.783\n",
      "룸살롱            0.2155      4.400      0.049      0.961      -8.408       8.839\n",
      "버스정류장          0.0916      0.130      0.707      0.480      -0.163       0.346\n",
      "보안등            0.1948      0.172      1.133      0.257      -0.142       0.532\n",
      "상가             2.1934      0.536      4.096      0.000       1.144       3.243\n",
      "숙박업소           0.3677      0.573      0.641      0.521      -0.756       1.491\n",
      "술집             0.3451      0.667      0.517      0.605      -0.963       1.653\n",
      "어린이보호         -0.0647      0.117     -0.551      0.582      -0.295       0.165\n",
      "오락시설           0.3824      0.611      0.626      0.531      -0.815       1.580\n",
      "원룸_오피스텔        0.8176      0.385      2.124      0.034       0.063       1.572\n",
      "cctv           0.5884      0.158      3.723      0.000       0.279       0.898\n",
      "신호등           -0.3243      0.138     -2.357      0.018      -0.594      -0.055\n",
      "횡단보도           0.8556      0.183      4.664      0.000       0.496       1.215\n",
      "성폭력취약인구        0.9450      0.176      5.369      0.000       0.600       1.290\n",
      "const         -0.2387      0.474     -0.504      0.614      -1.167       0.690\n",
      "------------------------------------------------------------------------------\n",
      "  범죄빈도_4=3       coef    std err          z      P>|z|      [0.025      0.975]\n",
      "------------------------------------------------------------------------------\n",
      "건축물(35)        0.7164      0.760      0.943      0.346      -0.773       2.206\n",
      "공시지가           0.8489      0.301      2.820      0.005       0.259       1.439\n",
      "가로등            0.3316      0.305      1.089      0.276      -0.265       0.929\n",
      "공영주차장          0.2939      0.231      1.275      0.202      -0.158       0.746\n",
      "공중화장실          0.1867      0.258      0.724      0.469      -0.318       0.692\n",
      "교육시설           0.3138      0.650      0.483      0.629      -0.960       1.588\n",
      "룸살롱            0.0118      4.401      0.003      0.998      -8.615       8.638\n",
      "버스정류장          0.5673      0.246      2.304      0.021       0.085       1.050\n",
      "보안등           -0.3256      0.593     -0.549      0.583      -1.488       0.837\n",
      "상가             0.8205      0.817      1.004      0.315      -0.781       2.422\n",
      "숙박업소           0.5999      0.590      1.017      0.309      -0.557       1.757\n",
      "술집             1.0893      0.709      1.535      0.125      -0.301       2.480\n",
      "어린이보호          0.0638      0.268      0.238      0.812      -0.461       0.588\n",
      "오락시설           0.7790      0.662      1.176      0.239      -0.519       2.077\n",
      "원룸_오피스텔        0.5864      0.546      1.073      0.283      -0.485       1.657\n",
      "cctv           0.8572      0.348      2.461      0.014       0.174       1.540\n",
      "신호등            0.0180      0.267      0.067      0.946      -0.506       0.542\n",
      "횡단보도           0.9175      0.317      2.897      0.004       0.297       1.538\n",
      "성폭력취약인구        1.0961      0.300      3.658      0.000       0.509       1.683\n",
      "const         -4.8714      0.977     -4.988      0.000      -6.786      -2.957\n",
      "==============================================================================\n"
     ]
    }
   ],
   "source": [
    "x = sm.add_constant(feature, prepend = False)\n",
    "\n",
    "mnlogit_mod = sm.MNLogit(target, x)\n",
    "mnlogit_fit = mnlogit_mod.fit(method='bfgs')\n",
    "\n",
    "print (mnlogit_fit.summary())"
   ]
  },
  {
   "cell_type": "code",
   "execution_count": 277,
   "metadata": {},
   "outputs": [
    {
     "data": {
      "text/plain": [
       "36"
      ]
     },
     "execution_count": 277,
     "metadata": {},
     "output_type": "execute_result"
    }
   ],
   "source": [
    "len(new_grid.columns)"
   ]
  },
  {
   "cell_type": "code",
   "execution_count": 278,
   "metadata": {},
   "outputs": [
    {
     "data": {
      "text/plain": [
       "19"
      ]
     },
     "execution_count": 278,
     "metadata": {},
     "output_type": "execute_result"
    }
   ],
   "source": [
    "len(feature.columns)"
   ]
  },
  {
   "cell_type": "code",
   "execution_count": 40,
   "metadata": {},
   "outputs": [
    {
     "data": {
      "text/plain": [
       "['건축물(35)',\n",
       " '공시지가',\n",
       " '가로등',\n",
       " '공영주차장',\n",
       " '공중화장실',\n",
       " '교육시설',\n",
       " '룸살롱',\n",
       " '버스정류장',\n",
       " '보안등',\n",
       " '상가',\n",
       " '숙박업소',\n",
       " '술집',\n",
       " '어린이보호',\n",
       " '오락시설',\n",
       " '원룸_오피스텔',\n",
       " 'cctv',\n",
       " '신호등',\n",
       " '횡단보도',\n",
       " '성폭력취약인구']"
      ]
     },
     "execution_count": 40,
     "metadata": {},
     "output_type": "execute_result"
    }
   ],
   "source": [
    "feature_list"
   ]
  },
  {
   "cell_type": "code",
   "execution_count": 41,
   "metadata": {},
   "outputs": [
    {
     "name": "stdout",
     "output_type": "stream",
     "text": [
      "accuracy = 0.7266928361138371\n"
     ]
    },
    {
     "data": {
      "text/plain": [
       "array([[961,  61,   1,   0],\n",
       "       [276, 370,  68,   0],\n",
       "       [ 12, 128, 142,   0],\n",
       "       [  0,   4,   7,   8]])"
      ]
     },
     "execution_count": 41,
     "metadata": {},
     "output_type": "execute_result"
    }
   ],
   "source": [
    "model = LogisticRegression(random_state=0, solver ='lbfgs', multi_class='multinomial')\n",
    "model.fit(X=feature, y=target) # 학습수행 \n",
    "y_pred = model.predict(X = feature)\n",
    "acc=accuracy_score(target,y_pred)\n",
    "print('accuracy =', acc) \n",
    "con_mat = confusion_matrix(y_true=target, y_pred=y_pred) \n",
    "con_mat "
   ]
  },
  {
   "cell_type": "code",
   "execution_count": 50,
   "metadata": {},
   "outputs": [],
   "source": [
    "from sklearn.model_selection import train_test_split\n",
    "\n",
    "X_train, X_test, y_train, y_test = train_test_split(feature,target, test_size=0.25, stratify=target, random_state=123456)"
   ]
  },
  {
   "cell_type": "code",
   "execution_count": 51,
   "metadata": {},
   "outputs": [],
   "source": [
    "from sklearn.ensemble import RandomForestClassifier\n",
    "\n",
    "rf = RandomForestClassifier(n_estimators=100, oob_score=True, random_state=123456)"
   ]
  },
  {
   "cell_type": "code",
   "execution_count": 53,
   "metadata": {},
   "outputs": [
    {
     "data": {
      "text/plain": [
       "RandomForestClassifier(bootstrap=True, ccp_alpha=0.0, class_weight=None,\n",
       "                       criterion='gini', max_depth=None, max_features='auto',\n",
       "                       max_leaf_nodes=None, max_samples=None,\n",
       "                       min_impurity_decrease=0.0, min_impurity_split=None,\n",
       "                       min_samples_leaf=1, min_samples_split=2,\n",
       "                       min_weight_fraction_leaf=0.0, n_estimators=100,\n",
       "                       n_jobs=None, oob_score=True, random_state=123456,\n",
       "                       verbose=0, warm_start=False)"
      ]
     },
     "execution_count": 53,
     "metadata": {},
     "output_type": "execute_result"
    }
   ],
   "source": [
    "rf.fit(X_train, y_train)"
   ]
  },
  {
   "cell_type": "code",
   "execution_count": 54,
   "metadata": {},
   "outputs": [
    {
     "name": "stdout",
     "output_type": "stream",
     "text": [
      "Out-of-bag score estimate: 0.696\n",
      "Mean accuracy score: 0.722\n"
     ]
    }
   ],
   "source": [
    "from sklearn.metrics import accuracy_score\n",
    "\n",
    "predicted = rf.predict(X_test)\n",
    "accuracy = accuracy_score(y_test, predicted)\n",
    "\n",
    "print(f'Out-of-bag score estimate: {rf.oob_score_:.3}')\n",
    "print(f'Mean accuracy score: {accuracy:.3}')"
   ]
  },
  {
   "cell_type": "code",
   "execution_count": 65,
   "metadata": {},
   "outputs": [
    {
     "data": {
      "text/plain": [
       "array(['건축물(35)', '공시지가', '가로등', '공영주차장', '공중화장실', '교육시설', '룸살롱', '버스정류장',\n",
       "       '보안등', '상가', '숙박업소', '술집', '어린이보호', '오락시설', '원룸_오피스텔', 'cctv',\n",
       "       '신호등', '횡단보도', '성폭력취약인구'], dtype='<U7')"
      ]
     },
     "execution_count": 65,
     "metadata": {},
     "output_type": "execute_result"
    }
   ],
   "source": [
    "np.array(feature_list)"
   ]
  },
  {
   "cell_type": "code",
   "execution_count": 62,
   "metadata": {},
   "outputs": [
    {
     "data": {
      "text/plain": [
       "array([0.06115342, 0.19805953, 0.06015597, 0.00429648, 0.01264053,\n",
       "       0.04614409, 0.00435015, 0.01396411, 0.06904831, 0.16266844,\n",
       "       0.00690965, 0.03511969, 0.00970778, 0.01262111, 0.04621629,\n",
       "       0.03049442, 0.03716047, 0.06909526, 0.12019433])"
      ]
     },
     "execution_count": 62,
     "metadata": {},
     "output_type": "execute_result"
    }
   ],
   "source": [
    "np.array(rf.feature_importances_)"
   ]
  },
  {
   "cell_type": "code",
   "execution_count": 66,
   "metadata": {},
   "outputs": [
    {
     "data": {
      "image/png": "[encoded data removed]",
      "text/plain": [
       "<Figure size 720x576 with 1 Axes>"
      ]
     },
     "metadata": {
      "needs_background": "light"
     },
     "output_type": "display_data"
    }
   ],
   "source": [
    "def plot_feature_importance(importance,names,model_type):\n",
    "    \n",
    "    feature_importance = np.array(importance)\n",
    "    feature_names = np.array(names)\n",
    "    \n",
    "    data={'feature_names':feature_names,'feature_importance':feature_importance}\n",
    "    fi_df = pd.DataFrame(data)\n",
    "    \n",
    "    fi_df.sort_values(by=['feature_importance'], ascending=False,inplace=True)\n",
    "\n",
    "    plt.figure(figsize=(10,8))\n",
    "\n",
    "    sns.barplot(x=fi_df['feature_importance'], y=fi_df['feature_names'])\n",
    "\n",
    "    plt.title(model_type + ' Feature Importance')\n",
    "    plt.xlabel('Feature Importance')\n",
    "    plt.ylabel('Feature Names')\n",
    "\n",
    "\n",
    "\n",
    "plot_feature_importance(rf.feature_importances_,feature_list,'Randomforest')"
   ]
  },
  {
   "cell_type": "code",
   "execution_count": 37,
   "metadata": {},
   "outputs": [
    {
     "name": "stdout",
     "output_type": "stream",
     "text": [
      "              precision    recall  f1-score   support\n",
      "\n",
      "           0       0.76      0.58      0.66      1023\n",
      "           1       0.43      0.60      0.50       714\n",
      "           2       0.51      0.46      0.49       282\n",
      "           3       0.00      0.00      0.00        19\n",
      "\n",
      "    accuracy                           0.57      2038\n",
      "   macro avg       0.42      0.41      0.41      2038\n",
      "weighted avg       0.60      0.57      0.57      2038\n",
      "\n"
     ]
    }
   ],
   "source": [
    "from sklearn.metrics import classification_report\n",
    "model.fit(X=feature, y=target) # 학습수행 \n",
    "y_pred = model.predict(X = feature)\n",
    "print(classification_report(target, y_pred))"
   ]
  },
  {
   "cell_type": "code",
   "execution_count": 282,
   "metadata": {},
   "outputs": [
    {
     "name": "stdout",
     "output_type": "stream",
     "text": [
      "학습 Accuracy = 0.73064340, 검증 Accuracy = 0.73039216\n",
      "학습 Accuracy = 0.72737186, 검증 Accuracy = 0.73039216\n",
      "학습 Accuracy = 0.72846238, 검증 Accuracy = 0.70588235\n",
      "학습 Accuracy = 0.72737186, 검증 Accuracy = 0.68627451\n",
      "학습 Accuracy = 0.72355507, 검증 Accuracy = 0.69607843\n",
      "학습 Accuracy = 0.72573610, 검증 Accuracy = 0.73039216\n",
      "학습 Accuracy = 0.73227917, 검증 Accuracy = 0.72549020\n",
      "학습 Accuracy = 0.72791712, 검증 Accuracy = 0.71078431\n",
      "학습 Accuracy = 0.72207084, 검증 Accuracy = 0.74876847\n",
      "학습 Accuracy = 0.72588556, 검증 Accuracy = 0.69458128\n",
      "[0.73039216 0.73039216 0.70588235 0.68627451 0.69607843 0.73039216\n",
      " 0.7254902  0.71078431 0.74876847 0.69458128]\n"
     ]
    },
    {
     "data": {
      "text/plain": [
       "0.7159036028204384"
      ]
     },
     "execution_count": 282,
     "metadata": {},
     "output_type": "execute_result"
    }
   ],
   "source": [
    "from sklearn.model_selection import KFold\n",
    "\n",
    "scores = np.zeros(10)\n",
    "cv = KFold(10, shuffle=True, random_state=0)\n",
    "for i, (idx_train, idx_test) in enumerate(cv.split(new_grid)):\n",
    "    df_train = new_grid.iloc[idx_train]\n",
    "    df_test = new_grid.iloc[idx_test]\n",
    "    feature = df_train[feature_list]\n",
    "    target = df_train[['범죄빈도_4']]\n",
    "    \n",
    "    \n",
    "    model = LogisticRegression(random_state=0, solver ='lbfgs', multi_class='multinomial')\n",
    "    model.fit(X=feature, y=target) # 학습수행 \n",
    "    y_pred1 = model.predict(X = feature)\n",
    "    y_pred2 = model.predict(X = df_test[feature_list])\n",
    "    acc_1=accuracy_score(target,y_pred1)\n",
    "    acc_2=accuracy_score(df_test['범죄빈도_4'],y_pred2)\n",
    "    \n",
    "    scores[i] = acc_2\n",
    "    print(\"학습 Accuracy = {:.8f}, 검증 Accuracy = {:.8f}\".format(acc_1, acc_2))\n",
    "print(scores)\n",
    "scores.mean()"
   ]
  },
  {
   "cell_type": "code",
   "execution_count": 283,
   "metadata": {},
   "outputs": [
    {
     "data": {
      "image/png": "[encoded data removed]",
      "text/plain": [
       "<Figure size 1440x1440 with 2 Axes>"
      ]
     },
     "metadata": {
      "needs_background": "light"
     },
     "output_type": "display_data"
    }
   ],
   "source": [
    "plt.figure(figsize=(20,20)) # chart size \n",
    "sns.heatmap(con_mat, annot=True, fmt=\".3f\", linewidths=.5, square = True);# , cmap = 'Blues_r' : map »ö»ó  \n",
    "plt.ylabel('Actual label'); \n",
    "plt.xlabel('Predicted label'); \n",
    "all_sample_title = 'Accuracy Score: {0}'.format(acc) \n",
    "plt.title(all_sample_title, size = 18) \n",
    "plt.show() "
   ]
  },
  {
   "cell_type": "code",
   "execution_count": 19,
   "metadata": {},
   "outputs": [],
   "source": [
    "from matplotlib import pyplot"
   ]
  },
  {
   "cell_type": "code",
   "execution_count": null,
   "metadata": {},
   "outputs": [],
   "source": []
  },
  {
   "cell_type": "code",
   "execution_count": 266,
   "metadata": {},
   "outputs": [],
   "source": [
    "pred = res_prob.predict(feature)"
   ]
  },
  {
   "cell_type": "code",
   "execution_count": 267,
   "metadata": {},
   "outputs": [],
   "source": [
    "pred['answer']=0"
   ]
  },
  {
   "cell_type": "code",
   "execution_count": 268,
   "metadata": {},
   "outputs": [],
   "source": [
    "for i in range(len(pred)) :\n",
    "    pred['answer'][i] = pred.iloc[i].idxmax()"
   ]
  },
  {
   "cell_type": "code",
   "execution_count": 269,
   "metadata": {},
   "outputs": [
    {
     "name": "stdout",
     "output_type": "stream",
     "text": [
      "accuracy = 0.4411187438665358\n"
     ]
    },
    {
     "data": {
      "text/plain": [
       "array([[765, 169,  82,   7],\n",
       "       [544, 116,  52,   2],\n",
       "       [232,  31,  18,   1],\n",
       "       [ 16,   1,   2,   0]])"
      ]
     },
     "execution_count": 269,
     "metadata": {},
     "output_type": "execute_result"
    }
   ],
   "source": [
    "acc=accuracy_score(target,pred['answer'])\n",
    "print('accuracy =', acc) \n",
    "con_mat = confusion_matrix(y_true=target, y_pred=pred['answer']) \n",
    "con_mat "
   ]
  },
  {
   "cell_type": "markdown",
   "metadata": {},
   "source": [
    "## 꽤 높은 정확도를 가짐을 알 수 있음"
   ]
  },
  {
   "cell_type": "markdown",
   "metadata": {},
   "source": [
    "### Auto ML"
   ]
  },
  {
   "cell_type": "code",
   "execution_count": 31,
   "metadata": {},
   "outputs": [],
   "source": [
    "from pycaret.classification import *"
   ]
  },
  {
   "cell_type": "code",
   "execution_count": 32,
   "metadata": {},
   "outputs": [],
   "source": [
    "feature_list = list(new_grid.drop(columns = ['행정동코드','ID','GRADE_전체','개별주택가격','범죄빈도_3','유소년인구','고령인구','총인구','건축물(30_34)',\n",
    "                                            '건축물(30_)', '대규모점포','대부업현황','어린이집','자율방범대','파출소','음식점']).columns)\n",
    "feature = new_grid[feature_list]"
   ]
  },
  {
   "cell_type": "code",
   "execution_count": 33,
   "metadata": {},
   "outputs": [
    {
     "data": {
      "text/html": [
       "<style  type=\"text/css\" >\n",
       "#T_234bd5b8_03c6_11ec_aa0e_acbc32d61fabrow42_col1,#T_234bd5b8_03c6_11ec_aa0e_acbc32d61fabrow44_col1{\n",
       "            background-color:  lightgreen;\n",
       "        }</style><table id=\"T_234bd5b8_03c6_11ec_aa0e_acbc32d61fab\" ><thead>    <tr>        <th class=\"blank level0\" ></th>        <th class=\"col_heading level0 col0\" >Description</th>        <th class=\"col_heading level0 col1\" >Value</th>    </tr></thead><tbody>\n",
       "                <tr>\n",
       "                        <th id=\"T_234bd5b8_03c6_11ec_aa0e_acbc32d61fablevel0_row0\" class=\"row_heading level0 row0\" >0</th>\n",
       "                        <td id=\"T_234bd5b8_03c6_11ec_aa0e_acbc32d61fabrow0_col0\" class=\"data row0 col0\" >session_id</td>\n",
       "                        <td id=\"T_234bd5b8_03c6_11ec_aa0e_acbc32d61fabrow0_col1\" class=\"data row0 col1\" >123</td>\n",
       "            </tr>\n",
       "            <tr>\n",
       "                        <th id=\"T_234bd5b8_03c6_11ec_aa0e_acbc32d61fablevel0_row1\" class=\"row_heading level0 row1\" >1</th>\n",
       "                        <td id=\"T_234bd5b8_03c6_11ec_aa0e_acbc32d61fabrow1_col0\" class=\"data row1 col0\" >Target</td>\n",
       "                        <td id=\"T_234bd5b8_03c6_11ec_aa0e_acbc32d61fabrow1_col1\" class=\"data row1 col1\" >범죄빈도_4</td>\n",
       "            </tr>\n",
       "            <tr>\n",
       "                        <th id=\"T_234bd5b8_03c6_11ec_aa0e_acbc32d61fablevel0_row2\" class=\"row_heading level0 row2\" >2</th>\n",
       "                        <td id=\"T_234bd5b8_03c6_11ec_aa0e_acbc32d61fabrow2_col0\" class=\"data row2 col0\" >Target Type</td>\n",
       "                        <td id=\"T_234bd5b8_03c6_11ec_aa0e_acbc32d61fabrow2_col1\" class=\"data row2 col1\" >Multiclass</td>\n",
       "            </tr>\n",
       "            <tr>\n",
       "                        <th id=\"T_234bd5b8_03c6_11ec_aa0e_acbc32d61fablevel0_row3\" class=\"row_heading level0 row3\" >3</th>\n",
       "                        <td id=\"T_234bd5b8_03c6_11ec_aa0e_acbc32d61fabrow3_col0\" class=\"data row3 col0\" >Label Encoded</td>\n",
       "                        <td id=\"T_234bd5b8_03c6_11ec_aa0e_acbc32d61fabrow3_col1\" class=\"data row3 col1\" >0: 0, 1: 1, 2: 2, 3: 3</td>\n",
       "            </tr>\n",
       "            <tr>\n",
       "                        <th id=\"T_234bd5b8_03c6_11ec_aa0e_acbc32d61fablevel0_row4\" class=\"row_heading level0 row4\" >4</th>\n",
       "                        <td id=\"T_234bd5b8_03c6_11ec_aa0e_acbc32d61fabrow4_col0\" class=\"data row4 col0\" >Original Data</td>\n",
       "                        <td id=\"T_234bd5b8_03c6_11ec_aa0e_acbc32d61fabrow4_col1\" class=\"data row4 col1\" >(2038, 20)</td>\n",
       "            </tr>\n",
       "            <tr>\n",
       "                        <th id=\"T_234bd5b8_03c6_11ec_aa0e_acbc32d61fablevel0_row5\" class=\"row_heading level0 row5\" >5</th>\n",
       "                        <td id=\"T_234bd5b8_03c6_11ec_aa0e_acbc32d61fabrow5_col0\" class=\"data row5 col0\" >Missing Values</td>\n",
       "                        <td id=\"T_234bd5b8_03c6_11ec_aa0e_acbc32d61fabrow5_col1\" class=\"data row5 col1\" >False</td>\n",
       "            </tr>\n",
       "            <tr>\n",
       "                        <th id=\"T_234bd5b8_03c6_11ec_aa0e_acbc32d61fablevel0_row6\" class=\"row_heading level0 row6\" >6</th>\n",
       "                        <td id=\"T_234bd5b8_03c6_11ec_aa0e_acbc32d61fabrow6_col0\" class=\"data row6 col0\" >Numeric Features</td>\n",
       "                        <td id=\"T_234bd5b8_03c6_11ec_aa0e_acbc32d61fabrow6_col1\" class=\"data row6 col1\" >11</td>\n",
       "            </tr>\n",
       "            <tr>\n",
       "                        <th id=\"T_234bd5b8_03c6_11ec_aa0e_acbc32d61fablevel0_row7\" class=\"row_heading level0 row7\" >7</th>\n",
       "                        <td id=\"T_234bd5b8_03c6_11ec_aa0e_acbc32d61fabrow7_col0\" class=\"data row7 col0\" >Categorical Features</td>\n",
       "                        <td id=\"T_234bd5b8_03c6_11ec_aa0e_acbc32d61fabrow7_col1\" class=\"data row7 col1\" >8</td>\n",
       "            </tr>\n",
       "            <tr>\n",
       "                        <th id=\"T_234bd5b8_03c6_11ec_aa0e_acbc32d61fablevel0_row8\" class=\"row_heading level0 row8\" >8</th>\n",
       "                        <td id=\"T_234bd5b8_03c6_11ec_aa0e_acbc32d61fabrow8_col0\" class=\"data row8 col0\" >Ordinal Features</td>\n",
       "                        <td id=\"T_234bd5b8_03c6_11ec_aa0e_acbc32d61fabrow8_col1\" class=\"data row8 col1\" >False</td>\n",
       "            </tr>\n",
       "            <tr>\n",
       "                        <th id=\"T_234bd5b8_03c6_11ec_aa0e_acbc32d61fablevel0_row9\" class=\"row_heading level0 row9\" >9</th>\n",
       "                        <td id=\"T_234bd5b8_03c6_11ec_aa0e_acbc32d61fabrow9_col0\" class=\"data row9 col0\" >High Cardinality Features</td>\n",
       "                        <td id=\"T_234bd5b8_03c6_11ec_aa0e_acbc32d61fabrow9_col1\" class=\"data row9 col1\" >False</td>\n",
       "            </tr>\n",
       "            <tr>\n",
       "                        <th id=\"T_234bd5b8_03c6_11ec_aa0e_acbc32d61fablevel0_row10\" class=\"row_heading level0 row10\" >10</th>\n",
       "                        <td id=\"T_234bd5b8_03c6_11ec_aa0e_acbc32d61fabrow10_col0\" class=\"data row10 col0\" >High Cardinality Method</td>\n",
       "                        <td id=\"T_234bd5b8_03c6_11ec_aa0e_acbc32d61fabrow10_col1\" class=\"data row10 col1\" >None</td>\n",
       "            </tr>\n",
       "            <tr>\n",
       "                        <th id=\"T_234bd5b8_03c6_11ec_aa0e_acbc32d61fablevel0_row11\" class=\"row_heading level0 row11\" >11</th>\n",
       "                        <td id=\"T_234bd5b8_03c6_11ec_aa0e_acbc32d61fabrow11_col0\" class=\"data row11 col0\" >Transformed Train Set</td>\n",
       "                        <td id=\"T_234bd5b8_03c6_11ec_aa0e_acbc32d61fabrow11_col1\" class=\"data row11 col1\" >(1426, 68)</td>\n",
       "            </tr>\n",
       "            <tr>\n",
       "                        <th id=\"T_234bd5b8_03c6_11ec_aa0e_acbc32d61fablevel0_row12\" class=\"row_heading level0 row12\" >12</th>\n",
       "                        <td id=\"T_234bd5b8_03c6_11ec_aa0e_acbc32d61fabrow12_col0\" class=\"data row12 col0\" >Transformed Test Set</td>\n",
       "                        <td id=\"T_234bd5b8_03c6_11ec_aa0e_acbc32d61fabrow12_col1\" class=\"data row12 col1\" >(612, 68)</td>\n",
       "            </tr>\n",
       "            <tr>\n",
       "                        <th id=\"T_234bd5b8_03c6_11ec_aa0e_acbc32d61fablevel0_row13\" class=\"row_heading level0 row13\" >13</th>\n",
       "                        <td id=\"T_234bd5b8_03c6_11ec_aa0e_acbc32d61fabrow13_col0\" class=\"data row13 col0\" >Shuffle Train-Test</td>\n",
       "                        <td id=\"T_234bd5b8_03c6_11ec_aa0e_acbc32d61fabrow13_col1\" class=\"data row13 col1\" >True</td>\n",
       "            </tr>\n",
       "            <tr>\n",
       "                        <th id=\"T_234bd5b8_03c6_11ec_aa0e_acbc32d61fablevel0_row14\" class=\"row_heading level0 row14\" >14</th>\n",
       "                        <td id=\"T_234bd5b8_03c6_11ec_aa0e_acbc32d61fabrow14_col0\" class=\"data row14 col0\" >Stratify Train-Test</td>\n",
       "                        <td id=\"T_234bd5b8_03c6_11ec_aa0e_acbc32d61fabrow14_col1\" class=\"data row14 col1\" >False</td>\n",
       "            </tr>\n",
       "            <tr>\n",
       "                        <th id=\"T_234bd5b8_03c6_11ec_aa0e_acbc32d61fablevel0_row15\" class=\"row_heading level0 row15\" >15</th>\n",
       "                        <td id=\"T_234bd5b8_03c6_11ec_aa0e_acbc32d61fabrow15_col0\" class=\"data row15 col0\" >Fold Generator</td>\n",
       "                        <td id=\"T_234bd5b8_03c6_11ec_aa0e_acbc32d61fabrow15_col1\" class=\"data row15 col1\" >StratifiedKFold</td>\n",
       "            </tr>\n",
       "            <tr>\n",
       "                        <th id=\"T_234bd5b8_03c6_11ec_aa0e_acbc32d61fablevel0_row16\" class=\"row_heading level0 row16\" >16</th>\n",
       "                        <td id=\"T_234bd5b8_03c6_11ec_aa0e_acbc32d61fabrow16_col0\" class=\"data row16 col0\" >Fold Number</td>\n",
       "                        <td id=\"T_234bd5b8_03c6_11ec_aa0e_acbc32d61fabrow16_col1\" class=\"data row16 col1\" >10</td>\n",
       "            </tr>\n",
       "            <tr>\n",
       "                        <th id=\"T_234bd5b8_03c6_11ec_aa0e_acbc32d61fablevel0_row17\" class=\"row_heading level0 row17\" >17</th>\n",
       "                        <td id=\"T_234bd5b8_03c6_11ec_aa0e_acbc32d61fabrow17_col0\" class=\"data row17 col0\" >CPU Jobs</td>\n",
       "                        <td id=\"T_234bd5b8_03c6_11ec_aa0e_acbc32d61fabrow17_col1\" class=\"data row17 col1\" >-1</td>\n",
       "            </tr>\n",
       "            <tr>\n",
       "                        <th id=\"T_234bd5b8_03c6_11ec_aa0e_acbc32d61fablevel0_row18\" class=\"row_heading level0 row18\" >18</th>\n",
       "                        <td id=\"T_234bd5b8_03c6_11ec_aa0e_acbc32d61fabrow18_col0\" class=\"data row18 col0\" >Use GPU</td>\n",
       "                        <td id=\"T_234bd5b8_03c6_11ec_aa0e_acbc32d61fabrow18_col1\" class=\"data row18 col1\" >False</td>\n",
       "            </tr>\n",
       "            <tr>\n",
       "                        <th id=\"T_234bd5b8_03c6_11ec_aa0e_acbc32d61fablevel0_row19\" class=\"row_heading level0 row19\" >19</th>\n",
       "                        <td id=\"T_234bd5b8_03c6_11ec_aa0e_acbc32d61fabrow19_col0\" class=\"data row19 col0\" >Log Experiment</td>\n",
       "                        <td id=\"T_234bd5b8_03c6_11ec_aa0e_acbc32d61fabrow19_col1\" class=\"data row19 col1\" >False</td>\n",
       "            </tr>\n",
       "            <tr>\n",
       "                        <th id=\"T_234bd5b8_03c6_11ec_aa0e_acbc32d61fablevel0_row20\" class=\"row_heading level0 row20\" >20</th>\n",
       "                        <td id=\"T_234bd5b8_03c6_11ec_aa0e_acbc32d61fabrow20_col0\" class=\"data row20 col0\" >Experiment Name</td>\n",
       "                        <td id=\"T_234bd5b8_03c6_11ec_aa0e_acbc32d61fabrow20_col1\" class=\"data row20 col1\" >clf-default-name</td>\n",
       "            </tr>\n",
       "            <tr>\n",
       "                        <th id=\"T_234bd5b8_03c6_11ec_aa0e_acbc32d61fablevel0_row21\" class=\"row_heading level0 row21\" >21</th>\n",
       "                        <td id=\"T_234bd5b8_03c6_11ec_aa0e_acbc32d61fabrow21_col0\" class=\"data row21 col0\" >USI</td>\n",
       "                        <td id=\"T_234bd5b8_03c6_11ec_aa0e_acbc32d61fabrow21_col1\" class=\"data row21 col1\" >0f5a</td>\n",
       "            </tr>\n",
       "            <tr>\n",
       "                        <th id=\"T_234bd5b8_03c6_11ec_aa0e_acbc32d61fablevel0_row22\" class=\"row_heading level0 row22\" >22</th>\n",
       "                        <td id=\"T_234bd5b8_03c6_11ec_aa0e_acbc32d61fabrow22_col0\" class=\"data row22 col0\" >Imputation Type</td>\n",
       "                        <td id=\"T_234bd5b8_03c6_11ec_aa0e_acbc32d61fabrow22_col1\" class=\"data row22 col1\" >simple</td>\n",
       "            </tr>\n",
       "            <tr>\n",
       "                        <th id=\"T_234bd5b8_03c6_11ec_aa0e_acbc32d61fablevel0_row23\" class=\"row_heading level0 row23\" >23</th>\n",
       "                        <td id=\"T_234bd5b8_03c6_11ec_aa0e_acbc32d61fabrow23_col0\" class=\"data row23 col0\" >Iterative Imputation Iteration</td>\n",
       "                        <td id=\"T_234bd5b8_03c6_11ec_aa0e_acbc32d61fabrow23_col1\" class=\"data row23 col1\" >None</td>\n",
       "            </tr>\n",
       "            <tr>\n",
       "                        <th id=\"T_234bd5b8_03c6_11ec_aa0e_acbc32d61fablevel0_row24\" class=\"row_heading level0 row24\" >24</th>\n",
       "                        <td id=\"T_234bd5b8_03c6_11ec_aa0e_acbc32d61fabrow24_col0\" class=\"data row24 col0\" >Numeric Imputer</td>\n",
       "                        <td id=\"T_234bd5b8_03c6_11ec_aa0e_acbc32d61fabrow24_col1\" class=\"data row24 col1\" >mean</td>\n",
       "            </tr>\n",
       "            <tr>\n",
       "                        <th id=\"T_234bd5b8_03c6_11ec_aa0e_acbc32d61fablevel0_row25\" class=\"row_heading level0 row25\" >25</th>\n",
       "                        <td id=\"T_234bd5b8_03c6_11ec_aa0e_acbc32d61fabrow25_col0\" class=\"data row25 col0\" >Iterative Imputation Numeric Model</td>\n",
       "                        <td id=\"T_234bd5b8_03c6_11ec_aa0e_acbc32d61fabrow25_col1\" class=\"data row25 col1\" >None</td>\n",
       "            </tr>\n",
       "            <tr>\n",
       "                        <th id=\"T_234bd5b8_03c6_11ec_aa0e_acbc32d61fablevel0_row26\" class=\"row_heading level0 row26\" >26</th>\n",
       "                        <td id=\"T_234bd5b8_03c6_11ec_aa0e_acbc32d61fabrow26_col0\" class=\"data row26 col0\" >Categorical Imputer</td>\n",
       "                        <td id=\"T_234bd5b8_03c6_11ec_aa0e_acbc32d61fabrow26_col1\" class=\"data row26 col1\" >constant</td>\n",
       "            </tr>\n",
       "            <tr>\n",
       "                        <th id=\"T_234bd5b8_03c6_11ec_aa0e_acbc32d61fablevel0_row27\" class=\"row_heading level0 row27\" >27</th>\n",
       "                        <td id=\"T_234bd5b8_03c6_11ec_aa0e_acbc32d61fabrow27_col0\" class=\"data row27 col0\" >Iterative Imputation Categorical Model</td>\n",
       "                        <td id=\"T_234bd5b8_03c6_11ec_aa0e_acbc32d61fabrow27_col1\" class=\"data row27 col1\" >None</td>\n",
       "            </tr>\n",
       "            <tr>\n",
       "                        <th id=\"T_234bd5b8_03c6_11ec_aa0e_acbc32d61fablevel0_row28\" class=\"row_heading level0 row28\" >28</th>\n",
       "                        <td id=\"T_234bd5b8_03c6_11ec_aa0e_acbc32d61fabrow28_col0\" class=\"data row28 col0\" >Unknown Categoricals Handling</td>\n",
       "                        <td id=\"T_234bd5b8_03c6_11ec_aa0e_acbc32d61fabrow28_col1\" class=\"data row28 col1\" >least_frequent</td>\n",
       "            </tr>\n",
       "            <tr>\n",
       "                        <th id=\"T_234bd5b8_03c6_11ec_aa0e_acbc32d61fablevel0_row29\" class=\"row_heading level0 row29\" >29</th>\n",
       "                        <td id=\"T_234bd5b8_03c6_11ec_aa0e_acbc32d61fabrow29_col0\" class=\"data row29 col0\" >Normalize</td>\n",
       "                        <td id=\"T_234bd5b8_03c6_11ec_aa0e_acbc32d61fabrow29_col1\" class=\"data row29 col1\" >False</td>\n",
       "            </tr>\n",
       "            <tr>\n",
       "                        <th id=\"T_234bd5b8_03c6_11ec_aa0e_acbc32d61fablevel0_row30\" class=\"row_heading level0 row30\" >30</th>\n",
       "                        <td id=\"T_234bd5b8_03c6_11ec_aa0e_acbc32d61fabrow30_col0\" class=\"data row30 col0\" >Normalize Method</td>\n",
       "                        <td id=\"T_234bd5b8_03c6_11ec_aa0e_acbc32d61fabrow30_col1\" class=\"data row30 col1\" >None</td>\n",
       "            </tr>\n",
       "            <tr>\n",
       "                        <th id=\"T_234bd5b8_03c6_11ec_aa0e_acbc32d61fablevel0_row31\" class=\"row_heading level0 row31\" >31</th>\n",
       "                        <td id=\"T_234bd5b8_03c6_11ec_aa0e_acbc32d61fabrow31_col0\" class=\"data row31 col0\" >Transformation</td>\n",
       "                        <td id=\"T_234bd5b8_03c6_11ec_aa0e_acbc32d61fabrow31_col1\" class=\"data row31 col1\" >False</td>\n",
       "            </tr>\n",
       "            <tr>\n",
       "                        <th id=\"T_234bd5b8_03c6_11ec_aa0e_acbc32d61fablevel0_row32\" class=\"row_heading level0 row32\" >32</th>\n",
       "                        <td id=\"T_234bd5b8_03c6_11ec_aa0e_acbc32d61fabrow32_col0\" class=\"data row32 col0\" >Transformation Method</td>\n",
       "                        <td id=\"T_234bd5b8_03c6_11ec_aa0e_acbc32d61fabrow32_col1\" class=\"data row32 col1\" >None</td>\n",
       "            </tr>\n",
       "            <tr>\n",
       "                        <th id=\"T_234bd5b8_03c6_11ec_aa0e_acbc32d61fablevel0_row33\" class=\"row_heading level0 row33\" >33</th>\n",
       "                        <td id=\"T_234bd5b8_03c6_11ec_aa0e_acbc32d61fabrow33_col0\" class=\"data row33 col0\" >PCA</td>\n",
       "                        <td id=\"T_234bd5b8_03c6_11ec_aa0e_acbc32d61fabrow33_col1\" class=\"data row33 col1\" >False</td>\n",
       "            </tr>\n",
       "            <tr>\n",
       "                        <th id=\"T_234bd5b8_03c6_11ec_aa0e_acbc32d61fablevel0_row34\" class=\"row_heading level0 row34\" >34</th>\n",
       "                        <td id=\"T_234bd5b8_03c6_11ec_aa0e_acbc32d61fabrow34_col0\" class=\"data row34 col0\" >PCA Method</td>\n",
       "                        <td id=\"T_234bd5b8_03c6_11ec_aa0e_acbc32d61fabrow34_col1\" class=\"data row34 col1\" >None</td>\n",
       "            </tr>\n",
       "            <tr>\n",
       "                        <th id=\"T_234bd5b8_03c6_11ec_aa0e_acbc32d61fablevel0_row35\" class=\"row_heading level0 row35\" >35</th>\n",
       "                        <td id=\"T_234bd5b8_03c6_11ec_aa0e_acbc32d61fabrow35_col0\" class=\"data row35 col0\" >PCA Components</td>\n",
       "                        <td id=\"T_234bd5b8_03c6_11ec_aa0e_acbc32d61fabrow35_col1\" class=\"data row35 col1\" >None</td>\n",
       "            </tr>\n",
       "            <tr>\n",
       "                        <th id=\"T_234bd5b8_03c6_11ec_aa0e_acbc32d61fablevel0_row36\" class=\"row_heading level0 row36\" >36</th>\n",
       "                        <td id=\"T_234bd5b8_03c6_11ec_aa0e_acbc32d61fabrow36_col0\" class=\"data row36 col0\" >Ignore Low Variance</td>\n",
       "                        <td id=\"T_234bd5b8_03c6_11ec_aa0e_acbc32d61fabrow36_col1\" class=\"data row36 col1\" >False</td>\n",
       "            </tr>\n",
       "            <tr>\n",
       "                        <th id=\"T_234bd5b8_03c6_11ec_aa0e_acbc32d61fablevel0_row37\" class=\"row_heading level0 row37\" >37</th>\n",
       "                        <td id=\"T_234bd5b8_03c6_11ec_aa0e_acbc32d61fabrow37_col0\" class=\"data row37 col0\" >Combine Rare Levels</td>\n",
       "                        <td id=\"T_234bd5b8_03c6_11ec_aa0e_acbc32d61fabrow37_col1\" class=\"data row37 col1\" >False</td>\n",
       "            </tr>\n",
       "            <tr>\n",
       "                        <th id=\"T_234bd5b8_03c6_11ec_aa0e_acbc32d61fablevel0_row38\" class=\"row_heading level0 row38\" >38</th>\n",
       "                        <td id=\"T_234bd5b8_03c6_11ec_aa0e_acbc32d61fabrow38_col0\" class=\"data row38 col0\" >Rare Level Threshold</td>\n",
       "                        <td id=\"T_234bd5b8_03c6_11ec_aa0e_acbc32d61fabrow38_col1\" class=\"data row38 col1\" >None</td>\n",
       "            </tr>\n",
       "            <tr>\n",
       "                        <th id=\"T_234bd5b8_03c6_11ec_aa0e_acbc32d61fablevel0_row39\" class=\"row_heading level0 row39\" >39</th>\n",
       "                        <td id=\"T_234bd5b8_03c6_11ec_aa0e_acbc32d61fabrow39_col0\" class=\"data row39 col0\" >Numeric Binning</td>\n",
       "                        <td id=\"T_234bd5b8_03c6_11ec_aa0e_acbc32d61fabrow39_col1\" class=\"data row39 col1\" >False</td>\n",
       "            </tr>\n",
       "            <tr>\n",
       "                        <th id=\"T_234bd5b8_03c6_11ec_aa0e_acbc32d61fablevel0_row40\" class=\"row_heading level0 row40\" >40</th>\n",
       "                        <td id=\"T_234bd5b8_03c6_11ec_aa0e_acbc32d61fabrow40_col0\" class=\"data row40 col0\" >Remove Outliers</td>\n",
       "                        <td id=\"T_234bd5b8_03c6_11ec_aa0e_acbc32d61fabrow40_col1\" class=\"data row40 col1\" >False</td>\n",
       "            </tr>\n",
       "            <tr>\n",
       "                        <th id=\"T_234bd5b8_03c6_11ec_aa0e_acbc32d61fablevel0_row41\" class=\"row_heading level0 row41\" >41</th>\n",
       "                        <td id=\"T_234bd5b8_03c6_11ec_aa0e_acbc32d61fabrow41_col0\" class=\"data row41 col0\" >Outliers Threshold</td>\n",
       "                        <td id=\"T_234bd5b8_03c6_11ec_aa0e_acbc32d61fabrow41_col1\" class=\"data row41 col1\" >None</td>\n",
       "            </tr>\n",
       "            <tr>\n",
       "                        <th id=\"T_234bd5b8_03c6_11ec_aa0e_acbc32d61fablevel0_row42\" class=\"row_heading level0 row42\" >42</th>\n",
       "                        <td id=\"T_234bd5b8_03c6_11ec_aa0e_acbc32d61fabrow42_col0\" class=\"data row42 col0\" >Remove Multicollinearity</td>\n",
       "                        <td id=\"T_234bd5b8_03c6_11ec_aa0e_acbc32d61fabrow42_col1\" class=\"data row42 col1\" >True</td>\n",
       "            </tr>\n",
       "            <tr>\n",
       "                        <th id=\"T_234bd5b8_03c6_11ec_aa0e_acbc32d61fablevel0_row43\" class=\"row_heading level0 row43\" >43</th>\n",
       "                        <td id=\"T_234bd5b8_03c6_11ec_aa0e_acbc32d61fabrow43_col0\" class=\"data row43 col0\" >Multicollinearity Threshold</td>\n",
       "                        <td id=\"T_234bd5b8_03c6_11ec_aa0e_acbc32d61fabrow43_col1\" class=\"data row43 col1\" >0.600000</td>\n",
       "            </tr>\n",
       "            <tr>\n",
       "                        <th id=\"T_234bd5b8_03c6_11ec_aa0e_acbc32d61fablevel0_row44\" class=\"row_heading level0 row44\" >44</th>\n",
       "                        <td id=\"T_234bd5b8_03c6_11ec_aa0e_acbc32d61fabrow44_col0\" class=\"data row44 col0\" >Remove Perfect Collinearity</td>\n",
       "                        <td id=\"T_234bd5b8_03c6_11ec_aa0e_acbc32d61fabrow44_col1\" class=\"data row44 col1\" >True</td>\n",
       "            </tr>\n",
       "            <tr>\n",
       "                        <th id=\"T_234bd5b8_03c6_11ec_aa0e_acbc32d61fablevel0_row45\" class=\"row_heading level0 row45\" >45</th>\n",
       "                        <td id=\"T_234bd5b8_03c6_11ec_aa0e_acbc32d61fabrow45_col0\" class=\"data row45 col0\" >Clustering</td>\n",
       "                        <td id=\"T_234bd5b8_03c6_11ec_aa0e_acbc32d61fabrow45_col1\" class=\"data row45 col1\" >False</td>\n",
       "            </tr>\n",
       "            <tr>\n",
       "                        <th id=\"T_234bd5b8_03c6_11ec_aa0e_acbc32d61fablevel0_row46\" class=\"row_heading level0 row46\" >46</th>\n",
       "                        <td id=\"T_234bd5b8_03c6_11ec_aa0e_acbc32d61fabrow46_col0\" class=\"data row46 col0\" >Clustering Iteration</td>\n",
       "                        <td id=\"T_234bd5b8_03c6_11ec_aa0e_acbc32d61fabrow46_col1\" class=\"data row46 col1\" >None</td>\n",
       "            </tr>\n",
       "            <tr>\n",
       "                        <th id=\"T_234bd5b8_03c6_11ec_aa0e_acbc32d61fablevel0_row47\" class=\"row_heading level0 row47\" >47</th>\n",
       "                        <td id=\"T_234bd5b8_03c6_11ec_aa0e_acbc32d61fabrow47_col0\" class=\"data row47 col0\" >Polynomial Features</td>\n",
       "                        <td id=\"T_234bd5b8_03c6_11ec_aa0e_acbc32d61fabrow47_col1\" class=\"data row47 col1\" >False</td>\n",
       "            </tr>\n",
       "            <tr>\n",
       "                        <th id=\"T_234bd5b8_03c6_11ec_aa0e_acbc32d61fablevel0_row48\" class=\"row_heading level0 row48\" >48</th>\n",
       "                        <td id=\"T_234bd5b8_03c6_11ec_aa0e_acbc32d61fabrow48_col0\" class=\"data row48 col0\" >Polynomial Degree</td>\n",
       "                        <td id=\"T_234bd5b8_03c6_11ec_aa0e_acbc32d61fabrow48_col1\" class=\"data row48 col1\" >None</td>\n",
       "            </tr>\n",
       "            <tr>\n",
       "                        <th id=\"T_234bd5b8_03c6_11ec_aa0e_acbc32d61fablevel0_row49\" class=\"row_heading level0 row49\" >49</th>\n",
       "                        <td id=\"T_234bd5b8_03c6_11ec_aa0e_acbc32d61fabrow49_col0\" class=\"data row49 col0\" >Trignometry Features</td>\n",
       "                        <td id=\"T_234bd5b8_03c6_11ec_aa0e_acbc32d61fabrow49_col1\" class=\"data row49 col1\" >False</td>\n",
       "            </tr>\n",
       "            <tr>\n",
       "                        <th id=\"T_234bd5b8_03c6_11ec_aa0e_acbc32d61fablevel0_row50\" class=\"row_heading level0 row50\" >50</th>\n",
       "                        <td id=\"T_234bd5b8_03c6_11ec_aa0e_acbc32d61fabrow50_col0\" class=\"data row50 col0\" >Polynomial Threshold</td>\n",
       "                        <td id=\"T_234bd5b8_03c6_11ec_aa0e_acbc32d61fabrow50_col1\" class=\"data row50 col1\" >None</td>\n",
       "            </tr>\n",
       "            <tr>\n",
       "                        <th id=\"T_234bd5b8_03c6_11ec_aa0e_acbc32d61fablevel0_row51\" class=\"row_heading level0 row51\" >51</th>\n",
       "                        <td id=\"T_234bd5b8_03c6_11ec_aa0e_acbc32d61fabrow51_col0\" class=\"data row51 col0\" >Group Features</td>\n",
       "                        <td id=\"T_234bd5b8_03c6_11ec_aa0e_acbc32d61fabrow51_col1\" class=\"data row51 col1\" >False</td>\n",
       "            </tr>\n",
       "            <tr>\n",
       "                        <th id=\"T_234bd5b8_03c6_11ec_aa0e_acbc32d61fablevel0_row52\" class=\"row_heading level0 row52\" >52</th>\n",
       "                        <td id=\"T_234bd5b8_03c6_11ec_aa0e_acbc32d61fabrow52_col0\" class=\"data row52 col0\" >Feature Selection</td>\n",
       "                        <td id=\"T_234bd5b8_03c6_11ec_aa0e_acbc32d61fabrow52_col1\" class=\"data row52 col1\" >False</td>\n",
       "            </tr>\n",
       "            <tr>\n",
       "                        <th id=\"T_234bd5b8_03c6_11ec_aa0e_acbc32d61fablevel0_row53\" class=\"row_heading level0 row53\" >53</th>\n",
       "                        <td id=\"T_234bd5b8_03c6_11ec_aa0e_acbc32d61fabrow53_col0\" class=\"data row53 col0\" >Feature Selection Method</td>\n",
       "                        <td id=\"T_234bd5b8_03c6_11ec_aa0e_acbc32d61fabrow53_col1\" class=\"data row53 col1\" >classic</td>\n",
       "            </tr>\n",
       "            <tr>\n",
       "                        <th id=\"T_234bd5b8_03c6_11ec_aa0e_acbc32d61fablevel0_row54\" class=\"row_heading level0 row54\" >54</th>\n",
       "                        <td id=\"T_234bd5b8_03c6_11ec_aa0e_acbc32d61fabrow54_col0\" class=\"data row54 col0\" >Features Selection Threshold</td>\n",
       "                        <td id=\"T_234bd5b8_03c6_11ec_aa0e_acbc32d61fabrow54_col1\" class=\"data row54 col1\" >None</td>\n",
       "            </tr>\n",
       "            <tr>\n",
       "                        <th id=\"T_234bd5b8_03c6_11ec_aa0e_acbc32d61fablevel0_row55\" class=\"row_heading level0 row55\" >55</th>\n",
       "                        <td id=\"T_234bd5b8_03c6_11ec_aa0e_acbc32d61fabrow55_col0\" class=\"data row55 col0\" >Feature Interaction</td>\n",
       "                        <td id=\"T_234bd5b8_03c6_11ec_aa0e_acbc32d61fabrow55_col1\" class=\"data row55 col1\" >False</td>\n",
       "            </tr>\n",
       "            <tr>\n",
       "                        <th id=\"T_234bd5b8_03c6_11ec_aa0e_acbc32d61fablevel0_row56\" class=\"row_heading level0 row56\" >56</th>\n",
       "                        <td id=\"T_234bd5b8_03c6_11ec_aa0e_acbc32d61fabrow56_col0\" class=\"data row56 col0\" >Feature Ratio</td>\n",
       "                        <td id=\"T_234bd5b8_03c6_11ec_aa0e_acbc32d61fabrow56_col1\" class=\"data row56 col1\" >False</td>\n",
       "            </tr>\n",
       "            <tr>\n",
       "                        <th id=\"T_234bd5b8_03c6_11ec_aa0e_acbc32d61fablevel0_row57\" class=\"row_heading level0 row57\" >57</th>\n",
       "                        <td id=\"T_234bd5b8_03c6_11ec_aa0e_acbc32d61fabrow57_col0\" class=\"data row57 col0\" >Interaction Threshold</td>\n",
       "                        <td id=\"T_234bd5b8_03c6_11ec_aa0e_acbc32d61fabrow57_col1\" class=\"data row57 col1\" >None</td>\n",
       "            </tr>\n",
       "            <tr>\n",
       "                        <th id=\"T_234bd5b8_03c6_11ec_aa0e_acbc32d61fablevel0_row58\" class=\"row_heading level0 row58\" >58</th>\n",
       "                        <td id=\"T_234bd5b8_03c6_11ec_aa0e_acbc32d61fabrow58_col0\" class=\"data row58 col0\" >Fix Imbalance</td>\n",
       "                        <td id=\"T_234bd5b8_03c6_11ec_aa0e_acbc32d61fabrow58_col1\" class=\"data row58 col1\" >False</td>\n",
       "            </tr>\n",
       "            <tr>\n",
       "                        <th id=\"T_234bd5b8_03c6_11ec_aa0e_acbc32d61fablevel0_row59\" class=\"row_heading level0 row59\" >59</th>\n",
       "                        <td id=\"T_234bd5b8_03c6_11ec_aa0e_acbc32d61fabrow59_col0\" class=\"data row59 col0\" >Fix Imbalance Method</td>\n",
       "                        <td id=\"T_234bd5b8_03c6_11ec_aa0e_acbc32d61fabrow59_col1\" class=\"data row59 col1\" >SMOTE</td>\n",
       "            </tr>\n",
       "    </tbody></table>"
      ],
      "text/plain": [
       "<pandas.io.formats.style.Styler at 0x7fabce351be0>"
      ]
     },
     "metadata": {},
     "output_type": "display_data"
    }
   ],
   "source": [
    "# 'voted' 컬럼이 예측 대상이므로 target 인자에 명시\n",
    "# 'voted' column is the target variable\n",
    "clf = setup(data = feature,\n",
    "            train_size = 0.7,\n",
    "            target = '범죄빈도_4',\n",
    "            use_gpu = False, \n",
    "            session_id = 123,\n",
    "           fold_shuffle = True,\n",
    "           remove_multicollinearity = True, multicollinearity_threshold = 0.6)"
   ]
  },
  {
   "cell_type": "code",
   "execution_count": 34,
   "metadata": {},
   "outputs": [
    {
     "data": {
      "text/html": [
       "<style  type=\"text/css\" >\n",
       "    #T_653dda70_03c6_11ec_aa0e_acbc32d61fab th {\n",
       "          text-align: left;\n",
       "    }#T_653dda70_03c6_11ec_aa0e_acbc32d61fabrow0_col0,#T_653dda70_03c6_11ec_aa0e_acbc32d61fabrow1_col0,#T_653dda70_03c6_11ec_aa0e_acbc32d61fabrow1_col1,#T_653dda70_03c6_11ec_aa0e_acbc32d61fabrow1_col2,#T_653dda70_03c6_11ec_aa0e_acbc32d61fabrow1_col3,#T_653dda70_03c6_11ec_aa0e_acbc32d61fabrow1_col4,#T_653dda70_03c6_11ec_aa0e_acbc32d61fabrow1_col5,#T_653dda70_03c6_11ec_aa0e_acbc32d61fabrow1_col6,#T_653dda70_03c6_11ec_aa0e_acbc32d61fabrow1_col7,#T_653dda70_03c6_11ec_aa0e_acbc32d61fabrow2_col0,#T_653dda70_03c6_11ec_aa0e_acbc32d61fabrow2_col1,#T_653dda70_03c6_11ec_aa0e_acbc32d61fabrow2_col2,#T_653dda70_03c6_11ec_aa0e_acbc32d61fabrow2_col3,#T_653dda70_03c6_11ec_aa0e_acbc32d61fabrow2_col4,#T_653dda70_03c6_11ec_aa0e_acbc32d61fabrow2_col5,#T_653dda70_03c6_11ec_aa0e_acbc32d61fabrow2_col6,#T_653dda70_03c6_11ec_aa0e_acbc32d61fabrow2_col7,#T_653dda70_03c6_11ec_aa0e_acbc32d61fabrow3_col0,#T_653dda70_03c6_11ec_aa0e_acbc32d61fabrow3_col1,#T_653dda70_03c6_11ec_aa0e_acbc32d61fabrow3_col2,#T_653dda70_03c6_11ec_aa0e_acbc32d61fabrow3_col3,#T_653dda70_03c6_11ec_aa0e_acbc32d61fabrow3_col4,#T_653dda70_03c6_11ec_aa0e_acbc32d61fabrow3_col5,#T_653dda70_03c6_11ec_aa0e_acbc32d61fabrow3_col6,#T_653dda70_03c6_11ec_aa0e_acbc32d61fabrow3_col7,#T_653dda70_03c6_11ec_aa0e_acbc32d61fabrow4_col0,#T_653dda70_03c6_11ec_aa0e_acbc32d61fabrow4_col1,#T_653dda70_03c6_11ec_aa0e_acbc32d61fabrow4_col2,#T_653dda70_03c6_11ec_aa0e_acbc32d61fabrow4_col3,#T_653dda70_03c6_11ec_aa0e_acbc32d61fabrow4_col4,#T_653dda70_03c6_11ec_aa0e_acbc32d61fabrow4_col5,#T_653dda70_03c6_11ec_aa0e_acbc32d61fabrow4_col6,#T_653dda70_03c6_11ec_aa0e_acbc32d61fabrow4_col7,#T_653dda70_03c6_11ec_aa0e_acbc32d61fabrow5_col0,#T_653dda70_03c6_11ec_aa0e_acbc32d61fabrow5_col1,#T_653dda70_03c6_11ec_aa0e_acbc32d61fabrow5_col2,#T_653dda70_03c6_11ec_aa0e_acbc32d61fabrow5_col3,#T_653dda70_03c6_11ec_aa0e_acbc32d61fabrow5_col4,#T_653dda70_03c6_11ec_aa0e_acbc32d61fabrow5_col5,#T_653dda70_03c6_11ec_aa0e_acbc32d61fabrow5_col6,#T_653dda70_03c6_11ec_aa0e_acbc32d61fabrow5_col7,#T_653dda70_03c6_11ec_aa0e_acbc32d61fabrow6_col0,#T_653dda70_03c6_11ec_aa0e_acbc32d61fabrow6_col1,#T_653dda70_03c6_11ec_aa0e_acbc32d61fabrow6_col2,#T_653dda70_03c6_11ec_aa0e_acbc32d61fabrow6_col3,#T_653dda70_03c6_11ec_aa0e_acbc32d61fabrow6_col4,#T_653dda70_03c6_11ec_aa0e_acbc32d61fabrow6_col5,#T_653dda70_03c6_11ec_aa0e_acbc32d61fabrow6_col6,#T_653dda70_03c6_11ec_aa0e_acbc32d61fabrow6_col7,#T_653dda70_03c6_11ec_aa0e_acbc32d61fabrow7_col0,#T_653dda70_03c6_11ec_aa0e_acbc32d61fabrow7_col1,#T_653dda70_03c6_11ec_aa0e_acbc32d61fabrow7_col2,#T_653dda70_03c6_11ec_aa0e_acbc32d61fabrow7_col3,#T_653dda70_03c6_11ec_aa0e_acbc32d61fabrow7_col4,#T_653dda70_03c6_11ec_aa0e_acbc32d61fabrow7_col5,#T_653dda70_03c6_11ec_aa0e_acbc32d61fabrow7_col6,#T_653dda70_03c6_11ec_aa0e_acbc32d61fabrow7_col7,#T_653dda70_03c6_11ec_aa0e_acbc32d61fabrow8_col0,#T_653dda70_03c6_11ec_aa0e_acbc32d61fabrow8_col1,#T_653dda70_03c6_11ec_aa0e_acbc32d61fabrow8_col2,#T_653dda70_03c6_11ec_aa0e_acbc32d61fabrow8_col3,#T_653dda70_03c6_11ec_aa0e_acbc32d61fabrow8_col4,#T_653dda70_03c6_11ec_aa0e_acbc32d61fabrow8_col5,#T_653dda70_03c6_11ec_aa0e_acbc32d61fabrow8_col6,#T_653dda70_03c6_11ec_aa0e_acbc32d61fabrow8_col7,#T_653dda70_03c6_11ec_aa0e_acbc32d61fabrow9_col0,#T_653dda70_03c6_11ec_aa0e_acbc32d61fabrow9_col1,#T_653dda70_03c6_11ec_aa0e_acbc32d61fabrow9_col2,#T_653dda70_03c6_11ec_aa0e_acbc32d61fabrow9_col3,#T_653dda70_03c6_11ec_aa0e_acbc32d61fabrow9_col4,#T_653dda70_03c6_11ec_aa0e_acbc32d61fabrow9_col5,#T_653dda70_03c6_11ec_aa0e_acbc32d61fabrow9_col6,#T_653dda70_03c6_11ec_aa0e_acbc32d61fabrow9_col7,#T_653dda70_03c6_11ec_aa0e_acbc32d61fabrow10_col0,#T_653dda70_03c6_11ec_aa0e_acbc32d61fabrow10_col1,#T_653dda70_03c6_11ec_aa0e_acbc32d61fabrow10_col2,#T_653dda70_03c6_11ec_aa0e_acbc32d61fabrow10_col3,#T_653dda70_03c6_11ec_aa0e_acbc32d61fabrow10_col4,#T_653dda70_03c6_11ec_aa0e_acbc32d61fabrow10_col5,#T_653dda70_03c6_11ec_aa0e_acbc32d61fabrow10_col6,#T_653dda70_03c6_11ec_aa0e_acbc32d61fabrow10_col7,#T_653dda70_03c6_11ec_aa0e_acbc32d61fabrow11_col0,#T_653dda70_03c6_11ec_aa0e_acbc32d61fabrow11_col1,#T_653dda70_03c6_11ec_aa0e_acbc32d61fabrow11_col2,#T_653dda70_03c6_11ec_aa0e_acbc32d61fabrow11_col3,#T_653dda70_03c6_11ec_aa0e_acbc32d61fabrow11_col4,#T_653dda70_03c6_11ec_aa0e_acbc32d61fabrow11_col5,#T_653dda70_03c6_11ec_aa0e_acbc32d61fabrow11_col6,#T_653dda70_03c6_11ec_aa0e_acbc32d61fabrow11_col7,#T_653dda70_03c6_11ec_aa0e_acbc32d61fabrow12_col0,#T_653dda70_03c6_11ec_aa0e_acbc32d61fabrow12_col1,#T_653dda70_03c6_11ec_aa0e_acbc32d61fabrow12_col2,#T_653dda70_03c6_11ec_aa0e_acbc32d61fabrow12_col3,#T_653dda70_03c6_11ec_aa0e_acbc32d61fabrow12_col4,#T_653dda70_03c6_11ec_aa0e_acbc32d61fabrow12_col5,#T_653dda70_03c6_11ec_aa0e_acbc32d61fabrow12_col6,#T_653dda70_03c6_11ec_aa0e_acbc32d61fabrow12_col7,#T_653dda70_03c6_11ec_aa0e_acbc32d61fabrow13_col0,#T_653dda70_03c6_11ec_aa0e_acbc32d61fabrow13_col1,#T_653dda70_03c6_11ec_aa0e_acbc32d61fabrow13_col2,#T_653dda70_03c6_11ec_aa0e_acbc32d61fabrow13_col3,#T_653dda70_03c6_11ec_aa0e_acbc32d61fabrow13_col4,#T_653dda70_03c6_11ec_aa0e_acbc32d61fabrow13_col5,#T_653dda70_03c6_11ec_aa0e_acbc32d61fabrow13_col6,#T_653dda70_03c6_11ec_aa0e_acbc32d61fabrow13_col7,#T_653dda70_03c6_11ec_aa0e_acbc32d61fabrow14_col0,#T_653dda70_03c6_11ec_aa0e_acbc32d61fabrow14_col1,#T_653dda70_03c6_11ec_aa0e_acbc32d61fabrow14_col2,#T_653dda70_03c6_11ec_aa0e_acbc32d61fabrow14_col3,#T_653dda70_03c6_11ec_aa0e_acbc32d61fabrow14_col4,#T_653dda70_03c6_11ec_aa0e_acbc32d61fabrow14_col5,#T_653dda70_03c6_11ec_aa0e_acbc32d61fabrow14_col6,#T_653dda70_03c6_11ec_aa0e_acbc32d61fabrow14_col7{\n",
       "            text-align:  left;\n",
       "            text-align:  left;\n",
       "        }#T_653dda70_03c6_11ec_aa0e_acbc32d61fabrow0_col1,#T_653dda70_03c6_11ec_aa0e_acbc32d61fabrow0_col2,#T_653dda70_03c6_11ec_aa0e_acbc32d61fabrow0_col3,#T_653dda70_03c6_11ec_aa0e_acbc32d61fabrow0_col4,#T_653dda70_03c6_11ec_aa0e_acbc32d61fabrow0_col5,#T_653dda70_03c6_11ec_aa0e_acbc32d61fabrow0_col6,#T_653dda70_03c6_11ec_aa0e_acbc32d61fabrow0_col7{\n",
       "            text-align:  left;\n",
       "            text-align:  left;\n",
       "            background-color:  yellow;\n",
       "        }#T_653dda70_03c6_11ec_aa0e_acbc32d61fabrow0_col8,#T_653dda70_03c6_11ec_aa0e_acbc32d61fabrow1_col8,#T_653dda70_03c6_11ec_aa0e_acbc32d61fabrow2_col8,#T_653dda70_03c6_11ec_aa0e_acbc32d61fabrow3_col8,#T_653dda70_03c6_11ec_aa0e_acbc32d61fabrow4_col8,#T_653dda70_03c6_11ec_aa0e_acbc32d61fabrow5_col8,#T_653dda70_03c6_11ec_aa0e_acbc32d61fabrow6_col8,#T_653dda70_03c6_11ec_aa0e_acbc32d61fabrow7_col8,#T_653dda70_03c6_11ec_aa0e_acbc32d61fabrow8_col8,#T_653dda70_03c6_11ec_aa0e_acbc32d61fabrow9_col8,#T_653dda70_03c6_11ec_aa0e_acbc32d61fabrow10_col8,#T_653dda70_03c6_11ec_aa0e_acbc32d61fabrow11_col8,#T_653dda70_03c6_11ec_aa0e_acbc32d61fabrow12_col8,#T_653dda70_03c6_11ec_aa0e_acbc32d61fabrow14_col8{\n",
       "            text-align:  left;\n",
       "            text-align:  left;\n",
       "            background-color:  lightgrey;\n",
       "        }#T_653dda70_03c6_11ec_aa0e_acbc32d61fabrow13_col8{\n",
       "            text-align:  left;\n",
       "            text-align:  left;\n",
       "            background-color:  yellow;\n",
       "            background-color:  lightgrey;\n",
       "        }</style><table id=\"T_653dda70_03c6_11ec_aa0e_acbc32d61fab\" ><thead>    <tr>        <th class=\"blank level0\" ></th>        <th class=\"col_heading level0 col0\" >Model</th>        <th class=\"col_heading level0 col1\" >Accuracy</th>        <th class=\"col_heading level0 col2\" >AUC</th>        <th class=\"col_heading level0 col3\" >Recall</th>        <th class=\"col_heading level0 col4\" >Prec.</th>        <th class=\"col_heading level0 col5\" >F1</th>        <th class=\"col_heading level0 col6\" >Kappa</th>        <th class=\"col_heading level0 col7\" >MCC</th>        <th class=\"col_heading level0 col8\" >TT (Sec)</th>    </tr></thead><tbody>\n",
       "                <tr>\n",
       "                        <th id=\"T_653dda70_03c6_11ec_aa0e_acbc32d61fablevel0_row0\" class=\"row_heading level0 row0\" >lr</th>\n",
       "                        <td id=\"T_653dda70_03c6_11ec_aa0e_acbc32d61fabrow0_col0\" class=\"data row0 col0\" >Logistic Regression</td>\n",
       "                        <td id=\"T_653dda70_03c6_11ec_aa0e_acbc32d61fabrow0_col1\" class=\"data row0 col1\" >0.7062</td>\n",
       "                        <td id=\"T_653dda70_03c6_11ec_aa0e_acbc32d61fabrow0_col2\" class=\"data row0 col2\" >0.8359</td>\n",
       "                        <td id=\"T_653dda70_03c6_11ec_aa0e_acbc32d61fabrow0_col3\" class=\"data row0 col3\" >0.5232</td>\n",
       "                        <td id=\"T_653dda70_03c6_11ec_aa0e_acbc32d61fabrow0_col4\" class=\"data row0 col4\" >0.6889</td>\n",
       "                        <td id=\"T_653dda70_03c6_11ec_aa0e_acbc32d61fabrow0_col5\" class=\"data row0 col5\" >0.6868</td>\n",
       "                        <td id=\"T_653dda70_03c6_11ec_aa0e_acbc32d61fabrow0_col6\" class=\"data row0 col6\" >0.4927</td>\n",
       "                        <td id=\"T_653dda70_03c6_11ec_aa0e_acbc32d61fabrow0_col7\" class=\"data row0 col7\" >0.5040</td>\n",
       "                        <td id=\"T_653dda70_03c6_11ec_aa0e_acbc32d61fabrow0_col8\" class=\"data row0 col8\" >0.7920</td>\n",
       "            </tr>\n",
       "            <tr>\n",
       "                        <th id=\"T_653dda70_03c6_11ec_aa0e_acbc32d61fablevel0_row1\" class=\"row_heading level0 row1\" >gbc</th>\n",
       "                        <td id=\"T_653dda70_03c6_11ec_aa0e_acbc32d61fabrow1_col0\" class=\"data row1 col0\" >Gradient Boosting Classifier</td>\n",
       "                        <td id=\"T_653dda70_03c6_11ec_aa0e_acbc32d61fabrow1_col1\" class=\"data row1 col1\" >0.6985</td>\n",
       "                        <td id=\"T_653dda70_03c6_11ec_aa0e_acbc32d61fabrow1_col2\" class=\"data row1 col2\" >0.8332</td>\n",
       "                        <td id=\"T_653dda70_03c6_11ec_aa0e_acbc32d61fabrow1_col3\" class=\"data row1 col3\" >0.4927</td>\n",
       "                        <td id=\"T_653dda70_03c6_11ec_aa0e_acbc32d61fabrow1_col4\" class=\"data row1 col4\" >0.6818</td>\n",
       "                        <td id=\"T_653dda70_03c6_11ec_aa0e_acbc32d61fabrow1_col5\" class=\"data row1 col5\" >0.6824</td>\n",
       "                        <td id=\"T_653dda70_03c6_11ec_aa0e_acbc32d61fabrow1_col6\" class=\"data row1 col6\" >0.4855</td>\n",
       "                        <td id=\"T_653dda70_03c6_11ec_aa0e_acbc32d61fabrow1_col7\" class=\"data row1 col7\" >0.4931</td>\n",
       "                        <td id=\"T_653dda70_03c6_11ec_aa0e_acbc32d61fabrow1_col8\" class=\"data row1 col8\" >0.8600</td>\n",
       "            </tr>\n",
       "            <tr>\n",
       "                        <th id=\"T_653dda70_03c6_11ec_aa0e_acbc32d61fablevel0_row2\" class=\"row_heading level0 row2\" >catboost</th>\n",
       "                        <td id=\"T_653dda70_03c6_11ec_aa0e_acbc32d61fabrow2_col0\" class=\"data row2 col0\" >CatBoost Classifier</td>\n",
       "                        <td id=\"T_653dda70_03c6_11ec_aa0e_acbc32d61fabrow2_col1\" class=\"data row2 col1\" >0.6921</td>\n",
       "                        <td id=\"T_653dda70_03c6_11ec_aa0e_acbc32d61fabrow2_col2\" class=\"data row2 col2\" >0.8149</td>\n",
       "                        <td id=\"T_653dda70_03c6_11ec_aa0e_acbc32d61fabrow2_col3\" class=\"data row2 col3\" >0.4831</td>\n",
       "                        <td id=\"T_653dda70_03c6_11ec_aa0e_acbc32d61fabrow2_col4\" class=\"data row2 col4\" >0.6754</td>\n",
       "                        <td id=\"T_653dda70_03c6_11ec_aa0e_acbc32d61fabrow2_col5\" class=\"data row2 col5\" >0.6789</td>\n",
       "                        <td id=\"T_653dda70_03c6_11ec_aa0e_acbc32d61fabrow2_col6\" class=\"data row2 col6\" >0.4775</td>\n",
       "                        <td id=\"T_653dda70_03c6_11ec_aa0e_acbc32d61fabrow2_col7\" class=\"data row2 col7\" >0.4820</td>\n",
       "                        <td id=\"T_653dda70_03c6_11ec_aa0e_acbc32d61fabrow2_col8\" class=\"data row2 col8\" >3.0420</td>\n",
       "            </tr>\n",
       "            <tr>\n",
       "                        <th id=\"T_653dda70_03c6_11ec_aa0e_acbc32d61fablevel0_row3\" class=\"row_heading level0 row3\" >xgboost</th>\n",
       "                        <td id=\"T_653dda70_03c6_11ec_aa0e_acbc32d61fabrow3_col0\" class=\"data row3 col0\" >Extreme Gradient Boosting</td>\n",
       "                        <td id=\"T_653dda70_03c6_11ec_aa0e_acbc32d61fabrow3_col1\" class=\"data row3 col1\" >0.6900</td>\n",
       "                        <td id=\"T_653dda70_03c6_11ec_aa0e_acbc32d61fabrow3_col2\" class=\"data row3 col2\" >0.7941</td>\n",
       "                        <td id=\"T_653dda70_03c6_11ec_aa0e_acbc32d61fabrow3_col3\" class=\"data row3 col3\" >0.4835</td>\n",
       "                        <td id=\"T_653dda70_03c6_11ec_aa0e_acbc32d61fabrow3_col4\" class=\"data row3 col4\" >0.6740</td>\n",
       "                        <td id=\"T_653dda70_03c6_11ec_aa0e_acbc32d61fabrow3_col5\" class=\"data row3 col5\" >0.6773</td>\n",
       "                        <td id=\"T_653dda70_03c6_11ec_aa0e_acbc32d61fabrow3_col6\" class=\"data row3 col6\" >0.4750</td>\n",
       "                        <td id=\"T_653dda70_03c6_11ec_aa0e_acbc32d61fabrow3_col7\" class=\"data row3 col7\" >0.4797</td>\n",
       "                        <td id=\"T_653dda70_03c6_11ec_aa0e_acbc32d61fabrow3_col8\" class=\"data row3 col8\" >2.0960</td>\n",
       "            </tr>\n",
       "            <tr>\n",
       "                        <th id=\"T_653dda70_03c6_11ec_aa0e_acbc32d61fablevel0_row4\" class=\"row_heading level0 row4\" >rf</th>\n",
       "                        <td id=\"T_653dda70_03c6_11ec_aa0e_acbc32d61fabrow4_col0\" class=\"data row4 col0\" >Random Forest Classifier</td>\n",
       "                        <td id=\"T_653dda70_03c6_11ec_aa0e_acbc32d61fabrow4_col1\" class=\"data row4 col1\" >0.6872</td>\n",
       "                        <td id=\"T_653dda70_03c6_11ec_aa0e_acbc32d61fabrow4_col2\" class=\"data row4 col2\" >0.8169</td>\n",
       "                        <td id=\"T_653dda70_03c6_11ec_aa0e_acbc32d61fabrow4_col3\" class=\"data row4 col3\" >0.4627</td>\n",
       "                        <td id=\"T_653dda70_03c6_11ec_aa0e_acbc32d61fabrow4_col4\" class=\"data row4 col4\" >0.6755</td>\n",
       "                        <td id=\"T_653dda70_03c6_11ec_aa0e_acbc32d61fabrow4_col5\" class=\"data row4 col5\" >0.6758</td>\n",
       "                        <td id=\"T_653dda70_03c6_11ec_aa0e_acbc32d61fabrow4_col6\" class=\"data row4 col6\" >0.4664</td>\n",
       "                        <td id=\"T_653dda70_03c6_11ec_aa0e_acbc32d61fabrow4_col7\" class=\"data row4 col7\" >0.4697</td>\n",
       "                        <td id=\"T_653dda70_03c6_11ec_aa0e_acbc32d61fabrow4_col8\" class=\"data row4 col8\" >0.2780</td>\n",
       "            </tr>\n",
       "            <tr>\n",
       "                        <th id=\"T_653dda70_03c6_11ec_aa0e_acbc32d61fablevel0_row5\" class=\"row_heading level0 row5\" >lightgbm</th>\n",
       "                        <td id=\"T_653dda70_03c6_11ec_aa0e_acbc32d61fabrow5_col0\" class=\"data row5 col0\" >Light Gradient Boosting Machine</td>\n",
       "                        <td id=\"T_653dda70_03c6_11ec_aa0e_acbc32d61fabrow5_col1\" class=\"data row5 col1\" >0.6844</td>\n",
       "                        <td id=\"T_653dda70_03c6_11ec_aa0e_acbc32d61fabrow5_col2\" class=\"data row5 col2\" >0.8024</td>\n",
       "                        <td id=\"T_653dda70_03c6_11ec_aa0e_acbc32d61fabrow5_col3\" class=\"data row5 col3\" >0.5042</td>\n",
       "                        <td id=\"T_653dda70_03c6_11ec_aa0e_acbc32d61fabrow5_col4\" class=\"data row5 col4\" >0.6732</td>\n",
       "                        <td id=\"T_653dda70_03c6_11ec_aa0e_acbc32d61fabrow5_col5\" class=\"data row5 col5\" >0.6741</td>\n",
       "                        <td id=\"T_653dda70_03c6_11ec_aa0e_acbc32d61fabrow5_col6\" class=\"data row5 col6\" >0.4664</td>\n",
       "                        <td id=\"T_653dda70_03c6_11ec_aa0e_acbc32d61fabrow5_col7\" class=\"data row5 col7\" >0.4702</td>\n",
       "                        <td id=\"T_653dda70_03c6_11ec_aa0e_acbc32d61fabrow5_col8\" class=\"data row5 col8\" >0.9530</td>\n",
       "            </tr>\n",
       "            <tr>\n",
       "                        <th id=\"T_653dda70_03c6_11ec_aa0e_acbc32d61fablevel0_row6\" class=\"row_heading level0 row6\" >lda</th>\n",
       "                        <td id=\"T_653dda70_03c6_11ec_aa0e_acbc32d61fabrow6_col0\" class=\"data row6 col0\" >Linear Discriminant Analysis</td>\n",
       "                        <td id=\"T_653dda70_03c6_11ec_aa0e_acbc32d61fabrow6_col1\" class=\"data row6 col1\" >0.6824</td>\n",
       "                        <td id=\"T_653dda70_03c6_11ec_aa0e_acbc32d61fabrow6_col2\" class=\"data row6 col2\" >0.8092</td>\n",
       "                        <td id=\"T_653dda70_03c6_11ec_aa0e_acbc32d61fabrow6_col3\" class=\"data row6 col3\" >0.4564</td>\n",
       "                        <td id=\"T_653dda70_03c6_11ec_aa0e_acbc32d61fabrow6_col4\" class=\"data row6 col4\" >0.6636</td>\n",
       "                        <td id=\"T_653dda70_03c6_11ec_aa0e_acbc32d61fabrow6_col5\" class=\"data row6 col5\" >0.6561</td>\n",
       "                        <td id=\"T_653dda70_03c6_11ec_aa0e_acbc32d61fabrow6_col6\" class=\"data row6 col6\" >0.4508</td>\n",
       "                        <td id=\"T_653dda70_03c6_11ec_aa0e_acbc32d61fabrow6_col7\" class=\"data row6 col7\" >0.4683</td>\n",
       "                        <td id=\"T_653dda70_03c6_11ec_aa0e_acbc32d61fabrow6_col8\" class=\"data row6 col8\" >0.0680</td>\n",
       "            </tr>\n",
       "            <tr>\n",
       "                        <th id=\"T_653dda70_03c6_11ec_aa0e_acbc32d61fablevel0_row7\" class=\"row_heading level0 row7\" >knn</th>\n",
       "                        <td id=\"T_653dda70_03c6_11ec_aa0e_acbc32d61fabrow7_col0\" class=\"data row7 col0\" >K Neighbors Classifier</td>\n",
       "                        <td id=\"T_653dda70_03c6_11ec_aa0e_acbc32d61fabrow7_col1\" class=\"data row7 col1\" >0.6781</td>\n",
       "                        <td id=\"T_653dda70_03c6_11ec_aa0e_acbc32d61fabrow7_col2\" class=\"data row7 col2\" >0.7892</td>\n",
       "                        <td id=\"T_653dda70_03c6_11ec_aa0e_acbc32d61fabrow7_col3\" class=\"data row7 col3\" >0.4480</td>\n",
       "                        <td id=\"T_653dda70_03c6_11ec_aa0e_acbc32d61fabrow7_col4\" class=\"data row7 col4\" >0.6515</td>\n",
       "                        <td id=\"T_653dda70_03c6_11ec_aa0e_acbc32d61fabrow7_col5\" class=\"data row7 col5\" >0.6569</td>\n",
       "                        <td id=\"T_653dda70_03c6_11ec_aa0e_acbc32d61fabrow7_col6\" class=\"data row7 col6\" >0.4436</td>\n",
       "                        <td id=\"T_653dda70_03c6_11ec_aa0e_acbc32d61fabrow7_col7\" class=\"data row7 col7\" >0.4512</td>\n",
       "                        <td id=\"T_653dda70_03c6_11ec_aa0e_acbc32d61fabrow7_col8\" class=\"data row7 col8\" >0.0350</td>\n",
       "            </tr>\n",
       "            <tr>\n",
       "                        <th id=\"T_653dda70_03c6_11ec_aa0e_acbc32d61fablevel0_row8\" class=\"row_heading level0 row8\" >ridge</th>\n",
       "                        <td id=\"T_653dda70_03c6_11ec_aa0e_acbc32d61fabrow8_col0\" class=\"data row8 col0\" >Ridge Classifier</td>\n",
       "                        <td id=\"T_653dda70_03c6_11ec_aa0e_acbc32d61fabrow8_col1\" class=\"data row8 col1\" >0.6754</td>\n",
       "                        <td id=\"T_653dda70_03c6_11ec_aa0e_acbc32d61fabrow8_col2\" class=\"data row8 col2\" >0.0000</td>\n",
       "                        <td id=\"T_653dda70_03c6_11ec_aa0e_acbc32d61fabrow8_col3\" class=\"data row8 col3\" >0.4328</td>\n",
       "                        <td id=\"T_653dda70_03c6_11ec_aa0e_acbc32d61fabrow8_col4\" class=\"data row8 col4\" >0.6482</td>\n",
       "                        <td id=\"T_653dda70_03c6_11ec_aa0e_acbc32d61fabrow8_col5\" class=\"data row8 col5\" >0.6408</td>\n",
       "                        <td id=\"T_653dda70_03c6_11ec_aa0e_acbc32d61fabrow8_col6\" class=\"data row8 col6\" >0.4252</td>\n",
       "                        <td id=\"T_653dda70_03c6_11ec_aa0e_acbc32d61fabrow8_col7\" class=\"data row8 col7\" >0.4470</td>\n",
       "                        <td id=\"T_653dda70_03c6_11ec_aa0e_acbc32d61fabrow8_col8\" class=\"data row8 col8\" >0.0170</td>\n",
       "            </tr>\n",
       "            <tr>\n",
       "                        <th id=\"T_653dda70_03c6_11ec_aa0e_acbc32d61fablevel0_row9\" class=\"row_heading level0 row9\" >et</th>\n",
       "                        <td id=\"T_653dda70_03c6_11ec_aa0e_acbc32d61fabrow9_col0\" class=\"data row9 col0\" >Extra Trees Classifier</td>\n",
       "                        <td id=\"T_653dda70_03c6_11ec_aa0e_acbc32d61fabrow9_col1\" class=\"data row9 col1\" >0.6739</td>\n",
       "                        <td id=\"T_653dda70_03c6_11ec_aa0e_acbc32d61fabrow9_col2\" class=\"data row9 col2\" >0.7961</td>\n",
       "                        <td id=\"T_653dda70_03c6_11ec_aa0e_acbc32d61fabrow9_col3\" class=\"data row9 col3\" >0.4466</td>\n",
       "                        <td id=\"T_653dda70_03c6_11ec_aa0e_acbc32d61fabrow9_col4\" class=\"data row9 col4\" >0.6571</td>\n",
       "                        <td id=\"T_653dda70_03c6_11ec_aa0e_acbc32d61fabrow9_col5\" class=\"data row9 col5\" >0.6606</td>\n",
       "                        <td id=\"T_653dda70_03c6_11ec_aa0e_acbc32d61fabrow9_col6\" class=\"data row9 col6\" >0.4429</td>\n",
       "                        <td id=\"T_653dda70_03c6_11ec_aa0e_acbc32d61fabrow9_col7\" class=\"data row9 col7\" >0.4463</td>\n",
       "                        <td id=\"T_653dda70_03c6_11ec_aa0e_acbc32d61fabrow9_col8\" class=\"data row9 col8\" >0.3570</td>\n",
       "            </tr>\n",
       "            <tr>\n",
       "                        <th id=\"T_653dda70_03c6_11ec_aa0e_acbc32d61fablevel0_row10\" class=\"row_heading level0 row10\" >ada</th>\n",
       "                        <td id=\"T_653dda70_03c6_11ec_aa0e_acbc32d61fabrow10_col0\" class=\"data row10 col0\" >Ada Boost Classifier</td>\n",
       "                        <td id=\"T_653dda70_03c6_11ec_aa0e_acbc32d61fabrow10_col1\" class=\"data row10 col1\" >0.6585</td>\n",
       "                        <td id=\"T_653dda70_03c6_11ec_aa0e_acbc32d61fabrow10_col2\" class=\"data row10 col2\" >0.7949</td>\n",
       "                        <td id=\"T_653dda70_03c6_11ec_aa0e_acbc32d61fabrow10_col3\" class=\"data row10 col3\" >0.4909</td>\n",
       "                        <td id=\"T_653dda70_03c6_11ec_aa0e_acbc32d61fabrow10_col4\" class=\"data row10 col4\" >0.6486</td>\n",
       "                        <td id=\"T_653dda70_03c6_11ec_aa0e_acbc32d61fabrow10_col5\" class=\"data row10 col5\" >0.6235</td>\n",
       "                        <td id=\"T_653dda70_03c6_11ec_aa0e_acbc32d61fabrow10_col6\" class=\"data row10 col6\" >0.4083</td>\n",
       "                        <td id=\"T_653dda70_03c6_11ec_aa0e_acbc32d61fabrow10_col7\" class=\"data row10 col7\" >0.4303</td>\n",
       "                        <td id=\"T_653dda70_03c6_11ec_aa0e_acbc32d61fabrow10_col8\" class=\"data row10 col8\" >0.1170</td>\n",
       "            </tr>\n",
       "            <tr>\n",
       "                        <th id=\"T_653dda70_03c6_11ec_aa0e_acbc32d61fablevel0_row11\" class=\"row_heading level0 row11\" >dt</th>\n",
       "                        <td id=\"T_653dda70_03c6_11ec_aa0e_acbc32d61fabrow11_col0\" class=\"data row11 col0\" >Decision Tree Classifier</td>\n",
       "                        <td id=\"T_653dda70_03c6_11ec_aa0e_acbc32d61fabrow11_col1\" class=\"data row11 col1\" >0.6515</td>\n",
       "                        <td id=\"T_653dda70_03c6_11ec_aa0e_acbc32d61fabrow11_col2\" class=\"data row11 col2\" >0.6853</td>\n",
       "                        <td id=\"T_653dda70_03c6_11ec_aa0e_acbc32d61fabrow11_col3\" class=\"data row11 col3\" >0.4788</td>\n",
       "                        <td id=\"T_653dda70_03c6_11ec_aa0e_acbc32d61fabrow11_col4\" class=\"data row11 col4\" >0.6483</td>\n",
       "                        <td id=\"T_653dda70_03c6_11ec_aa0e_acbc32d61fabrow11_col5\" class=\"data row11 col5\" >0.6451</td>\n",
       "                        <td id=\"T_653dda70_03c6_11ec_aa0e_acbc32d61fabrow11_col6\" class=\"data row11 col6\" >0.4210</td>\n",
       "                        <td id=\"T_653dda70_03c6_11ec_aa0e_acbc32d61fabrow11_col7\" class=\"data row11 col7\" >0.4245</td>\n",
       "                        <td id=\"T_653dda70_03c6_11ec_aa0e_acbc32d61fabrow11_col8\" class=\"data row11 col8\" >0.0200</td>\n",
       "            </tr>\n",
       "            <tr>\n",
       "                        <th id=\"T_653dda70_03c6_11ec_aa0e_acbc32d61fablevel0_row12\" class=\"row_heading level0 row12\" >svm</th>\n",
       "                        <td id=\"T_653dda70_03c6_11ec_aa0e_acbc32d61fabrow12_col0\" class=\"data row12 col0\" >SVM - Linear Kernel</td>\n",
       "                        <td id=\"T_653dda70_03c6_11ec_aa0e_acbc32d61fabrow12_col1\" class=\"data row12 col1\" >0.6325</td>\n",
       "                        <td id=\"T_653dda70_03c6_11ec_aa0e_acbc32d61fabrow12_col2\" class=\"data row12 col2\" >0.0000</td>\n",
       "                        <td id=\"T_653dda70_03c6_11ec_aa0e_acbc32d61fabrow12_col3\" class=\"data row12 col3\" >0.4891</td>\n",
       "                        <td id=\"T_653dda70_03c6_11ec_aa0e_acbc32d61fabrow12_col4\" class=\"data row12 col4\" >0.6496</td>\n",
       "                        <td id=\"T_653dda70_03c6_11ec_aa0e_acbc32d61fabrow12_col5\" class=\"data row12 col5\" >0.6178</td>\n",
       "                        <td id=\"T_653dda70_03c6_11ec_aa0e_acbc32d61fabrow12_col6\" class=\"data row12 col6\" >0.3902</td>\n",
       "                        <td id=\"T_653dda70_03c6_11ec_aa0e_acbc32d61fabrow12_col7\" class=\"data row12 col7\" >0.4007</td>\n",
       "                        <td id=\"T_653dda70_03c6_11ec_aa0e_acbc32d61fabrow12_col8\" class=\"data row12 col8\" >0.0340</td>\n",
       "            </tr>\n",
       "            <tr>\n",
       "                        <th id=\"T_653dda70_03c6_11ec_aa0e_acbc32d61fablevel0_row13\" class=\"row_heading level0 row13\" >nb</th>\n",
       "                        <td id=\"T_653dda70_03c6_11ec_aa0e_acbc32d61fabrow13_col0\" class=\"data row13 col0\" >Naive Bayes</td>\n",
       "                        <td id=\"T_653dda70_03c6_11ec_aa0e_acbc32d61fabrow13_col1\" class=\"data row13 col1\" >0.6270</td>\n",
       "                        <td id=\"T_653dda70_03c6_11ec_aa0e_acbc32d61fabrow13_col2\" class=\"data row13 col2\" >0.7743</td>\n",
       "                        <td id=\"T_653dda70_03c6_11ec_aa0e_acbc32d61fabrow13_col3\" class=\"data row13 col3\" >0.3899</td>\n",
       "                        <td id=\"T_653dda70_03c6_11ec_aa0e_acbc32d61fabrow13_col4\" class=\"data row13 col4\" >0.6390</td>\n",
       "                        <td id=\"T_653dda70_03c6_11ec_aa0e_acbc32d61fabrow13_col5\" class=\"data row13 col5\" >0.5893</td>\n",
       "                        <td id=\"T_653dda70_03c6_11ec_aa0e_acbc32d61fabrow13_col6\" class=\"data row13 col6\" >0.3499</td>\n",
       "                        <td id=\"T_653dda70_03c6_11ec_aa0e_acbc32d61fabrow13_col7\" class=\"data row13 col7\" >0.3779</td>\n",
       "                        <td id=\"T_653dda70_03c6_11ec_aa0e_acbc32d61fabrow13_col8\" class=\"data row13 col8\" >0.0150</td>\n",
       "            </tr>\n",
       "            <tr>\n",
       "                        <th id=\"T_653dda70_03c6_11ec_aa0e_acbc32d61fablevel0_row14\" class=\"row_heading level0 row14\" >qda</th>\n",
       "                        <td id=\"T_653dda70_03c6_11ec_aa0e_acbc32d61fabrow14_col0\" class=\"data row14 col0\" >Quadratic Discriminant Analysis</td>\n",
       "                        <td id=\"T_653dda70_03c6_11ec_aa0e_acbc32d61fabrow14_col1\" class=\"data row14 col1\" >0.5933</td>\n",
       "                        <td id=\"T_653dda70_03c6_11ec_aa0e_acbc32d61fabrow14_col2\" class=\"data row14 col2\" >0.7026</td>\n",
       "                        <td id=\"T_653dda70_03c6_11ec_aa0e_acbc32d61fabrow14_col3\" class=\"data row14 col3\" >0.3892</td>\n",
       "                        <td id=\"T_653dda70_03c6_11ec_aa0e_acbc32d61fabrow14_col4\" class=\"data row14 col4\" >0.5768</td>\n",
       "                        <td id=\"T_653dda70_03c6_11ec_aa0e_acbc32d61fabrow14_col5\" class=\"data row14 col5\" >0.5152</td>\n",
       "                        <td id=\"T_653dda70_03c6_11ec_aa0e_acbc32d61fabrow14_col6\" class=\"data row14 col6\" >0.2414</td>\n",
       "                        <td id=\"T_653dda70_03c6_11ec_aa0e_acbc32d61fabrow14_col7\" class=\"data row14 col7\" >0.2925</td>\n",
       "                        <td id=\"T_653dda70_03c6_11ec_aa0e_acbc32d61fabrow14_col8\" class=\"data row14 col8\" >0.0260</td>\n",
       "            </tr>\n",
       "    </tbody></table>"
      ],
      "text/plain": [
       "<pandas.io.formats.style.Styler at 0x7fabe30ec250>"
      ]
     },
     "metadata": {},
     "output_type": "display_data"
    }
   ],
   "source": [
    "best_5 = compare_models(sort = 'Accuracy', n_select = 5)"
   ]
  },
  {
   "cell_type": "code",
   "execution_count": 159,
   "metadata": {},
   "outputs": [
    {
     "data": {
      "text/html": [
       "<style  type=\"text/css\" >\n",
       "#T_8add054a_01ef_11ec_ae50_acbc32d61fabrow5_col0,#T_8add054a_01ef_11ec_ae50_acbc32d61fabrow5_col1,#T_8add054a_01ef_11ec_ae50_acbc32d61fabrow5_col2,#T_8add054a_01ef_11ec_ae50_acbc32d61fabrow5_col3,#T_8add054a_01ef_11ec_ae50_acbc32d61fabrow5_col4,#T_8add054a_01ef_11ec_ae50_acbc32d61fabrow5_col5,#T_8add054a_01ef_11ec_ae50_acbc32d61fabrow5_col6{\n",
       "            background:  yellow;\n",
       "        }</style><table id=\"T_8add054a_01ef_11ec_ae50_acbc32d61fab\" ><thead>    <tr>        <th class=\"blank level0\" ></th>        <th class=\"col_heading level0 col0\" >Accuracy</th>        <th class=\"col_heading level0 col1\" >AUC</th>        <th class=\"col_heading level0 col2\" >Recall</th>        <th class=\"col_heading level0 col3\" >Prec.</th>        <th class=\"col_heading level0 col4\" >F1</th>        <th class=\"col_heading level0 col5\" >Kappa</th>        <th class=\"col_heading level0 col6\" >MCC</th>    </tr></thead><tbody>\n",
       "                <tr>\n",
       "                        <th id=\"T_8add054a_01ef_11ec_ae50_acbc32d61fablevel0_row0\" class=\"row_heading level0 row0\" >0</th>\n",
       "                        <td id=\"T_8add054a_01ef_11ec_ae50_acbc32d61fabrow0_col0\" class=\"data row0 col0\" >0.7599</td>\n",
       "                        <td id=\"T_8add054a_01ef_11ec_ae50_acbc32d61fabrow0_col1\" class=\"data row0 col1\" >0.8861</td>\n",
       "                        <td id=\"T_8add054a_01ef_11ec_ae50_acbc32d61fabrow0_col2\" class=\"data row0 col2\" >0.5617</td>\n",
       "                        <td id=\"T_8add054a_01ef_11ec_ae50_acbc32d61fabrow0_col3\" class=\"data row0 col3\" >0.7448</td>\n",
       "                        <td id=\"T_8add054a_01ef_11ec_ae50_acbc32d61fabrow0_col4\" class=\"data row0 col4\" >0.7463</td>\n",
       "                        <td id=\"T_8add054a_01ef_11ec_ae50_acbc32d61fabrow0_col5\" class=\"data row0 col5\" >0.5596</td>\n",
       "                        <td id=\"T_8add054a_01ef_11ec_ae50_acbc32d61fabrow0_col6\" class=\"data row0 col6\" >0.5649</td>\n",
       "            </tr>\n",
       "            <tr>\n",
       "                        <th id=\"T_8add054a_01ef_11ec_ae50_acbc32d61fablevel0_row1\" class=\"row_heading level0 row1\" >1</th>\n",
       "                        <td id=\"T_8add054a_01ef_11ec_ae50_acbc32d61fabrow1_col0\" class=\"data row1 col0\" >0.7178</td>\n",
       "                        <td id=\"T_8add054a_01ef_11ec_ae50_acbc32d61fabrow1_col1\" class=\"data row1 col1\" >0.8593</td>\n",
       "                        <td id=\"T_8add054a_01ef_11ec_ae50_acbc32d61fabrow1_col2\" class=\"data row1 col2\" >0.5171</td>\n",
       "                        <td id=\"T_8add054a_01ef_11ec_ae50_acbc32d61fabrow1_col3\" class=\"data row1 col3\" >0.6916</td>\n",
       "                        <td id=\"T_8add054a_01ef_11ec_ae50_acbc32d61fabrow1_col4\" class=\"data row1 col4\" >0.7001</td>\n",
       "                        <td id=\"T_8add054a_01ef_11ec_ae50_acbc32d61fabrow1_col5\" class=\"data row1 col5\" >0.4840</td>\n",
       "                        <td id=\"T_8add054a_01ef_11ec_ae50_acbc32d61fabrow1_col6\" class=\"data row1 col6\" >0.4893</td>\n",
       "            </tr>\n",
       "            <tr>\n",
       "                        <th id=\"T_8add054a_01ef_11ec_ae50_acbc32d61fablevel0_row2\" class=\"row_heading level0 row2\" >2</th>\n",
       "                        <td id=\"T_8add054a_01ef_11ec_ae50_acbc32d61fabrow2_col0\" class=\"data row2 col0\" >0.7270</td>\n",
       "                        <td id=\"T_8add054a_01ef_11ec_ae50_acbc32d61fabrow2_col1\" class=\"data row2 col1\" >0.8698</td>\n",
       "                        <td id=\"T_8add054a_01ef_11ec_ae50_acbc32d61fabrow2_col2\" class=\"data row2 col2\" >0.4608</td>\n",
       "                        <td id=\"T_8add054a_01ef_11ec_ae50_acbc32d61fabrow2_col3\" class=\"data row2 col3\" >0.7092</td>\n",
       "                        <td id=\"T_8add054a_01ef_11ec_ae50_acbc32d61fabrow2_col4\" class=\"data row2 col4\" >0.7150</td>\n",
       "                        <td id=\"T_8add054a_01ef_11ec_ae50_acbc32d61fabrow2_col5\" class=\"data row2 col5\" >0.5030</td>\n",
       "                        <td id=\"T_8add054a_01ef_11ec_ae50_acbc32d61fabrow2_col6\" class=\"data row2 col6\" >0.5059</td>\n",
       "            </tr>\n",
       "            <tr>\n",
       "                        <th id=\"T_8add054a_01ef_11ec_ae50_acbc32d61fablevel0_row3\" class=\"row_heading level0 row3\" >3</th>\n",
       "                        <td id=\"T_8add054a_01ef_11ec_ae50_acbc32d61fabrow3_col0\" class=\"data row3 col0\" >0.7866</td>\n",
       "                        <td id=\"T_8add054a_01ef_11ec_ae50_acbc32d61fabrow3_col1\" class=\"data row3 col1\" >0.9027</td>\n",
       "                        <td id=\"T_8add054a_01ef_11ec_ae50_acbc32d61fabrow3_col2\" class=\"data row3 col2\" >0.7691</td>\n",
       "                        <td id=\"T_8add054a_01ef_11ec_ae50_acbc32d61fabrow3_col3\" class=\"data row3 col3\" >0.7836</td>\n",
       "                        <td id=\"T_8add054a_01ef_11ec_ae50_acbc32d61fabrow3_col4\" class=\"data row3 col4\" >0.7833</td>\n",
       "                        <td id=\"T_8add054a_01ef_11ec_ae50_acbc32d61fabrow3_col5\" class=\"data row3 col5\" >0.6224</td>\n",
       "                        <td id=\"T_8add054a_01ef_11ec_ae50_acbc32d61fabrow3_col6\" class=\"data row3 col6\" >0.6233</td>\n",
       "            </tr>\n",
       "            <tr>\n",
       "                        <th id=\"T_8add054a_01ef_11ec_ae50_acbc32d61fablevel0_row4\" class=\"row_heading level0 row4\" >4</th>\n",
       "                        <td id=\"T_8add054a_01ef_11ec_ae50_acbc32d61fabrow4_col0\" class=\"data row4 col0\" >0.7370</td>\n",
       "                        <td id=\"T_8add054a_01ef_11ec_ae50_acbc32d61fabrow4_col1\" class=\"data row4 col1\" >0.8638</td>\n",
       "                        <td id=\"T_8add054a_01ef_11ec_ae50_acbc32d61fabrow4_col2\" class=\"data row4 col2\" >0.4673</td>\n",
       "                        <td id=\"T_8add054a_01ef_11ec_ae50_acbc32d61fabrow4_col3\" class=\"data row4 col3\" >0.7136</td>\n",
       "                        <td id=\"T_8add054a_01ef_11ec_ae50_acbc32d61fabrow4_col4\" class=\"data row4 col4\" >0.7219</td>\n",
       "                        <td id=\"T_8add054a_01ef_11ec_ae50_acbc32d61fabrow4_col5\" class=\"data row4 col5\" >0.5186</td>\n",
       "                        <td id=\"T_8add054a_01ef_11ec_ae50_acbc32d61fabrow4_col6\" class=\"data row4 col6\" >0.5229</td>\n",
       "            </tr>\n",
       "            <tr>\n",
       "                        <th id=\"T_8add054a_01ef_11ec_ae50_acbc32d61fablevel0_row5\" class=\"row_heading level0 row5\" >Mean</th>\n",
       "                        <td id=\"T_8add054a_01ef_11ec_ae50_acbc32d61fabrow5_col0\" class=\"data row5 col0\" >0.7457</td>\n",
       "                        <td id=\"T_8add054a_01ef_11ec_ae50_acbc32d61fabrow5_col1\" class=\"data row5 col1\" >0.8764</td>\n",
       "                        <td id=\"T_8add054a_01ef_11ec_ae50_acbc32d61fabrow5_col2\" class=\"data row5 col2\" >0.5552</td>\n",
       "                        <td id=\"T_8add054a_01ef_11ec_ae50_acbc32d61fabrow5_col3\" class=\"data row5 col3\" >0.7286</td>\n",
       "                        <td id=\"T_8add054a_01ef_11ec_ae50_acbc32d61fabrow5_col4\" class=\"data row5 col4\" >0.7333</td>\n",
       "                        <td id=\"T_8add054a_01ef_11ec_ae50_acbc32d61fabrow5_col5\" class=\"data row5 col5\" >0.5375</td>\n",
       "                        <td id=\"T_8add054a_01ef_11ec_ae50_acbc32d61fabrow5_col6\" class=\"data row5 col6\" >0.5413</td>\n",
       "            </tr>\n",
       "            <tr>\n",
       "                        <th id=\"T_8add054a_01ef_11ec_ae50_acbc32d61fablevel0_row6\" class=\"row_heading level0 row6\" >SD</th>\n",
       "                        <td id=\"T_8add054a_01ef_11ec_ae50_acbc32d61fabrow6_col0\" class=\"data row6 col0\" >0.0248</td>\n",
       "                        <td id=\"T_8add054a_01ef_11ec_ae50_acbc32d61fabrow6_col1\" class=\"data row6 col1\" >0.0160</td>\n",
       "                        <td id=\"T_8add054a_01ef_11ec_ae50_acbc32d61fabrow6_col2\" class=\"data row6 col2\" >0.1130</td>\n",
       "                        <td id=\"T_8add054a_01ef_11ec_ae50_acbc32d61fabrow6_col3\" class=\"data row6 col3\" >0.0324</td>\n",
       "                        <td id=\"T_8add054a_01ef_11ec_ae50_acbc32d61fabrow6_col4\" class=\"data row6 col4\" >0.0291</td>\n",
       "                        <td id=\"T_8add054a_01ef_11ec_ae50_acbc32d61fabrow6_col5\" class=\"data row6 col5\" >0.0492</td>\n",
       "                        <td id=\"T_8add054a_01ef_11ec_ae50_acbc32d61fabrow6_col6\" class=\"data row6 col6\" >0.0481</td>\n",
       "            </tr>\n",
       "    </tbody></table>"
      ],
      "text/plain": [
       "<pandas.io.formats.style.Styler at 0x7f838eb87a90>"
      ]
     },
     "metadata": {},
     "output_type": "display_data"
    }
   ],
   "source": [
    "blended = blend_models(estimator_list = best_5, fold = 5, method = 'soft')"
   ]
  },
  {
   "cell_type": "code",
   "execution_count": 160,
   "metadata": {},
   "outputs": [
    {
     "data": {
      "text/html": [
       "<style  type=\"text/css\" >\n",
       "#T_8d2a11d0_01ef_11ec_ae50_acbc32d61fabrow10_col0,#T_8d2a11d0_01ef_11ec_ae50_acbc32d61fabrow10_col1,#T_8d2a11d0_01ef_11ec_ae50_acbc32d61fabrow10_col2,#T_8d2a11d0_01ef_11ec_ae50_acbc32d61fabrow10_col3,#T_8d2a11d0_01ef_11ec_ae50_acbc32d61fabrow10_col4,#T_8d2a11d0_01ef_11ec_ae50_acbc32d61fabrow10_col5,#T_8d2a11d0_01ef_11ec_ae50_acbc32d61fabrow10_col6{\n",
       "            background:  yellow;\n",
       "        }</style><table id=\"T_8d2a11d0_01ef_11ec_ae50_acbc32d61fab\" ><thead>    <tr>        <th class=\"blank level0\" ></th>        <th class=\"col_heading level0 col0\" >Accuracy</th>        <th class=\"col_heading level0 col1\" >AUC</th>        <th class=\"col_heading level0 col2\" >Recall</th>        <th class=\"col_heading level0 col3\" >Prec.</th>        <th class=\"col_heading level0 col4\" >F1</th>        <th class=\"col_heading level0 col5\" >Kappa</th>        <th class=\"col_heading level0 col6\" >MCC</th>    </tr></thead><tbody>\n",
       "                <tr>\n",
       "                        <th id=\"T_8d2a11d0_01ef_11ec_ae50_acbc32d61fablevel0_row0\" class=\"row_heading level0 row0\" >0</th>\n",
       "                        <td id=\"T_8d2a11d0_01ef_11ec_ae50_acbc32d61fabrow0_col0\" class=\"data row0 col0\" >0.7624</td>\n",
       "                        <td id=\"T_8d2a11d0_01ef_11ec_ae50_acbc32d61fabrow0_col1\" class=\"data row0 col1\" >0.8783</td>\n",
       "                        <td id=\"T_8d2a11d0_01ef_11ec_ae50_acbc32d61fabrow0_col2\" class=\"data row0 col2\" >0.4687</td>\n",
       "                        <td id=\"T_8d2a11d0_01ef_11ec_ae50_acbc32d61fabrow0_col3\" class=\"data row0 col3\" >0.7377</td>\n",
       "                        <td id=\"T_8d2a11d0_01ef_11ec_ae50_acbc32d61fabrow0_col4\" class=\"data row0 col4\" >0.7429</td>\n",
       "                        <td id=\"T_8d2a11d0_01ef_11ec_ae50_acbc32d61fabrow0_col5\" class=\"data row0 col5\" >0.5583</td>\n",
       "                        <td id=\"T_8d2a11d0_01ef_11ec_ae50_acbc32d61fabrow0_col6\" class=\"data row0 col6\" >0.5661</td>\n",
       "            </tr>\n",
       "            <tr>\n",
       "                        <th id=\"T_8d2a11d0_01ef_11ec_ae50_acbc32d61fablevel0_row1\" class=\"row_heading level0 row1\" >1</th>\n",
       "                        <td id=\"T_8d2a11d0_01ef_11ec_ae50_acbc32d61fabrow1_col0\" class=\"data row1 col0\" >0.7772</td>\n",
       "                        <td id=\"T_8d2a11d0_01ef_11ec_ae50_acbc32d61fabrow1_col1\" class=\"data row1 col1\" >0.8827</td>\n",
       "                        <td id=\"T_8d2a11d0_01ef_11ec_ae50_acbc32d61fabrow1_col2\" class=\"data row1 col2\" >0.7647</td>\n",
       "                        <td id=\"T_8d2a11d0_01ef_11ec_ae50_acbc32d61fabrow1_col3\" class=\"data row1 col3\" >0.7684</td>\n",
       "                        <td id=\"T_8d2a11d0_01ef_11ec_ae50_acbc32d61fabrow1_col4\" class=\"data row1 col4\" >0.7698</td>\n",
       "                        <td id=\"T_8d2a11d0_01ef_11ec_ae50_acbc32d61fabrow1_col5\" class=\"data row1 col5\" >0.5999</td>\n",
       "                        <td id=\"T_8d2a11d0_01ef_11ec_ae50_acbc32d61fabrow1_col6\" class=\"data row1 col6\" >0.6029</td>\n",
       "            </tr>\n",
       "            <tr>\n",
       "                        <th id=\"T_8d2a11d0_01ef_11ec_ae50_acbc32d61fablevel0_row2\" class=\"row_heading level0 row2\" >2</th>\n",
       "                        <td id=\"T_8d2a11d0_01ef_11ec_ae50_acbc32d61fabrow2_col0\" class=\"data row2 col0\" >0.7178</td>\n",
       "                        <td id=\"T_8d2a11d0_01ef_11ec_ae50_acbc32d61fabrow2_col1\" class=\"data row2 col1\" >0.8546</td>\n",
       "                        <td id=\"T_8d2a11d0_01ef_11ec_ae50_acbc32d61fabrow2_col2\" class=\"data row2 col2\" >0.4380</td>\n",
       "                        <td id=\"T_8d2a11d0_01ef_11ec_ae50_acbc32d61fabrow2_col3\" class=\"data row2 col3\" >0.6993</td>\n",
       "                        <td id=\"T_8d2a11d0_01ef_11ec_ae50_acbc32d61fabrow2_col4\" class=\"data row2 col4\" >0.6987</td>\n",
       "                        <td id=\"T_8d2a11d0_01ef_11ec_ae50_acbc32d61fabrow2_col5\" class=\"data row2 col5\" >0.4763</td>\n",
       "                        <td id=\"T_8d2a11d0_01ef_11ec_ae50_acbc32d61fabrow2_col6\" class=\"data row2 col6\" >0.4831</td>\n",
       "            </tr>\n",
       "            <tr>\n",
       "                        <th id=\"T_8d2a11d0_01ef_11ec_ae50_acbc32d61fablevel0_row3\" class=\"row_heading level0 row3\" >3</th>\n",
       "                        <td id=\"T_8d2a11d0_01ef_11ec_ae50_acbc32d61fabrow3_col0\" class=\"data row3 col0\" >0.6931</td>\n",
       "                        <td id=\"T_8d2a11d0_01ef_11ec_ae50_acbc32d61fabrow3_col1\" class=\"data row3 col1\" >0.8741</td>\n",
       "                        <td id=\"T_8d2a11d0_01ef_11ec_ae50_acbc32d61fabrow3_col2\" class=\"data row3 col2\" >0.4118</td>\n",
       "                        <td id=\"T_8d2a11d0_01ef_11ec_ae50_acbc32d61fabrow3_col3\" class=\"data row3 col3\" >0.6637</td>\n",
       "                        <td id=\"T_8d2a11d0_01ef_11ec_ae50_acbc32d61fabrow3_col4\" class=\"data row3 col4\" >0.6739</td>\n",
       "                        <td id=\"T_8d2a11d0_01ef_11ec_ae50_acbc32d61fabrow3_col5\" class=\"data row3 col5\" >0.4380</td>\n",
       "                        <td id=\"T_8d2a11d0_01ef_11ec_ae50_acbc32d61fabrow3_col6\" class=\"data row3 col6\" >0.4433</td>\n",
       "            </tr>\n",
       "            <tr>\n",
       "                        <th id=\"T_8d2a11d0_01ef_11ec_ae50_acbc32d61fablevel0_row4\" class=\"row_heading level0 row4\" >4</th>\n",
       "                        <td id=\"T_8d2a11d0_01ef_11ec_ae50_acbc32d61fabrow4_col0\" class=\"data row4 col0\" >0.7277</td>\n",
       "                        <td id=\"T_8d2a11d0_01ef_11ec_ae50_acbc32d61fabrow4_col1\" class=\"data row4 col1\" >0.8705</td>\n",
       "                        <td id=\"T_8d2a11d0_01ef_11ec_ae50_acbc32d61fabrow4_col2\" class=\"data row4 col2\" >0.5731</td>\n",
       "                        <td id=\"T_8d2a11d0_01ef_11ec_ae50_acbc32d61fabrow4_col3\" class=\"data row4 col3\" >0.7073</td>\n",
       "                        <td id=\"T_8d2a11d0_01ef_11ec_ae50_acbc32d61fabrow4_col4\" class=\"data row4 col4\" >0.7131</td>\n",
       "                        <td id=\"T_8d2a11d0_01ef_11ec_ae50_acbc32d61fabrow4_col5\" class=\"data row4 col5\" >0.5037</td>\n",
       "                        <td id=\"T_8d2a11d0_01ef_11ec_ae50_acbc32d61fabrow4_col6\" class=\"data row4 col6\" >0.5082</td>\n",
       "            </tr>\n",
       "            <tr>\n",
       "                        <th id=\"T_8d2a11d0_01ef_11ec_ae50_acbc32d61fablevel0_row5\" class=\"row_heading level0 row5\" >5</th>\n",
       "                        <td id=\"T_8d2a11d0_01ef_11ec_ae50_acbc32d61fabrow5_col0\" class=\"data row5 col0\" >0.7327</td>\n",
       "                        <td id=\"T_8d2a11d0_01ef_11ec_ae50_acbc32d61fabrow5_col1\" class=\"data row5 col1\" >0.8649</td>\n",
       "                        <td id=\"T_8d2a11d0_01ef_11ec_ae50_acbc32d61fabrow5_col2\" class=\"data row5 col2\" >0.4412</td>\n",
       "                        <td id=\"T_8d2a11d0_01ef_11ec_ae50_acbc32d61fabrow5_col3\" class=\"data row5 col3\" >0.7050</td>\n",
       "                        <td id=\"T_8d2a11d0_01ef_11ec_ae50_acbc32d61fabrow5_col4\" class=\"data row5 col4\" >0.7101</td>\n",
       "                        <td id=\"T_8d2a11d0_01ef_11ec_ae50_acbc32d61fabrow5_col5\" class=\"data row5 col5\" >0.5079</td>\n",
       "                        <td id=\"T_8d2a11d0_01ef_11ec_ae50_acbc32d61fabrow5_col6\" class=\"data row5 col6\" >0.5139</td>\n",
       "            </tr>\n",
       "            <tr>\n",
       "                        <th id=\"T_8d2a11d0_01ef_11ec_ae50_acbc32d61fablevel0_row6\" class=\"row_heading level0 row6\" >6</th>\n",
       "                        <td id=\"T_8d2a11d0_01ef_11ec_ae50_acbc32d61fabrow6_col0\" class=\"data row6 col0\" >0.7673</td>\n",
       "                        <td id=\"T_8d2a11d0_01ef_11ec_ae50_acbc32d61fabrow6_col1\" class=\"data row6 col1\" >0.9070</td>\n",
       "                        <td id=\"T_8d2a11d0_01ef_11ec_ae50_acbc32d61fabrow6_col2\" class=\"data row6 col2\" >0.7544</td>\n",
       "                        <td id=\"T_8d2a11d0_01ef_11ec_ae50_acbc32d61fabrow6_col3\" class=\"data row6 col3\" >0.7596</td>\n",
       "                        <td id=\"T_8d2a11d0_01ef_11ec_ae50_acbc32d61fabrow6_col4\" class=\"data row6 col4\" >0.7626</td>\n",
       "                        <td id=\"T_8d2a11d0_01ef_11ec_ae50_acbc32d61fabrow6_col5\" class=\"data row6 col5\" >0.5875</td>\n",
       "                        <td id=\"T_8d2a11d0_01ef_11ec_ae50_acbc32d61fabrow6_col6\" class=\"data row6 col6\" >0.5884</td>\n",
       "            </tr>\n",
       "            <tr>\n",
       "                        <th id=\"T_8d2a11d0_01ef_11ec_ae50_acbc32d61fablevel0_row7\" class=\"row_heading level0 row7\" >7</th>\n",
       "                        <td id=\"T_8d2a11d0_01ef_11ec_ae50_acbc32d61fabrow7_col0\" class=\"data row7 col0\" >0.8159</td>\n",
       "                        <td id=\"T_8d2a11d0_01ef_11ec_ae50_acbc32d61fabrow7_col1\" class=\"data row7 col1\" >0.9097</td>\n",
       "                        <td id=\"T_8d2a11d0_01ef_11ec_ae50_acbc32d61fabrow7_col2\" class=\"data row7 col2\" >0.5525</td>\n",
       "                        <td id=\"T_8d2a11d0_01ef_11ec_ae50_acbc32d61fabrow7_col3\" class=\"data row7 col3\" >0.8117</td>\n",
       "                        <td id=\"T_8d2a11d0_01ef_11ec_ae50_acbc32d61fabrow7_col4\" class=\"data row7 col4\" >0.8126</td>\n",
       "                        <td id=\"T_8d2a11d0_01ef_11ec_ae50_acbc32d61fabrow7_col5\" class=\"data row7 col5\" >0.6740</td>\n",
       "                        <td id=\"T_8d2a11d0_01ef_11ec_ae50_acbc32d61fabrow7_col6\" class=\"data row7 col6\" >0.6748</td>\n",
       "            </tr>\n",
       "            <tr>\n",
       "                        <th id=\"T_8d2a11d0_01ef_11ec_ae50_acbc32d61fablevel0_row8\" class=\"row_heading level0 row8\" >8</th>\n",
       "                        <td id=\"T_8d2a11d0_01ef_11ec_ae50_acbc32d61fabrow8_col0\" class=\"data row8 col0\" >0.7463</td>\n",
       "                        <td id=\"T_8d2a11d0_01ef_11ec_ae50_acbc32d61fabrow8_col1\" class=\"data row8 col1\" >0.8368</td>\n",
       "                        <td id=\"T_8d2a11d0_01ef_11ec_ae50_acbc32d61fabrow8_col2\" class=\"data row8 col2\" >0.4872</td>\n",
       "                        <td id=\"T_8d2a11d0_01ef_11ec_ae50_acbc32d61fabrow8_col3\" class=\"data row8 col3\" >0.7286</td>\n",
       "                        <td id=\"T_8d2a11d0_01ef_11ec_ae50_acbc32d61fabrow8_col4\" class=\"data row8 col4\" >0.7342</td>\n",
       "                        <td id=\"T_8d2a11d0_01ef_11ec_ae50_acbc32d61fabrow8_col5\" class=\"data row8 col5\" >0.5393</td>\n",
       "                        <td id=\"T_8d2a11d0_01ef_11ec_ae50_acbc32d61fabrow8_col6\" class=\"data row8 col6\" >0.5434</td>\n",
       "            </tr>\n",
       "            <tr>\n",
       "                        <th id=\"T_8d2a11d0_01ef_11ec_ae50_acbc32d61fablevel0_row9\" class=\"row_heading level0 row9\" >9</th>\n",
       "                        <td id=\"T_8d2a11d0_01ef_11ec_ae50_acbc32d61fabrow9_col0\" class=\"data row9 col0\" >0.7413</td>\n",
       "                        <td id=\"T_8d2a11d0_01ef_11ec_ae50_acbc32d61fabrow9_col1\" class=\"data row9 col1\" >0.8887</td>\n",
       "                        <td id=\"T_8d2a11d0_01ef_11ec_ae50_acbc32d61fabrow9_col2\" class=\"data row9 col2\" >0.4610</td>\n",
       "                        <td id=\"T_8d2a11d0_01ef_11ec_ae50_acbc32d61fabrow9_col3\" class=\"data row9 col3\" >0.7183</td>\n",
       "                        <td id=\"T_8d2a11d0_01ef_11ec_ae50_acbc32d61fabrow9_col4\" class=\"data row9 col4\" >0.7247</td>\n",
       "                        <td id=\"T_8d2a11d0_01ef_11ec_ae50_acbc32d61fabrow9_col5\" class=\"data row9 col5\" >0.5213</td>\n",
       "                        <td id=\"T_8d2a11d0_01ef_11ec_ae50_acbc32d61fabrow9_col6\" class=\"data row9 col6\" >0.5270</td>\n",
       "            </tr>\n",
       "            <tr>\n",
       "                        <th id=\"T_8d2a11d0_01ef_11ec_ae50_acbc32d61fablevel0_row10\" class=\"row_heading level0 row10\" >Mean</th>\n",
       "                        <td id=\"T_8d2a11d0_01ef_11ec_ae50_acbc32d61fabrow10_col0\" class=\"data row10 col0\" >0.7482</td>\n",
       "                        <td id=\"T_8d2a11d0_01ef_11ec_ae50_acbc32d61fabrow10_col1\" class=\"data row10 col1\" >0.8767</td>\n",
       "                        <td id=\"T_8d2a11d0_01ef_11ec_ae50_acbc32d61fabrow10_col2\" class=\"data row10 col2\" >0.5353</td>\n",
       "                        <td id=\"T_8d2a11d0_01ef_11ec_ae50_acbc32d61fabrow10_col3\" class=\"data row10 col3\" >0.7300</td>\n",
       "                        <td id=\"T_8d2a11d0_01ef_11ec_ae50_acbc32d61fabrow10_col4\" class=\"data row10 col4\" >0.7343</td>\n",
       "                        <td id=\"T_8d2a11d0_01ef_11ec_ae50_acbc32d61fabrow10_col5\" class=\"data row10 col5\" >0.5406</td>\n",
       "                        <td id=\"T_8d2a11d0_01ef_11ec_ae50_acbc32d61fabrow10_col6\" class=\"data row10 col6\" >0.5451</td>\n",
       "            </tr>\n",
       "            <tr>\n",
       "                        <th id=\"T_8d2a11d0_01ef_11ec_ae50_acbc32d61fablevel0_row11\" class=\"row_heading level0 row11\" >SD</th>\n",
       "                        <td id=\"T_8d2a11d0_01ef_11ec_ae50_acbc32d61fabrow11_col0\" class=\"data row11 col0\" >0.0327</td>\n",
       "                        <td id=\"T_8d2a11d0_01ef_11ec_ae50_acbc32d61fabrow11_col1\" class=\"data row11 col1\" >0.0211</td>\n",
       "                        <td id=\"T_8d2a11d0_01ef_11ec_ae50_acbc32d61fabrow11_col2\" class=\"data row11 col2\" >0.1217</td>\n",
       "                        <td id=\"T_8d2a11d0_01ef_11ec_ae50_acbc32d61fabrow11_col3\" class=\"data row11 col3\" >0.0396</td>\n",
       "                        <td id=\"T_8d2a11d0_01ef_11ec_ae50_acbc32d61fabrow11_col4\" class=\"data row11 col4\" >0.0378</td>\n",
       "                        <td id=\"T_8d2a11d0_01ef_11ec_ae50_acbc32d61fabrow11_col5\" class=\"data row11 col5\" >0.0643</td>\n",
       "                        <td id=\"T_8d2a11d0_01ef_11ec_ae50_acbc32d61fabrow11_col6\" class=\"data row11 col6\" >0.0627</td>\n",
       "            </tr>\n",
       "    </tbody></table>"
      ],
      "text/plain": [
       "<pandas.io.formats.style.Styler at 0x7f838e2a5550>"
      ]
     },
     "metadata": {},
     "output_type": "display_data"
    }
   ],
   "source": [
    "rf = create_model('rf', cross_validation=True)"
   ]
  },
  {
   "cell_type": "code",
   "execution_count": 161,
   "metadata": {},
   "outputs": [
    {
     "data": {
      "image/png": "[encoded data removed]",
      "text/plain": [
       "<Figure size 576x396 with 1 Axes>"
      ]
     },
     "metadata": {},
     "output_type": "display_data"
    }
   ],
   "source": [
    "plot_model(rf)"
   ]
  },
  {
   "cell_type": "code",
   "execution_count": 162,
   "metadata": {},
   "outputs": [
    {
     "data": {
      "image/png": "[encoded data removed]",
      "text/plain": [
       "<Figure size 576x396 with 1 Axes>"
      ]
     },
     "metadata": {},
     "output_type": "display_data"
    }
   ],
   "source": [
    "plot_model(rf, plot='confusion_matrix')"
   ]
  },
  {
   "cell_type": "code",
   "execution_count": 163,
   "metadata": {},
   "outputs": [
    {
     "data": {
      "text/html": [
       "<div>\n",
       "<style scoped>\n",
       "    .dataframe tbody tr th:only-of-type {\n",
       "        vertical-align: middle;\n",
       "    }\n",
       "\n",
       "    .dataframe tbody tr th {\n",
       "        vertical-align: top;\n",
       "    }\n",
       "\n",
       "    .dataframe thead th {\n",
       "        text-align: right;\n",
       "    }\n",
       "</style>\n",
       "<table border=\"1\" class=\"dataframe\">\n",
       "  <thead>\n",
       "    <tr style=\"text-align: right;\">\n",
       "      <th></th>\n",
       "      <th>Parameters</th>\n",
       "    </tr>\n",
       "  </thead>\n",
       "  <tbody>\n",
       "    <tr>\n",
       "      <th>bootstrap</th>\n",
       "      <td>True</td>\n",
       "    </tr>\n",
       "    <tr>\n",
       "      <th>ccp_alpha</th>\n",
       "      <td>0.0</td>\n",
       "    </tr>\n",
       "    <tr>\n",
       "      <th>class_weight</th>\n",
       "      <td>None</td>\n",
       "    </tr>\n",
       "    <tr>\n",
       "      <th>criterion</th>\n",
       "      <td>gini</td>\n",
       "    </tr>\n",
       "    <tr>\n",
       "      <th>max_depth</th>\n",
       "      <td>None</td>\n",
       "    </tr>\n",
       "    <tr>\n",
       "      <th>max_features</th>\n",
       "      <td>auto</td>\n",
       "    </tr>\n",
       "    <tr>\n",
       "      <th>max_leaf_nodes</th>\n",
       "      <td>None</td>\n",
       "    </tr>\n",
       "    <tr>\n",
       "      <th>max_samples</th>\n",
       "      <td>None</td>\n",
       "    </tr>\n",
       "    <tr>\n",
       "      <th>min_impurity_decrease</th>\n",
       "      <td>0.0</td>\n",
       "    </tr>\n",
       "    <tr>\n",
       "      <th>min_impurity_split</th>\n",
       "      <td>None</td>\n",
       "    </tr>\n",
       "    <tr>\n",
       "      <th>min_samples_leaf</th>\n",
       "      <td>1</td>\n",
       "    </tr>\n",
       "    <tr>\n",
       "      <th>min_samples_split</th>\n",
       "      <td>2</td>\n",
       "    </tr>\n",
       "    <tr>\n",
       "      <th>min_weight_fraction_leaf</th>\n",
       "      <td>0.0</td>\n",
       "    </tr>\n",
       "    <tr>\n",
       "      <th>n_estimators</th>\n",
       "      <td>100</td>\n",
       "    </tr>\n",
       "    <tr>\n",
       "      <th>n_jobs</th>\n",
       "      <td>-1</td>\n",
       "    </tr>\n",
       "    <tr>\n",
       "      <th>oob_score</th>\n",
       "      <td>False</td>\n",
       "    </tr>\n",
       "    <tr>\n",
       "      <th>random_state</th>\n",
       "      <td>123</td>\n",
       "    </tr>\n",
       "    <tr>\n",
       "      <th>verbose</th>\n",
       "      <td>0</td>\n",
       "    </tr>\n",
       "    <tr>\n",
       "      <th>warm_start</th>\n",
       "      <td>False</td>\n",
       "    </tr>\n",
       "  </tbody>\n",
       "</table>\n",
       "</div>"
      ],
      "text/plain": [
       "                         Parameters\n",
       "bootstrap                      True\n",
       "ccp_alpha                       0.0\n",
       "class_weight                   None\n",
       "criterion                      gini\n",
       "max_depth                      None\n",
       "max_features                   auto\n",
       "max_leaf_nodes                 None\n",
       "max_samples                    None\n",
       "min_impurity_decrease           0.0\n",
       "min_impurity_split             None\n",
       "min_samples_leaf                  1\n",
       "min_samples_split                 2\n",
       "min_weight_fraction_leaf        0.0\n",
       "n_estimators                    100\n",
       "n_jobs                           -1\n",
       "oob_score                     False\n",
       "random_state                    123\n",
       "verbose                           0\n",
       "warm_start                    False"
      ]
     },
     "metadata": {},
     "output_type": "display_data"
    }
   ],
   "source": [
    "evaluate_model(rf)"
   ]
  },
  {
   "cell_type": "code",
   "execution_count": 164,
   "metadata": {},
   "outputs": [],
   "source": [
    "plt.rc('font', family=\"AppleGothic\")\n"
   ]
  },
  {
   "cell_type": "code",
   "execution_count": 165,
   "metadata": {},
   "outputs": [
    {
     "data": {
      "image/png": "[encoded data removed]",
      "text/plain": [
       "<Figure size 576x626.4 with 1 Axes>"
      ]
     },
     "metadata": {},
     "output_type": "display_data"
    }
   ],
   "source": [
    "interpret_model(rf)"
   ]
  },
  {
   "cell_type": "code",
   "execution_count": 166,
   "metadata": {},
   "outputs": [
    {
     "data": {
      "image/png": "[encoded data removed]",
      "text/plain": [
       "<Figure size 540x360 with 2 Axes>"
      ]
     },
     "metadata": {},
     "output_type": "display_data"
    }
   ],
   "source": [
    "interpret_model(rf, plot='correlation')\n"
   ]
  },
  {
   "cell_type": "code",
   "execution_count": 86,
   "metadata": {},
   "outputs": [
    {
     "data": {
      "text/html": [
       "<div>\n",
       "<style scoped>\n",
       "    .dataframe tbody tr th:only-of-type {\n",
       "        vertical-align: middle;\n",
       "    }\n",
       "\n",
       "    .dataframe tbody tr th {\n",
       "        vertical-align: top;\n",
       "    }\n",
       "\n",
       "    .dataframe thead th {\n",
       "        text-align: right;\n",
       "    }\n",
       "</style>\n",
       "<table border=\"1\" class=\"dataframe\">\n",
       "  <thead>\n",
       "    <tr style=\"text-align: right;\">\n",
       "      <th></th>\n",
       "      <th>VIF Factor</th>\n",
       "      <th>features</th>\n",
       "    </tr>\n",
       "  </thead>\n",
       "  <tbody>\n",
       "    <tr>\n",
       "      <th>0</th>\n",
       "      <td>1.698339</td>\n",
       "      <td>총인구</td>\n",
       "    </tr>\n",
       "    <tr>\n",
       "      <th>1</th>\n",
       "      <td>1.429567</td>\n",
       "      <td>건축물(35)</td>\n",
       "    </tr>\n",
       "    <tr>\n",
       "      <th>2</th>\n",
       "      <td>1.165323</td>\n",
       "      <td>개별주택가격</td>\n",
       "    </tr>\n",
       "    <tr>\n",
       "      <th>3</th>\n",
       "      <td>2.693413</td>\n",
       "      <td>공시지가</td>\n",
       "    </tr>\n",
       "    <tr>\n",
       "      <th>4</th>\n",
       "      <td>1.955871</td>\n",
       "      <td>가로등</td>\n",
       "    </tr>\n",
       "    <tr>\n",
       "      <th>5</th>\n",
       "      <td>1.172847</td>\n",
       "      <td>공영주차장</td>\n",
       "    </tr>\n",
       "    <tr>\n",
       "      <th>6</th>\n",
       "      <td>1.120778</td>\n",
       "      <td>공중화장실</td>\n",
       "    </tr>\n",
       "    <tr>\n",
       "      <th>7</th>\n",
       "      <td>2.003248</td>\n",
       "      <td>교육시설</td>\n",
       "    </tr>\n",
       "    <tr>\n",
       "      <th>8</th>\n",
       "      <td>2.046474</td>\n",
       "      <td>룸살롱</td>\n",
       "    </tr>\n",
       "    <tr>\n",
       "      <th>9</th>\n",
       "      <td>1.384842</td>\n",
       "      <td>버스정류장</td>\n",
       "    </tr>\n",
       "    <tr>\n",
       "      <th>10</th>\n",
       "      <td>4.533286</td>\n",
       "      <td>상가</td>\n",
       "    </tr>\n",
       "    <tr>\n",
       "      <th>11</th>\n",
       "      <td>1.640875</td>\n",
       "      <td>숙박업소</td>\n",
       "    </tr>\n",
       "    <tr>\n",
       "      <th>12</th>\n",
       "      <td>5.377936</td>\n",
       "      <td>술집</td>\n",
       "    </tr>\n",
       "    <tr>\n",
       "      <th>13</th>\n",
       "      <td>2.462307</td>\n",
       "      <td>오락시설</td>\n",
       "    </tr>\n",
       "    <tr>\n",
       "      <th>14</th>\n",
       "      <td>1.488489</td>\n",
       "      <td>원룸_오피스텔</td>\n",
       "    </tr>\n",
       "    <tr>\n",
       "      <th>15</th>\n",
       "      <td>9.805412</td>\n",
       "      <td>음식점</td>\n",
       "    </tr>\n",
       "    <tr>\n",
       "      <th>16</th>\n",
       "      <td>1.828786</td>\n",
       "      <td>cctv</td>\n",
       "    </tr>\n",
       "    <tr>\n",
       "      <th>17</th>\n",
       "      <td>1.904436</td>\n",
       "      <td>횡단보도</td>\n",
       "    </tr>\n",
       "    <tr>\n",
       "      <th>18</th>\n",
       "      <td>1.533692</td>\n",
       "      <td>폭력빈도_4</td>\n",
       "    </tr>\n",
       "  </tbody>\n",
       "</table>\n",
       "</div>"
      ],
      "text/plain": [
       "    VIF Factor features\n",
       "0     1.698339      총인구\n",
       "1     1.429567  건축물(35)\n",
       "2     1.165323   개별주택가격\n",
       "3     2.693413     공시지가\n",
       "4     1.955871      가로등\n",
       "5     1.172847    공영주차장\n",
       "6     1.120778    공중화장실\n",
       "7     2.003248     교육시설\n",
       "8     2.046474      룸살롱\n",
       "9     1.384842    버스정류장\n",
       "10    4.533286       상가\n",
       "11    1.640875     숙박업소\n",
       "12    5.377936       술집\n",
       "13    2.462307     오락시설\n",
       "14    1.488489  원룸_오피스텔\n",
       "15    9.805412      음식점\n",
       "16    1.828786     cctv\n",
       "17    1.904436     횡단보도\n",
       "18    1.533692   폭력빈도_4"
      ]
     },
     "execution_count": 86,
     "metadata": {},
     "output_type": "execute_result"
    }
   ],
   "source": [
    "#다중공선성확인\n",
    "vif = pd.DataFrame()\n",
    "vif[\"VIF Factor\"] = [variance_inflation_factor(feature.values, i) for i in range(feature.shape[1])]\n",
    "vif[\"features\"] = feature.columns \n",
    "vif"
   ]
  },
  {
   "cell_type": "code",
   "execution_count": null,
   "metadata": {},
   "outputs": [],
   "source": []
  }
 ],
 "metadata": {
  "kernelspec": {
   "display_name": "Python 3",
   "language": "python",
   "name": "python3"
  },
  "language_info": {
   "codemirror_mode": {
    "name": "ipython",
    "version": 3
   },
   "file_extension": ".py",
   "mimetype": "text/x-python",
   "name": "python",
   "nbconvert_exporter": "python",
   "pygments_lexer": "ipython3",
   "version": "3.9.0"
  }
 },
 "nbformat": 4,
 "nbformat_minor": 4
}
